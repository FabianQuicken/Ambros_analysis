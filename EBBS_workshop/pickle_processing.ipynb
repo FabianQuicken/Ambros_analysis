{
 "cells": [
  {
   "cell_type": "code",
   "execution_count": null,
   "id": "41ade647",
   "metadata": {},
   "outputs": [
    {
     "name": "stdout",
     "output_type": "stream",
     "text": [
      "Note: you may need to restart the kernel to use updated packages.\n"
     ]
    },
    {
     "name": "stderr",
     "output_type": "stream",
     "text": [
      "ERROR: Could not find a version that satisfies the requirement pickle (from versions: none)\n",
      "ERROR: No matching distribution found for pickle\n"
     ]
    }
   ],
   "source": []
  },
  {
   "cell_type": "code",
   "execution_count": 28,
   "id": "3cd67b17",
   "metadata": {},
   "outputs": [
    {
     "name": "stdout",
     "output_type": "stream",
     "text": [
      "Type: <class 'dict'>\n",
      "Anzahl Einträge: 12409\n",
      "0: key = metadata (<class 'str'>), value type = <class 'dict'>)\n",
      "1: key = frame00000 (<class 'str'>), value type = <class 'dict'>)\n",
      "2: key = frame00001 (<class 'str'>), value type = <class 'dict'>)\n",
      "3: key = frame00002 (<class 'str'>), value type = <class 'dict'>)\n",
      "4: key = frame00003 (<class 'str'>), value type = <class 'dict'>)\n"
     ]
    }
   ],
   "source": [
    "import pickle\n",
    "import pandas as pd\n",
    "\n",
    "file_path = r\"E:\\Fabi_Setup\\In_Soundchamber\\3_mice_merged-Fabi-2025-07-25\\evaluation_videos\\2025_07_09_14_29_58_3_mice_bedding_control_top2_40405188DLC_DekrW18_3_mice_mergedJul25shuffle1_snapshot_best-280_full.pickle\"\n",
    "\n",
    "with open(file_path, \"rb\") as f:\n",
    "    data = pickle.load(f)\n",
    "\n",
    "print(f\"Type: {type(data)}\")\n",
    "print(f\"Anzahl Einträge: {len(data)}\")\n",
    "\n",
    "# Erste paar Keys und deren Typ\n",
    "for i, (key, value) in enumerate(data.items()):\n",
    "    print(f\"{i}: key = {key} ({type(key)}), value type = {type(value)})\")\n",
    "    if i >= 4:  # Nur die ersten 5\n",
    "        break"
   ]
  },
  {
   "cell_type": "code",
   "execution_count": 24,
   "id": "4b2bdfd5",
   "metadata": {},
   "outputs": [],
   "source": [
    "import pandas as pd\n",
    "\n",
    "dic = pd.read_pickle(r\"E:\\Fabi_Setup\\In_Soundchamber\\3_mice_merged-Fabi-2025-07-25\\evaluation_videos\\2025_07_09_14_29_58_3_mice_bedding_control_top2_40405188DLC_DekrW18_3_mice_mergedJul25shuffle1_snapshot_best-280_full.pickle\")\n",
    "#df = df.iloc[6000:7000].reset_index(drop=True)\n",
    "\n",
    "keys = dic.keys()\n",
    "\n",
    "frame_100 = dic['frame00100']\n",
    "frame_200 = dic['frame00200']"
   ]
  },
  {
   "cell_type": "code",
   "execution_count": 33,
   "id": "8252f415",
   "metadata": {},
   "outputs": [
    {
     "name": "stdout",
     "output_type": "stream",
     "text": [
      "{'nms radius': None, 'minimal confidence': None, 'sigma': 1, 'PAFgraph': None, 'PAFinds': array([], dtype=int32), 'all_joints': [[0], [1], [2], [3], [4], [5], [6], [7], [8], [9], [10], [11], [12], [13], [14], [15], [16]], 'all_joints_names': ['nose', 'eye_left', 'eye_right', 'left_ear', 'right_ear', 'head_centre', 'dorsal_1', 'dorsal_2', 'dorsal_3', 'dorsal_4', 'shoulder_left', 'shoulder_right', 'lateral_left', 'lateral_right', 'hip_left', 'hip_right', 'tail_base'], 'nframes': 12408, 'key_str_width': 5}\n"
     ]
    }
   ],
   "source": [
    "print(dic[\"metadata\"])"
   ]
  },
  {
   "cell_type": "code",
   "execution_count": 26,
   "id": "b738cf85",
   "metadata": {},
   "outputs": [
    {
     "name": "stdout",
     "output_type": "stream",
     "text": [
      "dict_keys(['coordinates', 'confidence', 'costs'])\n",
      "1\n"
     ]
    }
   ],
   "source": [
    "print(frame_100.keys())\n",
    "\n",
    "print(len(frame_200[\"coordinates\"]))"
   ]
  },
  {
   "cell_type": "code",
   "execution_count": 31,
   "id": "970f6879",
   "metadata": {},
   "outputs": [
    {
     "name": "stdout",
     "output_type": "stream",
     "text": [
      "([array([[ 898.75   , 1057.8594 ],\n",
      "       [ 693.375  ,  963.28516],\n",
      "       [1727.2969 ,  785.5    ]], dtype=float32), array([[ 936.625 , 1081.4688],\n",
      "       [ 727.9375,  989.2344],\n",
      "       [1750.1562,  760.375 ]], dtype=float32), array([[ 935.25   , 1048.2188 ],\n",
      "       [ 733.4375 ,  951.78125],\n",
      "       [1716.5176 ,  767.125  ]], dtype=float32), array([[ 970.25   , 1085.0625 ],\n",
      "       [ 772.875  ,  995.0625 ],\n",
      "       [1751.2188 ,  731.84375]], dtype=float32), array([[ 969.4375 , 1046.1406 ],\n",
      "       [ 774.09375,  958.8906 ],\n",
      "       [1718.7695 ,  739.25   ]], dtype=float32), array([[ 969.75   , 1063.1875 ],\n",
      "       [ 774.34375,  976.10156],\n",
      "       [1735.7188 ,  735.0625 ]], dtype=float32), array([[1019.9844 , 1056.8906 ],\n",
      "       [ 825.3906 ,  978.1875 ],\n",
      "       [1724.9375 ,  690.84375]], dtype=float32), array([[1077.2188 , 1038.1406 ],\n",
      "       [ 876.53125,  972.56836],\n",
      "       [1712.8516 ,  639.65625]], dtype=float32), array([[1125.25   , 1014.4453 ],\n",
      "       [ 922.875  ,  960.53906],\n",
      "       [1698.4453 ,  592.25   ]], dtype=float32), array([[1177.75   ,  996.96875],\n",
      "       [ 958.9375 ,  951.25   ],\n",
      "       [1679.375  ,  557.625  ]], dtype=float32), array([[1022.90625, 1087.3438 ],\n",
      "       [ 812.3281 , 1030.625  ],\n",
      "       [1770.5312 ,  683.91406]], dtype=float32), array([[1003.09375,  997.96875],\n",
      "       [ 808.3281 ,  927.9375 ],\n",
      "       [1666.9062 ,  715.9375 ]], dtype=float32), array([[1097.9062 , 1080.5625 ],\n",
      "       [ 870.75   , 1031.8438 ],\n",
      "       [1771.5625 ,  634.53125]], dtype=float32), array([[1053.168 ,  975.4375],\n",
      "       [ 861.5781,  917.125 ],\n",
      "       [1655.5625,  660.7969]], dtype=float32), array([[1163.    , 1063.5938],\n",
      "       [ 915.25  , 1042.8125],\n",
      "       [1757.3125,  587.6875]], dtype=float32), array([[1124.3125,  941.25  ],\n",
      "       [ 925.8125,  908.    ],\n",
      "       [1633.9375,  616.9375]], dtype=float32), array([[1219.625 ,  977.125 ],\n",
      "       [ 992.625 ,  945.9375],\n",
      "       [1664.9688,  528.75  ]], dtype=float32)],)\n"
     ]
    }
   ],
   "source": [
    "print(frame_200['coordinates'])"
   ]
  },
  {
   "cell_type": "code",
   "execution_count": 32,
   "id": "a20ed493",
   "metadata": {},
   "outputs": [
    {
     "name": "stdout",
     "output_type": "stream",
     "text": [
      "([array([[ 1.5961250e+03,  7.2306250e+02],\n",
      "       [ 1.1375586e+02,  3.8085938e-01],\n",
      "       [-1.0000000e+00, -7.0000000e+00]], dtype=float32), array([[ 1.6300000e+03,  7.2100000e+02],\n",
      "       [ 1.2062500e+02, -2.5898438e+00],\n",
      "       [-1.0000000e+00, -7.0000000e+00]], dtype=float32), array([[ 1.6055000e+03,  6.9175000e+02],\n",
      "       [ 1.1666211e+02, -4.4765625e+00],\n",
      "       [-1.0000000e+00, -7.0000000e+00]], dtype=float32), array([[ 1.6568750e+03,  6.9825000e+02],\n",
      "       [ 1.1439160e+02, -8.1640625e-01],\n",
      "       [-1.0000000e+00, -7.0000000e+00]], dtype=float32), array([[ 1.6337500e+03,  6.6967188e+02],\n",
      "       [ 1.1366089e+02,  8.9257812e-01],\n",
      "       [-1.0000000e+00, -7.0000000e+00]], dtype=float32), array([[ 1.6451875e+03,  6.8253125e+02],\n",
      "       [ 1.1330762e+02, -7.2656250e-01],\n",
      "       [-1.0000000e+00, -7.0000000e+00]], dtype=float32), array([[ 1.6854688e+03,  6.5235156e+02],\n",
      "       [ 1.1543262e+02, -8.6171875e+00],\n",
      "       [-1.0000000e+00, -7.0000000e+00]], dtype=float32), array([[ 1.7271719e+03,  6.2496875e+02],\n",
      "       [ 1.1991016e+02, -3.9687500e+00],\n",
      "       [-1.0000000e+00, -7.0000000e+00]], dtype=float32), array([[ 1.7732500e+03,  6.0503125e+02],\n",
      "       [ 1.0776953e+02, -3.2500000e+00],\n",
      "       [-1.0000000e+00, -7.0000000e+00]], dtype=float32), array([[ 1.8067500e+03,  5.8987500e+02],\n",
      "       [ 1.1206641e+02, -4.9296875e+00],\n",
      "       [-1.0000000e+00, -7.0000000e+00]], dtype=float32), array([[ 1.7050996e+03,  6.9656250e+02],\n",
      "       [ 1.2084766e+02,  2.5332031e+00],\n",
      "       [-1.0000000e+00, -7.0000000e+00]], dtype=float32), array([[ 1.6472188e+03,  6.1118750e+02],\n",
      "       [ 1.1195117e+02,  2.1816406e+00],\n",
      "       [-1.0000000e+00, -7.0000000e+00]], dtype=float32), array([[ 1.7492812e+03,  6.7518750e+02],\n",
      "       [ 1.1390521e+02,  4.3359375e-01],\n",
      "       [-1.0000000e+00, -7.0000000e+00]], dtype=float32), array([[ 1.69153906e+03,  5.76125000e+02],\n",
      "       [ 1.14836914e+02,  4.74804688e+00],\n",
      "       [-1.00000000e+00, -7.00000000e+00]], dtype=float32), array([[ 1.7905625e+03,  6.5364062e+02],\n",
      "       [ 1.1102344e+02,  2.5986328e+00],\n",
      "       [-1.0000000e+00, -7.0000000e+00]], dtype=float32), array([[ 1.7561250e+03,  5.4212500e+02],\n",
      "       [ 1.0751172e+02,  1.6835938e+00],\n",
      "       [-1.0000000e+00, -7.0000000e+00]], dtype=float32), array([[ 1.8408750e+03,  5.8003125e+02],\n",
      "       [ 1.1532031e+02,  1.8164062e+00],\n",
      "       [-1.0000000e+00, -7.0000000e+00]], dtype=float32)],)\n"
     ]
    }
   ],
   "source": [
    "print(frame_100['coordinates'])"
   ]
  },
  {
   "cell_type": "code",
   "execution_count": 41,
   "id": "9fc77c1c",
   "metadata": {},
   "outputs": [
    {
     "name": "stdout",
     "output_type": "stream",
     "text": [
      "[array([[ 0.83203125],\n",
      "       [ 0.        ],\n",
      "       [-1.        ]], dtype=float32), array([[ 8.5253906e-01],\n",
      "       [ 4.4524670e-05],\n",
      "       [-1.0000000e+00]], dtype=float32), array([[ 7.290039e-01],\n",
      "       [ 6.380081e-04],\n",
      "       [-1.000000e+00]], dtype=float32), array([[ 0.77490234],\n",
      "       [ 0.        ],\n",
      "       [-1.        ]], dtype=float32), array([[ 0.7993164],\n",
      "       [ 0.       ],\n",
      "       [-1.       ]], dtype=float32), array([[ 0.77441406],\n",
      "       [ 0.        ],\n",
      "       [-1.        ]], dtype=float32), array([[ 0.70996094],\n",
      "       [ 0.        ],\n",
      "       [-1.        ]], dtype=float32), array([[ 6.4941406e-01],\n",
      "       [ 3.1208992e-04],\n",
      "       [-1.0000000e+00]], dtype=float32), array([[ 0.5234375],\n",
      "       [ 0.       ],\n",
      "       [-1.       ]], dtype=float32), array([[ 0.67871094],\n",
      "       [ 0.        ],\n",
      "       [-1.        ]], dtype=float32), array([[ 0.7324219],\n",
      "       [ 0.       ],\n",
      "       [-1.       ]], dtype=float32), array([[ 0.7080078 ],\n",
      "       [ 0.00417328],\n",
      "       [-1.        ]], dtype=float32), array([[ 0.68066406],\n",
      "       [ 0.00159359],\n",
      "       [-1.        ]], dtype=float32), array([[ 0.7583008],\n",
      "       [ 0.       ],\n",
      "       [-1.       ]], dtype=float32), array([[ 3.9868164e-01],\n",
      "       [ 5.0210953e-04],\n",
      "       [-1.0000000e+00]], dtype=float32), array([[ 0.58203125],\n",
      "       [ 0.        ],\n",
      "       [-1.        ]], dtype=float32), array([[ 0.8540039],\n",
      "       [ 0.050354 ],\n",
      "       [-1.       ]], dtype=float32)]\n"
     ]
    }
   ],
   "source": [
    "print(frame_100['confidence'])"
   ]
  },
  {
   "cell_type": "code",
   "execution_count": 44,
   "id": "6a84d6fc",
   "metadata": {},
   "outputs": [
    {
     "name": "stdout",
     "output_type": "stream",
     "text": [
      "<class 'list'>\n"
     ]
    }
   ],
   "source": [
    "print(type(frame_200['coordinates'][0]))"
   ]
  }
 ],
 "metadata": {
  "kernelspec": {
   "display_name": ".conda",
   "language": "python",
   "name": "python3"
  },
  "language_info": {
   "codemirror_mode": {
    "name": "ipython",
    "version": 3
   },
   "file_extension": ".py",
   "mimetype": "text/x-python",
   "name": "python",
   "nbconvert_exporter": "python",
   "pygments_lexer": "ipython3",
   "version": "3.11.8"
  }
 },
 "nbformat": 4,
 "nbformat_minor": 5
}
