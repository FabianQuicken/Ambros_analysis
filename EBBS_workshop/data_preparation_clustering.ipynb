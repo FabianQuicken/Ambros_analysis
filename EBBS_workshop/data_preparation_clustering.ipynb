{
 "cells": [
  {
   "cell_type": "code",
   "execution_count": 3,
   "metadata": {},
   "outputs": [],
   "source": [
    "import os\n",
    "\n",
    "import numpy as np\n",
    "import pandas as pd\n",
    "import plotly.express as px\n",
    "\n",
    "os.environ[\"OMP_NUM_THREADS\"] = '4'\n",
    "from sklearn.cluster import KMeans"
   ]
  },
  {
   "cell_type": "code",
   "execution_count": null,
   "metadata": {},
   "outputs": [],
   "source": [
    "df = pd.read_hdf(r\"C:\\Users\\quicken\\Code\\Ambros_analysis\\EBBS_workshop\\\")\n",
    "df = df.iloc[6000:7000].reset_index(drop=True)\n",
    "\n",
    "df = df.sort_index(axis=1)\n",
    "#df = df.interpolate(\"linear\")\n",
    "\n",
    "scorer = df.columns.levels[0][0]\n",
    "individuals = df.columns.levels[1].to_list()\n",
    "bodyparts = df.columns.levels[2].to_list()"
   ]
  },
  {
   "cell_type": "code",
   "execution_count": 21,
   "metadata": {},
   "outputs": [
    {
     "data": {
      "text/html": [
       "<div>\n",
       "<style scoped>\n",
       "    .dataframe tbody tr th:only-of-type {\n",
       "        vertical-align: middle;\n",
       "    }\n",
       "\n",
       "    .dataframe tbody tr th {\n",
       "        vertical-align: top;\n",
       "    }\n",
       "\n",
       "    .dataframe thead tr th {\n",
       "        text-align: left;\n",
       "    }\n",
       "</style>\n",
       "<table border=\"1\" class=\"dataframe\">\n",
       "  <thead>\n",
       "    <tr>\n",
       "      <th>scorer</th>\n",
       "      <th colspan=\"21\" halign=\"left\">DLC_resnet152_11_2022_ML_DLC_PROJECTNov21shuffle1_650000</th>\n",
       "    </tr>\n",
       "    <tr>\n",
       "      <th>individuals</th>\n",
       "      <th colspan=\"10\" halign=\"left\">black_tail</th>\n",
       "      <th>...</th>\n",
       "      <th colspan=\"10\" halign=\"left\">non-marked</th>\n",
       "    </tr>\n",
       "    <tr>\n",
       "      <th>bodyparts</th>\n",
       "      <th colspan=\"3\" halign=\"left\">dorsal_1</th>\n",
       "      <th colspan=\"3\" halign=\"left\">dorsal_2</th>\n",
       "      <th colspan=\"3\" halign=\"left\">dorsal_3</th>\n",
       "      <th>dorsal_4</th>\n",
       "      <th>...</th>\n",
       "      <th>right_ear</th>\n",
       "      <th colspan=\"3\" halign=\"left\">shoulder_left</th>\n",
       "      <th colspan=\"3\" halign=\"left\">shoulder_right</th>\n",
       "      <th colspan=\"3\" halign=\"left\">tail_base</th>\n",
       "    </tr>\n",
       "    <tr>\n",
       "      <th>coords</th>\n",
       "      <th>likelihood</th>\n",
       "      <th>x</th>\n",
       "      <th>y</th>\n",
       "      <th>likelihood</th>\n",
       "      <th>x</th>\n",
       "      <th>y</th>\n",
       "      <th>likelihood</th>\n",
       "      <th>x</th>\n",
       "      <th>y</th>\n",
       "      <th>likelihood</th>\n",
       "      <th>...</th>\n",
       "      <th>y</th>\n",
       "      <th>likelihood</th>\n",
       "      <th>x</th>\n",
       "      <th>y</th>\n",
       "      <th>likelihood</th>\n",
       "      <th>x</th>\n",
       "      <th>y</th>\n",
       "      <th>likelihood</th>\n",
       "      <th>x</th>\n",
       "      <th>y</th>\n",
       "    </tr>\n",
       "  </thead>\n",
       "  <tbody>\n",
       "    <tr>\n",
       "      <th>0</th>\n",
       "      <td>0.999</td>\n",
       "      <td>942.374</td>\n",
       "      <td>408.023</td>\n",
       "      <td>1.0</td>\n",
       "      <td>949.104</td>\n",
       "      <td>437.278</td>\n",
       "      <td>1.0</td>\n",
       "      <td>958.206</td>\n",
       "      <td>469.613</td>\n",
       "      <td>1.0</td>\n",
       "      <td>...</td>\n",
       "      <td>378.612</td>\n",
       "      <td>1.0</td>\n",
       "      <td>530.152</td>\n",
       "      <td>326.605</td>\n",
       "      <td>1.000</td>\n",
       "      <td>521.849</td>\n",
       "      <td>396.584</td>\n",
       "      <td>1.0</td>\n",
       "      <td>411.776</td>\n",
       "      <td>367.344</td>\n",
       "    </tr>\n",
       "    <tr>\n",
       "      <th>1</th>\n",
       "      <td>1.000</td>\n",
       "      <td>940.995</td>\n",
       "      <td>403.480</td>\n",
       "      <td>1.0</td>\n",
       "      <td>947.790</td>\n",
       "      <td>432.560</td>\n",
       "      <td>1.0</td>\n",
       "      <td>956.703</td>\n",
       "      <td>461.311</td>\n",
       "      <td>1.0</td>\n",
       "      <td>...</td>\n",
       "      <td>379.581</td>\n",
       "      <td>1.0</td>\n",
       "      <td>530.152</td>\n",
       "      <td>329.886</td>\n",
       "      <td>1.000</td>\n",
       "      <td>516.267</td>\n",
       "      <td>397.442</td>\n",
       "      <td>1.0</td>\n",
       "      <td>411.275</td>\n",
       "      <td>367.344</td>\n",
       "    </tr>\n",
       "    <tr>\n",
       "      <th>2</th>\n",
       "      <td>1.000</td>\n",
       "      <td>939.688</td>\n",
       "      <td>399.326</td>\n",
       "      <td>1.0</td>\n",
       "      <td>946.711</td>\n",
       "      <td>428.802</td>\n",
       "      <td>1.0</td>\n",
       "      <td>956.502</td>\n",
       "      <td>458.613</td>\n",
       "      <td>1.0</td>\n",
       "      <td>...</td>\n",
       "      <td>381.063</td>\n",
       "      <td>1.0</td>\n",
       "      <td>530.317</td>\n",
       "      <td>329.962</td>\n",
       "      <td>1.000</td>\n",
       "      <td>513.038</td>\n",
       "      <td>397.606</td>\n",
       "      <td>1.0</td>\n",
       "      <td>410.369</td>\n",
       "      <td>367.344</td>\n",
       "    </tr>\n",
       "    <tr>\n",
       "      <th>3</th>\n",
       "      <td>1.000</td>\n",
       "      <td>939.421</td>\n",
       "      <td>393.990</td>\n",
       "      <td>1.0</td>\n",
       "      <td>946.140</td>\n",
       "      <td>420.246</td>\n",
       "      <td>1.0</td>\n",
       "      <td>956.250</td>\n",
       "      <td>452.833</td>\n",
       "      <td>1.0</td>\n",
       "      <td>...</td>\n",
       "      <td>382.790</td>\n",
       "      <td>1.0</td>\n",
       "      <td>530.361</td>\n",
       "      <td>330.538</td>\n",
       "      <td>1.000</td>\n",
       "      <td>509.464</td>\n",
       "      <td>399.940</td>\n",
       "      <td>1.0</td>\n",
       "      <td>410.329</td>\n",
       "      <td>367.316</td>\n",
       "    </tr>\n",
       "    <tr>\n",
       "      <th>4</th>\n",
       "      <td>1.000</td>\n",
       "      <td>939.421</td>\n",
       "      <td>387.773</td>\n",
       "      <td>1.0</td>\n",
       "      <td>946.140</td>\n",
       "      <td>416.186</td>\n",
       "      <td>1.0</td>\n",
       "      <td>956.250</td>\n",
       "      <td>445.224</td>\n",
       "      <td>1.0</td>\n",
       "      <td>...</td>\n",
       "      <td>384.239</td>\n",
       "      <td>1.0</td>\n",
       "      <td>530.895</td>\n",
       "      <td>332.552</td>\n",
       "      <td>1.000</td>\n",
       "      <td>505.961</td>\n",
       "      <td>401.497</td>\n",
       "      <td>1.0</td>\n",
       "      <td>410.329</td>\n",
       "      <td>365.170</td>\n",
       "    </tr>\n",
       "    <tr>\n",
       "      <th>...</th>\n",
       "      <td>...</td>\n",
       "      <td>...</td>\n",
       "      <td>...</td>\n",
       "      <td>...</td>\n",
       "      <td>...</td>\n",
       "      <td>...</td>\n",
       "      <td>...</td>\n",
       "      <td>...</td>\n",
       "      <td>...</td>\n",
       "      <td>...</td>\n",
       "      <td>...</td>\n",
       "      <td>...</td>\n",
       "      <td>...</td>\n",
       "      <td>...</td>\n",
       "      <td>...</td>\n",
       "      <td>...</td>\n",
       "      <td>...</td>\n",
       "      <td>...</td>\n",
       "      <td>...</td>\n",
       "      <td>...</td>\n",
       "      <td>...</td>\n",
       "    </tr>\n",
       "    <tr>\n",
       "      <th>995</th>\n",
       "      <td>1.000</td>\n",
       "      <td>146.737</td>\n",
       "      <td>324.616</td>\n",
       "      <td>1.0</td>\n",
       "      <td>142.515</td>\n",
       "      <td>354.378</td>\n",
       "      <td>1.0</td>\n",
       "      <td>142.573</td>\n",
       "      <td>387.453</td>\n",
       "      <td>1.0</td>\n",
       "      <td>...</td>\n",
       "      <td>203.201</td>\n",
       "      <td>1.0</td>\n",
       "      <td>954.014</td>\n",
       "      <td>174.513</td>\n",
       "      <td>1.000</td>\n",
       "      <td>996.494</td>\n",
       "      <td>224.695</td>\n",
       "      <td>1.0</td>\n",
       "      <td>878.518</td>\n",
       "      <td>273.038</td>\n",
       "    </tr>\n",
       "    <tr>\n",
       "      <th>996</th>\n",
       "      <td>1.000</td>\n",
       "      <td>147.250</td>\n",
       "      <td>317.350</td>\n",
       "      <td>1.0</td>\n",
       "      <td>142.589</td>\n",
       "      <td>348.861</td>\n",
       "      <td>1.0</td>\n",
       "      <td>142.922</td>\n",
       "      <td>380.836</td>\n",
       "      <td>1.0</td>\n",
       "      <td>...</td>\n",
       "      <td>202.729</td>\n",
       "      <td>1.0</td>\n",
       "      <td>954.065</td>\n",
       "      <td>171.526</td>\n",
       "      <td>1.000</td>\n",
       "      <td>997.105</td>\n",
       "      <td>224.560</td>\n",
       "      <td>1.0</td>\n",
       "      <td>879.279</td>\n",
       "      <td>268.695</td>\n",
       "    </tr>\n",
       "    <tr>\n",
       "      <th>997</th>\n",
       "      <td>1.000</td>\n",
       "      <td>147.881</td>\n",
       "      <td>310.228</td>\n",
       "      <td>1.0</td>\n",
       "      <td>144.718</td>\n",
       "      <td>341.221</td>\n",
       "      <td>1.0</td>\n",
       "      <td>145.653</td>\n",
       "      <td>375.095</td>\n",
       "      <td>1.0</td>\n",
       "      <td>...</td>\n",
       "      <td>197.062</td>\n",
       "      <td>1.0</td>\n",
       "      <td>955.115</td>\n",
       "      <td>169.987</td>\n",
       "      <td>1.000</td>\n",
       "      <td>997.934</td>\n",
       "      <td>222.131</td>\n",
       "      <td>1.0</td>\n",
       "      <td>879.279</td>\n",
       "      <td>262.322</td>\n",
       "    </tr>\n",
       "    <tr>\n",
       "      <th>998</th>\n",
       "      <td>1.000</td>\n",
       "      <td>150.946</td>\n",
       "      <td>301.960</td>\n",
       "      <td>1.0</td>\n",
       "      <td>147.145</td>\n",
       "      <td>335.267</td>\n",
       "      <td>1.0</td>\n",
       "      <td>149.103</td>\n",
       "      <td>368.142</td>\n",
       "      <td>1.0</td>\n",
       "      <td>...</td>\n",
       "      <td>194.004</td>\n",
       "      <td>1.0</td>\n",
       "      <td>957.794</td>\n",
       "      <td>166.209</td>\n",
       "      <td>0.992</td>\n",
       "      <td>1002.349</td>\n",
       "      <td>213.580</td>\n",
       "      <td>1.0</td>\n",
       "      <td>880.455</td>\n",
       "      <td>260.297</td>\n",
       "    </tr>\n",
       "    <tr>\n",
       "      <th>999</th>\n",
       "      <td>1.000</td>\n",
       "      <td>153.843</td>\n",
       "      <td>294.690</td>\n",
       "      <td>1.0</td>\n",
       "      <td>148.887</td>\n",
       "      <td>330.774</td>\n",
       "      <td>1.0</td>\n",
       "      <td>149.449</td>\n",
       "      <td>361.930</td>\n",
       "      <td>1.0</td>\n",
       "      <td>...</td>\n",
       "      <td>187.950</td>\n",
       "      <td>1.0</td>\n",
       "      <td>958.651</td>\n",
       "      <td>163.311</td>\n",
       "      <td>0.998</td>\n",
       "      <td>1004.009</td>\n",
       "      <td>210.389</td>\n",
       "      <td>1.0</td>\n",
       "      <td>880.638</td>\n",
       "      <td>259.840</td>\n",
       "    </tr>\n",
       "  </tbody>\n",
       "</table>\n",
       "<p>1000 rows × 102 columns</p>\n",
       "</div>"
      ],
      "text/plain": [
       "scorer      DLC_resnet152_11_2022_ML_DLC_PROJECTNov21shuffle1_650000           \\\n",
       "individuals                                               black_tail            \n",
       "bodyparts                                                   dorsal_1            \n",
       "coords                                                    likelihood        x   \n",
       "0                                                        0.999        942.374   \n",
       "1                                                        1.000        940.995   \n",
       "2                                                        1.000        939.688   \n",
       "3                                                        1.000        939.421   \n",
       "4                                                        1.000        939.421   \n",
       "..                                                         ...            ...   \n",
       "995                                                      1.000        146.737   \n",
       "996                                                      1.000        147.250   \n",
       "997                                                      1.000        147.881   \n",
       "998                                                      1.000        150.946   \n",
       "999                                                      1.000        153.843   \n",
       "\n",
       "scorer                                                                 \\\n",
       "individuals                                                             \n",
       "bodyparts              dorsal_2                     dorsal_3            \n",
       "coords             y likelihood        x        y likelihood        x   \n",
       "0            408.023        1.0  949.104  437.278        1.0  958.206   \n",
       "1            403.480        1.0  947.790  432.560        1.0  956.703   \n",
       "2            399.326        1.0  946.711  428.802        1.0  956.502   \n",
       "3            393.990        1.0  946.140  420.246        1.0  956.250   \n",
       "4            387.773        1.0  946.140  416.186        1.0  956.250   \n",
       "..               ...        ...      ...      ...        ...      ...   \n",
       "995          324.616        1.0  142.515  354.378        1.0  142.573   \n",
       "996          317.350        1.0  142.589  348.861        1.0  142.922   \n",
       "997          310.228        1.0  144.718  341.221        1.0  145.653   \n",
       "998          301.960        1.0  147.145  335.267        1.0  149.103   \n",
       "999          294.690        1.0  148.887  330.774        1.0  149.449   \n",
       "\n",
       "scorer                           ...                                    \\\n",
       "individuals                      ... non-marked                          \n",
       "bodyparts              dorsal_4  ...  right_ear shoulder_left            \n",
       "coords             y likelihood  ...          y    likelihood        x   \n",
       "0            469.613        1.0  ...    378.612           1.0  530.152   \n",
       "1            461.311        1.0  ...    379.581           1.0  530.152   \n",
       "2            458.613        1.0  ...    381.063           1.0  530.317   \n",
       "3            452.833        1.0  ...    382.790           1.0  530.361   \n",
       "4            445.224        1.0  ...    384.239           1.0  530.895   \n",
       "..               ...        ...  ...        ...           ...      ...   \n",
       "995          387.453        1.0  ...    203.201           1.0  954.014   \n",
       "996          380.836        1.0  ...    202.729           1.0  954.065   \n",
       "997          375.095        1.0  ...    197.062           1.0  955.115   \n",
       "998          368.142        1.0  ...    194.004           1.0  957.794   \n",
       "999          361.930        1.0  ...    187.950           1.0  958.651   \n",
       "\n",
       "scorer                                                                      \\\n",
       "individuals                                                                  \n",
       "bodyparts            shoulder_right                     tail_base            \n",
       "coords             y     likelihood         x        y likelihood        x   \n",
       "0            326.605          1.000   521.849  396.584        1.0  411.776   \n",
       "1            329.886          1.000   516.267  397.442        1.0  411.275   \n",
       "2            329.962          1.000   513.038  397.606        1.0  410.369   \n",
       "3            330.538          1.000   509.464  399.940        1.0  410.329   \n",
       "4            332.552          1.000   505.961  401.497        1.0  410.329   \n",
       "..               ...            ...       ...      ...        ...      ...   \n",
       "995          174.513          1.000   996.494  224.695        1.0  878.518   \n",
       "996          171.526          1.000   997.105  224.560        1.0  879.279   \n",
       "997          169.987          1.000   997.934  222.131        1.0  879.279   \n",
       "998          166.209          0.992  1002.349  213.580        1.0  880.455   \n",
       "999          163.311          0.998  1004.009  210.389        1.0  880.638   \n",
       "\n",
       "scorer                \n",
       "individuals           \n",
       "bodyparts             \n",
       "coords             y  \n",
       "0            367.344  \n",
       "1            367.344  \n",
       "2            367.344  \n",
       "3            367.316  \n",
       "4            365.170  \n",
       "..               ...  \n",
       "995          273.038  \n",
       "996          268.695  \n",
       "997          262.322  \n",
       "998          260.297  \n",
       "999          259.840  \n",
       "\n",
       "[1000 rows x 102 columns]"
      ]
     },
     "execution_count": 21,
     "metadata": {},
     "output_type": "execute_result"
    }
   ],
   "source": [
    "df"
   ]
  },
  {
   "cell_type": "code",
   "execution_count": 8,
   "metadata": {},
   "outputs": [
    {
     "name": "stdout",
     "output_type": "stream",
     "text": [
      "Collecting tables\n",
      "  Downloading tables-3.10.2-cp311-cp311-win_amd64.whl.metadata (2.1 kB)\n",
      "Requirement already satisfied: numpy>=1.20.0 in c:\\users\\quicken\\code\\.conda\\lib\\site-packages (from tables) (1.26.4)\n",
      "Collecting numexpr>=2.6.2 (from tables)\n",
      "  Downloading numexpr-2.11.0-cp311-cp311-win_amd64.whl.metadata (9.2 kB)\n",
      "Requirement already satisfied: packaging in c:\\users\\quicken\\code\\.conda\\lib\\site-packages (from tables) (24.0)\n",
      "Collecting py-cpuinfo (from tables)\n",
      "  Downloading py_cpuinfo-9.0.0-py3-none-any.whl.metadata (794 bytes)\n",
      "Collecting blosc2>=2.3.0 (from tables)\n",
      "  Downloading blosc2-3.6.1-cp311-cp311-win_amd64.whl.metadata (7.0 kB)\n",
      "Requirement already satisfied: typing-extensions>=4.4.0 in c:\\users\\quicken\\code\\.conda\\lib\\site-packages (from tables) (4.13.2)\n",
      "Collecting ndindex (from blosc2>=2.3.0->tables)\n",
      "  Downloading ndindex-1.10.0-cp311-cp311-win_amd64.whl.metadata (3.7 kB)\n",
      "Collecting msgpack (from blosc2>=2.3.0->tables)\n",
      "  Downloading msgpack-1.1.1-cp311-cp311-win_amd64.whl.metadata (8.6 kB)\n",
      "Requirement already satisfied: platformdirs in c:\\users\\quicken\\code\\.conda\\lib\\site-packages (from blosc2>=2.3.0->tables) (4.3.7)\n",
      "Collecting requests (from blosc2>=2.3.0->tables)\n",
      "  Using cached requests-2.32.4-py3-none-any.whl.metadata (4.9 kB)\n",
      "Collecting charset_normalizer<4,>=2 (from requests->blosc2>=2.3.0->tables)\n",
      "  Downloading charset_normalizer-3.4.2-cp311-cp311-win_amd64.whl.metadata (36 kB)\n",
      "Collecting idna<4,>=2.5 (from requests->blosc2>=2.3.0->tables)\n",
      "  Using cached idna-3.10-py3-none-any.whl.metadata (10 kB)\n",
      "Collecting urllib3<3,>=1.21.1 (from requests->blosc2>=2.3.0->tables)\n",
      "  Using cached urllib3-2.5.0-py3-none-any.whl.metadata (6.5 kB)\n",
      "Collecting certifi>=2017.4.17 (from requests->blosc2>=2.3.0->tables)\n",
      "  Downloading certifi-2025.8.3-py3-none-any.whl.metadata (2.4 kB)\n",
      "Downloading tables-3.10.2-cp311-cp311-win_amd64.whl (6.4 MB)\n",
      "   ---------------------------------------- 0.0/6.4 MB ? eta -:--:--\n",
      "   --- ------------------------------------ 0.5/6.4 MB 15.2 MB/s eta 0:00:01\n",
      "   -------- ------------------------------- 1.4/6.4 MB 17.5 MB/s eta 0:00:01\n",
      "   ----------------- ---------------------- 2.8/6.4 MB 22.0 MB/s eta 0:00:01\n",
      "   ------------------------------ --------- 4.9/6.4 MB 28.6 MB/s eta 0:00:01\n",
      "   ---------------------------------------  6.4/6.4 MB 34.2 MB/s eta 0:00:01\n",
      "   ---------------------------------------- 6.4/6.4 MB 25.6 MB/s eta 0:00:00\n",
      "Downloading blosc2-3.6.1-cp311-cp311-win_amd64.whl (2.2 MB)\n",
      "   ---------------------------------------- 0.0/2.2 MB ? eta -:--:--\n",
      "   ---------------------------------------  2.2/2.2 MB 71.3 MB/s eta 0:00:01\n",
      "   ---------------------------------------- 2.2/2.2 MB 47.3 MB/s eta 0:00:00\n",
      "Downloading numexpr-2.11.0-cp311-cp311-win_amd64.whl (146 kB)\n",
      "   ---------------------------------------- 0.0/146.2 kB ? eta -:--:--\n",
      "   ---------------------------------------- 146.2/146.2 kB 8.5 MB/s eta 0:00:00\n",
      "Downloading py_cpuinfo-9.0.0-py3-none-any.whl (22 kB)\n",
      "Downloading msgpack-1.1.1-cp311-cp311-win_amd64.whl (72 kB)\n",
      "   ---------------------------------------- 0.0/72.3 kB ? eta -:--:--\n",
      "   ---------------------------------------- 72.3/72.3 kB 3.9 MB/s eta 0:00:00\n",
      "Downloading ndindex-1.10.0-cp311-cp311-win_amd64.whl (156 kB)\n",
      "   ---------------------------------------- 0.0/156.7 kB ? eta -:--:--\n",
      "   ---------------------------------------- 156.7/156.7 kB ? eta 0:00:00\n",
      "Using cached requests-2.32.4-py3-none-any.whl (64 kB)\n",
      "Downloading certifi-2025.8.3-py3-none-any.whl (161 kB)\n",
      "   ---------------------------------------- 0.0/161.2 kB ? eta -:--:--\n",
      "   ---------------------------------------- 161.2/161.2 kB 9.4 MB/s eta 0:00:00\n",
      "Downloading charset_normalizer-3.4.2-cp311-cp311-win_amd64.whl (105 kB)\n",
      "   ---------------------------------------- 0.0/105.4 kB ? eta -:--:--\n",
      "   ---------------------------------------- 105.4/105.4 kB 6.3 MB/s eta 0:00:00\n",
      "Using cached idna-3.10-py3-none-any.whl (70 kB)\n",
      "Using cached urllib3-2.5.0-py3-none-any.whl (129 kB)\n",
      "Installing collected packages: py-cpuinfo, urllib3, numexpr, ndindex, msgpack, idna, charset_normalizer, certifi, requests, blosc2, tables\n",
      "Successfully installed blosc2-3.6.1 certifi-2025.8.3 charset_normalizer-3.4.2 idna-3.10 msgpack-1.1.1 ndindex-1.10.0 numexpr-2.11.0 py-cpuinfo-9.0.0 requests-2.32.4 tables-3.10.2 urllib3-2.5.0\n",
      "Note: you may need to restart the kernel to use updated packages.\n"
     ]
    }
   ],
   "source": [
    "pip install tables"
   ]
  },
  {
   "cell_type": "code",
   "execution_count": 5,
   "metadata": {},
   "outputs": [],
   "source": [
    "arr_x = df.loc[:, (scorer, individuals[0], bodyparts, [\"x\", \"y\"])].values[:,::2]\n",
    "arr_y = df.loc[:, (scorer, individuals[0], bodyparts, [\"x\", \"y\"])].values[:,1::2]\n",
    "\n",
    "mean_x = arr_x.mean(axis=1)\n",
    "mean_y = arr_y.mean(axis=1)\n",
    "\n",
    "# die mitte der maus wird als center angesehen\n",
    "\n",
    "centered_x = -(arr_x - mean_x[:, np.newaxis])\n",
    "centered_y = arr_y - mean_y[:, np.newaxis]"
   ]
  },
  {
   "cell_type": "code",
   "execution_count": 6,
   "metadata": {},
   "outputs": [],
   "source": [
    "# fix the position of the animal direction wise\n",
    "# so behaviors that are the same but move into different directions will now be completly similar\n",
    "\n",
    "nose_ind = bodyparts.index(\"nose\")\n",
    "coords = np.array([centered_x[0], centered_y[0]]).T\n",
    "animal_vec = coords[nose_ind] - coords.mean(axis=0)\n",
    "ref_vec = np.array([0,150]) - coords.mean(axis=0)\n",
    "dot_product = np.dot(ref_vec, animal_vec)\n",
    "magnitude_AB = np.linalg.norm(ref_vec)\n",
    "magnitude_BC = np.linalg.norm(animal_vec)\n",
    "angle = np.arccos(dot_product / (magnitude_AB * magnitude_BC))"
   ]
  },
  {
   "cell_type": "code",
   "execution_count": 7,
   "metadata": {},
   "outputs": [],
   "source": [
    "rotated = []\n",
    "\n",
    "for i in range(len(df)):\n",
    "    nose_ind = bodyparts.index(\"nose\")\n",
    "    coords = np.array([centered_x[i], centered_y[i]]).T\n",
    "    animal_vec = coords[nose_ind] - coords.mean(axis=0)\n",
    "    ref_vec = np.array([0,150]) - coords.mean(axis=0)\n",
    "\n",
    "    dot_product = np.dot(ref_vec, animal_vec)\n",
    "    magnitude_AB = np.linalg.norm(ref_vec)\n",
    "    magnitude_BC = np.linalg.norm(animal_vec)\n",
    "    angle = np.arccos(dot_product / (magnitude_AB * magnitude_BC))\n",
    "    A = coords.T\n",
    "    if coords[nose_ind][0] < 0:\n",
    "        theta = -angle\n",
    "    else:\n",
    "        theta = angle\n",
    "    rotate = np.array([\n",
    "        [np.cos(theta), -np.sin(theta)],\n",
    "        [np.sin(theta),  np.cos(theta)]\n",
    "    ])\n",
    "\n",
    "    out = (rotate @ A).T\n",
    "    \n",
    "    rotated.append(out)\n",
    "rotated = np.round(np.concatenate(rotated)).astype(int)"
   ]
  },
  {
   "cell_type": "code",
   "execution_count": 8,
   "metadata": {},
   "outputs": [
    {
     "ename": "ValueError",
     "evalue": "Mime type rendering requires nbformat>=4.2.0 but it is not installed",
     "output_type": "error",
     "traceback": [
      "\u001b[31m---------------------------------------------------------------------------\u001b[39m",
      "\u001b[31mValueError\u001b[39m                                Traceback (most recent call last)",
      "\u001b[36mCell\u001b[39m\u001b[36m \u001b[39m\u001b[32mIn[8]\u001b[39m\u001b[32m, line 23\u001b[39m\n\u001b[32m      4\u001b[39m fig1 = px.scatter(\n\u001b[32m      5\u001b[39m     x=centered_x[frame], \n\u001b[32m      6\u001b[39m     y=centered_y[frame], \n\u001b[32m   (...)\u001b[39m\u001b[32m     11\u001b[39m     range_y=[-\u001b[32m150\u001b[39m, \u001b[32m150\u001b[39m]\n\u001b[32m     12\u001b[39m )\n\u001b[32m     13\u001b[39m fig2 = px.scatter(\n\u001b[32m     14\u001b[39m     x=rotated[frame*\u001b[32m17\u001b[39m:frame*\u001b[32m17\u001b[39m+\u001b[32m17\u001b[39m, \u001b[32m0\u001b[39m], \n\u001b[32m     15\u001b[39m     y=rotated[frame*\u001b[32m17\u001b[39m:frame*\u001b[32m17\u001b[39m+\u001b[32m17\u001b[39m, \u001b[32m1\u001b[39m],\n\u001b[32m   (...)\u001b[39m\u001b[32m     20\u001b[39m     range_y=[-\u001b[32m150\u001b[39m, \u001b[32m150\u001b[39m]\n\u001b[32m     21\u001b[39m )\n\u001b[32m---> \u001b[39m\u001b[32m23\u001b[39m \u001b[43mfig1\u001b[49m\u001b[43m.\u001b[49m\u001b[43mshow\u001b[49m\u001b[43m(\u001b[49m\u001b[43m)\u001b[49m\n\u001b[32m     24\u001b[39m fig2.show()\n\u001b[32m     26\u001b[39m \u001b[38;5;66;03m# Make animatation\u001b[39;00m\n",
      "\u001b[36mFile \u001b[39m\u001b[32mc:\\Code\\Ambros_analysis\\.conda\\Lib\\site-packages\\plotly\\basedatatypes.py:3420\u001b[39m, in \u001b[36mBaseFigure.show\u001b[39m\u001b[34m(self, *args, **kwargs)\u001b[39m\n\u001b[32m   3387\u001b[39m \u001b[38;5;250m\u001b[39m\u001b[33;03m\"\"\"\u001b[39;00m\n\u001b[32m   3388\u001b[39m \u001b[33;03mShow a figure using either the default renderer(s) or the renderer(s)\u001b[39;00m\n\u001b[32m   3389\u001b[39m \u001b[33;03mspecified by the renderer argument\u001b[39;00m\n\u001b[32m   (...)\u001b[39m\u001b[32m   3416\u001b[39m \u001b[33;03mNone\u001b[39;00m\n\u001b[32m   3417\u001b[39m \u001b[33;03m\"\"\"\u001b[39;00m\n\u001b[32m   3418\u001b[39m \u001b[38;5;28;01mimport\u001b[39;00m\u001b[38;5;250m \u001b[39m\u001b[34;01mplotly\u001b[39;00m\u001b[34;01m.\u001b[39;00m\u001b[34;01mio\u001b[39;00m\u001b[38;5;250m \u001b[39m\u001b[38;5;28;01mas\u001b[39;00m\u001b[38;5;250m \u001b[39m\u001b[34;01mpio\u001b[39;00m\n\u001b[32m-> \u001b[39m\u001b[32m3420\u001b[39m \u001b[38;5;28;01mreturn\u001b[39;00m \u001b[43mpio\u001b[49m\u001b[43m.\u001b[49m\u001b[43mshow\u001b[49m\u001b[43m(\u001b[49m\u001b[38;5;28;43mself\u001b[39;49m\u001b[43m,\u001b[49m\u001b[43m \u001b[49m\u001b[43m*\u001b[49m\u001b[43margs\u001b[49m\u001b[43m,\u001b[49m\u001b[43m \u001b[49m\u001b[43m*\u001b[49m\u001b[43m*\u001b[49m\u001b[43mkwargs\u001b[49m\u001b[43m)\u001b[49m\n",
      "\u001b[36mFile \u001b[39m\u001b[32mc:\\Code\\Ambros_analysis\\.conda\\Lib\\site-packages\\plotly\\io\\_renderers.py:415\u001b[39m, in \u001b[36mshow\u001b[39m\u001b[34m(fig, renderer, validate, **kwargs)\u001b[39m\n\u001b[32m    410\u001b[39m     \u001b[38;5;28;01mraise\u001b[39;00m \u001b[38;5;167;01mValueError\u001b[39;00m(\n\u001b[32m    411\u001b[39m         \u001b[33m\"\u001b[39m\u001b[33mMime type rendering requires ipython but it is not installed\u001b[39m\u001b[33m\"\u001b[39m\n\u001b[32m    412\u001b[39m     )\n\u001b[32m    414\u001b[39m \u001b[38;5;28;01mif\u001b[39;00m \u001b[38;5;129;01mnot\u001b[39;00m nbformat \u001b[38;5;129;01mor\u001b[39;00m Version(nbformat.__version__) < Version(\u001b[33m\"\u001b[39m\u001b[33m4.2.0\u001b[39m\u001b[33m\"\u001b[39m):\n\u001b[32m--> \u001b[39m\u001b[32m415\u001b[39m     \u001b[38;5;28;01mraise\u001b[39;00m \u001b[38;5;167;01mValueError\u001b[39;00m(\n\u001b[32m    416\u001b[39m         \u001b[33m\"\u001b[39m\u001b[33mMime type rendering requires nbformat>=4.2.0 but it is not installed\u001b[39m\u001b[33m\"\u001b[39m\n\u001b[32m    417\u001b[39m     )\n\u001b[32m    419\u001b[39m display_jupyter_version_warnings()\n\u001b[32m    421\u001b[39m ipython_display.display(bundle, raw=\u001b[38;5;28;01mTrue\u001b[39;00m)\n",
      "\u001b[31mValueError\u001b[39m: Mime type rendering requires nbformat>=4.2.0 but it is not installed"
     ]
    }
   ],
   "source": [
    "# Plot rotation\n",
    "frame = 100\n",
    "\n",
    "fig1 = px.scatter(\n",
    "    x=centered_x[frame], \n",
    "    y=centered_y[frame], \n",
    "    color=bodyparts, \n",
    "    width=600, \n",
    "    height=600, \n",
    "    range_x=[-150, 150], \n",
    "    range_y=[-150, 150]\n",
    ")\n",
    "fig2 = px.scatter(\n",
    "    x=rotated[frame*17:frame*17+17, 0], \n",
    "    y=rotated[frame*17:frame*17+17, 1],\n",
    "    color=bodyparts, \n",
    "    width=600, \n",
    "    height=600, \n",
    "    range_x=[-150, 150], \n",
    "    range_y=[-150, 150]\n",
    ")\n",
    "\n",
    "fig1.show()\n",
    "fig2.show()\n",
    "\n",
    "# Make animatation\n",
    "bps_col = bodyparts * len(df)\n",
    "frame_col = sorted(list(range(len(df))) * len(bodyparts))\n",
    "\n",
    "plot_df = pd.DataFrame({\"x\": rotated[:, 0], \"y\": rotated[:, 1]})\n",
    "plot_df[\"bp\"] = bps_col\n",
    "plot_df[\"frame\"] = frame_col\n",
    "\n",
    "fig = px.scatter(\n",
    "    plot_df.iloc[550*17:700*17], \n",
    "    x=\"x\", \n",
    "    y=\"y\", \n",
    "    color=\"bp\", \n",
    "    animation_frame=\"frame\", \n",
    "    width=600, height=600, \n",
    "    range_x=[-150, 150], \n",
    "    range_y=[-150, 150]\n",
    ")\n",
    "fig.layout.updatemenus[0].buttons[0].args[1][\"frame\"][\"duration\"] = 50\n",
    "fig.layout.updatemenus[0].buttons[0].args[1][\"transition\"][\"duration\"] = 20\n",
    "fig.show()"
   ]
  },
  {
   "cell_type": "code",
   "execution_count": 9,
   "metadata": {},
   "outputs": [
    {
     "ename": "ValueError",
     "evalue": "Mime type rendering requires nbformat>=4.2.0 but it is not installed",
     "output_type": "error",
     "traceback": [
      "\u001b[31m---------------------------------------------------------------------------\u001b[39m",
      "\u001b[31mValueError\u001b[39m                                Traceback (most recent call last)",
      "\u001b[36mFile \u001b[39m\u001b[32mc:\\Code\\Ambros_analysis\\.conda\\Lib\\site-packages\\IPython\\core\\formatters.py:984\u001b[39m, in \u001b[36mIPythonDisplayFormatter.__call__\u001b[39m\u001b[34m(self, obj)\u001b[39m\n\u001b[32m    982\u001b[39m method = get_real_method(obj, \u001b[38;5;28mself\u001b[39m.print_method)\n\u001b[32m    983\u001b[39m \u001b[38;5;28;01mif\u001b[39;00m method \u001b[38;5;129;01mis\u001b[39;00m \u001b[38;5;129;01mnot\u001b[39;00m \u001b[38;5;28;01mNone\u001b[39;00m:\n\u001b[32m--> \u001b[39m\u001b[32m984\u001b[39m     \u001b[43mmethod\u001b[49m\u001b[43m(\u001b[49m\u001b[43m)\u001b[49m\n\u001b[32m    985\u001b[39m     \u001b[38;5;28;01mreturn\u001b[39;00m \u001b[38;5;28;01mTrue\u001b[39;00m\n",
      "\u001b[36mFile \u001b[39m\u001b[32mc:\\Code\\Ambros_analysis\\.conda\\Lib\\site-packages\\plotly\\basedatatypes.py:850\u001b[39m, in \u001b[36mBaseFigure._ipython_display_\u001b[39m\u001b[34m(self)\u001b[39m\n\u001b[32m    847\u001b[39m \u001b[38;5;28;01mimport\u001b[39;00m\u001b[38;5;250m \u001b[39m\u001b[34;01mplotly\u001b[39;00m\u001b[34;01m.\u001b[39;00m\u001b[34;01mio\u001b[39;00m\u001b[38;5;250m \u001b[39m\u001b[38;5;28;01mas\u001b[39;00m\u001b[38;5;250m \u001b[39m\u001b[34;01mpio\u001b[39;00m\n\u001b[32m    849\u001b[39m \u001b[38;5;28;01mif\u001b[39;00m pio.renderers.render_on_display \u001b[38;5;129;01mand\u001b[39;00m pio.renderers.default:\n\u001b[32m--> \u001b[39m\u001b[32m850\u001b[39m     \u001b[43mpio\u001b[49m\u001b[43m.\u001b[49m\u001b[43mshow\u001b[49m\u001b[43m(\u001b[49m\u001b[38;5;28;43mself\u001b[39;49m\u001b[43m)\u001b[49m\n\u001b[32m    851\u001b[39m \u001b[38;5;28;01melse\u001b[39;00m:\n\u001b[32m    852\u001b[39m     \u001b[38;5;28mprint\u001b[39m(\u001b[38;5;28mrepr\u001b[39m(\u001b[38;5;28mself\u001b[39m))\n",
      "\u001b[36mFile \u001b[39m\u001b[32mc:\\Code\\Ambros_analysis\\.conda\\Lib\\site-packages\\plotly\\io\\_renderers.py:415\u001b[39m, in \u001b[36mshow\u001b[39m\u001b[34m(fig, renderer, validate, **kwargs)\u001b[39m\n\u001b[32m    410\u001b[39m     \u001b[38;5;28;01mraise\u001b[39;00m \u001b[38;5;167;01mValueError\u001b[39;00m(\n\u001b[32m    411\u001b[39m         \u001b[33m\"\u001b[39m\u001b[33mMime type rendering requires ipython but it is not installed\u001b[39m\u001b[33m\"\u001b[39m\n\u001b[32m    412\u001b[39m     )\n\u001b[32m    414\u001b[39m \u001b[38;5;28;01mif\u001b[39;00m \u001b[38;5;129;01mnot\u001b[39;00m nbformat \u001b[38;5;129;01mor\u001b[39;00m Version(nbformat.__version__) < Version(\u001b[33m\"\u001b[39m\u001b[33m4.2.0\u001b[39m\u001b[33m\"\u001b[39m):\n\u001b[32m--> \u001b[39m\u001b[32m415\u001b[39m     \u001b[38;5;28;01mraise\u001b[39;00m \u001b[38;5;167;01mValueError\u001b[39;00m(\n\u001b[32m    416\u001b[39m         \u001b[33m\"\u001b[39m\u001b[33mMime type rendering requires nbformat>=4.2.0 but it is not installed\u001b[39m\u001b[33m\"\u001b[39m\n\u001b[32m    417\u001b[39m     )\n\u001b[32m    419\u001b[39m display_jupyter_version_warnings()\n\u001b[32m    421\u001b[39m ipython_display.display(bundle, raw=\u001b[38;5;28;01mTrue\u001b[39;00m)\n",
      "\u001b[31mValueError\u001b[39m: Mime type rendering requires nbformat>=4.2.0 but it is not installed"
     ]
    },
    {
     "data": {
      "application/vnd.plotly.v1+json": {
       "config": {
        "plotlyServerURL": "https://plot.ly"
       },
       "data": [
        {
         "hovertemplate": "bps=dorsal_1<br>cluster=0<br>x=%{x}<br>y=%{y}<extra></extra>",
         "legendgroup": "dorsal_1",
         "marker": {
          "color": "#636efa",
          "size": 5,
          "symbol": "circle"
         },
         "mode": "markers",
         "name": "dorsal_1",
         "orientation": "v",
         "showlegend": true,
         "type": "scatter",
         "x": {
          "bdata": "y7Isy7IsF0A=",
          "dtype": "f8"
         },
         "xaxis": "x3",
         "y": {
          "bdata": "x3Ecx3EcK0A=",
          "dtype": "f8"
         },
         "yaxis": "y3"
        },
        {
         "hovertemplate": "bps=dorsal_1<br>cluster=1<br>x=%{x}<br>y=%{y}<extra></extra>",
         "legendgroup": "dorsal_1",
         "marker": {
          "color": "#636efa",
          "size": 5,
          "symbol": "circle"
         },
         "mode": "markers",
         "name": "dorsal_1",
         "orientation": "v",
         "showlegend": false,
         "type": "scatter",
         "x": {
          "bdata": "X2uO/8ANAcA=",
          "dtype": "f8"
         },
         "xaxis": "x2",
         "y": {
          "bdata": "kjZFZJ7bL0A=",
          "dtype": "f8"
         },
         "yaxis": "y2"
        },
        {
         "hovertemplate": "bps=dorsal_1<br>cluster=2<br>x=%{x}<br>y=%{y}<extra></extra>",
         "legendgroup": "dorsal_1",
         "marker": {
          "color": "#636efa",
          "size": 5,
          "symbol": "circle"
         },
         "mode": "markers",
         "name": "dorsal_1",
         "orientation": "v",
         "showlegend": false,
         "type": "scatter",
         "x": {
          "bdata": "Gc1lNJfRJMA=",
          "dtype": "f8"
         },
         "xaxis": "x",
         "y": {
          "bdata": "EN9BfAfxnb8=",
          "dtype": "f8"
         },
         "yaxis": "y"
        },
        {
         "hovertemplate": "bps=dorsal_2<br>cluster=0<br>x=%{x}<br>y=%{y}<extra></extra>",
         "legendgroup": "dorsal_2",
         "marker": {
          "color": "#EF553B",
          "size": 5,
          "symbol": "circle"
         },
         "mode": "markers",
         "name": "dorsal_2",
         "orientation": "v",
         "showlegend": true,
         "type": "scatter",
         "x": {
          "bdata": "Pc/zPM/z/D8=",
          "dtype": "f8"
         },
         "xaxis": "x3",
         "y": {
          "bdata": "TdM0TdO0LcA=",
          "dtype": "f8"
         },
         "yaxis": "y3"
        },
        {
         "hovertemplate": "bps=dorsal_2<br>cluster=1<br>x=%{x}<br>y=%{y}<extra></extra>",
         "legendgroup": "dorsal_2",
         "marker": {
          "color": "#EF553B",
          "size": 5,
          "symbol": "circle"
         },
         "mode": "markers",
         "name": "dorsal_2",
         "orientation": "v",
         "showlegend": false,
         "type": "scatter",
         "x": {
          "bdata": "k7QpIvPc/r8=",
          "dtype": "f8"
         },
         "xaxis": "x2",
         "y": {
          "bdata": "N0VkntvRLcA=",
          "dtype": "f8"
         },
         "yaxis": "y2"
        },
        {
         "hovertemplate": "bps=dorsal_2<br>cluster=2<br>x=%{x}<br>y=%{y}<extra></extra>",
         "legendgroup": "dorsal_2",
         "marker": {
          "color": "#EF553B",
          "size": 5,
          "symbol": "circle"
         },
         "mode": "markers",
         "name": "dorsal_2",
         "orientation": "v",
         "showlegend": false,
         "type": "scatter",
         "x": {
          "bdata": "V1JbSW0lEcA=",
          "dtype": "f8"
         },
         "xaxis": "x",
         "y": {
          "bdata": "WE9hPYX1NMA=",
          "dtype": "f8"
         },
         "yaxis": "y"
        },
        {
         "hovertemplate": "bps=dorsal_3<br>cluster=0<br>x=%{x}<br>y=%{y}<extra></extra>",
         "legendgroup": "dorsal_3",
         "marker": {
          "color": "#00cc96",
          "size": 5,
          "symbol": "circle"
         },
         "mode": "markers",
         "name": "dorsal_3",
         "orientation": "v",
         "showlegend": true,
         "type": "scatter",
         "x": {
          "bdata": "KYqiKIqiEcA=",
          "dtype": "f8"
         },
         "xaxis": "x3",
         "y": {
          "bdata": "u67ruq4LRsA=",
          "dtype": "f8"
         },
         "yaxis": "y3"
        },
        {
         "hovertemplate": "bps=dorsal_3<br>cluster=1<br>x=%{x}<br>y=%{y}<extra></extra>",
         "legendgroup": "dorsal_3",
         "marker": {
          "color": "#00cc96",
          "size": 5,
          "symbol": "circle"
         },
         "mode": "markers",
         "name": "dorsal_3",
         "orientation": "v",
         "showlegend": false,
         "type": "scatter",
         "x": {
          "bdata": "8eDFwglq4T8=",
          "dtype": "f8"
         },
         "xaxis": "x2",
         "y": {
          "bdata": "bsm6m2GkR8A=",
          "dtype": "f8"
         },
         "yaxis": "y2"
        },
        {
         "hovertemplate": "bps=dorsal_3<br>cluster=2<br>x=%{x}<br>y=%{y}<extra></extra>",
         "legendgroup": "dorsal_3",
         "marker": {
          "color": "#00cc96",
          "size": 5,
          "symbol": "circle"
         },
         "mode": "markers",
         "name": "dorsal_3",
         "orientation": "v",
         "showlegend": false,
         "type": "scatter",
         "x": {
          "bdata": "H8F9BPcRHEA=",
          "dtype": "f8"
         },
         "xaxis": "x",
         "y": {
          "bdata": "oryG8hrKQ8A=",
          "dtype": "f8"
         },
         "yaxis": "y"
        },
        {
         "hovertemplate": "bps=dorsal_4<br>cluster=0<br>x=%{x}<br>y=%{y}<extra></extra>",
         "legendgroup": "dorsal_4",
         "marker": {
          "color": "#ab63fa",
          "size": 5,
          "symbol": "circle"
         },
         "mode": "markers",
         "name": "dorsal_4",
         "orientation": "v",
         "showlegend": true,
         "type": "scatter",
         "x": {
          "bdata": "YhiGYRiGKMA=",
          "dtype": "f8"
         },
         "xaxis": "x3",
         "y": {
          "bdata": "ft/3fd8nUsA=",
          "dtype": "f8"
         },
         "yaxis": "y3"
        },
        {
         "hovertemplate": "bps=dorsal_4<br>cluster=1<br>x=%{x}<br>y=%{y}<extra></extra>",
         "legendgroup": "dorsal_4",
         "marker": {
          "color": "#ab63fa",
          "size": 5,
          "symbol": "circle"
         },
         "mode": "markers",
         "name": "dorsal_4",
         "orientation": "v",
         "showlegend": false,
         "type": "scatter",
         "x": {
          "bdata": "vdYc/4EbEkA=",
          "dtype": "f8"
         },
         "xaxis": "x2",
         "y": {
          "bdata": "DGaapE2RU8A=",
          "dtype": "f8"
         },
         "yaxis": "y2"
        },
        {
         "hovertemplate": "bps=dorsal_4<br>cluster=2<br>x=%{x}<br>y=%{y}<extra></extra>",
         "legendgroup": "dorsal_4",
         "marker": {
          "color": "#ab63fa",
          "size": 5,
          "symbol": "circle"
         },
         "mode": "markers",
         "name": "dorsal_4",
         "orientation": "v",
         "showlegend": false,
         "type": "scatter",
         "x": {
          "bdata": "cxnNZTSXNEA=",
          "dtype": "f8"
         },
         "xaxis": "x",
         "y": {
          "bdata": "xHcQ30H8S8A=",
          "dtype": "f8"
         },
         "yaxis": "y"
        },
        {
         "hovertemplate": "bps=eye_left<br>cluster=0<br>x=%{x}<br>y=%{y}<extra></extra>",
         "legendgroup": "eye_left",
         "marker": {
          "color": "#FFA15A",
          "size": 5,
          "symbol": "circle"
         },
         "mode": "markers",
         "name": "eye_left",
         "orientation": "v",
         "showlegend": true,
         "type": "scatter",
         "x": {
          "bdata": "mqZpmqZpE8A=",
          "dtype": "f8"
         },
         "xaxis": "x3",
         "y": {
          "bdata": "LcuyLMsSTEA=",
          "dtype": "f8"
         },
         "yaxis": "y3"
        },
        {
         "hovertemplate": "bps=eye_left<br>cluster=1<br>x=%{x}<br>y=%{y}<extra></extra>",
         "legendgroup": "eye_left",
         "marker": {
          "color": "#FFA15A",
          "size": 5,
          "symbol": "circle"
         },
         "mode": "markers",
         "name": "eye_left",
         "orientation": "v",
         "showlegend": false,
         "type": "scatter",
         "x": {
          "bdata": "FFKHD50eJ8A=",
          "dtype": "f8"
         },
         "xaxis": "x2",
         "y": {
          "bdata": "+NDpsa/0T0A=",
          "dtype": "f8"
         },
         "yaxis": "y2"
        },
        {
         "hovertemplate": "bps=eye_left<br>cluster=2<br>x=%{x}<br>y=%{y}<extra></extra>",
         "legendgroup": "eye_left",
         "marker": {
          "color": "#FFA15A",
          "size": 5,
          "symbol": "circle"
         },
         "mode": "markers",
         "name": "eye_left",
         "orientation": "v",
         "showlegend": false,
         "type": "scatter",
         "x": {
          "bdata": "E9lNZDeRL8A=",
          "dtype": "f8"
         },
         "xaxis": "x",
         "y": {
          "bdata": "u4nsJrKbSkA=",
          "dtype": "f8"
         },
         "yaxis": "y"
        },
        {
         "hovertemplate": "bps=eye_right<br>cluster=0<br>x=%{x}<br>y=%{y}<extra></extra>",
         "legendgroup": "eye_right",
         "marker": {
          "color": "#19d3f3",
          "size": 5,
          "symbol": "circle"
         },
         "mode": "markers",
         "name": "eye_right",
         "orientation": "v",
         "showlegend": true,
         "type": "scatter",
         "x": {
          "bdata": "hmEYhmEYL0A=",
          "dtype": "f8"
         },
         "xaxis": "x3",
         "y": {
          "bdata": "5DiO4zgOTEA=",
          "dtype": "f8"
         },
         "yaxis": "y3"
        },
        {
         "hovertemplate": "bps=eye_right<br>cluster=1<br>x=%{x}<br>y=%{y}<extra></extra>",
         "legendgroup": "eye_right",
         "marker": {
          "color": "#19d3f3",
          "size": 5,
          "symbol": "circle"
         },
         "mode": "markers",
         "name": "eye_right",
         "orientation": "v",
         "showlegend": false,
         "type": "scatter",
         "x": {
          "bdata": "6TPLtmTdJUA=",
          "dtype": "f8"
         },
         "xaxis": "x2",
         "y": {
          "bdata": "J6hFo5C6T0A=",
          "dtype": "f8"
         },
         "yaxis": "y2"
        },
        {
         "hovertemplate": "bps=eye_right<br>cluster=2<br>x=%{x}<br>y=%{y}<extra></extra>",
         "legendgroup": "eye_right",
         "marker": {
          "color": "#19d3f3",
          "size": 5,
          "symbol": "circle"
         },
         "mode": "markers",
         "name": "eye_right",
         "orientation": "v",
         "showlegend": false,
         "type": "scatter",
         "x": {
          "bdata": "iuwmspvIHkA=",
          "dtype": "f8"
         },
         "xaxis": "x",
         "y": {
          "bdata": "W0ltJbUVSUA=",
          "dtype": "f8"
         },
         "yaxis": "y"
        },
        {
         "hovertemplate": "bps=head_centre<br>cluster=0<br>x=%{x}<br>y=%{y}<extra></extra>",
         "legendgroup": "head_centre",
         "marker": {
          "color": "#FF6692",
          "size": 5,
          "symbol": "circle"
         },
         "mode": "markers",
         "name": "head_centre",
         "orientation": "v",
         "showlegend": true,
         "type": "scatter",
         "x": {
          "bdata": "z/M8z/M8HUA=",
          "dtype": "f8"
         },
         "xaxis": "x3",
         "y": {
          "bdata": "/L7v+74PQ0A=",
          "dtype": "f8"
         },
         "yaxis": "y3"
        },
        {
         "hovertemplate": "bps=head_centre<br>cluster=1<br>x=%{x}<br>y=%{y}<extra></extra>",
         "legendgroup": "head_centre",
         "marker": {
          "color": "#FF6692",
          "size": 5,
          "symbol": "circle"
         },
         "mode": "markers",
         "name": "head_centre",
         "orientation": "v",
         "showlegend": false,
         "type": "scatter",
         "x": {
          "bdata": "PHixcIJa9L8=",
          "dtype": "f8"
         },
         "xaxis": "x2",
         "y": {
          "bdata": "5Ts5vxHYREA=",
          "dtype": "f8"
         },
         "yaxis": "y2"
        },
        {
         "hovertemplate": "bps=head_centre<br>cluster=2<br>x=%{x}<br>y=%{y}<extra></extra>",
         "legendgroup": "head_centre",
         "marker": {
          "color": "#FF6692",
          "size": 5,
          "symbol": "circle"
         },
         "mode": "markers",
         "name": "head_centre",
         "orientation": "v",
         "showlegend": false,
         "type": "scatter",
         "x": {
          "bdata": "D+I7iO8gIsA=",
          "dtype": "f8"
         },
         "xaxis": "x",
         "y": {
          "bdata": "jeYymstoNEA=",
          "dtype": "f8"
         },
         "yaxis": "y"
        },
        {
         "hovertemplate": "bps=hip_left<br>cluster=0<br>x=%{x}<br>y=%{y}<extra></extra>",
         "legendgroup": "hip_left",
         "marker": {
          "color": "#B6E880",
          "size": 5,
          "symbol": "circle"
         },
         "mode": "markers",
         "name": "hip_left",
         "orientation": "v",
         "showlegend": true,
         "type": "scatter",
         "x": {
          "bdata": "MQzDMAxjSMA=",
          "dtype": "f8"
         },
         "xaxis": "x3",
         "y": {
          "bdata": "27Zt27btP8A=",
          "dtype": "f8"
         },
         "yaxis": "y3"
        },
        {
         "hovertemplate": "bps=hip_left<br>cluster=1<br>x=%{x}<br>y=%{y}<extra></extra>",
         "legendgroup": "hip_left",
         "marker": {
          "color": "#B6E880",
          "size": 5,
          "symbol": "circle"
         },
         "mode": "markers",
         "name": "hip_left",
         "orientation": "v",
         "showlegend": false,
         "type": "scatter",
         "x": {
          "bdata": "kjZFZJ5bRMA=",
          "dtype": "f8"
         },
         "xaxis": "x2",
         "y": {
          "bdata": "6PTYV7pcTMA=",
          "dtype": "f8"
         },
         "yaxis": "y2"
        },
        {
         "hovertemplate": "bps=hip_left<br>cluster=2<br>x=%{x}<br>y=%{y}<extra></extra>",
         "legendgroup": "hip_left",
         "marker": {
          "color": "#B6E880",
          "size": 5,
          "symbol": "circle"
         },
         "mode": "markers",
         "name": "hip_left",
         "orientation": "v",
         "showlegend": false,
         "type": "scatter",
         "x": {
          "bdata": "ZDeR3UR2McA=",
          "dtype": "f8"
         },
         "xaxis": "x",
         "y": {
          "bdata": "A/oL6C8gS8A=",
          "dtype": "f8"
         },
         "yaxis": "y"
        },
        {
         "hovertemplate": "bps=hip_right<br>cluster=0<br>x=%{x}<br>y=%{y}<extra></extra>",
         "legendgroup": "hip_right",
         "marker": {
          "color": "#FF97FF",
          "size": 5,
          "symbol": "circle"
         },
         "mode": "markers",
         "name": "hip_right",
         "orientation": "v",
         "showlegend": true,
         "type": "scatter",
         "x": {
          "bdata": "ft/3fd9XQUA=",
          "dtype": "f8"
         },
         "xaxis": "x3",
         "y": {
          "bdata": "x3Ecx3H8SsA=",
          "dtype": "f8"
         },
         "yaxis": "y3"
        },
        {
         "hovertemplate": "bps=hip_right<br>cluster=1<br>x=%{x}<br>y=%{y}<extra></extra>",
         "legendgroup": "hip_right",
         "marker": {
          "color": "#FF97FF",
          "size": 5,
          "symbol": "circle"
         },
         "mode": "markers",
         "name": "hip_right",
         "orientation": "v",
         "showlegend": false,
         "type": "scatter",
         "x": {
          "bdata": "uCG06i+URUA=",
          "dtype": "f8"
         },
         "xaxis": "x2",
         "y": {
          "bdata": "RqOQOnzoRsA=",
          "dtype": "f8"
         },
         "yaxis": "y2"
        },
        {
         "hovertemplate": "bps=hip_right<br>cluster=2<br>x=%{x}<br>y=%{y}<extra></extra>",
         "legendgroup": "hip_right",
         "marker": {
          "color": "#FF97FF",
          "size": 5,
          "symbol": "circle"
         },
         "mode": "markers",
         "name": "hip_right",
         "orientation": "v",
         "showlegend": false,
         "type": "scatter",
         "x": {
          "bdata": "fwH9BfSXQ0A=",
          "dtype": "f8"
         },
         "xaxis": "x",
         "y": {
          "bdata": "M5rLaC6jMMA=",
          "dtype": "f8"
         },
         "yaxis": "y"
        },
        {
         "hovertemplate": "bps=lateral_left<br>cluster=0<br>x=%{x}<br>y=%{y}<extra></extra>",
         "legendgroup": "lateral_left",
         "marker": {
          "color": "#FECB52",
          "size": 5,
          "symbol": "circle"
         },
         "mode": "markers",
         "name": "lateral_left",
         "orientation": "v",
         "showlegend": true,
         "type": "scatter",
         "x": {
          "bdata": "z/M8z/OcQcA=",
          "dtype": "f8"
         },
         "xaxis": "x3",
         "y": {
          "bdata": "AAAAAAAAEsA=",
          "dtype": "f8"
         },
         "yaxis": "y3"
        },
        {
         "hovertemplate": "bps=lateral_left<br>cluster=1<br>x=%{x}<br>y=%{y}<extra></extra>",
         "legendgroup": "lateral_left",
         "marker": {
          "color": "#FECB52",
          "size": 5,
          "symbol": "circle"
         },
         "mode": "markers",
         "name": "lateral_left",
         "orientation": "v",
         "showlegend": false,
         "type": "scatter",
         "x": {
          "bdata": "CqnDh06PQsA=",
          "dtype": "f8"
         },
         "xaxis": "x2",
         "y": {
          "bdata": "g9gYyP3EMMA=",
          "dtype": "f8"
         },
         "yaxis": "y2"
        },
        {
         "hovertemplate": "bps=lateral_left<br>cluster=2<br>x=%{x}<br>y=%{y}<extra></extra>",
         "legendgroup": "lateral_left",
         "marker": {
          "color": "#FECB52",
          "size": 5,
          "symbol": "circle"
         },
         "mode": "markers",
         "name": "lateral_left",
         "orientation": "v",
         "showlegend": false,
         "type": "scatter",
         "x": {
          "bdata": "voP4DuI7Q8A=",
          "dtype": "f8"
         },
         "xaxis": "x",
         "y": {
          "bdata": "uI/gPoL7M8A=",
          "dtype": "f8"
         },
         "yaxis": "y"
        },
        {
         "hovertemplate": "bps=lateral_right<br>cluster=0<br>x=%{x}<br>y=%{y}<extra></extra>",
         "legendgroup": "lateral_right",
         "marker": {
          "color": "#636efa",
          "size": 5,
          "symbol": "circle"
         },
         "mode": "markers",
         "name": "lateral_right",
         "orientation": "v",
         "showlegend": true,
         "type": "scatter",
         "x": {
          "bdata": "CIIgCIIgQkA=",
          "dtype": "f8"
         },
         "xaxis": "x3",
         "y": {
          "bdata": "juM4juO4M8A=",
          "dtype": "f8"
         },
         "yaxis": "y3"
        },
        {
         "hovertemplate": "bps=lateral_right<br>cluster=1<br>x=%{x}<br>y=%{y}<extra></extra>",
         "legendgroup": "lateral_right",
         "marker": {
          "color": "#636efa",
          "size": 5,
          "symbol": "circle"
         },
         "mode": "markers",
         "name": "lateral_right",
         "orientation": "v",
         "showlegend": false,
         "type": "scatter",
         "x": {
          "bdata": "O3zo9NhXQEA=",
          "dtype": "f8"
         },
         "xaxis": "x2",
         "y": {
          "bdata": "Fg9eLJygKsA=",
          "dtype": "f8"
         },
         "yaxis": "y2"
        },
        {
         "hovertemplate": "bps=lateral_right<br>cluster=2<br>x=%{x}<br>y=%{y}<extra></extra>",
         "legendgroup": "lateral_right",
         "marker": {
          "color": "#636efa",
          "size": 5,
          "symbol": "circle"
         },
         "mode": "markers",
         "name": "lateral_right",
         "orientation": "v",
         "showlegend": false,
         "type": "scatter",
         "x": {
          "bdata": "W0ltJbWVOEA=",
          "dtype": "f8"
         },
         "xaxis": "x",
         "y": {
          "bdata": "W0ltJbWV9L8=",
          "dtype": "f8"
         },
         "yaxis": "y"
        },
        {
         "hovertemplate": "bps=left_ear<br>cluster=0<br>x=%{x}<br>y=%{y}<extra></extra>",
         "legendgroup": "left_ear",
         "marker": {
          "color": "#EF553B",
          "size": 5,
          "symbol": "circle"
         },
         "mode": "markers",
         "name": "left_ear",
         "orientation": "v",
         "showlegend": true,
         "type": "scatter",
         "x": {
          "bdata": "kiRJkiRJEMA=",
          "dtype": "f8"
         },
         "xaxis": "x3",
         "y": {
          "bdata": "27Zt27ZtQ0A=",
          "dtype": "f8"
         },
         "yaxis": "y3"
        },
        {
         "hovertemplate": "bps=left_ear<br>cluster=1<br>x=%{x}<br>y=%{y}<extra></extra>",
         "legendgroup": "left_ear",
         "marker": {
          "color": "#EF553B",
          "size": 5,
          "symbol": "circle"
         },
         "mode": "markers",
         "name": "left_ear",
         "orientation": "v",
         "showlegend": false,
         "type": "scatter",
         "x": {
          "bdata": "Hn1m2ZasKcA=",
          "dtype": "f8"
         },
         "xaxis": "x2",
         "y": {
          "bdata": "Vzx4sXACRUA=",
          "dtype": "f8"
         },
         "yaxis": "y2"
        },
        {
         "hovertemplate": "bps=left_ear<br>cluster=2<br>x=%{x}<br>y=%{y}<extra></extra>",
         "legendgroup": "left_ear",
         "marker": {
          "color": "#EF553B",
          "size": 5,
          "symbol": "circle"
         },
         "mode": "markers",
         "name": "left_ear",
         "orientation": "v",
         "showlegend": false,
         "type": "scatter",
         "x": {
          "bdata": "9BfQX0B/NcA=",
          "dtype": "f8"
         },
         "xaxis": "x",
         "y": {
          "bdata": "3EdwH8F9NkA=",
          "dtype": "f8"
         },
         "yaxis": "y"
        },
        {
         "hovertemplate": "bps=nose<br>cluster=0<br>x=%{x}<br>y=%{y}<extra></extra>",
         "legendgroup": "nose",
         "marker": {
          "color": "#00cc96",
          "size": 5,
          "symbol": "circle"
         },
         "mode": "markers",
         "name": "nose",
         "orientation": "v",
         "showlegend": true,
         "type": "scatter",
         "x": {
          "bdata": "AAAAAAAAAAA=",
          "dtype": "f8"
         },
         "xaxis": "x3",
         "y": {
          "bdata": "oyiKoiiqUEA=",
          "dtype": "f8"
         },
         "yaxis": "y3"
        },
        {
         "hovertemplate": "bps=nose<br>cluster=1<br>x=%{x}<br>y=%{y}<extra></extra>",
         "legendgroup": "nose",
         "marker": {
          "color": "#00cc96",
          "size": 5,
          "symbol": "circle"
         },
         "mode": "markers",
         "name": "nose",
         "orientation": "v",
         "showlegend": false,
         "type": "scatter",
         "x": {
          "bdata": "AAAAAAAAAAA=",
          "dtype": "f8"
         },
         "xaxis": "x2",
         "y": {
          "bdata": "9BuBnV0tU0A=",
          "dtype": "f8"
         },
         "yaxis": "y2"
        },
        {
         "hovertemplate": "bps=nose<br>cluster=2<br>x=%{x}<br>y=%{y}<extra></extra>",
         "legendgroup": "nose",
         "marker": {
          "color": "#00cc96",
          "size": 5,
          "symbol": "circle"
         },
         "mode": "markers",
         "name": "nose",
         "orientation": "v",
         "showlegend": false,
         "type": "scatter",
         "x": {
          "bdata": "AAAAAAAAAAA=",
          "dtype": "f8"
         },
         "xaxis": "x",
         "y": {
          "bdata": "i+ksprNYUkA=",
          "dtype": "f8"
         },
         "yaxis": "y"
        },
        {
         "hovertemplate": "bps=right_ear<br>cluster=0<br>x=%{x}<br>y=%{y}<extra></extra>",
         "legendgroup": "right_ear",
         "marker": {
          "color": "#ab63fa",
          "size": 5,
          "symbol": "circle"
         },
         "mode": "markers",
         "name": "right_ear",
         "orientation": "v",
         "showlegend": true,
         "type": "scatter",
         "x": {
          "bdata": "kiRJkiSJM0A=",
          "dtype": "f8"
         },
         "xaxis": "x3",
         "y": {
          "bdata": "HMdxHMdxQkA=",
          "dtype": "f8"
         },
         "yaxis": "y3"
        },
        {
         "hovertemplate": "bps=right_ear<br>cluster=1<br>x=%{x}<br>y=%{y}<extra></extra>",
         "legendgroup": "right_ear",
         "marker": {
          "color": "#ab63fa",
          "size": 5,
          "symbol": "circle"
         },
         "mode": "markers",
         "name": "right_ear",
         "orientation": "v",
         "showlegend": false,
         "type": "scatter",
         "x": {
          "bdata": "vFg4QS0aJUA=",
          "dtype": "f8"
         },
         "xaxis": "x2",
         "y": {
          "bdata": "bM3xH7ihREA=",
          "dtype": "f8"
         },
         "yaxis": "y2"
        },
        {
         "hovertemplate": "bps=right_ear<br>cluster=2<br>x=%{x}<br>y=%{y}<extra></extra>",
         "legendgroup": "right_ear",
         "marker": {
          "color": "#ab63fa",
          "size": 5,
          "symbol": "circle"
         },
         "mode": "markers",
         "name": "right_ear",
         "orientation": "v",
         "showlegend": false,
         "type": "scatter",
         "x": {
          "bdata": "RnMZzWU0D0A=",
          "dtype": "f8"
         },
         "xaxis": "x",
         "y": {
          "bdata": "r6G8hvIaM0A=",
          "dtype": "f8"
         },
         "yaxis": "y"
        },
        {
         "hovertemplate": "bps=shoulder_left<br>cluster=0<br>x=%{x}<br>y=%{y}<extra></extra>",
         "legendgroup": "shoulder_left",
         "marker": {
          "color": "#FFA15A",
          "size": 5,
          "symbol": "circle"
         },
         "mode": "markers",
         "name": "shoulder_left",
         "orientation": "v",
         "showlegend": true,
         "type": "scatter",
         "x": {
          "bdata": "WZZlWZZlPMA=",
          "dtype": "f8"
         },
         "xaxis": "x3",
         "y": {
          "bdata": "BEEQBEEQNUA=",
          "dtype": "f8"
         },
         "yaxis": "y3"
        },
        {
         "hovertemplate": "bps=shoulder_left<br>cluster=1<br>x=%{x}<br>y=%{y}<extra></extra>",
         "legendgroup": "shoulder_left",
         "marker": {
          "color": "#FFA15A",
          "size": 5,
          "symbol": "circle"
         },
         "mode": "markers",
         "name": "shoulder_left",
         "orientation": "v",
         "showlegend": false,
         "type": "scatter",
         "x": {
          "bdata": "M4zEBTNNQcA=",
          "dtype": "f8"
         },
         "xaxis": "x2",
         "y": {
          "bdata": "med29JllMUA=",
          "dtype": "f8"
         },
         "yaxis": "y2"
        },
        {
         "hovertemplate": "bps=shoulder_left<br>cluster=2<br>x=%{x}<br>y=%{y}<extra></extra>",
         "legendgroup": "shoulder_left",
         "marker": {
          "color": "#FFA15A",
          "size": 5,
          "symbol": "circle"
         },
         "mode": "markers",
         "name": "shoulder_left",
         "orientation": "v",
         "showlegend": false,
         "type": "scatter",
         "x": {
          "bdata": "CusprKcwRcA=",
          "dtype": "f8"
         },
         "xaxis": "x",
         "y": {
          "bdata": "JbWV1FZSM0A=",
          "dtype": "f8"
         },
         "yaxis": "y"
        },
        {
         "hovertemplate": "bps=shoulder_right<br>cluster=0<br>x=%{x}<br>y=%{y}<extra></extra>",
         "legendgroup": "shoulder_right",
         "marker": {
          "color": "#19d3f3",
          "size": 5,
          "symbol": "circle"
         },
         "mode": "markers",
         "name": "shoulder_right",
         "orientation": "v",
         "showlegend": true,
         "type": "scatter",
         "x": {
          "bdata": "Pc/zPM9TQkA=",
          "dtype": "f8"
         },
         "xaxis": "x3",
         "y": {
          "bdata": "EARBEARBKEA=",
          "dtype": "f8"
         },
         "yaxis": "y3"
        },
        {
         "hovertemplate": "bps=shoulder_right<br>cluster=1<br>x=%{x}<br>y=%{y}<extra></extra>",
         "legendgroup": "shoulder_right",
         "marker": {
          "color": "#19d3f3",
          "size": 5,
          "symbol": "circle"
         },
         "mode": "markers",
         "name": "shoulder_right",
         "orientation": "v",
         "showlegend": false,
         "type": "scatter",
         "x": {
          "bdata": "zPVWPHixPkA=",
          "dtype": "f8"
         },
         "xaxis": "x2",
         "y": {
          "bdata": "FNSiUUgdMEA=",
          "dtype": "f8"
         },
         "yaxis": "y2"
        },
        {
         "hovertemplate": "bps=shoulder_right<br>cluster=2<br>x=%{x}<br>y=%{y}<extra></extra>",
         "legendgroup": "shoulder_right",
         "marker": {
          "color": "#19d3f3",
          "size": 5,
          "symbol": "circle"
         },
         "mode": "markers",
         "name": "shoulder_right",
         "orientation": "v",
         "showlegend": false,
         "type": "scatter",
         "x": {
          "bdata": "t5LaSmorOEA=",
          "dtype": "f8"
         },
         "xaxis": "x",
         "y": {
          "bdata": "dRbTWUxnNkA=",
          "dtype": "f8"
         },
         "yaxis": "y"
        },
        {
         "hovertemplate": "bps=tail_base<br>cluster=0<br>x=%{x}<br>y=%{y}<extra></extra>",
         "legendgroup": "tail_base",
         "marker": {
          "color": "#FF6692",
          "size": 5,
          "symbol": "circle"
         },
         "mode": "markers",
         "name": "tail_base",
         "orientation": "v",
         "showlegend": true,
         "type": "scatter",
         "x": {
          "bdata": "giAIgiCIM8A=",
          "dtype": "f8"
         },
         "xaxis": "x3",
         "y": {
          "bdata": "r+u6rut6WMA=",
          "dtype": "f8"
         },
         "yaxis": "y3"
        },
        {
         "hovertemplate": "bps=tail_base<br>cluster=1<br>x=%{x}<br>y=%{y}<extra></extra>",
         "legendgroup": "tail_base",
         "marker": {
          "color": "#FF6692",
          "size": 5,
          "symbol": "circle"
         },
         "mode": "markers",
         "name": "tail_base",
         "orientation": "v",
         "showlegend": false,
         "type": "scatter",
         "x": {
          "bdata": "NYiNgdxPIkA=",
          "dtype": "f8"
         },
         "xaxis": "x2",
         "y": {
          "bdata": "5zcCO7taWsA=",
          "dtype": "f8"
         },
         "yaxis": "y2"
        },
        {
         "hovertemplate": "bps=tail_base<br>cluster=2<br>x=%{x}<br>y=%{y}<extra></extra>",
         "legendgroup": "tail_base",
         "marker": {
          "color": "#FF6692",
          "size": 5,
          "symbol": "circle"
         },
         "mode": "markers",
         "name": "tail_base",
         "orientation": "v",
         "showlegend": false,
         "type": "scatter",
         "x": {
          "bdata": "k9pKaispQEA=",
          "dtype": "f8"
         },
         "xaxis": "x",
         "y": {
          "bdata": "z2I6i+nsUcA=",
          "dtype": "f8"
         },
         "yaxis": "y"
        }
       ],
       "layout": {
        "annotations": [
         {
          "font": {},
          "showarrow": false,
          "text": "cluster=2",
          "textangle": 90,
          "x": 0.98,
          "xanchor": "left",
          "xref": "paper",
          "y": 0.15666666666666665,
          "yanchor": "middle",
          "yref": "paper"
         },
         {
          "font": {},
          "showarrow": false,
          "text": "cluster=1",
          "textangle": 90,
          "x": 0.98,
          "xanchor": "left",
          "xref": "paper",
          "y": 0.4999999999999999,
          "yanchor": "middle",
          "yref": "paper"
         },
         {
          "font": {},
          "showarrow": false,
          "text": "cluster=0",
          "textangle": 90,
          "x": 0.98,
          "xanchor": "left",
          "xref": "paper",
          "y": 0.8433333333333332,
          "yanchor": "middle",
          "yref": "paper"
         }
        ],
        "height": 1000,
        "legend": {
         "title": {
          "text": "bps"
         },
         "tracegroupgap": 0
        },
        "margin": {
         "t": 60
        },
        "template": {
         "data": {
          "bar": [
           {
            "error_x": {
             "color": "#2a3f5f"
            },
            "error_y": {
             "color": "#2a3f5f"
            },
            "marker": {
             "line": {
              "color": "#E5ECF6",
              "width": 0.5
             },
             "pattern": {
              "fillmode": "overlay",
              "size": 10,
              "solidity": 0.2
             }
            },
            "type": "bar"
           }
          ],
          "barpolar": [
           {
            "marker": {
             "line": {
              "color": "#E5ECF6",
              "width": 0.5
             },
             "pattern": {
              "fillmode": "overlay",
              "size": 10,
              "solidity": 0.2
             }
            },
            "type": "barpolar"
           }
          ],
          "carpet": [
           {
            "aaxis": {
             "endlinecolor": "#2a3f5f",
             "gridcolor": "white",
             "linecolor": "white",
             "minorgridcolor": "white",
             "startlinecolor": "#2a3f5f"
            },
            "baxis": {
             "endlinecolor": "#2a3f5f",
             "gridcolor": "white",
             "linecolor": "white",
             "minorgridcolor": "white",
             "startlinecolor": "#2a3f5f"
            },
            "type": "carpet"
           }
          ],
          "choropleth": [
           {
            "colorbar": {
             "outlinewidth": 0,
             "ticks": ""
            },
            "type": "choropleth"
           }
          ],
          "contour": [
           {
            "colorbar": {
             "outlinewidth": 0,
             "ticks": ""
            },
            "colorscale": [
             [
              0,
              "#0d0887"
             ],
             [
              0.1111111111111111,
              "#46039f"
             ],
             [
              0.2222222222222222,
              "#7201a8"
             ],
             [
              0.3333333333333333,
              "#9c179e"
             ],
             [
              0.4444444444444444,
              "#bd3786"
             ],
             [
              0.5555555555555556,
              "#d8576b"
             ],
             [
              0.6666666666666666,
              "#ed7953"
             ],
             [
              0.7777777777777778,
              "#fb9f3a"
             ],
             [
              0.8888888888888888,
              "#fdca26"
             ],
             [
              1,
              "#f0f921"
             ]
            ],
            "type": "contour"
           }
          ],
          "contourcarpet": [
           {
            "colorbar": {
             "outlinewidth": 0,
             "ticks": ""
            },
            "type": "contourcarpet"
           }
          ],
          "heatmap": [
           {
            "colorbar": {
             "outlinewidth": 0,
             "ticks": ""
            },
            "colorscale": [
             [
              0,
              "#0d0887"
             ],
             [
              0.1111111111111111,
              "#46039f"
             ],
             [
              0.2222222222222222,
              "#7201a8"
             ],
             [
              0.3333333333333333,
              "#9c179e"
             ],
             [
              0.4444444444444444,
              "#bd3786"
             ],
             [
              0.5555555555555556,
              "#d8576b"
             ],
             [
              0.6666666666666666,
              "#ed7953"
             ],
             [
              0.7777777777777778,
              "#fb9f3a"
             ],
             [
              0.8888888888888888,
              "#fdca26"
             ],
             [
              1,
              "#f0f921"
             ]
            ],
            "type": "heatmap"
           }
          ],
          "histogram": [
           {
            "marker": {
             "pattern": {
              "fillmode": "overlay",
              "size": 10,
              "solidity": 0.2
             }
            },
            "type": "histogram"
           }
          ],
          "histogram2d": [
           {
            "colorbar": {
             "outlinewidth": 0,
             "ticks": ""
            },
            "colorscale": [
             [
              0,
              "#0d0887"
             ],
             [
              0.1111111111111111,
              "#46039f"
             ],
             [
              0.2222222222222222,
              "#7201a8"
             ],
             [
              0.3333333333333333,
              "#9c179e"
             ],
             [
              0.4444444444444444,
              "#bd3786"
             ],
             [
              0.5555555555555556,
              "#d8576b"
             ],
             [
              0.6666666666666666,
              "#ed7953"
             ],
             [
              0.7777777777777778,
              "#fb9f3a"
             ],
             [
              0.8888888888888888,
              "#fdca26"
             ],
             [
              1,
              "#f0f921"
             ]
            ],
            "type": "histogram2d"
           }
          ],
          "histogram2dcontour": [
           {
            "colorbar": {
             "outlinewidth": 0,
             "ticks": ""
            },
            "colorscale": [
             [
              0,
              "#0d0887"
             ],
             [
              0.1111111111111111,
              "#46039f"
             ],
             [
              0.2222222222222222,
              "#7201a8"
             ],
             [
              0.3333333333333333,
              "#9c179e"
             ],
             [
              0.4444444444444444,
              "#bd3786"
             ],
             [
              0.5555555555555556,
              "#d8576b"
             ],
             [
              0.6666666666666666,
              "#ed7953"
             ],
             [
              0.7777777777777778,
              "#fb9f3a"
             ],
             [
              0.8888888888888888,
              "#fdca26"
             ],
             [
              1,
              "#f0f921"
             ]
            ],
            "type": "histogram2dcontour"
           }
          ],
          "mesh3d": [
           {
            "colorbar": {
             "outlinewidth": 0,
             "ticks": ""
            },
            "type": "mesh3d"
           }
          ],
          "parcoords": [
           {
            "line": {
             "colorbar": {
              "outlinewidth": 0,
              "ticks": ""
             }
            },
            "type": "parcoords"
           }
          ],
          "pie": [
           {
            "automargin": true,
            "type": "pie"
           }
          ],
          "scatter": [
           {
            "fillpattern": {
             "fillmode": "overlay",
             "size": 10,
             "solidity": 0.2
            },
            "type": "scatter"
           }
          ],
          "scatter3d": [
           {
            "line": {
             "colorbar": {
              "outlinewidth": 0,
              "ticks": ""
             }
            },
            "marker": {
             "colorbar": {
              "outlinewidth": 0,
              "ticks": ""
             }
            },
            "type": "scatter3d"
           }
          ],
          "scattercarpet": [
           {
            "marker": {
             "colorbar": {
              "outlinewidth": 0,
              "ticks": ""
             }
            },
            "type": "scattercarpet"
           }
          ],
          "scattergeo": [
           {
            "marker": {
             "colorbar": {
              "outlinewidth": 0,
              "ticks": ""
             }
            },
            "type": "scattergeo"
           }
          ],
          "scattergl": [
           {
            "marker": {
             "colorbar": {
              "outlinewidth": 0,
              "ticks": ""
             }
            },
            "type": "scattergl"
           }
          ],
          "scattermap": [
           {
            "marker": {
             "colorbar": {
              "outlinewidth": 0,
              "ticks": ""
             }
            },
            "type": "scattermap"
           }
          ],
          "scattermapbox": [
           {
            "marker": {
             "colorbar": {
              "outlinewidth": 0,
              "ticks": ""
             }
            },
            "type": "scattermapbox"
           }
          ],
          "scatterpolar": [
           {
            "marker": {
             "colorbar": {
              "outlinewidth": 0,
              "ticks": ""
             }
            },
            "type": "scatterpolar"
           }
          ],
          "scatterpolargl": [
           {
            "marker": {
             "colorbar": {
              "outlinewidth": 0,
              "ticks": ""
             }
            },
            "type": "scatterpolargl"
           }
          ],
          "scatterternary": [
           {
            "marker": {
             "colorbar": {
              "outlinewidth": 0,
              "ticks": ""
             }
            },
            "type": "scatterternary"
           }
          ],
          "surface": [
           {
            "colorbar": {
             "outlinewidth": 0,
             "ticks": ""
            },
            "colorscale": [
             [
              0,
              "#0d0887"
             ],
             [
              0.1111111111111111,
              "#46039f"
             ],
             [
              0.2222222222222222,
              "#7201a8"
             ],
             [
              0.3333333333333333,
              "#9c179e"
             ],
             [
              0.4444444444444444,
              "#bd3786"
             ],
             [
              0.5555555555555556,
              "#d8576b"
             ],
             [
              0.6666666666666666,
              "#ed7953"
             ],
             [
              0.7777777777777778,
              "#fb9f3a"
             ],
             [
              0.8888888888888888,
              "#fdca26"
             ],
             [
              1,
              "#f0f921"
             ]
            ],
            "type": "surface"
           }
          ],
          "table": [
           {
            "cells": {
             "fill": {
              "color": "#EBF0F8"
             },
             "line": {
              "color": "white"
             }
            },
            "header": {
             "fill": {
              "color": "#C8D4E3"
             },
             "line": {
              "color": "white"
             }
            },
            "type": "table"
           }
          ]
         },
         "layout": {
          "annotationdefaults": {
           "arrowcolor": "#2a3f5f",
           "arrowhead": 0,
           "arrowwidth": 1
          },
          "autotypenumbers": "strict",
          "coloraxis": {
           "colorbar": {
            "outlinewidth": 0,
            "ticks": ""
           }
          },
          "colorscale": {
           "diverging": [
            [
             0,
             "#8e0152"
            ],
            [
             0.1,
             "#c51b7d"
            ],
            [
             0.2,
             "#de77ae"
            ],
            [
             0.3,
             "#f1b6da"
            ],
            [
             0.4,
             "#fde0ef"
            ],
            [
             0.5,
             "#f7f7f7"
            ],
            [
             0.6,
             "#e6f5d0"
            ],
            [
             0.7,
             "#b8e186"
            ],
            [
             0.8,
             "#7fbc41"
            ],
            [
             0.9,
             "#4d9221"
            ],
            [
             1,
             "#276419"
            ]
           ],
           "sequential": [
            [
             0,
             "#0d0887"
            ],
            [
             0.1111111111111111,
             "#46039f"
            ],
            [
             0.2222222222222222,
             "#7201a8"
            ],
            [
             0.3333333333333333,
             "#9c179e"
            ],
            [
             0.4444444444444444,
             "#bd3786"
            ],
            [
             0.5555555555555556,
             "#d8576b"
            ],
            [
             0.6666666666666666,
             "#ed7953"
            ],
            [
             0.7777777777777778,
             "#fb9f3a"
            ],
            [
             0.8888888888888888,
             "#fdca26"
            ],
            [
             1,
             "#f0f921"
            ]
           ],
           "sequentialminus": [
            [
             0,
             "#0d0887"
            ],
            [
             0.1111111111111111,
             "#46039f"
            ],
            [
             0.2222222222222222,
             "#7201a8"
            ],
            [
             0.3333333333333333,
             "#9c179e"
            ],
            [
             0.4444444444444444,
             "#bd3786"
            ],
            [
             0.5555555555555556,
             "#d8576b"
            ],
            [
             0.6666666666666666,
             "#ed7953"
            ],
            [
             0.7777777777777778,
             "#fb9f3a"
            ],
            [
             0.8888888888888888,
             "#fdca26"
            ],
            [
             1,
             "#f0f921"
            ]
           ]
          },
          "colorway": [
           "#636efa",
           "#EF553B",
           "#00cc96",
           "#ab63fa",
           "#FFA15A",
           "#19d3f3",
           "#FF6692",
           "#B6E880",
           "#FF97FF",
           "#FECB52"
          ],
          "font": {
           "color": "#2a3f5f"
          },
          "geo": {
           "bgcolor": "white",
           "lakecolor": "white",
           "landcolor": "#E5ECF6",
           "showlakes": true,
           "showland": true,
           "subunitcolor": "white"
          },
          "hoverlabel": {
           "align": "left"
          },
          "hovermode": "closest",
          "mapbox": {
           "style": "light"
          },
          "paper_bgcolor": "white",
          "plot_bgcolor": "#E5ECF6",
          "polar": {
           "angularaxis": {
            "gridcolor": "white",
            "linecolor": "white",
            "ticks": ""
           },
           "bgcolor": "#E5ECF6",
           "radialaxis": {
            "gridcolor": "white",
            "linecolor": "white",
            "ticks": ""
           }
          },
          "scene": {
           "xaxis": {
            "backgroundcolor": "#E5ECF6",
            "gridcolor": "white",
            "gridwidth": 2,
            "linecolor": "white",
            "showbackground": true,
            "ticks": "",
            "zerolinecolor": "white"
           },
           "yaxis": {
            "backgroundcolor": "#E5ECF6",
            "gridcolor": "white",
            "gridwidth": 2,
            "linecolor": "white",
            "showbackground": true,
            "ticks": "",
            "zerolinecolor": "white"
           },
           "zaxis": {
            "backgroundcolor": "#E5ECF6",
            "gridcolor": "white",
            "gridwidth": 2,
            "linecolor": "white",
            "showbackground": true,
            "ticks": "",
            "zerolinecolor": "white"
           }
          },
          "shapedefaults": {
           "line": {
            "color": "#2a3f5f"
           }
          },
          "ternary": {
           "aaxis": {
            "gridcolor": "white",
            "linecolor": "white",
            "ticks": ""
           },
           "baxis": {
            "gridcolor": "white",
            "linecolor": "white",
            "ticks": ""
           },
           "bgcolor": "#E5ECF6",
           "caxis": {
            "gridcolor": "white",
            "linecolor": "white",
            "ticks": ""
           }
          },
          "title": {
           "x": 0.05
          },
          "xaxis": {
           "automargin": true,
           "gridcolor": "white",
           "linecolor": "white",
           "ticks": "",
           "title": {
            "standoff": 15
           },
           "zerolinecolor": "white",
           "zerolinewidth": 2
          },
          "yaxis": {
           "automargin": true,
           "gridcolor": "white",
           "linecolor": "white",
           "ticks": "",
           "title": {
            "standoff": 15
           },
           "zerolinecolor": "white",
           "zerolinewidth": 2
          }
         }
        },
        "width": 400,
        "xaxis": {
         "anchor": "y",
         "domain": [
          0,
          0.98
         ],
         "range": [
          -150,
          150
         ],
         "title": {
          "text": "x"
         }
        },
        "xaxis2": {
         "anchor": "y2",
         "domain": [
          0,
          0.98
         ],
         "matches": "x",
         "showticklabels": false
        },
        "xaxis3": {
         "anchor": "y3",
         "domain": [
          0,
          0.98
         ],
         "matches": "x",
         "showticklabels": false
        },
        "yaxis": {
         "anchor": "x",
         "domain": [
          0,
          0.3133333333333333
         ],
         "range": [
          -150,
          150
         ],
         "title": {
          "text": "y"
         }
        },
        "yaxis2": {
         "anchor": "x2",
         "domain": [
          0.34333333333333327,
          0.6566666666666665
         ],
         "matches": "y",
         "range": [
          -150,
          150
         ],
         "title": {
          "text": "y"
         }
        },
        "yaxis3": {
         "anchor": "x3",
         "domain": [
          0.6866666666666665,
          0.9999999999999998
         ],
         "matches": "y",
         "range": [
          -150,
          150
         ],
         "title": {
          "text": "y"
         }
        }
       }
      },
      "text/html": [
       "<div>                        <script type=\"text/javascript\">window.PlotlyConfig = {MathJaxConfig: 'local'};</script>\n",
       "        <script charset=\"utf-8\" src=\"https://cdn.plot.ly/plotly-3.0.1.min.js\" integrity=\"sha256-oy6Be7Eh6eiQFs5M7oXuPxxm9qbJXEtTpfSI93dW16Q=\" crossorigin=\"anonymous\"></script>                <div id=\"9667ca49-2532-44a5-982b-a2f4afff82f4\" class=\"plotly-graph-div\" style=\"height:1000px; width:400px;\"></div>            <script type=\"text/javascript\">                window.PLOTLYENV=window.PLOTLYENV || {};                                if (document.getElementById(\"9667ca49-2532-44a5-982b-a2f4afff82f4\")) {                    Plotly.newPlot(                        \"9667ca49-2532-44a5-982b-a2f4afff82f4\",                        [{\"hovertemplate\":\"bps=dorsal_1\\u003cbr\\u003ecluster=0\\u003cbr\\u003ex=%{x}\\u003cbr\\u003ey=%{y}\\u003cextra\\u003e\\u003c\\u002fextra\\u003e\",\"legendgroup\":\"dorsal_1\",\"marker\":{\"color\":\"#636efa\",\"symbol\":\"circle\",\"size\":5},\"mode\":\"markers\",\"name\":\"dorsal_1\",\"orientation\":\"v\",\"showlegend\":true,\"x\":{\"dtype\":\"f8\",\"bdata\":\"y7Isy7IsF0A=\"},\"xaxis\":\"x3\",\"y\":{\"dtype\":\"f8\",\"bdata\":\"x3Ecx3EcK0A=\"},\"yaxis\":\"y3\",\"type\":\"scatter\"},{\"hovertemplate\":\"bps=dorsal_1\\u003cbr\\u003ecluster=1\\u003cbr\\u003ex=%{x}\\u003cbr\\u003ey=%{y}\\u003cextra\\u003e\\u003c\\u002fextra\\u003e\",\"legendgroup\":\"dorsal_1\",\"marker\":{\"color\":\"#636efa\",\"symbol\":\"circle\",\"size\":5},\"mode\":\"markers\",\"name\":\"dorsal_1\",\"orientation\":\"v\",\"showlegend\":false,\"x\":{\"dtype\":\"f8\",\"bdata\":\"X2uO\\u002f8ANAcA=\"},\"xaxis\":\"x2\",\"y\":{\"dtype\":\"f8\",\"bdata\":\"kjZFZJ7bL0A=\"},\"yaxis\":\"y2\",\"type\":\"scatter\"},{\"hovertemplate\":\"bps=dorsal_1\\u003cbr\\u003ecluster=2\\u003cbr\\u003ex=%{x}\\u003cbr\\u003ey=%{y}\\u003cextra\\u003e\\u003c\\u002fextra\\u003e\",\"legendgroup\":\"dorsal_1\",\"marker\":{\"color\":\"#636efa\",\"symbol\":\"circle\",\"size\":5},\"mode\":\"markers\",\"name\":\"dorsal_1\",\"orientation\":\"v\",\"showlegend\":false,\"x\":{\"dtype\":\"f8\",\"bdata\":\"Gc1lNJfRJMA=\"},\"xaxis\":\"x\",\"y\":{\"dtype\":\"f8\",\"bdata\":\"EN9BfAfxnb8=\"},\"yaxis\":\"y\",\"type\":\"scatter\"},{\"hovertemplate\":\"bps=dorsal_2\\u003cbr\\u003ecluster=0\\u003cbr\\u003ex=%{x}\\u003cbr\\u003ey=%{y}\\u003cextra\\u003e\\u003c\\u002fextra\\u003e\",\"legendgroup\":\"dorsal_2\",\"marker\":{\"color\":\"#EF553B\",\"symbol\":\"circle\",\"size\":5},\"mode\":\"markers\",\"name\":\"dorsal_2\",\"orientation\":\"v\",\"showlegend\":true,\"x\":{\"dtype\":\"f8\",\"bdata\":\"Pc\\u002fzPM\\u002fz\\u002fD8=\"},\"xaxis\":\"x3\",\"y\":{\"dtype\":\"f8\",\"bdata\":\"TdM0TdO0LcA=\"},\"yaxis\":\"y3\",\"type\":\"scatter\"},{\"hovertemplate\":\"bps=dorsal_2\\u003cbr\\u003ecluster=1\\u003cbr\\u003ex=%{x}\\u003cbr\\u003ey=%{y}\\u003cextra\\u003e\\u003c\\u002fextra\\u003e\",\"legendgroup\":\"dorsal_2\",\"marker\":{\"color\":\"#EF553B\",\"symbol\":\"circle\",\"size\":5},\"mode\":\"markers\",\"name\":\"dorsal_2\",\"orientation\":\"v\",\"showlegend\":false,\"x\":{\"dtype\":\"f8\",\"bdata\":\"k7QpIvPc\\u002fr8=\"},\"xaxis\":\"x2\",\"y\":{\"dtype\":\"f8\",\"bdata\":\"N0VkntvRLcA=\"},\"yaxis\":\"y2\",\"type\":\"scatter\"},{\"hovertemplate\":\"bps=dorsal_2\\u003cbr\\u003ecluster=2\\u003cbr\\u003ex=%{x}\\u003cbr\\u003ey=%{y}\\u003cextra\\u003e\\u003c\\u002fextra\\u003e\",\"legendgroup\":\"dorsal_2\",\"marker\":{\"color\":\"#EF553B\",\"symbol\":\"circle\",\"size\":5},\"mode\":\"markers\",\"name\":\"dorsal_2\",\"orientation\":\"v\",\"showlegend\":false,\"x\":{\"dtype\":\"f8\",\"bdata\":\"V1JbSW0lEcA=\"},\"xaxis\":\"x\",\"y\":{\"dtype\":\"f8\",\"bdata\":\"WE9hPYX1NMA=\"},\"yaxis\":\"y\",\"type\":\"scatter\"},{\"hovertemplate\":\"bps=dorsal_3\\u003cbr\\u003ecluster=0\\u003cbr\\u003ex=%{x}\\u003cbr\\u003ey=%{y}\\u003cextra\\u003e\\u003c\\u002fextra\\u003e\",\"legendgroup\":\"dorsal_3\",\"marker\":{\"color\":\"#00cc96\",\"symbol\":\"circle\",\"size\":5},\"mode\":\"markers\",\"name\":\"dorsal_3\",\"orientation\":\"v\",\"showlegend\":true,\"x\":{\"dtype\":\"f8\",\"bdata\":\"KYqiKIqiEcA=\"},\"xaxis\":\"x3\",\"y\":{\"dtype\":\"f8\",\"bdata\":\"u67ruq4LRsA=\"},\"yaxis\":\"y3\",\"type\":\"scatter\"},{\"hovertemplate\":\"bps=dorsal_3\\u003cbr\\u003ecluster=1\\u003cbr\\u003ex=%{x}\\u003cbr\\u003ey=%{y}\\u003cextra\\u003e\\u003c\\u002fextra\\u003e\",\"legendgroup\":\"dorsal_3\",\"marker\":{\"color\":\"#00cc96\",\"symbol\":\"circle\",\"size\":5},\"mode\":\"markers\",\"name\":\"dorsal_3\",\"orientation\":\"v\",\"showlegend\":false,\"x\":{\"dtype\":\"f8\",\"bdata\":\"8eDFwglq4T8=\"},\"xaxis\":\"x2\",\"y\":{\"dtype\":\"f8\",\"bdata\":\"bsm6m2GkR8A=\"},\"yaxis\":\"y2\",\"type\":\"scatter\"},{\"hovertemplate\":\"bps=dorsal_3\\u003cbr\\u003ecluster=2\\u003cbr\\u003ex=%{x}\\u003cbr\\u003ey=%{y}\\u003cextra\\u003e\\u003c\\u002fextra\\u003e\",\"legendgroup\":\"dorsal_3\",\"marker\":{\"color\":\"#00cc96\",\"symbol\":\"circle\",\"size\":5},\"mode\":\"markers\",\"name\":\"dorsal_3\",\"orientation\":\"v\",\"showlegend\":false,\"x\":{\"dtype\":\"f8\",\"bdata\":\"H8F9BPcRHEA=\"},\"xaxis\":\"x\",\"y\":{\"dtype\":\"f8\",\"bdata\":\"oryG8hrKQ8A=\"},\"yaxis\":\"y\",\"type\":\"scatter\"},{\"hovertemplate\":\"bps=dorsal_4\\u003cbr\\u003ecluster=0\\u003cbr\\u003ex=%{x}\\u003cbr\\u003ey=%{y}\\u003cextra\\u003e\\u003c\\u002fextra\\u003e\",\"legendgroup\":\"dorsal_4\",\"marker\":{\"color\":\"#ab63fa\",\"symbol\":\"circle\",\"size\":5},\"mode\":\"markers\",\"name\":\"dorsal_4\",\"orientation\":\"v\",\"showlegend\":true,\"x\":{\"dtype\":\"f8\",\"bdata\":\"YhiGYRiGKMA=\"},\"xaxis\":\"x3\",\"y\":{\"dtype\":\"f8\",\"bdata\":\"ft\\u002f3fd8nUsA=\"},\"yaxis\":\"y3\",\"type\":\"scatter\"},{\"hovertemplate\":\"bps=dorsal_4\\u003cbr\\u003ecluster=1\\u003cbr\\u003ex=%{x}\\u003cbr\\u003ey=%{y}\\u003cextra\\u003e\\u003c\\u002fextra\\u003e\",\"legendgroup\":\"dorsal_4\",\"marker\":{\"color\":\"#ab63fa\",\"symbol\":\"circle\",\"size\":5},\"mode\":\"markers\",\"name\":\"dorsal_4\",\"orientation\":\"v\",\"showlegend\":false,\"x\":{\"dtype\":\"f8\",\"bdata\":\"vdYc\\u002f4EbEkA=\"},\"xaxis\":\"x2\",\"y\":{\"dtype\":\"f8\",\"bdata\":\"DGaapE2RU8A=\"},\"yaxis\":\"y2\",\"type\":\"scatter\"},{\"hovertemplate\":\"bps=dorsal_4\\u003cbr\\u003ecluster=2\\u003cbr\\u003ex=%{x}\\u003cbr\\u003ey=%{y}\\u003cextra\\u003e\\u003c\\u002fextra\\u003e\",\"legendgroup\":\"dorsal_4\",\"marker\":{\"color\":\"#ab63fa\",\"symbol\":\"circle\",\"size\":5},\"mode\":\"markers\",\"name\":\"dorsal_4\",\"orientation\":\"v\",\"showlegend\":false,\"x\":{\"dtype\":\"f8\",\"bdata\":\"cxnNZTSXNEA=\"},\"xaxis\":\"x\",\"y\":{\"dtype\":\"f8\",\"bdata\":\"xHcQ30H8S8A=\"},\"yaxis\":\"y\",\"type\":\"scatter\"},{\"hovertemplate\":\"bps=eye_left\\u003cbr\\u003ecluster=0\\u003cbr\\u003ex=%{x}\\u003cbr\\u003ey=%{y}\\u003cextra\\u003e\\u003c\\u002fextra\\u003e\",\"legendgroup\":\"eye_left\",\"marker\":{\"color\":\"#FFA15A\",\"symbol\":\"circle\",\"size\":5},\"mode\":\"markers\",\"name\":\"eye_left\",\"orientation\":\"v\",\"showlegend\":true,\"x\":{\"dtype\":\"f8\",\"bdata\":\"mqZpmqZpE8A=\"},\"xaxis\":\"x3\",\"y\":{\"dtype\":\"f8\",\"bdata\":\"LcuyLMsSTEA=\"},\"yaxis\":\"y3\",\"type\":\"scatter\"},{\"hovertemplate\":\"bps=eye_left\\u003cbr\\u003ecluster=1\\u003cbr\\u003ex=%{x}\\u003cbr\\u003ey=%{y}\\u003cextra\\u003e\\u003c\\u002fextra\\u003e\",\"legendgroup\":\"eye_left\",\"marker\":{\"color\":\"#FFA15A\",\"symbol\":\"circle\",\"size\":5},\"mode\":\"markers\",\"name\":\"eye_left\",\"orientation\":\"v\",\"showlegend\":false,\"x\":{\"dtype\":\"f8\",\"bdata\":\"FFKHD50eJ8A=\"},\"xaxis\":\"x2\",\"y\":{\"dtype\":\"f8\",\"bdata\":\"+NDpsa\\u002f0T0A=\"},\"yaxis\":\"y2\",\"type\":\"scatter\"},{\"hovertemplate\":\"bps=eye_left\\u003cbr\\u003ecluster=2\\u003cbr\\u003ex=%{x}\\u003cbr\\u003ey=%{y}\\u003cextra\\u003e\\u003c\\u002fextra\\u003e\",\"legendgroup\":\"eye_left\",\"marker\":{\"color\":\"#FFA15A\",\"symbol\":\"circle\",\"size\":5},\"mode\":\"markers\",\"name\":\"eye_left\",\"orientation\":\"v\",\"showlegend\":false,\"x\":{\"dtype\":\"f8\",\"bdata\":\"E9lNZDeRL8A=\"},\"xaxis\":\"x\",\"y\":{\"dtype\":\"f8\",\"bdata\":\"u4nsJrKbSkA=\"},\"yaxis\":\"y\",\"type\":\"scatter\"},{\"hovertemplate\":\"bps=eye_right\\u003cbr\\u003ecluster=0\\u003cbr\\u003ex=%{x}\\u003cbr\\u003ey=%{y}\\u003cextra\\u003e\\u003c\\u002fextra\\u003e\",\"legendgroup\":\"eye_right\",\"marker\":{\"color\":\"#19d3f3\",\"symbol\":\"circle\",\"size\":5},\"mode\":\"markers\",\"name\":\"eye_right\",\"orientation\":\"v\",\"showlegend\":true,\"x\":{\"dtype\":\"f8\",\"bdata\":\"hmEYhmEYL0A=\"},\"xaxis\":\"x3\",\"y\":{\"dtype\":\"f8\",\"bdata\":\"5DiO4zgOTEA=\"},\"yaxis\":\"y3\",\"type\":\"scatter\"},{\"hovertemplate\":\"bps=eye_right\\u003cbr\\u003ecluster=1\\u003cbr\\u003ex=%{x}\\u003cbr\\u003ey=%{y}\\u003cextra\\u003e\\u003c\\u002fextra\\u003e\",\"legendgroup\":\"eye_right\",\"marker\":{\"color\":\"#19d3f3\",\"symbol\":\"circle\",\"size\":5},\"mode\":\"markers\",\"name\":\"eye_right\",\"orientation\":\"v\",\"showlegend\":false,\"x\":{\"dtype\":\"f8\",\"bdata\":\"6TPLtmTdJUA=\"},\"xaxis\":\"x2\",\"y\":{\"dtype\":\"f8\",\"bdata\":\"J6hFo5C6T0A=\"},\"yaxis\":\"y2\",\"type\":\"scatter\"},{\"hovertemplate\":\"bps=eye_right\\u003cbr\\u003ecluster=2\\u003cbr\\u003ex=%{x}\\u003cbr\\u003ey=%{y}\\u003cextra\\u003e\\u003c\\u002fextra\\u003e\",\"legendgroup\":\"eye_right\",\"marker\":{\"color\":\"#19d3f3\",\"symbol\":\"circle\",\"size\":5},\"mode\":\"markers\",\"name\":\"eye_right\",\"orientation\":\"v\",\"showlegend\":false,\"x\":{\"dtype\":\"f8\",\"bdata\":\"iuwmspvIHkA=\"},\"xaxis\":\"x\",\"y\":{\"dtype\":\"f8\",\"bdata\":\"W0ltJbUVSUA=\"},\"yaxis\":\"y\",\"type\":\"scatter\"},{\"hovertemplate\":\"bps=head_centre\\u003cbr\\u003ecluster=0\\u003cbr\\u003ex=%{x}\\u003cbr\\u003ey=%{y}\\u003cextra\\u003e\\u003c\\u002fextra\\u003e\",\"legendgroup\":\"head_centre\",\"marker\":{\"color\":\"#FF6692\",\"symbol\":\"circle\",\"size\":5},\"mode\":\"markers\",\"name\":\"head_centre\",\"orientation\":\"v\",\"showlegend\":true,\"x\":{\"dtype\":\"f8\",\"bdata\":\"z\\u002fM8z\\u002fM8HUA=\"},\"xaxis\":\"x3\",\"y\":{\"dtype\":\"f8\",\"bdata\":\"\\u002fL7v+74PQ0A=\"},\"yaxis\":\"y3\",\"type\":\"scatter\"},{\"hovertemplate\":\"bps=head_centre\\u003cbr\\u003ecluster=1\\u003cbr\\u003ex=%{x}\\u003cbr\\u003ey=%{y}\\u003cextra\\u003e\\u003c\\u002fextra\\u003e\",\"legendgroup\":\"head_centre\",\"marker\":{\"color\":\"#FF6692\",\"symbol\":\"circle\",\"size\":5},\"mode\":\"markers\",\"name\":\"head_centre\",\"orientation\":\"v\",\"showlegend\":false,\"x\":{\"dtype\":\"f8\",\"bdata\":\"PHixcIJa9L8=\"},\"xaxis\":\"x2\",\"y\":{\"dtype\":\"f8\",\"bdata\":\"5Ts5vxHYREA=\"},\"yaxis\":\"y2\",\"type\":\"scatter\"},{\"hovertemplate\":\"bps=head_centre\\u003cbr\\u003ecluster=2\\u003cbr\\u003ex=%{x}\\u003cbr\\u003ey=%{y}\\u003cextra\\u003e\\u003c\\u002fextra\\u003e\",\"legendgroup\":\"head_centre\",\"marker\":{\"color\":\"#FF6692\",\"symbol\":\"circle\",\"size\":5},\"mode\":\"markers\",\"name\":\"head_centre\",\"orientation\":\"v\",\"showlegend\":false,\"x\":{\"dtype\":\"f8\",\"bdata\":\"D+I7iO8gIsA=\"},\"xaxis\":\"x\",\"y\":{\"dtype\":\"f8\",\"bdata\":\"jeYymstoNEA=\"},\"yaxis\":\"y\",\"type\":\"scatter\"},{\"hovertemplate\":\"bps=hip_left\\u003cbr\\u003ecluster=0\\u003cbr\\u003ex=%{x}\\u003cbr\\u003ey=%{y}\\u003cextra\\u003e\\u003c\\u002fextra\\u003e\",\"legendgroup\":\"hip_left\",\"marker\":{\"color\":\"#B6E880\",\"symbol\":\"circle\",\"size\":5},\"mode\":\"markers\",\"name\":\"hip_left\",\"orientation\":\"v\",\"showlegend\":true,\"x\":{\"dtype\":\"f8\",\"bdata\":\"MQzDMAxjSMA=\"},\"xaxis\":\"x3\",\"y\":{\"dtype\":\"f8\",\"bdata\":\"27Zt27btP8A=\"},\"yaxis\":\"y3\",\"type\":\"scatter\"},{\"hovertemplate\":\"bps=hip_left\\u003cbr\\u003ecluster=1\\u003cbr\\u003ex=%{x}\\u003cbr\\u003ey=%{y}\\u003cextra\\u003e\\u003c\\u002fextra\\u003e\",\"legendgroup\":\"hip_left\",\"marker\":{\"color\":\"#B6E880\",\"symbol\":\"circle\",\"size\":5},\"mode\":\"markers\",\"name\":\"hip_left\",\"orientation\":\"v\",\"showlegend\":false,\"x\":{\"dtype\":\"f8\",\"bdata\":\"kjZFZJ5bRMA=\"},\"xaxis\":\"x2\",\"y\":{\"dtype\":\"f8\",\"bdata\":\"6PTYV7pcTMA=\"},\"yaxis\":\"y2\",\"type\":\"scatter\"},{\"hovertemplate\":\"bps=hip_left\\u003cbr\\u003ecluster=2\\u003cbr\\u003ex=%{x}\\u003cbr\\u003ey=%{y}\\u003cextra\\u003e\\u003c\\u002fextra\\u003e\",\"legendgroup\":\"hip_left\",\"marker\":{\"color\":\"#B6E880\",\"symbol\":\"circle\",\"size\":5},\"mode\":\"markers\",\"name\":\"hip_left\",\"orientation\":\"v\",\"showlegend\":false,\"x\":{\"dtype\":\"f8\",\"bdata\":\"ZDeR3UR2McA=\"},\"xaxis\":\"x\",\"y\":{\"dtype\":\"f8\",\"bdata\":\"A\\u002foL6C8gS8A=\"},\"yaxis\":\"y\",\"type\":\"scatter\"},{\"hovertemplate\":\"bps=hip_right\\u003cbr\\u003ecluster=0\\u003cbr\\u003ex=%{x}\\u003cbr\\u003ey=%{y}\\u003cextra\\u003e\\u003c\\u002fextra\\u003e\",\"legendgroup\":\"hip_right\",\"marker\":{\"color\":\"#FF97FF\",\"symbol\":\"circle\",\"size\":5},\"mode\":\"markers\",\"name\":\"hip_right\",\"orientation\":\"v\",\"showlegend\":true,\"x\":{\"dtype\":\"f8\",\"bdata\":\"ft\\u002f3fd9XQUA=\"},\"xaxis\":\"x3\",\"y\":{\"dtype\":\"f8\",\"bdata\":\"x3Ecx3H8SsA=\"},\"yaxis\":\"y3\",\"type\":\"scatter\"},{\"hovertemplate\":\"bps=hip_right\\u003cbr\\u003ecluster=1\\u003cbr\\u003ex=%{x}\\u003cbr\\u003ey=%{y}\\u003cextra\\u003e\\u003c\\u002fextra\\u003e\",\"legendgroup\":\"hip_right\",\"marker\":{\"color\":\"#FF97FF\",\"symbol\":\"circle\",\"size\":5},\"mode\":\"markers\",\"name\":\"hip_right\",\"orientation\":\"v\",\"showlegend\":false,\"x\":{\"dtype\":\"f8\",\"bdata\":\"uCG06i+URUA=\"},\"xaxis\":\"x2\",\"y\":{\"dtype\":\"f8\",\"bdata\":\"RqOQOnzoRsA=\"},\"yaxis\":\"y2\",\"type\":\"scatter\"},{\"hovertemplate\":\"bps=hip_right\\u003cbr\\u003ecluster=2\\u003cbr\\u003ex=%{x}\\u003cbr\\u003ey=%{y}\\u003cextra\\u003e\\u003c\\u002fextra\\u003e\",\"legendgroup\":\"hip_right\",\"marker\":{\"color\":\"#FF97FF\",\"symbol\":\"circle\",\"size\":5},\"mode\":\"markers\",\"name\":\"hip_right\",\"orientation\":\"v\",\"showlegend\":false,\"x\":{\"dtype\":\"f8\",\"bdata\":\"fwH9BfSXQ0A=\"},\"xaxis\":\"x\",\"y\":{\"dtype\":\"f8\",\"bdata\":\"M5rLaC6jMMA=\"},\"yaxis\":\"y\",\"type\":\"scatter\"},{\"hovertemplate\":\"bps=lateral_left\\u003cbr\\u003ecluster=0\\u003cbr\\u003ex=%{x}\\u003cbr\\u003ey=%{y}\\u003cextra\\u003e\\u003c\\u002fextra\\u003e\",\"legendgroup\":\"lateral_left\",\"marker\":{\"color\":\"#FECB52\",\"symbol\":\"circle\",\"size\":5},\"mode\":\"markers\",\"name\":\"lateral_left\",\"orientation\":\"v\",\"showlegend\":true,\"x\":{\"dtype\":\"f8\",\"bdata\":\"z\\u002fM8z\\u002fOcQcA=\"},\"xaxis\":\"x3\",\"y\":{\"dtype\":\"f8\",\"bdata\":\"AAAAAAAAEsA=\"},\"yaxis\":\"y3\",\"type\":\"scatter\"},{\"hovertemplate\":\"bps=lateral_left\\u003cbr\\u003ecluster=1\\u003cbr\\u003ex=%{x}\\u003cbr\\u003ey=%{y}\\u003cextra\\u003e\\u003c\\u002fextra\\u003e\",\"legendgroup\":\"lateral_left\",\"marker\":{\"color\":\"#FECB52\",\"symbol\":\"circle\",\"size\":5},\"mode\":\"markers\",\"name\":\"lateral_left\",\"orientation\":\"v\",\"showlegend\":false,\"x\":{\"dtype\":\"f8\",\"bdata\":\"CqnDh06PQsA=\"},\"xaxis\":\"x2\",\"y\":{\"dtype\":\"f8\",\"bdata\":\"g9gYyP3EMMA=\"},\"yaxis\":\"y2\",\"type\":\"scatter\"},{\"hovertemplate\":\"bps=lateral_left\\u003cbr\\u003ecluster=2\\u003cbr\\u003ex=%{x}\\u003cbr\\u003ey=%{y}\\u003cextra\\u003e\\u003c\\u002fextra\\u003e\",\"legendgroup\":\"lateral_left\",\"marker\":{\"color\":\"#FECB52\",\"symbol\":\"circle\",\"size\":5},\"mode\":\"markers\",\"name\":\"lateral_left\",\"orientation\":\"v\",\"showlegend\":false,\"x\":{\"dtype\":\"f8\",\"bdata\":\"voP4DuI7Q8A=\"},\"xaxis\":\"x\",\"y\":{\"dtype\":\"f8\",\"bdata\":\"uI\\u002fgPoL7M8A=\"},\"yaxis\":\"y\",\"type\":\"scatter\"},{\"hovertemplate\":\"bps=lateral_right\\u003cbr\\u003ecluster=0\\u003cbr\\u003ex=%{x}\\u003cbr\\u003ey=%{y}\\u003cextra\\u003e\\u003c\\u002fextra\\u003e\",\"legendgroup\":\"lateral_right\",\"marker\":{\"color\":\"#636efa\",\"symbol\":\"circle\",\"size\":5},\"mode\":\"markers\",\"name\":\"lateral_right\",\"orientation\":\"v\",\"showlegend\":true,\"x\":{\"dtype\":\"f8\",\"bdata\":\"CIIgCIIgQkA=\"},\"xaxis\":\"x3\",\"y\":{\"dtype\":\"f8\",\"bdata\":\"juM4juO4M8A=\"},\"yaxis\":\"y3\",\"type\":\"scatter\"},{\"hovertemplate\":\"bps=lateral_right\\u003cbr\\u003ecluster=1\\u003cbr\\u003ex=%{x}\\u003cbr\\u003ey=%{y}\\u003cextra\\u003e\\u003c\\u002fextra\\u003e\",\"legendgroup\":\"lateral_right\",\"marker\":{\"color\":\"#636efa\",\"symbol\":\"circle\",\"size\":5},\"mode\":\"markers\",\"name\":\"lateral_right\",\"orientation\":\"v\",\"showlegend\":false,\"x\":{\"dtype\":\"f8\",\"bdata\":\"O3zo9NhXQEA=\"},\"xaxis\":\"x2\",\"y\":{\"dtype\":\"f8\",\"bdata\":\"Fg9eLJygKsA=\"},\"yaxis\":\"y2\",\"type\":\"scatter\"},{\"hovertemplate\":\"bps=lateral_right\\u003cbr\\u003ecluster=2\\u003cbr\\u003ex=%{x}\\u003cbr\\u003ey=%{y}\\u003cextra\\u003e\\u003c\\u002fextra\\u003e\",\"legendgroup\":\"lateral_right\",\"marker\":{\"color\":\"#636efa\",\"symbol\":\"circle\",\"size\":5},\"mode\":\"markers\",\"name\":\"lateral_right\",\"orientation\":\"v\",\"showlegend\":false,\"x\":{\"dtype\":\"f8\",\"bdata\":\"W0ltJbWVOEA=\"},\"xaxis\":\"x\",\"y\":{\"dtype\":\"f8\",\"bdata\":\"W0ltJbWV9L8=\"},\"yaxis\":\"y\",\"type\":\"scatter\"},{\"hovertemplate\":\"bps=left_ear\\u003cbr\\u003ecluster=0\\u003cbr\\u003ex=%{x}\\u003cbr\\u003ey=%{y}\\u003cextra\\u003e\\u003c\\u002fextra\\u003e\",\"legendgroup\":\"left_ear\",\"marker\":{\"color\":\"#EF553B\",\"symbol\":\"circle\",\"size\":5},\"mode\":\"markers\",\"name\":\"left_ear\",\"orientation\":\"v\",\"showlegend\":true,\"x\":{\"dtype\":\"f8\",\"bdata\":\"kiRJkiRJEMA=\"},\"xaxis\":\"x3\",\"y\":{\"dtype\":\"f8\",\"bdata\":\"27Zt27ZtQ0A=\"},\"yaxis\":\"y3\",\"type\":\"scatter\"},{\"hovertemplate\":\"bps=left_ear\\u003cbr\\u003ecluster=1\\u003cbr\\u003ex=%{x}\\u003cbr\\u003ey=%{y}\\u003cextra\\u003e\\u003c\\u002fextra\\u003e\",\"legendgroup\":\"left_ear\",\"marker\":{\"color\":\"#EF553B\",\"symbol\":\"circle\",\"size\":5},\"mode\":\"markers\",\"name\":\"left_ear\",\"orientation\":\"v\",\"showlegend\":false,\"x\":{\"dtype\":\"f8\",\"bdata\":\"Hn1m2ZasKcA=\"},\"xaxis\":\"x2\",\"y\":{\"dtype\":\"f8\",\"bdata\":\"Vzx4sXACRUA=\"},\"yaxis\":\"y2\",\"type\":\"scatter\"},{\"hovertemplate\":\"bps=left_ear\\u003cbr\\u003ecluster=2\\u003cbr\\u003ex=%{x}\\u003cbr\\u003ey=%{y}\\u003cextra\\u003e\\u003c\\u002fextra\\u003e\",\"legendgroup\":\"left_ear\",\"marker\":{\"color\":\"#EF553B\",\"symbol\":\"circle\",\"size\":5},\"mode\":\"markers\",\"name\":\"left_ear\",\"orientation\":\"v\",\"showlegend\":false,\"x\":{\"dtype\":\"f8\",\"bdata\":\"9BfQX0B\\u002fNcA=\"},\"xaxis\":\"x\",\"y\":{\"dtype\":\"f8\",\"bdata\":\"3EdwH8F9NkA=\"},\"yaxis\":\"y\",\"type\":\"scatter\"},{\"hovertemplate\":\"bps=nose\\u003cbr\\u003ecluster=0\\u003cbr\\u003ex=%{x}\\u003cbr\\u003ey=%{y}\\u003cextra\\u003e\\u003c\\u002fextra\\u003e\",\"legendgroup\":\"nose\",\"marker\":{\"color\":\"#00cc96\",\"symbol\":\"circle\",\"size\":5},\"mode\":\"markers\",\"name\":\"nose\",\"orientation\":\"v\",\"showlegend\":true,\"x\":{\"dtype\":\"f8\",\"bdata\":\"AAAAAAAAAAA=\"},\"xaxis\":\"x3\",\"y\":{\"dtype\":\"f8\",\"bdata\":\"oyiKoiiqUEA=\"},\"yaxis\":\"y3\",\"type\":\"scatter\"},{\"hovertemplate\":\"bps=nose\\u003cbr\\u003ecluster=1\\u003cbr\\u003ex=%{x}\\u003cbr\\u003ey=%{y}\\u003cextra\\u003e\\u003c\\u002fextra\\u003e\",\"legendgroup\":\"nose\",\"marker\":{\"color\":\"#00cc96\",\"symbol\":\"circle\",\"size\":5},\"mode\":\"markers\",\"name\":\"nose\",\"orientation\":\"v\",\"showlegend\":false,\"x\":{\"dtype\":\"f8\",\"bdata\":\"AAAAAAAAAAA=\"},\"xaxis\":\"x2\",\"y\":{\"dtype\":\"f8\",\"bdata\":\"9BuBnV0tU0A=\"},\"yaxis\":\"y2\",\"type\":\"scatter\"},{\"hovertemplate\":\"bps=nose\\u003cbr\\u003ecluster=2\\u003cbr\\u003ex=%{x}\\u003cbr\\u003ey=%{y}\\u003cextra\\u003e\\u003c\\u002fextra\\u003e\",\"legendgroup\":\"nose\",\"marker\":{\"color\":\"#00cc96\",\"symbol\":\"circle\",\"size\":5},\"mode\":\"markers\",\"name\":\"nose\",\"orientation\":\"v\",\"showlegend\":false,\"x\":{\"dtype\":\"f8\",\"bdata\":\"AAAAAAAAAAA=\"},\"xaxis\":\"x\",\"y\":{\"dtype\":\"f8\",\"bdata\":\"i+ksprNYUkA=\"},\"yaxis\":\"y\",\"type\":\"scatter\"},{\"hovertemplate\":\"bps=right_ear\\u003cbr\\u003ecluster=0\\u003cbr\\u003ex=%{x}\\u003cbr\\u003ey=%{y}\\u003cextra\\u003e\\u003c\\u002fextra\\u003e\",\"legendgroup\":\"right_ear\",\"marker\":{\"color\":\"#ab63fa\",\"symbol\":\"circle\",\"size\":5},\"mode\":\"markers\",\"name\":\"right_ear\",\"orientation\":\"v\",\"showlegend\":true,\"x\":{\"dtype\":\"f8\",\"bdata\":\"kiRJkiSJM0A=\"},\"xaxis\":\"x3\",\"y\":{\"dtype\":\"f8\",\"bdata\":\"HMdxHMdxQkA=\"},\"yaxis\":\"y3\",\"type\":\"scatter\"},{\"hovertemplate\":\"bps=right_ear\\u003cbr\\u003ecluster=1\\u003cbr\\u003ex=%{x}\\u003cbr\\u003ey=%{y}\\u003cextra\\u003e\\u003c\\u002fextra\\u003e\",\"legendgroup\":\"right_ear\",\"marker\":{\"color\":\"#ab63fa\",\"symbol\":\"circle\",\"size\":5},\"mode\":\"markers\",\"name\":\"right_ear\",\"orientation\":\"v\",\"showlegend\":false,\"x\":{\"dtype\":\"f8\",\"bdata\":\"vFg4QS0aJUA=\"},\"xaxis\":\"x2\",\"y\":{\"dtype\":\"f8\",\"bdata\":\"bM3xH7ihREA=\"},\"yaxis\":\"y2\",\"type\":\"scatter\"},{\"hovertemplate\":\"bps=right_ear\\u003cbr\\u003ecluster=2\\u003cbr\\u003ex=%{x}\\u003cbr\\u003ey=%{y}\\u003cextra\\u003e\\u003c\\u002fextra\\u003e\",\"legendgroup\":\"right_ear\",\"marker\":{\"color\":\"#ab63fa\",\"symbol\":\"circle\",\"size\":5},\"mode\":\"markers\",\"name\":\"right_ear\",\"orientation\":\"v\",\"showlegend\":false,\"x\":{\"dtype\":\"f8\",\"bdata\":\"RnMZzWU0D0A=\"},\"xaxis\":\"x\",\"y\":{\"dtype\":\"f8\",\"bdata\":\"r6G8hvIaM0A=\"},\"yaxis\":\"y\",\"type\":\"scatter\"},{\"hovertemplate\":\"bps=shoulder_left\\u003cbr\\u003ecluster=0\\u003cbr\\u003ex=%{x}\\u003cbr\\u003ey=%{y}\\u003cextra\\u003e\\u003c\\u002fextra\\u003e\",\"legendgroup\":\"shoulder_left\",\"marker\":{\"color\":\"#FFA15A\",\"symbol\":\"circle\",\"size\":5},\"mode\":\"markers\",\"name\":\"shoulder_left\",\"orientation\":\"v\",\"showlegend\":true,\"x\":{\"dtype\":\"f8\",\"bdata\":\"WZZlWZZlPMA=\"},\"xaxis\":\"x3\",\"y\":{\"dtype\":\"f8\",\"bdata\":\"BEEQBEEQNUA=\"},\"yaxis\":\"y3\",\"type\":\"scatter\"},{\"hovertemplate\":\"bps=shoulder_left\\u003cbr\\u003ecluster=1\\u003cbr\\u003ex=%{x}\\u003cbr\\u003ey=%{y}\\u003cextra\\u003e\\u003c\\u002fextra\\u003e\",\"legendgroup\":\"shoulder_left\",\"marker\":{\"color\":\"#FFA15A\",\"symbol\":\"circle\",\"size\":5},\"mode\":\"markers\",\"name\":\"shoulder_left\",\"orientation\":\"v\",\"showlegend\":false,\"x\":{\"dtype\":\"f8\",\"bdata\":\"M4zEBTNNQcA=\"},\"xaxis\":\"x2\",\"y\":{\"dtype\":\"f8\",\"bdata\":\"med29JllMUA=\"},\"yaxis\":\"y2\",\"type\":\"scatter\"},{\"hovertemplate\":\"bps=shoulder_left\\u003cbr\\u003ecluster=2\\u003cbr\\u003ex=%{x}\\u003cbr\\u003ey=%{y}\\u003cextra\\u003e\\u003c\\u002fextra\\u003e\",\"legendgroup\":\"shoulder_left\",\"marker\":{\"color\":\"#FFA15A\",\"symbol\":\"circle\",\"size\":5},\"mode\":\"markers\",\"name\":\"shoulder_left\",\"orientation\":\"v\",\"showlegend\":false,\"x\":{\"dtype\":\"f8\",\"bdata\":\"CusprKcwRcA=\"},\"xaxis\":\"x\",\"y\":{\"dtype\":\"f8\",\"bdata\":\"JbWV1FZSM0A=\"},\"yaxis\":\"y\",\"type\":\"scatter\"},{\"hovertemplate\":\"bps=shoulder_right\\u003cbr\\u003ecluster=0\\u003cbr\\u003ex=%{x}\\u003cbr\\u003ey=%{y}\\u003cextra\\u003e\\u003c\\u002fextra\\u003e\",\"legendgroup\":\"shoulder_right\",\"marker\":{\"color\":\"#19d3f3\",\"symbol\":\"circle\",\"size\":5},\"mode\":\"markers\",\"name\":\"shoulder_right\",\"orientation\":\"v\",\"showlegend\":true,\"x\":{\"dtype\":\"f8\",\"bdata\":\"Pc\\u002fzPM9TQkA=\"},\"xaxis\":\"x3\",\"y\":{\"dtype\":\"f8\",\"bdata\":\"EARBEARBKEA=\"},\"yaxis\":\"y3\",\"type\":\"scatter\"},{\"hovertemplate\":\"bps=shoulder_right\\u003cbr\\u003ecluster=1\\u003cbr\\u003ex=%{x}\\u003cbr\\u003ey=%{y}\\u003cextra\\u003e\\u003c\\u002fextra\\u003e\",\"legendgroup\":\"shoulder_right\",\"marker\":{\"color\":\"#19d3f3\",\"symbol\":\"circle\",\"size\":5},\"mode\":\"markers\",\"name\":\"shoulder_right\",\"orientation\":\"v\",\"showlegend\":false,\"x\":{\"dtype\":\"f8\",\"bdata\":\"zPVWPHixPkA=\"},\"xaxis\":\"x2\",\"y\":{\"dtype\":\"f8\",\"bdata\":\"FNSiUUgdMEA=\"},\"yaxis\":\"y2\",\"type\":\"scatter\"},{\"hovertemplate\":\"bps=shoulder_right\\u003cbr\\u003ecluster=2\\u003cbr\\u003ex=%{x}\\u003cbr\\u003ey=%{y}\\u003cextra\\u003e\\u003c\\u002fextra\\u003e\",\"legendgroup\":\"shoulder_right\",\"marker\":{\"color\":\"#19d3f3\",\"symbol\":\"circle\",\"size\":5},\"mode\":\"markers\",\"name\":\"shoulder_right\",\"orientation\":\"v\",\"showlegend\":false,\"x\":{\"dtype\":\"f8\",\"bdata\":\"t5LaSmorOEA=\"},\"xaxis\":\"x\",\"y\":{\"dtype\":\"f8\",\"bdata\":\"dRbTWUxnNkA=\"},\"yaxis\":\"y\",\"type\":\"scatter\"},{\"hovertemplate\":\"bps=tail_base\\u003cbr\\u003ecluster=0\\u003cbr\\u003ex=%{x}\\u003cbr\\u003ey=%{y}\\u003cextra\\u003e\\u003c\\u002fextra\\u003e\",\"legendgroup\":\"tail_base\",\"marker\":{\"color\":\"#FF6692\",\"symbol\":\"circle\",\"size\":5},\"mode\":\"markers\",\"name\":\"tail_base\",\"orientation\":\"v\",\"showlegend\":true,\"x\":{\"dtype\":\"f8\",\"bdata\":\"giAIgiCIM8A=\"},\"xaxis\":\"x3\",\"y\":{\"dtype\":\"f8\",\"bdata\":\"r+u6rut6WMA=\"},\"yaxis\":\"y3\",\"type\":\"scatter\"},{\"hovertemplate\":\"bps=tail_base\\u003cbr\\u003ecluster=1\\u003cbr\\u003ex=%{x}\\u003cbr\\u003ey=%{y}\\u003cextra\\u003e\\u003c\\u002fextra\\u003e\",\"legendgroup\":\"tail_base\",\"marker\":{\"color\":\"#FF6692\",\"symbol\":\"circle\",\"size\":5},\"mode\":\"markers\",\"name\":\"tail_base\",\"orientation\":\"v\",\"showlegend\":false,\"x\":{\"dtype\":\"f8\",\"bdata\":\"NYiNgdxPIkA=\"},\"xaxis\":\"x2\",\"y\":{\"dtype\":\"f8\",\"bdata\":\"5zcCO7taWsA=\"},\"yaxis\":\"y2\",\"type\":\"scatter\"},{\"hovertemplate\":\"bps=tail_base\\u003cbr\\u003ecluster=2\\u003cbr\\u003ex=%{x}\\u003cbr\\u003ey=%{y}\\u003cextra\\u003e\\u003c\\u002fextra\\u003e\",\"legendgroup\":\"tail_base\",\"marker\":{\"color\":\"#FF6692\",\"symbol\":\"circle\",\"size\":5},\"mode\":\"markers\",\"name\":\"tail_base\",\"orientation\":\"v\",\"showlegend\":false,\"x\":{\"dtype\":\"f8\",\"bdata\":\"k9pKaispQEA=\"},\"xaxis\":\"x\",\"y\":{\"dtype\":\"f8\",\"bdata\":\"z2I6i+nsUcA=\"},\"yaxis\":\"y\",\"type\":\"scatter\"}],                        {\"template\":{\"data\":{\"histogram2dcontour\":[{\"type\":\"histogram2dcontour\",\"colorbar\":{\"outlinewidth\":0,\"ticks\":\"\"},\"colorscale\":[[0.0,\"#0d0887\"],[0.1111111111111111,\"#46039f\"],[0.2222222222222222,\"#7201a8\"],[0.3333333333333333,\"#9c179e\"],[0.4444444444444444,\"#bd3786\"],[0.5555555555555556,\"#d8576b\"],[0.6666666666666666,\"#ed7953\"],[0.7777777777777778,\"#fb9f3a\"],[0.8888888888888888,\"#fdca26\"],[1.0,\"#f0f921\"]]}],\"choropleth\":[{\"type\":\"choropleth\",\"colorbar\":{\"outlinewidth\":0,\"ticks\":\"\"}}],\"histogram2d\":[{\"type\":\"histogram2d\",\"colorbar\":{\"outlinewidth\":0,\"ticks\":\"\"},\"colorscale\":[[0.0,\"#0d0887\"],[0.1111111111111111,\"#46039f\"],[0.2222222222222222,\"#7201a8\"],[0.3333333333333333,\"#9c179e\"],[0.4444444444444444,\"#bd3786\"],[0.5555555555555556,\"#d8576b\"],[0.6666666666666666,\"#ed7953\"],[0.7777777777777778,\"#fb9f3a\"],[0.8888888888888888,\"#fdca26\"],[1.0,\"#f0f921\"]]}],\"heatmap\":[{\"type\":\"heatmap\",\"colorbar\":{\"outlinewidth\":0,\"ticks\":\"\"},\"colorscale\":[[0.0,\"#0d0887\"],[0.1111111111111111,\"#46039f\"],[0.2222222222222222,\"#7201a8\"],[0.3333333333333333,\"#9c179e\"],[0.4444444444444444,\"#bd3786\"],[0.5555555555555556,\"#d8576b\"],[0.6666666666666666,\"#ed7953\"],[0.7777777777777778,\"#fb9f3a\"],[0.8888888888888888,\"#fdca26\"],[1.0,\"#f0f921\"]]}],\"contourcarpet\":[{\"type\":\"contourcarpet\",\"colorbar\":{\"outlinewidth\":0,\"ticks\":\"\"}}],\"contour\":[{\"type\":\"contour\",\"colorbar\":{\"outlinewidth\":0,\"ticks\":\"\"},\"colorscale\":[[0.0,\"#0d0887\"],[0.1111111111111111,\"#46039f\"],[0.2222222222222222,\"#7201a8\"],[0.3333333333333333,\"#9c179e\"],[0.4444444444444444,\"#bd3786\"],[0.5555555555555556,\"#d8576b\"],[0.6666666666666666,\"#ed7953\"],[0.7777777777777778,\"#fb9f3a\"],[0.8888888888888888,\"#fdca26\"],[1.0,\"#f0f921\"]]}],\"surface\":[{\"type\":\"surface\",\"colorbar\":{\"outlinewidth\":0,\"ticks\":\"\"},\"colorscale\":[[0.0,\"#0d0887\"],[0.1111111111111111,\"#46039f\"],[0.2222222222222222,\"#7201a8\"],[0.3333333333333333,\"#9c179e\"],[0.4444444444444444,\"#bd3786\"],[0.5555555555555556,\"#d8576b\"],[0.6666666666666666,\"#ed7953\"],[0.7777777777777778,\"#fb9f3a\"],[0.8888888888888888,\"#fdca26\"],[1.0,\"#f0f921\"]]}],\"mesh3d\":[{\"type\":\"mesh3d\",\"colorbar\":{\"outlinewidth\":0,\"ticks\":\"\"}}],\"scatter\":[{\"fillpattern\":{\"fillmode\":\"overlay\",\"size\":10,\"solidity\":0.2},\"type\":\"scatter\"}],\"parcoords\":[{\"type\":\"parcoords\",\"line\":{\"colorbar\":{\"outlinewidth\":0,\"ticks\":\"\"}}}],\"scatterpolargl\":[{\"type\":\"scatterpolargl\",\"marker\":{\"colorbar\":{\"outlinewidth\":0,\"ticks\":\"\"}}}],\"bar\":[{\"error_x\":{\"color\":\"#2a3f5f\"},\"error_y\":{\"color\":\"#2a3f5f\"},\"marker\":{\"line\":{\"color\":\"#E5ECF6\",\"width\":0.5},\"pattern\":{\"fillmode\":\"overlay\",\"size\":10,\"solidity\":0.2}},\"type\":\"bar\"}],\"scattergeo\":[{\"type\":\"scattergeo\",\"marker\":{\"colorbar\":{\"outlinewidth\":0,\"ticks\":\"\"}}}],\"scatterpolar\":[{\"type\":\"scatterpolar\",\"marker\":{\"colorbar\":{\"outlinewidth\":0,\"ticks\":\"\"}}}],\"histogram\":[{\"marker\":{\"pattern\":{\"fillmode\":\"overlay\",\"size\":10,\"solidity\":0.2}},\"type\":\"histogram\"}],\"scattergl\":[{\"type\":\"scattergl\",\"marker\":{\"colorbar\":{\"outlinewidth\":0,\"ticks\":\"\"}}}],\"scatter3d\":[{\"type\":\"scatter3d\",\"line\":{\"colorbar\":{\"outlinewidth\":0,\"ticks\":\"\"}},\"marker\":{\"colorbar\":{\"outlinewidth\":0,\"ticks\":\"\"}}}],\"scattermap\":[{\"type\":\"scattermap\",\"marker\":{\"colorbar\":{\"outlinewidth\":0,\"ticks\":\"\"}}}],\"scattermapbox\":[{\"type\":\"scattermapbox\",\"marker\":{\"colorbar\":{\"outlinewidth\":0,\"ticks\":\"\"}}}],\"scatterternary\":[{\"type\":\"scatterternary\",\"marker\":{\"colorbar\":{\"outlinewidth\":0,\"ticks\":\"\"}}}],\"scattercarpet\":[{\"type\":\"scattercarpet\",\"marker\":{\"colorbar\":{\"outlinewidth\":0,\"ticks\":\"\"}}}],\"carpet\":[{\"aaxis\":{\"endlinecolor\":\"#2a3f5f\",\"gridcolor\":\"white\",\"linecolor\":\"white\",\"minorgridcolor\":\"white\",\"startlinecolor\":\"#2a3f5f\"},\"baxis\":{\"endlinecolor\":\"#2a3f5f\",\"gridcolor\":\"white\",\"linecolor\":\"white\",\"minorgridcolor\":\"white\",\"startlinecolor\":\"#2a3f5f\"},\"type\":\"carpet\"}],\"table\":[{\"cells\":{\"fill\":{\"color\":\"#EBF0F8\"},\"line\":{\"color\":\"white\"}},\"header\":{\"fill\":{\"color\":\"#C8D4E3\"},\"line\":{\"color\":\"white\"}},\"type\":\"table\"}],\"barpolar\":[{\"marker\":{\"line\":{\"color\":\"#E5ECF6\",\"width\":0.5},\"pattern\":{\"fillmode\":\"overlay\",\"size\":10,\"solidity\":0.2}},\"type\":\"barpolar\"}],\"pie\":[{\"automargin\":true,\"type\":\"pie\"}]},\"layout\":{\"autotypenumbers\":\"strict\",\"colorway\":[\"#636efa\",\"#EF553B\",\"#00cc96\",\"#ab63fa\",\"#FFA15A\",\"#19d3f3\",\"#FF6692\",\"#B6E880\",\"#FF97FF\",\"#FECB52\"],\"font\":{\"color\":\"#2a3f5f\"},\"hovermode\":\"closest\",\"hoverlabel\":{\"align\":\"left\"},\"paper_bgcolor\":\"white\",\"plot_bgcolor\":\"#E5ECF6\",\"polar\":{\"bgcolor\":\"#E5ECF6\",\"angularaxis\":{\"gridcolor\":\"white\",\"linecolor\":\"white\",\"ticks\":\"\"},\"radialaxis\":{\"gridcolor\":\"white\",\"linecolor\":\"white\",\"ticks\":\"\"}},\"ternary\":{\"bgcolor\":\"#E5ECF6\",\"aaxis\":{\"gridcolor\":\"white\",\"linecolor\":\"white\",\"ticks\":\"\"},\"baxis\":{\"gridcolor\":\"white\",\"linecolor\":\"white\",\"ticks\":\"\"},\"caxis\":{\"gridcolor\":\"white\",\"linecolor\":\"white\",\"ticks\":\"\"}},\"coloraxis\":{\"colorbar\":{\"outlinewidth\":0,\"ticks\":\"\"}},\"colorscale\":{\"sequential\":[[0.0,\"#0d0887\"],[0.1111111111111111,\"#46039f\"],[0.2222222222222222,\"#7201a8\"],[0.3333333333333333,\"#9c179e\"],[0.4444444444444444,\"#bd3786\"],[0.5555555555555556,\"#d8576b\"],[0.6666666666666666,\"#ed7953\"],[0.7777777777777778,\"#fb9f3a\"],[0.8888888888888888,\"#fdca26\"],[1.0,\"#f0f921\"]],\"sequentialminus\":[[0.0,\"#0d0887\"],[0.1111111111111111,\"#46039f\"],[0.2222222222222222,\"#7201a8\"],[0.3333333333333333,\"#9c179e\"],[0.4444444444444444,\"#bd3786\"],[0.5555555555555556,\"#d8576b\"],[0.6666666666666666,\"#ed7953\"],[0.7777777777777778,\"#fb9f3a\"],[0.8888888888888888,\"#fdca26\"],[1.0,\"#f0f921\"]],\"diverging\":[[0,\"#8e0152\"],[0.1,\"#c51b7d\"],[0.2,\"#de77ae\"],[0.3,\"#f1b6da\"],[0.4,\"#fde0ef\"],[0.5,\"#f7f7f7\"],[0.6,\"#e6f5d0\"],[0.7,\"#b8e186\"],[0.8,\"#7fbc41\"],[0.9,\"#4d9221\"],[1,\"#276419\"]]},\"xaxis\":{\"gridcolor\":\"white\",\"linecolor\":\"white\",\"ticks\":\"\",\"title\":{\"standoff\":15},\"zerolinecolor\":\"white\",\"automargin\":true,\"zerolinewidth\":2},\"yaxis\":{\"gridcolor\":\"white\",\"linecolor\":\"white\",\"ticks\":\"\",\"title\":{\"standoff\":15},\"zerolinecolor\":\"white\",\"automargin\":true,\"zerolinewidth\":2},\"scene\":{\"xaxis\":{\"backgroundcolor\":\"#E5ECF6\",\"gridcolor\":\"white\",\"linecolor\":\"white\",\"showbackground\":true,\"ticks\":\"\",\"zerolinecolor\":\"white\",\"gridwidth\":2},\"yaxis\":{\"backgroundcolor\":\"#E5ECF6\",\"gridcolor\":\"white\",\"linecolor\":\"white\",\"showbackground\":true,\"ticks\":\"\",\"zerolinecolor\":\"white\",\"gridwidth\":2},\"zaxis\":{\"backgroundcolor\":\"#E5ECF6\",\"gridcolor\":\"white\",\"linecolor\":\"white\",\"showbackground\":true,\"ticks\":\"\",\"zerolinecolor\":\"white\",\"gridwidth\":2}},\"shapedefaults\":{\"line\":{\"color\":\"#2a3f5f\"}},\"annotationdefaults\":{\"arrowcolor\":\"#2a3f5f\",\"arrowhead\":0,\"arrowwidth\":1},\"geo\":{\"bgcolor\":\"white\",\"landcolor\":\"#E5ECF6\",\"subunitcolor\":\"white\",\"showland\":true,\"showlakes\":true,\"lakecolor\":\"white\"},\"title\":{\"x\":0.05},\"mapbox\":{\"style\":\"light\"}}},\"xaxis\":{\"anchor\":\"y\",\"domain\":[0.0,0.98],\"title\":{\"text\":\"x\"},\"range\":[-150,150]},\"yaxis\":{\"anchor\":\"x\",\"domain\":[0.0,0.3133333333333333],\"title\":{\"text\":\"y\"},\"range\":[-150,150]},\"xaxis2\":{\"anchor\":\"y2\",\"domain\":[0.0,0.98],\"matches\":\"x\",\"showticklabels\":false},\"yaxis2\":{\"anchor\":\"x2\",\"domain\":[0.34333333333333327,0.6566666666666665],\"matches\":\"y\",\"title\":{\"text\":\"y\"},\"range\":[-150,150]},\"xaxis3\":{\"anchor\":\"y3\",\"domain\":[0.0,0.98],\"matches\":\"x\",\"showticklabels\":false},\"yaxis3\":{\"anchor\":\"x3\",\"domain\":[0.6866666666666665,0.9999999999999998],\"matches\":\"y\",\"title\":{\"text\":\"y\"},\"range\":[-150,150]},\"annotations\":[{\"font\":{},\"showarrow\":false,\"text\":\"cluster=2\",\"textangle\":90,\"x\":0.98,\"xanchor\":\"left\",\"xref\":\"paper\",\"y\":0.15666666666666665,\"yanchor\":\"middle\",\"yref\":\"paper\"},{\"font\":{},\"showarrow\":false,\"text\":\"cluster=1\",\"textangle\":90,\"x\":0.98,\"xanchor\":\"left\",\"xref\":\"paper\",\"y\":0.4999999999999999,\"yanchor\":\"middle\",\"yref\":\"paper\"},{\"font\":{},\"showarrow\":false,\"text\":\"cluster=0\",\"textangle\":90,\"x\":0.98,\"xanchor\":\"left\",\"xref\":\"paper\",\"y\":0.8433333333333332,\"yanchor\":\"middle\",\"yref\":\"paper\"}],\"legend\":{\"title\":{\"text\":\"bps\"},\"tracegroupgap\":0},\"margin\":{\"t\":60},\"height\":1000,\"width\":400},                        {\"responsive\": true}                    )                };            </script>        </div>"
      ],
      "text/plain": [
       "Figure({\n",
       "    'data': [{'hovertemplate': 'bps=dorsal_1<br>cluster=0<br>x=%{x}<br>y=%{y}<extra></extra>',\n",
       "              'legendgroup': 'dorsal_1',\n",
       "              'marker': {'color': '#636efa', 'size': 5, 'symbol': 'circle'},\n",
       "              'mode': 'markers',\n",
       "              'name': 'dorsal_1',\n",
       "              'orientation': 'v',\n",
       "              'showlegend': True,\n",
       "              'type': 'scatter',\n",
       "              'x': {'bdata': 'y7Isy7IsF0A=', 'dtype': 'f8'},\n",
       "              'xaxis': 'x3',\n",
       "              'y': {'bdata': 'x3Ecx3EcK0A=', 'dtype': 'f8'},\n",
       "              'yaxis': 'y3'},\n",
       "             {'hovertemplate': 'bps=dorsal_1<br>cluster=1<br>x=%{x}<br>y=%{y}<extra></extra>',\n",
       "              'legendgroup': 'dorsal_1',\n",
       "              'marker': {'color': '#636efa', 'size': 5, 'symbol': 'circle'},\n",
       "              'mode': 'markers',\n",
       "              'name': 'dorsal_1',\n",
       "              'orientation': 'v',\n",
       "              'showlegend': False,\n",
       "              'type': 'scatter',\n",
       "              'x': {'bdata': 'X2uO/8ANAcA=', 'dtype': 'f8'},\n",
       "              'xaxis': 'x2',\n",
       "              'y': {'bdata': 'kjZFZJ7bL0A=', 'dtype': 'f8'},\n",
       "              'yaxis': 'y2'},\n",
       "             {'hovertemplate': 'bps=dorsal_1<br>cluster=2<br>x=%{x}<br>y=%{y}<extra></extra>',\n",
       "              'legendgroup': 'dorsal_1',\n",
       "              'marker': {'color': '#636efa', 'size': 5, 'symbol': 'circle'},\n",
       "              'mode': 'markers',\n",
       "              'name': 'dorsal_1',\n",
       "              'orientation': 'v',\n",
       "              'showlegend': False,\n",
       "              'type': 'scatter',\n",
       "              'x': {'bdata': 'Gc1lNJfRJMA=', 'dtype': 'f8'},\n",
       "              'xaxis': 'x',\n",
       "              'y': {'bdata': 'EN9BfAfxnb8=', 'dtype': 'f8'},\n",
       "              'yaxis': 'y'},\n",
       "             {'hovertemplate': 'bps=dorsal_2<br>cluster=0<br>x=%{x}<br>y=%{y}<extra></extra>',\n",
       "              'legendgroup': 'dorsal_2',\n",
       "              'marker': {'color': '#EF553B', 'size': 5, 'symbol': 'circle'},\n",
       "              'mode': 'markers',\n",
       "              'name': 'dorsal_2',\n",
       "              'orientation': 'v',\n",
       "              'showlegend': True,\n",
       "              'type': 'scatter',\n",
       "              'x': {'bdata': 'Pc/zPM/z/D8=', 'dtype': 'f8'},\n",
       "              'xaxis': 'x3',\n",
       "              'y': {'bdata': 'TdM0TdO0LcA=', 'dtype': 'f8'},\n",
       "              'yaxis': 'y3'},\n",
       "             {'hovertemplate': 'bps=dorsal_2<br>cluster=1<br>x=%{x}<br>y=%{y}<extra></extra>',\n",
       "              'legendgroup': 'dorsal_2',\n",
       "              'marker': {'color': '#EF553B', 'size': 5, 'symbol': 'circle'},\n",
       "              'mode': 'markers',\n",
       "              'name': 'dorsal_2',\n",
       "              'orientation': 'v',\n",
       "              'showlegend': False,\n",
       "              'type': 'scatter',\n",
       "              'x': {'bdata': 'k7QpIvPc/r8=', 'dtype': 'f8'},\n",
       "              'xaxis': 'x2',\n",
       "              'y': {'bdata': 'N0VkntvRLcA=', 'dtype': 'f8'},\n",
       "              'yaxis': 'y2'},\n",
       "             {'hovertemplate': 'bps=dorsal_2<br>cluster=2<br>x=%{x}<br>y=%{y}<extra></extra>',\n",
       "              'legendgroup': 'dorsal_2',\n",
       "              'marker': {'color': '#EF553B', 'size': 5, 'symbol': 'circle'},\n",
       "              'mode': 'markers',\n",
       "              'name': 'dorsal_2',\n",
       "              'orientation': 'v',\n",
       "              'showlegend': False,\n",
       "              'type': 'scatter',\n",
       "              'x': {'bdata': 'V1JbSW0lEcA=', 'dtype': 'f8'},\n",
       "              'xaxis': 'x',\n",
       "              'y': {'bdata': 'WE9hPYX1NMA=', 'dtype': 'f8'},\n",
       "              'yaxis': 'y'},\n",
       "             {'hovertemplate': 'bps=dorsal_3<br>cluster=0<br>x=%{x}<br>y=%{y}<extra></extra>',\n",
       "              'legendgroup': 'dorsal_3',\n",
       "              'marker': {'color': '#00cc96', 'size': 5, 'symbol': 'circle'},\n",
       "              'mode': 'markers',\n",
       "              'name': 'dorsal_3',\n",
       "              'orientation': 'v',\n",
       "              'showlegend': True,\n",
       "              'type': 'scatter',\n",
       "              'x': {'bdata': 'KYqiKIqiEcA=', 'dtype': 'f8'},\n",
       "              'xaxis': 'x3',\n",
       "              'y': {'bdata': 'u67ruq4LRsA=', 'dtype': 'f8'},\n",
       "              'yaxis': 'y3'},\n",
       "             {'hovertemplate': 'bps=dorsal_3<br>cluster=1<br>x=%{x}<br>y=%{y}<extra></extra>',\n",
       "              'legendgroup': 'dorsal_3',\n",
       "              'marker': {'color': '#00cc96', 'size': 5, 'symbol': 'circle'},\n",
       "              'mode': 'markers',\n",
       "              'name': 'dorsal_3',\n",
       "              'orientation': 'v',\n",
       "              'showlegend': False,\n",
       "              'type': 'scatter',\n",
       "              'x': {'bdata': '8eDFwglq4T8=', 'dtype': 'f8'},\n",
       "              'xaxis': 'x2',\n",
       "              'y': {'bdata': 'bsm6m2GkR8A=', 'dtype': 'f8'},\n",
       "              'yaxis': 'y2'},\n",
       "             {'hovertemplate': 'bps=dorsal_3<br>cluster=2<br>x=%{x}<br>y=%{y}<extra></extra>',\n",
       "              'legendgroup': 'dorsal_3',\n",
       "              'marker': {'color': '#00cc96', 'size': 5, 'symbol': 'circle'},\n",
       "              'mode': 'markers',\n",
       "              'name': 'dorsal_3',\n",
       "              'orientation': 'v',\n",
       "              'showlegend': False,\n",
       "              'type': 'scatter',\n",
       "              'x': {'bdata': 'H8F9BPcRHEA=', 'dtype': 'f8'},\n",
       "              'xaxis': 'x',\n",
       "              'y': {'bdata': 'oryG8hrKQ8A=', 'dtype': 'f8'},\n",
       "              'yaxis': 'y'},\n",
       "             {'hovertemplate': 'bps=dorsal_4<br>cluster=0<br>x=%{x}<br>y=%{y}<extra></extra>',\n",
       "              'legendgroup': 'dorsal_4',\n",
       "              'marker': {'color': '#ab63fa', 'size': 5, 'symbol': 'circle'},\n",
       "              'mode': 'markers',\n",
       "              'name': 'dorsal_4',\n",
       "              'orientation': 'v',\n",
       "              'showlegend': True,\n",
       "              'type': 'scatter',\n",
       "              'x': {'bdata': 'YhiGYRiGKMA=', 'dtype': 'f8'},\n",
       "              'xaxis': 'x3',\n",
       "              'y': {'bdata': 'ft/3fd8nUsA=', 'dtype': 'f8'},\n",
       "              'yaxis': 'y3'},\n",
       "             {'hovertemplate': 'bps=dorsal_4<br>cluster=1<br>x=%{x}<br>y=%{y}<extra></extra>',\n",
       "              'legendgroup': 'dorsal_4',\n",
       "              'marker': {'color': '#ab63fa', 'size': 5, 'symbol': 'circle'},\n",
       "              'mode': 'markers',\n",
       "              'name': 'dorsal_4',\n",
       "              'orientation': 'v',\n",
       "              'showlegend': False,\n",
       "              'type': 'scatter',\n",
       "              'x': {'bdata': 'vdYc/4EbEkA=', 'dtype': 'f8'},\n",
       "              'xaxis': 'x2',\n",
       "              'y': {'bdata': 'DGaapE2RU8A=', 'dtype': 'f8'},\n",
       "              'yaxis': 'y2'},\n",
       "             {'hovertemplate': 'bps=dorsal_4<br>cluster=2<br>x=%{x}<br>y=%{y}<extra></extra>',\n",
       "              'legendgroup': 'dorsal_4',\n",
       "              'marker': {'color': '#ab63fa', 'size': 5, 'symbol': 'circle'},\n",
       "              'mode': 'markers',\n",
       "              'name': 'dorsal_4',\n",
       "              'orientation': 'v',\n",
       "              'showlegend': False,\n",
       "              'type': 'scatter',\n",
       "              'x': {'bdata': 'cxnNZTSXNEA=', 'dtype': 'f8'},\n",
       "              'xaxis': 'x',\n",
       "              'y': {'bdata': 'xHcQ30H8S8A=', 'dtype': 'f8'},\n",
       "              'yaxis': 'y'},\n",
       "             {'hovertemplate': 'bps=eye_left<br>cluster=0<br>x=%{x}<br>y=%{y}<extra></extra>',\n",
       "              'legendgroup': 'eye_left',\n",
       "              'marker': {'color': '#FFA15A', 'size': 5, 'symbol': 'circle'},\n",
       "              'mode': 'markers',\n",
       "              'name': 'eye_left',\n",
       "              'orientation': 'v',\n",
       "              'showlegend': True,\n",
       "              'type': 'scatter',\n",
       "              'x': {'bdata': 'mqZpmqZpE8A=', 'dtype': 'f8'},\n",
       "              'xaxis': 'x3',\n",
       "              'y': {'bdata': 'LcuyLMsSTEA=', 'dtype': 'f8'},\n",
       "              'yaxis': 'y3'},\n",
       "             {'hovertemplate': 'bps=eye_left<br>cluster=1<br>x=%{x}<br>y=%{y}<extra></extra>',\n",
       "              'legendgroup': 'eye_left',\n",
       "              'marker': {'color': '#FFA15A', 'size': 5, 'symbol': 'circle'},\n",
       "              'mode': 'markers',\n",
       "              'name': 'eye_left',\n",
       "              'orientation': 'v',\n",
       "              'showlegend': False,\n",
       "              'type': 'scatter',\n",
       "              'x': {'bdata': 'FFKHD50eJ8A=', 'dtype': 'f8'},\n",
       "              'xaxis': 'x2',\n",
       "              'y': {'bdata': '+NDpsa/0T0A=', 'dtype': 'f8'},\n",
       "              'yaxis': 'y2'},\n",
       "             {'hovertemplate': 'bps=eye_left<br>cluster=2<br>x=%{x}<br>y=%{y}<extra></extra>',\n",
       "              'legendgroup': 'eye_left',\n",
       "              'marker': {'color': '#FFA15A', 'size': 5, 'symbol': 'circle'},\n",
       "              'mode': 'markers',\n",
       "              'name': 'eye_left',\n",
       "              'orientation': 'v',\n",
       "              'showlegend': False,\n",
       "              'type': 'scatter',\n",
       "              'x': {'bdata': 'E9lNZDeRL8A=', 'dtype': 'f8'},\n",
       "              'xaxis': 'x',\n",
       "              'y': {'bdata': 'u4nsJrKbSkA=', 'dtype': 'f8'},\n",
       "              'yaxis': 'y'},\n",
       "             {'hovertemplate': 'bps=eye_right<br>cluster=0<br>x=%{x}<br>y=%{y}<extra></extra>',\n",
       "              'legendgroup': 'eye_right',\n",
       "              'marker': {'color': '#19d3f3', 'size': 5, 'symbol': 'circle'},\n",
       "              'mode': 'markers',\n",
       "              'name': 'eye_right',\n",
       "              'orientation': 'v',\n",
       "              'showlegend': True,\n",
       "              'type': 'scatter',\n",
       "              'x': {'bdata': 'hmEYhmEYL0A=', 'dtype': 'f8'},\n",
       "              'xaxis': 'x3',\n",
       "              'y': {'bdata': '5DiO4zgOTEA=', 'dtype': 'f8'},\n",
       "              'yaxis': 'y3'},\n",
       "             {'hovertemplate': 'bps=eye_right<br>cluster=1<br>x=%{x}<br>y=%{y}<extra></extra>',\n",
       "              'legendgroup': 'eye_right',\n",
       "              'marker': {'color': '#19d3f3', 'size': 5, 'symbol': 'circle'},\n",
       "              'mode': 'markers',\n",
       "              'name': 'eye_right',\n",
       "              'orientation': 'v',\n",
       "              'showlegend': False,\n",
       "              'type': 'scatter',\n",
       "              'x': {'bdata': '6TPLtmTdJUA=', 'dtype': 'f8'},\n",
       "              'xaxis': 'x2',\n",
       "              'y': {'bdata': 'J6hFo5C6T0A=', 'dtype': 'f8'},\n",
       "              'yaxis': 'y2'},\n",
       "             {'hovertemplate': 'bps=eye_right<br>cluster=2<br>x=%{x}<br>y=%{y}<extra></extra>',\n",
       "              'legendgroup': 'eye_right',\n",
       "              'marker': {'color': '#19d3f3', 'size': 5, 'symbol': 'circle'},\n",
       "              'mode': 'markers',\n",
       "              'name': 'eye_right',\n",
       "              'orientation': 'v',\n",
       "              'showlegend': False,\n",
       "              'type': 'scatter',\n",
       "              'x': {'bdata': 'iuwmspvIHkA=', 'dtype': 'f8'},\n",
       "              'xaxis': 'x',\n",
       "              'y': {'bdata': 'W0ltJbUVSUA=', 'dtype': 'f8'},\n",
       "              'yaxis': 'y'},\n",
       "             {'hovertemplate': 'bps=head_centre<br>cluster=0<br>x=%{x}<br>y=%{y}<extra></extra>',\n",
       "              'legendgroup': 'head_centre',\n",
       "              'marker': {'color': '#FF6692', 'size': 5, 'symbol': 'circle'},\n",
       "              'mode': 'markers',\n",
       "              'name': 'head_centre',\n",
       "              'orientation': 'v',\n",
       "              'showlegend': True,\n",
       "              'type': 'scatter',\n",
       "              'x': {'bdata': 'z/M8z/M8HUA=', 'dtype': 'f8'},\n",
       "              'xaxis': 'x3',\n",
       "              'y': {'bdata': '/L7v+74PQ0A=', 'dtype': 'f8'},\n",
       "              'yaxis': 'y3'},\n",
       "             {'hovertemplate': 'bps=head_centre<br>cluster=1<br>x=%{x}<br>y=%{y}<extra></extra>',\n",
       "              'legendgroup': 'head_centre',\n",
       "              'marker': {'color': '#FF6692', 'size': 5, 'symbol': 'circle'},\n",
       "              'mode': 'markers',\n",
       "              'name': 'head_centre',\n",
       "              'orientation': 'v',\n",
       "              'showlegend': False,\n",
       "              'type': 'scatter',\n",
       "              'x': {'bdata': 'PHixcIJa9L8=', 'dtype': 'f8'},\n",
       "              'xaxis': 'x2',\n",
       "              'y': {'bdata': '5Ts5vxHYREA=', 'dtype': 'f8'},\n",
       "              'yaxis': 'y2'},\n",
       "             {'hovertemplate': 'bps=head_centre<br>cluster=2<br>x=%{x}<br>y=%{y}<extra></extra>',\n",
       "              'legendgroup': 'head_centre',\n",
       "              'marker': {'color': '#FF6692', 'size': 5, 'symbol': 'circle'},\n",
       "              'mode': 'markers',\n",
       "              'name': 'head_centre',\n",
       "              'orientation': 'v',\n",
       "              'showlegend': False,\n",
       "              'type': 'scatter',\n",
       "              'x': {'bdata': 'D+I7iO8gIsA=', 'dtype': 'f8'},\n",
       "              'xaxis': 'x',\n",
       "              'y': {'bdata': 'jeYymstoNEA=', 'dtype': 'f8'},\n",
       "              'yaxis': 'y'},\n",
       "             {'hovertemplate': 'bps=hip_left<br>cluster=0<br>x=%{x}<br>y=%{y}<extra></extra>',\n",
       "              'legendgroup': 'hip_left',\n",
       "              'marker': {'color': '#B6E880', 'size': 5, 'symbol': 'circle'},\n",
       "              'mode': 'markers',\n",
       "              'name': 'hip_left',\n",
       "              'orientation': 'v',\n",
       "              'showlegend': True,\n",
       "              'type': 'scatter',\n",
       "              'x': {'bdata': 'MQzDMAxjSMA=', 'dtype': 'f8'},\n",
       "              'xaxis': 'x3',\n",
       "              'y': {'bdata': '27Zt27btP8A=', 'dtype': 'f8'},\n",
       "              'yaxis': 'y3'},\n",
       "             {'hovertemplate': 'bps=hip_left<br>cluster=1<br>x=%{x}<br>y=%{y}<extra></extra>',\n",
       "              'legendgroup': 'hip_left',\n",
       "              'marker': {'color': '#B6E880', 'size': 5, 'symbol': 'circle'},\n",
       "              'mode': 'markers',\n",
       "              'name': 'hip_left',\n",
       "              'orientation': 'v',\n",
       "              'showlegend': False,\n",
       "              'type': 'scatter',\n",
       "              'x': {'bdata': 'kjZFZJ5bRMA=', 'dtype': 'f8'},\n",
       "              'xaxis': 'x2',\n",
       "              'y': {'bdata': '6PTYV7pcTMA=', 'dtype': 'f8'},\n",
       "              'yaxis': 'y2'},\n",
       "             {'hovertemplate': 'bps=hip_left<br>cluster=2<br>x=%{x}<br>y=%{y}<extra></extra>',\n",
       "              'legendgroup': 'hip_left',\n",
       "              'marker': {'color': '#B6E880', 'size': 5, 'symbol': 'circle'},\n",
       "              'mode': 'markers',\n",
       "              'name': 'hip_left',\n",
       "              'orientation': 'v',\n",
       "              'showlegend': False,\n",
       "              'type': 'scatter',\n",
       "              'x': {'bdata': 'ZDeR3UR2McA=', 'dtype': 'f8'},\n",
       "              'xaxis': 'x',\n",
       "              'y': {'bdata': 'A/oL6C8gS8A=', 'dtype': 'f8'},\n",
       "              'yaxis': 'y'},\n",
       "             {'hovertemplate': 'bps=hip_right<br>cluster=0<br>x=%{x}<br>y=%{y}<extra></extra>',\n",
       "              'legendgroup': 'hip_right',\n",
       "              'marker': {'color': '#FF97FF', 'size': 5, 'symbol': 'circle'},\n",
       "              'mode': 'markers',\n",
       "              'name': 'hip_right',\n",
       "              'orientation': 'v',\n",
       "              'showlegend': True,\n",
       "              'type': 'scatter',\n",
       "              'x': {'bdata': 'ft/3fd9XQUA=', 'dtype': 'f8'},\n",
       "              'xaxis': 'x3',\n",
       "              'y': {'bdata': 'x3Ecx3H8SsA=', 'dtype': 'f8'},\n",
       "              'yaxis': 'y3'},\n",
       "             {'hovertemplate': 'bps=hip_right<br>cluster=1<br>x=%{x}<br>y=%{y}<extra></extra>',\n",
       "              'legendgroup': 'hip_right',\n",
       "              'marker': {'color': '#FF97FF', 'size': 5, 'symbol': 'circle'},\n",
       "              'mode': 'markers',\n",
       "              'name': 'hip_right',\n",
       "              'orientation': 'v',\n",
       "              'showlegend': False,\n",
       "              'type': 'scatter',\n",
       "              'x': {'bdata': 'uCG06i+URUA=', 'dtype': 'f8'},\n",
       "              'xaxis': 'x2',\n",
       "              'y': {'bdata': 'RqOQOnzoRsA=', 'dtype': 'f8'},\n",
       "              'yaxis': 'y2'},\n",
       "             {'hovertemplate': 'bps=hip_right<br>cluster=2<br>x=%{x}<br>y=%{y}<extra></extra>',\n",
       "              'legendgroup': 'hip_right',\n",
       "              'marker': {'color': '#FF97FF', 'size': 5, 'symbol': 'circle'},\n",
       "              'mode': 'markers',\n",
       "              'name': 'hip_right',\n",
       "              'orientation': 'v',\n",
       "              'showlegend': False,\n",
       "              'type': 'scatter',\n",
       "              'x': {'bdata': 'fwH9BfSXQ0A=', 'dtype': 'f8'},\n",
       "              'xaxis': 'x',\n",
       "              'y': {'bdata': 'M5rLaC6jMMA=', 'dtype': 'f8'},\n",
       "              'yaxis': 'y'},\n",
       "             {'hovertemplate': 'bps=lateral_left<br>cluster=0<br>x=%{x}<br>y=%{y}<extra></extra>',\n",
       "              'legendgroup': 'lateral_left',\n",
       "              'marker': {'color': '#FECB52', 'size': 5, 'symbol': 'circle'},\n",
       "              'mode': 'markers',\n",
       "              'name': 'lateral_left',\n",
       "              'orientation': 'v',\n",
       "              'showlegend': True,\n",
       "              'type': 'scatter',\n",
       "              'x': {'bdata': 'z/M8z/OcQcA=', 'dtype': 'f8'},\n",
       "              'xaxis': 'x3',\n",
       "              'y': {'bdata': 'AAAAAAAAEsA=', 'dtype': 'f8'},\n",
       "              'yaxis': 'y3'},\n",
       "             {'hovertemplate': 'bps=lateral_left<br>cluster=1<br>x=%{x}<br>y=%{y}<extra></extra>',\n",
       "              'legendgroup': 'lateral_left',\n",
       "              'marker': {'color': '#FECB52', 'size': 5, 'symbol': 'circle'},\n",
       "              'mode': 'markers',\n",
       "              'name': 'lateral_left',\n",
       "              'orientation': 'v',\n",
       "              'showlegend': False,\n",
       "              'type': 'scatter',\n",
       "              'x': {'bdata': 'CqnDh06PQsA=', 'dtype': 'f8'},\n",
       "              'xaxis': 'x2',\n",
       "              'y': {'bdata': 'g9gYyP3EMMA=', 'dtype': 'f8'},\n",
       "              'yaxis': 'y2'},\n",
       "             {'hovertemplate': 'bps=lateral_left<br>cluster=2<br>x=%{x}<br>y=%{y}<extra></extra>',\n",
       "              'legendgroup': 'lateral_left',\n",
       "              'marker': {'color': '#FECB52', 'size': 5, 'symbol': 'circle'},\n",
       "              'mode': 'markers',\n",
       "              'name': 'lateral_left',\n",
       "              'orientation': 'v',\n",
       "              'showlegend': False,\n",
       "              'type': 'scatter',\n",
       "              'x': {'bdata': 'voP4DuI7Q8A=', 'dtype': 'f8'},\n",
       "              'xaxis': 'x',\n",
       "              'y': {'bdata': 'uI/gPoL7M8A=', 'dtype': 'f8'},\n",
       "              'yaxis': 'y'},\n",
       "             {'hovertemplate': 'bps=lateral_right<br>cluster=0<br>x=%{x}<br>y=%{y}<extra></extra>',\n",
       "              'legendgroup': 'lateral_right',\n",
       "              'marker': {'color': '#636efa', 'size': 5, 'symbol': 'circle'},\n",
       "              'mode': 'markers',\n",
       "              'name': 'lateral_right',\n",
       "              'orientation': 'v',\n",
       "              'showlegend': True,\n",
       "              'type': 'scatter',\n",
       "              'x': {'bdata': 'CIIgCIIgQkA=', 'dtype': 'f8'},\n",
       "              'xaxis': 'x3',\n",
       "              'y': {'bdata': 'juM4juO4M8A=', 'dtype': 'f8'},\n",
       "              'yaxis': 'y3'},\n",
       "             {'hovertemplate': 'bps=lateral_right<br>cluster=1<br>x=%{x}<br>y=%{y}<extra></extra>',\n",
       "              'legendgroup': 'lateral_right',\n",
       "              'marker': {'color': '#636efa', 'size': 5, 'symbol': 'circle'},\n",
       "              'mode': 'markers',\n",
       "              'name': 'lateral_right',\n",
       "              'orientation': 'v',\n",
       "              'showlegend': False,\n",
       "              'type': 'scatter',\n",
       "              'x': {'bdata': 'O3zo9NhXQEA=', 'dtype': 'f8'},\n",
       "              'xaxis': 'x2',\n",
       "              'y': {'bdata': 'Fg9eLJygKsA=', 'dtype': 'f8'},\n",
       "              'yaxis': 'y2'},\n",
       "             {'hovertemplate': 'bps=lateral_right<br>cluster=2<br>x=%{x}<br>y=%{y}<extra></extra>',\n",
       "              'legendgroup': 'lateral_right',\n",
       "              'marker': {'color': '#636efa', 'size': 5, 'symbol': 'circle'},\n",
       "              'mode': 'markers',\n",
       "              'name': 'lateral_right',\n",
       "              'orientation': 'v',\n",
       "              'showlegend': False,\n",
       "              'type': 'scatter',\n",
       "              'x': {'bdata': 'W0ltJbWVOEA=', 'dtype': 'f8'},\n",
       "              'xaxis': 'x',\n",
       "              'y': {'bdata': 'W0ltJbWV9L8=', 'dtype': 'f8'},\n",
       "              'yaxis': 'y'},\n",
       "             {'hovertemplate': 'bps=left_ear<br>cluster=0<br>x=%{x}<br>y=%{y}<extra></extra>',\n",
       "              'legendgroup': 'left_ear',\n",
       "              'marker': {'color': '#EF553B', 'size': 5, 'symbol': 'circle'},\n",
       "              'mode': 'markers',\n",
       "              'name': 'left_ear',\n",
       "              'orientation': 'v',\n",
       "              'showlegend': True,\n",
       "              'type': 'scatter',\n",
       "              'x': {'bdata': 'kiRJkiRJEMA=', 'dtype': 'f8'},\n",
       "              'xaxis': 'x3',\n",
       "              'y': {'bdata': '27Zt27ZtQ0A=', 'dtype': 'f8'},\n",
       "              'yaxis': 'y3'},\n",
       "             {'hovertemplate': 'bps=left_ear<br>cluster=1<br>x=%{x}<br>y=%{y}<extra></extra>',\n",
       "              'legendgroup': 'left_ear',\n",
       "              'marker': {'color': '#EF553B', 'size': 5, 'symbol': 'circle'},\n",
       "              'mode': 'markers',\n",
       "              'name': 'left_ear',\n",
       "              'orientation': 'v',\n",
       "              'showlegend': False,\n",
       "              'type': 'scatter',\n",
       "              'x': {'bdata': 'Hn1m2ZasKcA=', 'dtype': 'f8'},\n",
       "              'xaxis': 'x2',\n",
       "              'y': {'bdata': 'Vzx4sXACRUA=', 'dtype': 'f8'},\n",
       "              'yaxis': 'y2'},\n",
       "             {'hovertemplate': 'bps=left_ear<br>cluster=2<br>x=%{x}<br>y=%{y}<extra></extra>',\n",
       "              'legendgroup': 'left_ear',\n",
       "              'marker': {'color': '#EF553B', 'size': 5, 'symbol': 'circle'},\n",
       "              'mode': 'markers',\n",
       "              'name': 'left_ear',\n",
       "              'orientation': 'v',\n",
       "              'showlegend': False,\n",
       "              'type': 'scatter',\n",
       "              'x': {'bdata': '9BfQX0B/NcA=', 'dtype': 'f8'},\n",
       "              'xaxis': 'x',\n",
       "              'y': {'bdata': '3EdwH8F9NkA=', 'dtype': 'f8'},\n",
       "              'yaxis': 'y'},\n",
       "             {'hovertemplate': 'bps=nose<br>cluster=0<br>x=%{x}<br>y=%{y}<extra></extra>',\n",
       "              'legendgroup': 'nose',\n",
       "              'marker': {'color': '#00cc96', 'size': 5, 'symbol': 'circle'},\n",
       "              'mode': 'markers',\n",
       "              'name': 'nose',\n",
       "              'orientation': 'v',\n",
       "              'showlegend': True,\n",
       "              'type': 'scatter',\n",
       "              'x': {'bdata': 'AAAAAAAAAAA=', 'dtype': 'f8'},\n",
       "              'xaxis': 'x3',\n",
       "              'y': {'bdata': 'oyiKoiiqUEA=', 'dtype': 'f8'},\n",
       "              'yaxis': 'y3'},\n",
       "             {'hovertemplate': 'bps=nose<br>cluster=1<br>x=%{x}<br>y=%{y}<extra></extra>',\n",
       "              'legendgroup': 'nose',\n",
       "              'marker': {'color': '#00cc96', 'size': 5, 'symbol': 'circle'},\n",
       "              'mode': 'markers',\n",
       "              'name': 'nose',\n",
       "              'orientation': 'v',\n",
       "              'showlegend': False,\n",
       "              'type': 'scatter',\n",
       "              'x': {'bdata': 'AAAAAAAAAAA=', 'dtype': 'f8'},\n",
       "              'xaxis': 'x2',\n",
       "              'y': {'bdata': '9BuBnV0tU0A=', 'dtype': 'f8'},\n",
       "              'yaxis': 'y2'},\n",
       "             {'hovertemplate': 'bps=nose<br>cluster=2<br>x=%{x}<br>y=%{y}<extra></extra>',\n",
       "              'legendgroup': 'nose',\n",
       "              'marker': {'color': '#00cc96', 'size': 5, 'symbol': 'circle'},\n",
       "              'mode': 'markers',\n",
       "              'name': 'nose',\n",
       "              'orientation': 'v',\n",
       "              'showlegend': False,\n",
       "              'type': 'scatter',\n",
       "              'x': {'bdata': 'AAAAAAAAAAA=', 'dtype': 'f8'},\n",
       "              'xaxis': 'x',\n",
       "              'y': {'bdata': 'i+ksprNYUkA=', 'dtype': 'f8'},\n",
       "              'yaxis': 'y'},\n",
       "             {'hovertemplate': 'bps=right_ear<br>cluster=0<br>x=%{x}<br>y=%{y}<extra></extra>',\n",
       "              'legendgroup': 'right_ear',\n",
       "              'marker': {'color': '#ab63fa', 'size': 5, 'symbol': 'circle'},\n",
       "              'mode': 'markers',\n",
       "              'name': 'right_ear',\n",
       "              'orientation': 'v',\n",
       "              'showlegend': True,\n",
       "              'type': 'scatter',\n",
       "              'x': {'bdata': 'kiRJkiSJM0A=', 'dtype': 'f8'},\n",
       "              'xaxis': 'x3',\n",
       "              'y': {'bdata': 'HMdxHMdxQkA=', 'dtype': 'f8'},\n",
       "              'yaxis': 'y3'},\n",
       "             {'hovertemplate': 'bps=right_ear<br>cluster=1<br>x=%{x}<br>y=%{y}<extra></extra>',\n",
       "              'legendgroup': 'right_ear',\n",
       "              'marker': {'color': '#ab63fa', 'size': 5, 'symbol': 'circle'},\n",
       "              'mode': 'markers',\n",
       "              'name': 'right_ear',\n",
       "              'orientation': 'v',\n",
       "              'showlegend': False,\n",
       "              'type': 'scatter',\n",
       "              'x': {'bdata': 'vFg4QS0aJUA=', 'dtype': 'f8'},\n",
       "              'xaxis': 'x2',\n",
       "              'y': {'bdata': 'bM3xH7ihREA=', 'dtype': 'f8'},\n",
       "              'yaxis': 'y2'},\n",
       "             {'hovertemplate': 'bps=right_ear<br>cluster=2<br>x=%{x}<br>y=%{y}<extra></extra>',\n",
       "              'legendgroup': 'right_ear',\n",
       "              'marker': {'color': '#ab63fa', 'size': 5, 'symbol': 'circle'},\n",
       "              'mode': 'markers',\n",
       "              'name': 'right_ear',\n",
       "              'orientation': 'v',\n",
       "              'showlegend': False,\n",
       "              'type': 'scatter',\n",
       "              'x': {'bdata': 'RnMZzWU0D0A=', 'dtype': 'f8'},\n",
       "              'xaxis': 'x',\n",
       "              'y': {'bdata': 'r6G8hvIaM0A=', 'dtype': 'f8'},\n",
       "              'yaxis': 'y'},\n",
       "             {'hovertemplate': 'bps=shoulder_left<br>cluster=0<br>x=%{x}<br>y=%{y}<extra></extra>',\n",
       "              'legendgroup': 'shoulder_left',\n",
       "              'marker': {'color': '#FFA15A', 'size': 5, 'symbol': 'circle'},\n",
       "              'mode': 'markers',\n",
       "              'name': 'shoulder_left',\n",
       "              'orientation': 'v',\n",
       "              'showlegend': True,\n",
       "              'type': 'scatter',\n",
       "              'x': {'bdata': 'WZZlWZZlPMA=', 'dtype': 'f8'},\n",
       "              'xaxis': 'x3',\n",
       "              'y': {'bdata': 'BEEQBEEQNUA=', 'dtype': 'f8'},\n",
       "              'yaxis': 'y3'},\n",
       "             {'hovertemplate': 'bps=shoulder_left<br>cluster=1<br>x=%{x}<br>y=%{y}<extra></extra>',\n",
       "              'legendgroup': 'shoulder_left',\n",
       "              'marker': {'color': '#FFA15A', 'size': 5, 'symbol': 'circle'},\n",
       "              'mode': 'markers',\n",
       "              'name': 'shoulder_left',\n",
       "              'orientation': 'v',\n",
       "              'showlegend': False,\n",
       "              'type': 'scatter',\n",
       "              'x': {'bdata': 'M4zEBTNNQcA=', 'dtype': 'f8'},\n",
       "              'xaxis': 'x2',\n",
       "              'y': {'bdata': 'med29JllMUA=', 'dtype': 'f8'},\n",
       "              'yaxis': 'y2'},\n",
       "             {'hovertemplate': 'bps=shoulder_left<br>cluster=2<br>x=%{x}<br>y=%{y}<extra></extra>',\n",
       "              'legendgroup': 'shoulder_left',\n",
       "              'marker': {'color': '#FFA15A', 'size': 5, 'symbol': 'circle'},\n",
       "              'mode': 'markers',\n",
       "              'name': 'shoulder_left',\n",
       "              'orientation': 'v',\n",
       "              'showlegend': False,\n",
       "              'type': 'scatter',\n",
       "              'x': {'bdata': 'CusprKcwRcA=', 'dtype': 'f8'},\n",
       "              'xaxis': 'x',\n",
       "              'y': {'bdata': 'JbWV1FZSM0A=', 'dtype': 'f8'},\n",
       "              'yaxis': 'y'},\n",
       "             {'hovertemplate': 'bps=shoulder_right<br>cluster=0<br>x=%{x}<br>y=%{y}<extra></extra>',\n",
       "              'legendgroup': 'shoulder_right',\n",
       "              'marker': {'color': '#19d3f3', 'size': 5, 'symbol': 'circle'},\n",
       "              'mode': 'markers',\n",
       "              'name': 'shoulder_right',\n",
       "              'orientation': 'v',\n",
       "              'showlegend': True,\n",
       "              'type': 'scatter',\n",
       "              'x': {'bdata': 'Pc/zPM9TQkA=', 'dtype': 'f8'},\n",
       "              'xaxis': 'x3',\n",
       "              'y': {'bdata': 'EARBEARBKEA=', 'dtype': 'f8'},\n",
       "              'yaxis': 'y3'},\n",
       "             {'hovertemplate': 'bps=shoulder_right<br>cluster=1<br>x=%{x}<br>y=%{y}<extra></extra>',\n",
       "              'legendgroup': 'shoulder_right',\n",
       "              'marker': {'color': '#19d3f3', 'size': 5, 'symbol': 'circle'},\n",
       "              'mode': 'markers',\n",
       "              'name': 'shoulder_right',\n",
       "              'orientation': 'v',\n",
       "              'showlegend': False,\n",
       "              'type': 'scatter',\n",
       "              'x': {'bdata': 'zPVWPHixPkA=', 'dtype': 'f8'},\n",
       "              'xaxis': 'x2',\n",
       "              'y': {'bdata': 'FNSiUUgdMEA=', 'dtype': 'f8'},\n",
       "              'yaxis': 'y2'},\n",
       "             {'hovertemplate': 'bps=shoulder_right<br>cluster=2<br>x=%{x}<br>y=%{y}<extra></extra>',\n",
       "              'legendgroup': 'shoulder_right',\n",
       "              'marker': {'color': '#19d3f3', 'size': 5, 'symbol': 'circle'},\n",
       "              'mode': 'markers',\n",
       "              'name': 'shoulder_right',\n",
       "              'orientation': 'v',\n",
       "              'showlegend': False,\n",
       "              'type': 'scatter',\n",
       "              'x': {'bdata': 't5LaSmorOEA=', 'dtype': 'f8'},\n",
       "              'xaxis': 'x',\n",
       "              'y': {'bdata': 'dRbTWUxnNkA=', 'dtype': 'f8'},\n",
       "              'yaxis': 'y'},\n",
       "             {'hovertemplate': 'bps=tail_base<br>cluster=0<br>x=%{x}<br>y=%{y}<extra></extra>',\n",
       "              'legendgroup': 'tail_base',\n",
       "              'marker': {'color': '#FF6692', 'size': 5, 'symbol': 'circle'},\n",
       "              'mode': 'markers',\n",
       "              'name': 'tail_base',\n",
       "              'orientation': 'v',\n",
       "              'showlegend': True,\n",
       "              'type': 'scatter',\n",
       "              'x': {'bdata': 'giAIgiCIM8A=', 'dtype': 'f8'},\n",
       "              'xaxis': 'x3',\n",
       "              'y': {'bdata': 'r+u6rut6WMA=', 'dtype': 'f8'},\n",
       "              'yaxis': 'y3'},\n",
       "             {'hovertemplate': 'bps=tail_base<br>cluster=1<br>x=%{x}<br>y=%{y}<extra></extra>',\n",
       "              'legendgroup': 'tail_base',\n",
       "              'marker': {'color': '#FF6692', 'size': 5, 'symbol': 'circle'},\n",
       "              'mode': 'markers',\n",
       "              'name': 'tail_base',\n",
       "              'orientation': 'v',\n",
       "              'showlegend': False,\n",
       "              'type': 'scatter',\n",
       "              'x': {'bdata': 'NYiNgdxPIkA=', 'dtype': 'f8'},\n",
       "              'xaxis': 'x2',\n",
       "              'y': {'bdata': '5zcCO7taWsA=', 'dtype': 'f8'},\n",
       "              'yaxis': 'y2'},\n",
       "             {'hovertemplate': 'bps=tail_base<br>cluster=2<br>x=%{x}<br>y=%{y}<extra></extra>',\n",
       "              'legendgroup': 'tail_base',\n",
       "              'marker': {'color': '#FF6692', 'size': 5, 'symbol': 'circle'},\n",
       "              'mode': 'markers',\n",
       "              'name': 'tail_base',\n",
       "              'orientation': 'v',\n",
       "              'showlegend': False,\n",
       "              'type': 'scatter',\n",
       "              'x': {'bdata': 'k9pKaispQEA=', 'dtype': 'f8'},\n",
       "              'xaxis': 'x',\n",
       "              'y': {'bdata': 'z2I6i+nsUcA=', 'dtype': 'f8'},\n",
       "              'yaxis': 'y'}],\n",
       "    'layout': {'annotations': [{'font': {},\n",
       "                                'showarrow': False,\n",
       "                                'text': 'cluster=2',\n",
       "                                'textangle': 90,\n",
       "                                'x': 0.98,\n",
       "                                'xanchor': 'left',\n",
       "                                'xref': 'paper',\n",
       "                                'y': 0.15666666666666665,\n",
       "                                'yanchor': 'middle',\n",
       "                                'yref': 'paper'},\n",
       "                               {'font': {},\n",
       "                                'showarrow': False,\n",
       "                                'text': 'cluster=1',\n",
       "                                'textangle': 90,\n",
       "                                'x': 0.98,\n",
       "                                'xanchor': 'left',\n",
       "                                'xref': 'paper',\n",
       "                                'y': 0.4999999999999999,\n",
       "                                'yanchor': 'middle',\n",
       "                                'yref': 'paper'},\n",
       "                               {'font': {},\n",
       "                                'showarrow': False,\n",
       "                                'text': 'cluster=0',\n",
       "                                'textangle': 90,\n",
       "                                'x': 0.98,\n",
       "                                'xanchor': 'left',\n",
       "                                'xref': 'paper',\n",
       "                                'y': 0.8433333333333332,\n",
       "                                'yanchor': 'middle',\n",
       "                                'yref': 'paper'}],\n",
       "               'height': 1000,\n",
       "               'legend': {'title': {'text': 'bps'}, 'tracegroupgap': 0},\n",
       "               'margin': {'t': 60},\n",
       "               'template': '...',\n",
       "               'width': 400,\n",
       "               'xaxis': {'anchor': 'y', 'domain': [0.0, 0.98], 'range': [-150, 150], 'title': {'text': 'x'}},\n",
       "               'xaxis2': {'anchor': 'y2', 'domain': [0.0, 0.98], 'matches': 'x', 'showticklabels': False},\n",
       "               'xaxis3': {'anchor': 'y3', 'domain': [0.0, 0.98], 'matches': 'x', 'showticklabels': False},\n",
       "               'yaxis': {'anchor': 'x', 'domain': [0.0, 0.3133333333333333], 'range': [-150, 150], 'title': {'text': 'y'}},\n",
       "               'yaxis2': {'anchor': 'x2',\n",
       "                          'domain': [0.34333333333333327, 0.6566666666666665],\n",
       "                          'matches': 'y',\n",
       "                          'range': [-150, 150],\n",
       "                          'title': {'text': 'y'}},\n",
       "               'yaxis3': {'anchor': 'x3',\n",
       "                          'domain': [0.6866666666666665, 0.9999999999999998],\n",
       "                          'matches': 'y',\n",
       "                          'range': [-150, 150],\n",
       "                          'title': {'text': 'y'}}}\n",
       "})"
      ]
     },
     "execution_count": 9,
     "metadata": {},
     "output_type": "execute_result"
    }
   ],
   "source": [
    "X = rotated.reshape(-1, 34)\n",
    "\n",
    "kmeans = KMeans(n_clusters=3, random_state=42, n_init=\"auto\").fit(X)\n",
    "kmeans.labels_\n",
    "\n",
    "dfs = []\n",
    "\n",
    "for i in range(len(np.unique(kmeans.labels_))):\n",
    "    x = X[kmeans.labels_ == i][:, ::2].mean(axis=0)\n",
    "    y = X[kmeans.labels_ == i][:, 1::2].mean(axis=0)\n",
    "    dfs.append(pd.DataFrame({\"x\":x, \"y\":y, \"bps\":bodyparts, \"cluster\":str(i)}))\n",
    "\n",
    "centered_df = pd.concat(dfs).reset_index(drop=True)\n",
    "\n",
    "fig = px.scatter(\n",
    "    centered_df, \n",
    "    x=\"x\", \n",
    "    y=\"y\", \n",
    "    color=\"bps\", \n",
    "    facet_row=\"cluster\", \n",
    "    width=400, \n",
    "    height=1000, \n",
    "    range_x=[-150, 150], \n",
    "    range_y=[-150, 150]\n",
    ")\n",
    "fig.update_traces(marker=dict(size=5))"
   ]
  },
  {
   "cell_type": "code",
   "execution_count": null,
   "metadata": {},
   "outputs": [],
   "source": []
  }
 ],
 "metadata": {
  "kernelspec": {
   "display_name": ".conda",
   "language": "python",
   "name": "python3"
  },
  "language_info": {
   "codemirror_mode": {
    "name": "ipython",
    "version": 3
   },
   "file_extension": ".py",
   "mimetype": "text/x-python",
   "name": "python",
   "nbconvert_exporter": "python",
   "pygments_lexer": "ipython3",
   "version": "3.11.8"
  }
 },
 "nbformat": 4,
 "nbformat_minor": 2
}
