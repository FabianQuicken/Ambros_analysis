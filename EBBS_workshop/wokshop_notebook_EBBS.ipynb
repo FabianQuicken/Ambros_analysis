{
 "cells": [
  {
   "cell_type": "code",
   "execution_count": 2,
   "id": "8dbe7dd8",
   "metadata": {},
   "outputs": [],
   "source": [
    "import pandas as pd\n",
    "import numpy as np\n",
    "\n",
    "import plotly.express as px\n",
    "\n",
    "from scipy.signal import savgol_filter"
   ]
  },
  {
   "cell_type": "markdown",
   "id": "3ede540e",
   "metadata": {},
   "source": [
    "### Function definitions"
   ]
  },
  {
   "cell_type": "code",
   "execution_count": 3,
   "id": "dbf3609c",
   "metadata": {},
   "outputs": [],
   "source": [
    "def find_binary_sequence_borders(sequence: np.array) -> np.array:\n",
    "    \"\"\"Auxfun for finding indices of binary sequence starts and ends\n",
    "    \"\"\"\n",
    "    starts = np.where(np.diff(sequence, prepend=0) == 1)[0]\n",
    "    ends = np.where(np.diff(sequence, append=0) == -1)[0]\n",
    "    lengths = (ends - starts) + 1\n",
    "\n",
    "    return starts, ends, lengths"
   ]
  },
  {
   "cell_type": "markdown",
   "id": "127c832d",
   "metadata": {},
   "source": [
    "### Load data"
   ]
  },
  {
   "cell_type": "code",
   "execution_count": 6,
   "id": "f60f205d",
   "metadata": {},
   "outputs": [],
   "source": [
    "filepath = r\"C:\\Code\\Ambros_analysis\\EBBS_workshop\\workshop_vid.h5\"\n",
    "\n",
    "df = (\n",
    "    pd.read_hdf(filepath)\n",
    "    .astype(float)\n",
    "    .droplevel(\"scorer\", axis=1)\n",
    "    .drop(\"likelihood\", axis=1, level=\"coords\")\n",
    "    .sort_index(axis=1)\n",
    "    .interpolate(\"linear\")  # länge kann spezifiziert werden\n",
    ")\n",
    "individuals = df.columns.get_level_values(\"individuals\").unique()\n",
    "bodyparts = df.columns.get_level_values(\"bodyparts\").unique()\n",
    "\n",
    "raw_trace = df.iloc[300:400, 1]\n",
    "\n",
    "# Smooth traces\n",
    "for col in range(df.shape[1]):\n",
    "    df.iloc[:, col] = savgol_filter(df.iloc[:, col], 5, 2)\n",
    "\n",
    "df = df.astype(int)\n",
    "\n",
    "smooth_trace = df.iloc[300:400, 1]\n",
    "\n",
    "plot_comp = pd.DataFrame({\"raw\": raw_trace, \"smooth\": smooth_trace})"
   ]
  },
  {
   "cell_type": "code",
   "execution_count": 7,
   "id": "14c64ac0",
   "metadata": {},
   "outputs": [
    {
     "ename": "ValueError",
     "evalue": "Mime type rendering requires nbformat>=4.2.0 but it is not installed",
     "output_type": "error",
     "traceback": [
      "\u001b[31m---------------------------------------------------------------------------\u001b[39m",
      "\u001b[31mValueError\u001b[39m                                Traceback (most recent call last)",
      "\u001b[36mFile \u001b[39m\u001b[32mc:\\Code\\Ambros_analysis\\.conda\\Lib\\site-packages\\IPython\\core\\formatters.py:984\u001b[39m, in \u001b[36mIPythonDisplayFormatter.__call__\u001b[39m\u001b[34m(self, obj)\u001b[39m\n\u001b[32m    982\u001b[39m method = get_real_method(obj, \u001b[38;5;28mself\u001b[39m.print_method)\n\u001b[32m    983\u001b[39m \u001b[38;5;28;01mif\u001b[39;00m method \u001b[38;5;129;01mis\u001b[39;00m \u001b[38;5;129;01mnot\u001b[39;00m \u001b[38;5;28;01mNone\u001b[39;00m:\n\u001b[32m--> \u001b[39m\u001b[32m984\u001b[39m     \u001b[43mmethod\u001b[49m\u001b[43m(\u001b[49m\u001b[43m)\u001b[49m\n\u001b[32m    985\u001b[39m     \u001b[38;5;28;01mreturn\u001b[39;00m \u001b[38;5;28;01mTrue\u001b[39;00m\n",
      "\u001b[36mFile \u001b[39m\u001b[32mc:\\Code\\Ambros_analysis\\.conda\\Lib\\site-packages\\plotly\\basedatatypes.py:850\u001b[39m, in \u001b[36mBaseFigure._ipython_display_\u001b[39m\u001b[34m(self)\u001b[39m\n\u001b[32m    847\u001b[39m \u001b[38;5;28;01mimport\u001b[39;00m\u001b[38;5;250m \u001b[39m\u001b[34;01mplotly\u001b[39;00m\u001b[34;01m.\u001b[39;00m\u001b[34;01mio\u001b[39;00m\u001b[38;5;250m \u001b[39m\u001b[38;5;28;01mas\u001b[39;00m\u001b[38;5;250m \u001b[39m\u001b[34;01mpio\u001b[39;00m\n\u001b[32m    849\u001b[39m \u001b[38;5;28;01mif\u001b[39;00m pio.renderers.render_on_display \u001b[38;5;129;01mand\u001b[39;00m pio.renderers.default:\n\u001b[32m--> \u001b[39m\u001b[32m850\u001b[39m     \u001b[43mpio\u001b[49m\u001b[43m.\u001b[49m\u001b[43mshow\u001b[49m\u001b[43m(\u001b[49m\u001b[38;5;28;43mself\u001b[39;49m\u001b[43m)\u001b[49m\n\u001b[32m    851\u001b[39m \u001b[38;5;28;01melse\u001b[39;00m:\n\u001b[32m    852\u001b[39m     \u001b[38;5;28mprint\u001b[39m(\u001b[38;5;28mrepr\u001b[39m(\u001b[38;5;28mself\u001b[39m))\n",
      "\u001b[36mFile \u001b[39m\u001b[32mc:\\Code\\Ambros_analysis\\.conda\\Lib\\site-packages\\plotly\\io\\_renderers.py:415\u001b[39m, in \u001b[36mshow\u001b[39m\u001b[34m(fig, renderer, validate, **kwargs)\u001b[39m\n\u001b[32m    410\u001b[39m     \u001b[38;5;28;01mraise\u001b[39;00m \u001b[38;5;167;01mValueError\u001b[39;00m(\n\u001b[32m    411\u001b[39m         \u001b[33m\"\u001b[39m\u001b[33mMime type rendering requires ipython but it is not installed\u001b[39m\u001b[33m\"\u001b[39m\n\u001b[32m    412\u001b[39m     )\n\u001b[32m    414\u001b[39m \u001b[38;5;28;01mif\u001b[39;00m \u001b[38;5;129;01mnot\u001b[39;00m nbformat \u001b[38;5;129;01mor\u001b[39;00m Version(nbformat.__version__) < Version(\u001b[33m\"\u001b[39m\u001b[33m4.2.0\u001b[39m\u001b[33m\"\u001b[39m):\n\u001b[32m--> \u001b[39m\u001b[32m415\u001b[39m     \u001b[38;5;28;01mraise\u001b[39;00m \u001b[38;5;167;01mValueError\u001b[39;00m(\n\u001b[32m    416\u001b[39m         \u001b[33m\"\u001b[39m\u001b[33mMime type rendering requires nbformat>=4.2.0 but it is not installed\u001b[39m\u001b[33m\"\u001b[39m\n\u001b[32m    417\u001b[39m     )\n\u001b[32m    419\u001b[39m display_jupyter_version_warnings()\n\u001b[32m    421\u001b[39m ipython_display.display(bundle, raw=\u001b[38;5;28;01mTrue\u001b[39;00m)\n",
      "\u001b[31mValueError\u001b[39m: Mime type rendering requires nbformat>=4.2.0 but it is not installed"
     ]
    },
    {
     "data": {
      "application/vnd.plotly.v1+json": {
       "config": {
        "plotlyServerURL": "https://plot.ly"
       },
       "data": [
        {
         "hovertemplate": "variable=raw<br>index=%{x}<br>value=%{y}<extra></extra>",
         "legendgroup": "raw",
         "line": {
          "color": "#636efa",
          "dash": "solid"
         },
         "marker": {
          "symbol": "circle"
         },
         "mode": "lines",
         "name": "raw",
         "orientation": "v",
         "showlegend": true,
         "type": "scatter",
         "x": {
          "bdata": "LAEtAS4BLwEwATEBMgEzATQBNQE2ATcBOAE5AToBOwE8AT0BPgE/AUABQQFCAUMBRAFFAUYBRwFIAUkBSgFLAUwBTQFOAU8BUAFRAVIBUwFUAVUBVgFXAVgBWQFaAVsBXAFdAV4BXwFgAWEBYgFjAWQBZQFmAWcBaAFpAWoBawFsAW0BbgFvAXABcQFyAXMBdAF1AXYBdwF4AXkBegF7AXwBfQF+AX8BgAGBAYIBgwGEAYUBhgGHAYgBiQGKAYsBjAGNAY4BjwE=",
          "dtype": "i2"
         },
         "xaxis": "x",
         "y": {
          "bdata": "obNOmdzqaUBoYsLqzDZqQK/rXBT8ZGpAVd8BICtpakAVR2edMtFqQCV+jLlrRWtAkJ09FTOJa0CzKsonaMRrQDuDyyZ/MWxABsHrtd19bEAwVEfLwpFsQHZjBBP9nWxAWhMTVmembEBze46LKaZsQCNTBaOSlmxARma009J/bEBsdb+IeXFsQHBcTLFmc2xADSvg3yJQbEBGTxO6jCFsQABAVnJSBWxAPgcch73/a0DAemIbtO5rQKDrA0uy42tAAh1wHPbia0AGlJLhN+drQKqK8gka1WtACBjjQXa9a0AAS7JPgqtrQL8L4RbvpmtAvXDvnGrKa0AsH002oP5rQJTSN6pVKGxAGk4f/8gnbECslGWIYy1sQIFEGwKERGxAa89xMcV+bECAGKuMxNtsQCh70Zy4O21AvOu13UWCbUDEgRp9SsltQGOz6nO1FW5Ah6/4iq9kbkA/J0fAZoxuQA1YObTIkm5AD5l4hQHSbkAsFPFYcEBvQGYgmrqtkW9A9lER6M6sb0DzBl+YTMVvQDc5Ajbj/29AVtWOoeEccEBmZX0HgFpwQOxw+vhHjHBAEmwfsVuvcEBI6gQ0EbJwQBou9MUfu3BA3yFLZOKhcEBCPf96xnJwQKgS5+XxSHBAhiyRiVc6cEAXOyJhHCVwQPgDpHuZC3BAPPy/qY3tb0Bk1P4LRbxvQBf3J3MwlG9APGwqDTk7b0A826sR/r5uQLNXI/wNS25A6YiEcXQSbkBRZ/b7AtdtQGSojpaFg21Azr3McwMvbUArx2xLIdlsQCpOeMgSbWxADbAZn0f8a0C2zy4gNnFrQND/9KMi6GpAn1turl1NakBYWPaiOZ1pQBShGUZ+0mhAM5WGnPskaECK5dt+uH1nQJY1dHIE0GZA7JEOkdcoZkDyVbVjaIRlQPJsVn2u0mRAElV+lxUxZECDqEApGd5jQMD1KFyPZmNA3qdtgu37YkAaZcAYD7JiQABiU2nIuWJAVvaiOXHjYkA6AGQlJzFjQFYB/xahcWNA7AF59IKCY0D44aaEI9djQC/bUki0SWRA83bJ+/eiZEA=",
          "dtype": "f8"
         },
         "yaxis": "y"
        },
        {
         "hovertemplate": "variable=smooth<br>index=%{x}<br>value=%{y}<extra></extra>",
         "legendgroup": "smooth",
         "line": {
          "color": "#EF553B",
          "dash": "solid"
         },
         "marker": {
          "symbol": "circle"
         },
         "mode": "lines",
         "name": "smooth",
         "orientation": "v",
         "showlegend": true,
         "type": "scatter",
         "x": {
          "bdata": "LAEtAS4BLwEwATEBMgEzATQBNQE2ATcBOAE5AToBOwE8AT0BPgE/AUABQQFCAUMBRAFFAUYBRwFIAUkBSgFLAUwBTQFOAU8BUAFRAVIBUwFUAVUBVgFXAVgBWQFaAVsBXAFdAV4BXwFgAWEBYgFjAWQBZQFmAWcBaAFpAWoBawFsAW0BbgFvAXABcQFyAXMBdAF1AXYBdwF4AXkBegF7AXwBfQF+AX8BgAGBAYIBgwGEAYUBhgGHAYgBiQGKAYsBjAGNAY4BjwE=",
          "dtype": "i2"
         },
         "xaxis": "x",
         "y": {
          "bdata": "AAAAAADgaUAAAAAAACBqQAAAAAAAYGpAAAAAAABgakAAAAAAAMBqQAAAAAAAQGtAAAAAAACAa0AAAAAAAMBrQAAAAAAAIGxAAAAAAABgbEAAAAAAAIBsQAAAAAAAgGxAAAAAAACgbEAAAAAAAKBsQAAAAAAAgGxAAAAAAABgbEAAAAAAAGBsQAAAAAAAYGxAAAAAAABAbEAAAAAAACBsQAAAAAAAAGxAAAAAAADga0AAAAAAAOBrQAAAAAAA4GtAAAAAAADga0AAAAAAAOBrQAAAAAAAwGtAAAAAAACga0AAAAAAAKBrQAAAAAAAoGtAAAAAAADAa0AAAAAAAOBrQAAAAAAAIGxAAAAAAAAgbEAAAAAAACBsQAAAAAAAQGxAAAAAAABgbEAAAAAAAMBsQAAAAAAAIG1AAAAAAACAbUAAAAAAAMBtQAAAAAAAAG5AAAAAAABgbkAAAAAAAIBuQAAAAAAAgG5AAAAAAADAbkAAAAAAAEBvQAAAAAAAgG9AAAAAAACgb0AAAAAAAMBvQAAAAAAA4G9AAAAAAAAQcEAAAAAAAFBwQAAAAAAAgHBAAAAAAACgcEAAAAAAALBwQAAAAAAAsHBAAAAAAACgcEAAAAAAAHBwQAAAAAAAQHBAAAAAAAAwcEAAAAAAACBwQAAAAAAAAHBAAAAAAADgb0AAAAAAAKBvQAAAAAAAgG9AAAAAAAAgb0AAAAAAAKBuQAAAAAAAQG5AAAAAAAAAbkAAAAAAAMBtQAAAAAAAgG1AAAAAAAAgbUAAAAAAAMBsQAAAAAAAYGxAAAAAAADga0AAAAAAAGBrQAAAAAAA4GpAAAAAAABAakAAAAAAAIBpQAAAAAAAwGhAAAAAAAAgaEAAAAAAAGBnQAAAAAAAwGZAAAAAAAAgZkAAAAAAAIBlQAAAAAAAwGRAAAAAAAAgZEAAAAAAAMBjQAAAAAAAYGNAAAAAAADgYkAAAAAAAKBiQAAAAAAAoGJAAAAAAADgYkAAAAAAACBjQAAAAAAAYGNAAAAAAACAY0AAAAAAAMBjQAAAAAAAQGRAAAAAAACgZEA=",
          "dtype": "f8"
         },
         "yaxis": "y"
        }
       ],
       "layout": {
        "legend": {
         "title": {
          "text": "variable"
         },
         "tracegroupgap": 0
        },
        "margin": {
         "t": 60
        },
        "template": {
         "data": {
          "bar": [
           {
            "error_x": {
             "color": "#2a3f5f"
            },
            "error_y": {
             "color": "#2a3f5f"
            },
            "marker": {
             "line": {
              "color": "#E5ECF6",
              "width": 0.5
             },
             "pattern": {
              "fillmode": "overlay",
              "size": 10,
              "solidity": 0.2
             }
            },
            "type": "bar"
           }
          ],
          "barpolar": [
           {
            "marker": {
             "line": {
              "color": "#E5ECF6",
              "width": 0.5
             },
             "pattern": {
              "fillmode": "overlay",
              "size": 10,
              "solidity": 0.2
             }
            },
            "type": "barpolar"
           }
          ],
          "carpet": [
           {
            "aaxis": {
             "endlinecolor": "#2a3f5f",
             "gridcolor": "white",
             "linecolor": "white",
             "minorgridcolor": "white",
             "startlinecolor": "#2a3f5f"
            },
            "baxis": {
             "endlinecolor": "#2a3f5f",
             "gridcolor": "white",
             "linecolor": "white",
             "minorgridcolor": "white",
             "startlinecolor": "#2a3f5f"
            },
            "type": "carpet"
           }
          ],
          "choropleth": [
           {
            "colorbar": {
             "outlinewidth": 0,
             "ticks": ""
            },
            "type": "choropleth"
           }
          ],
          "contour": [
           {
            "colorbar": {
             "outlinewidth": 0,
             "ticks": ""
            },
            "colorscale": [
             [
              0,
              "#0d0887"
             ],
             [
              0.1111111111111111,
              "#46039f"
             ],
             [
              0.2222222222222222,
              "#7201a8"
             ],
             [
              0.3333333333333333,
              "#9c179e"
             ],
             [
              0.4444444444444444,
              "#bd3786"
             ],
             [
              0.5555555555555556,
              "#d8576b"
             ],
             [
              0.6666666666666666,
              "#ed7953"
             ],
             [
              0.7777777777777778,
              "#fb9f3a"
             ],
             [
              0.8888888888888888,
              "#fdca26"
             ],
             [
              1,
              "#f0f921"
             ]
            ],
            "type": "contour"
           }
          ],
          "contourcarpet": [
           {
            "colorbar": {
             "outlinewidth": 0,
             "ticks": ""
            },
            "type": "contourcarpet"
           }
          ],
          "heatmap": [
           {
            "colorbar": {
             "outlinewidth": 0,
             "ticks": ""
            },
            "colorscale": [
             [
              0,
              "#0d0887"
             ],
             [
              0.1111111111111111,
              "#46039f"
             ],
             [
              0.2222222222222222,
              "#7201a8"
             ],
             [
              0.3333333333333333,
              "#9c179e"
             ],
             [
              0.4444444444444444,
              "#bd3786"
             ],
             [
              0.5555555555555556,
              "#d8576b"
             ],
             [
              0.6666666666666666,
              "#ed7953"
             ],
             [
              0.7777777777777778,
              "#fb9f3a"
             ],
             [
              0.8888888888888888,
              "#fdca26"
             ],
             [
              1,
              "#f0f921"
             ]
            ],
            "type": "heatmap"
           }
          ],
          "histogram": [
           {
            "marker": {
             "pattern": {
              "fillmode": "overlay",
              "size": 10,
              "solidity": 0.2
             }
            },
            "type": "histogram"
           }
          ],
          "histogram2d": [
           {
            "colorbar": {
             "outlinewidth": 0,
             "ticks": ""
            },
            "colorscale": [
             [
              0,
              "#0d0887"
             ],
             [
              0.1111111111111111,
              "#46039f"
             ],
             [
              0.2222222222222222,
              "#7201a8"
             ],
             [
              0.3333333333333333,
              "#9c179e"
             ],
             [
              0.4444444444444444,
              "#bd3786"
             ],
             [
              0.5555555555555556,
              "#d8576b"
             ],
             [
              0.6666666666666666,
              "#ed7953"
             ],
             [
              0.7777777777777778,
              "#fb9f3a"
             ],
             [
              0.8888888888888888,
              "#fdca26"
             ],
             [
              1,
              "#f0f921"
             ]
            ],
            "type": "histogram2d"
           }
          ],
          "histogram2dcontour": [
           {
            "colorbar": {
             "outlinewidth": 0,
             "ticks": ""
            },
            "colorscale": [
             [
              0,
              "#0d0887"
             ],
             [
              0.1111111111111111,
              "#46039f"
             ],
             [
              0.2222222222222222,
              "#7201a8"
             ],
             [
              0.3333333333333333,
              "#9c179e"
             ],
             [
              0.4444444444444444,
              "#bd3786"
             ],
             [
              0.5555555555555556,
              "#d8576b"
             ],
             [
              0.6666666666666666,
              "#ed7953"
             ],
             [
              0.7777777777777778,
              "#fb9f3a"
             ],
             [
              0.8888888888888888,
              "#fdca26"
             ],
             [
              1,
              "#f0f921"
             ]
            ],
            "type": "histogram2dcontour"
           }
          ],
          "mesh3d": [
           {
            "colorbar": {
             "outlinewidth": 0,
             "ticks": ""
            },
            "type": "mesh3d"
           }
          ],
          "parcoords": [
           {
            "line": {
             "colorbar": {
              "outlinewidth": 0,
              "ticks": ""
             }
            },
            "type": "parcoords"
           }
          ],
          "pie": [
           {
            "automargin": true,
            "type": "pie"
           }
          ],
          "scatter": [
           {
            "fillpattern": {
             "fillmode": "overlay",
             "size": 10,
             "solidity": 0.2
            },
            "type": "scatter"
           }
          ],
          "scatter3d": [
           {
            "line": {
             "colorbar": {
              "outlinewidth": 0,
              "ticks": ""
             }
            },
            "marker": {
             "colorbar": {
              "outlinewidth": 0,
              "ticks": ""
             }
            },
            "type": "scatter3d"
           }
          ],
          "scattercarpet": [
           {
            "marker": {
             "colorbar": {
              "outlinewidth": 0,
              "ticks": ""
             }
            },
            "type": "scattercarpet"
           }
          ],
          "scattergeo": [
           {
            "marker": {
             "colorbar": {
              "outlinewidth": 0,
              "ticks": ""
             }
            },
            "type": "scattergeo"
           }
          ],
          "scattergl": [
           {
            "marker": {
             "colorbar": {
              "outlinewidth": 0,
              "ticks": ""
             }
            },
            "type": "scattergl"
           }
          ],
          "scattermap": [
           {
            "marker": {
             "colorbar": {
              "outlinewidth": 0,
              "ticks": ""
             }
            },
            "type": "scattermap"
           }
          ],
          "scattermapbox": [
           {
            "marker": {
             "colorbar": {
              "outlinewidth": 0,
              "ticks": ""
             }
            },
            "type": "scattermapbox"
           }
          ],
          "scatterpolar": [
           {
            "marker": {
             "colorbar": {
              "outlinewidth": 0,
              "ticks": ""
             }
            },
            "type": "scatterpolar"
           }
          ],
          "scatterpolargl": [
           {
            "marker": {
             "colorbar": {
              "outlinewidth": 0,
              "ticks": ""
             }
            },
            "type": "scatterpolargl"
           }
          ],
          "scatterternary": [
           {
            "marker": {
             "colorbar": {
              "outlinewidth": 0,
              "ticks": ""
             }
            },
            "type": "scatterternary"
           }
          ],
          "surface": [
           {
            "colorbar": {
             "outlinewidth": 0,
             "ticks": ""
            },
            "colorscale": [
             [
              0,
              "#0d0887"
             ],
             [
              0.1111111111111111,
              "#46039f"
             ],
             [
              0.2222222222222222,
              "#7201a8"
             ],
             [
              0.3333333333333333,
              "#9c179e"
             ],
             [
              0.4444444444444444,
              "#bd3786"
             ],
             [
              0.5555555555555556,
              "#d8576b"
             ],
             [
              0.6666666666666666,
              "#ed7953"
             ],
             [
              0.7777777777777778,
              "#fb9f3a"
             ],
             [
              0.8888888888888888,
              "#fdca26"
             ],
             [
              1,
              "#f0f921"
             ]
            ],
            "type": "surface"
           }
          ],
          "table": [
           {
            "cells": {
             "fill": {
              "color": "#EBF0F8"
             },
             "line": {
              "color": "white"
             }
            },
            "header": {
             "fill": {
              "color": "#C8D4E3"
             },
             "line": {
              "color": "white"
             }
            },
            "type": "table"
           }
          ]
         },
         "layout": {
          "annotationdefaults": {
           "arrowcolor": "#2a3f5f",
           "arrowhead": 0,
           "arrowwidth": 1
          },
          "autotypenumbers": "strict",
          "coloraxis": {
           "colorbar": {
            "outlinewidth": 0,
            "ticks": ""
           }
          },
          "colorscale": {
           "diverging": [
            [
             0,
             "#8e0152"
            ],
            [
             0.1,
             "#c51b7d"
            ],
            [
             0.2,
             "#de77ae"
            ],
            [
             0.3,
             "#f1b6da"
            ],
            [
             0.4,
             "#fde0ef"
            ],
            [
             0.5,
             "#f7f7f7"
            ],
            [
             0.6,
             "#e6f5d0"
            ],
            [
             0.7,
             "#b8e186"
            ],
            [
             0.8,
             "#7fbc41"
            ],
            [
             0.9,
             "#4d9221"
            ],
            [
             1,
             "#276419"
            ]
           ],
           "sequential": [
            [
             0,
             "#0d0887"
            ],
            [
             0.1111111111111111,
             "#46039f"
            ],
            [
             0.2222222222222222,
             "#7201a8"
            ],
            [
             0.3333333333333333,
             "#9c179e"
            ],
            [
             0.4444444444444444,
             "#bd3786"
            ],
            [
             0.5555555555555556,
             "#d8576b"
            ],
            [
             0.6666666666666666,
             "#ed7953"
            ],
            [
             0.7777777777777778,
             "#fb9f3a"
            ],
            [
             0.8888888888888888,
             "#fdca26"
            ],
            [
             1,
             "#f0f921"
            ]
           ],
           "sequentialminus": [
            [
             0,
             "#0d0887"
            ],
            [
             0.1111111111111111,
             "#46039f"
            ],
            [
             0.2222222222222222,
             "#7201a8"
            ],
            [
             0.3333333333333333,
             "#9c179e"
            ],
            [
             0.4444444444444444,
             "#bd3786"
            ],
            [
             0.5555555555555556,
             "#d8576b"
            ],
            [
             0.6666666666666666,
             "#ed7953"
            ],
            [
             0.7777777777777778,
             "#fb9f3a"
            ],
            [
             0.8888888888888888,
             "#fdca26"
            ],
            [
             1,
             "#f0f921"
            ]
           ]
          },
          "colorway": [
           "#636efa",
           "#EF553B",
           "#00cc96",
           "#ab63fa",
           "#FFA15A",
           "#19d3f3",
           "#FF6692",
           "#B6E880",
           "#FF97FF",
           "#FECB52"
          ],
          "font": {
           "color": "#2a3f5f"
          },
          "geo": {
           "bgcolor": "white",
           "lakecolor": "white",
           "landcolor": "#E5ECF6",
           "showlakes": true,
           "showland": true,
           "subunitcolor": "white"
          },
          "hoverlabel": {
           "align": "left"
          },
          "hovermode": "closest",
          "mapbox": {
           "style": "light"
          },
          "paper_bgcolor": "white",
          "plot_bgcolor": "#E5ECF6",
          "polar": {
           "angularaxis": {
            "gridcolor": "white",
            "linecolor": "white",
            "ticks": ""
           },
           "bgcolor": "#E5ECF6",
           "radialaxis": {
            "gridcolor": "white",
            "linecolor": "white",
            "ticks": ""
           }
          },
          "scene": {
           "xaxis": {
            "backgroundcolor": "#E5ECF6",
            "gridcolor": "white",
            "gridwidth": 2,
            "linecolor": "white",
            "showbackground": true,
            "ticks": "",
            "zerolinecolor": "white"
           },
           "yaxis": {
            "backgroundcolor": "#E5ECF6",
            "gridcolor": "white",
            "gridwidth": 2,
            "linecolor": "white",
            "showbackground": true,
            "ticks": "",
            "zerolinecolor": "white"
           },
           "zaxis": {
            "backgroundcolor": "#E5ECF6",
            "gridcolor": "white",
            "gridwidth": 2,
            "linecolor": "white",
            "showbackground": true,
            "ticks": "",
            "zerolinecolor": "white"
           }
          },
          "shapedefaults": {
           "line": {
            "color": "#2a3f5f"
           }
          },
          "ternary": {
           "aaxis": {
            "gridcolor": "white",
            "linecolor": "white",
            "ticks": ""
           },
           "baxis": {
            "gridcolor": "white",
            "linecolor": "white",
            "ticks": ""
           },
           "bgcolor": "#E5ECF6",
           "caxis": {
            "gridcolor": "white",
            "linecolor": "white",
            "ticks": ""
           }
          },
          "title": {
           "x": 0.05
          },
          "xaxis": {
           "automargin": true,
           "gridcolor": "white",
           "linecolor": "white",
           "ticks": "",
           "title": {
            "standoff": 15
           },
           "zerolinecolor": "white",
           "zerolinewidth": 2
          },
          "yaxis": {
           "automargin": true,
           "gridcolor": "white",
           "linecolor": "white",
           "ticks": "",
           "title": {
            "standoff": 15
           },
           "zerolinecolor": "white",
           "zerolinewidth": 2
          }
         }
        },
        "width": 800,
        "xaxis": {
         "anchor": "y",
         "domain": [
          0,
          1
         ],
         "title": {
          "text": "index"
         }
        },
        "yaxis": {
         "anchor": "x",
         "domain": [
          0,
          1
         ],
         "title": {
          "text": "value"
         }
        }
       }
      },
      "text/html": [
       "<div>                        <script type=\"text/javascript\">window.PlotlyConfig = {MathJaxConfig: 'local'};</script>\n",
       "        <script charset=\"utf-8\" src=\"https://cdn.plot.ly/plotly-3.0.1.min.js\" integrity=\"sha256-oy6Be7Eh6eiQFs5M7oXuPxxm9qbJXEtTpfSI93dW16Q=\" crossorigin=\"anonymous\"></script>                <div id=\"4af45366-d0af-49f5-975b-18c2eec5f1ca\" class=\"plotly-graph-div\" style=\"height:100%; width:800px;\"></div>            <script type=\"text/javascript\">                window.PLOTLYENV=window.PLOTLYENV || {};                                if (document.getElementById(\"4af45366-d0af-49f5-975b-18c2eec5f1ca\")) {                    Plotly.newPlot(                        \"4af45366-d0af-49f5-975b-18c2eec5f1ca\",                        [{\"hovertemplate\":\"variable=raw\\u003cbr\\u003eindex=%{x}\\u003cbr\\u003evalue=%{y}\\u003cextra\\u003e\\u003c\\u002fextra\\u003e\",\"legendgroup\":\"raw\",\"line\":{\"color\":\"#636efa\",\"dash\":\"solid\"},\"marker\":{\"symbol\":\"circle\"},\"mode\":\"lines\",\"name\":\"raw\",\"orientation\":\"v\",\"showlegend\":true,\"x\":{\"dtype\":\"i2\",\"bdata\":\"LAEtAS4BLwEwATEBMgEzATQBNQE2ATcBOAE5AToBOwE8AT0BPgE\\u002fAUABQQFCAUMBRAFFAUYBRwFIAUkBSgFLAUwBTQFOAU8BUAFRAVIBUwFUAVUBVgFXAVgBWQFaAVsBXAFdAV4BXwFgAWEBYgFjAWQBZQFmAWcBaAFpAWoBawFsAW0BbgFvAXABcQFyAXMBdAF1AXYBdwF4AXkBegF7AXwBfQF+AX8BgAGBAYIBgwGEAYUBhgGHAYgBiQGKAYsBjAGNAY4BjwE=\"},\"xaxis\":\"x\",\"y\":{\"dtype\":\"f8\",\"bdata\":\"obNOmdzqaUBoYsLqzDZqQK\\u002frXBT8ZGpAVd8BICtpakAVR2edMtFqQCV+jLlrRWtAkJ09FTOJa0CzKsonaMRrQDuDyyZ\\u002fMWxABsHrtd19bEAwVEfLwpFsQHZjBBP9nWxAWhMTVmembEBze46LKaZsQCNTBaOSlmxARma009J\\u002fbEBsdb+IeXFsQHBcTLFmc2xADSvg3yJQbEBGTxO6jCFsQABAVnJSBWxAPgcch73\\u002fa0DAemIbtO5rQKDrA0uy42tAAh1wHPbia0AGlJLhN+drQKqK8gka1WtACBjjQXa9a0AAS7JPgqtrQL8L4RbvpmtAvXDvnGrKa0AsH002oP5rQJTSN6pVKGxAGk4f\\u002f8gnbECslGWIYy1sQIFEGwKERGxAa89xMcV+bECAGKuMxNtsQCh70Zy4O21AvOu13UWCbUDEgRp9SsltQGOz6nO1FW5Ah6\\u002f4iq9kbkA\\u002fJ0fAZoxuQA1YObTIkm5AD5l4hQHSbkAsFPFYcEBvQGYgmrqtkW9A9lER6M6sb0DzBl+YTMVvQDc5Ajbj\\u002f29AVtWOoeEccEBmZX0HgFpwQOxw+vhHjHBAEmwfsVuvcEBI6gQ0EbJwQBou9MUfu3BA3yFLZOKhcEBCPf96xnJwQKgS5+XxSHBAhiyRiVc6cEAXOyJhHCVwQPgDpHuZC3BAPPy\\u002fqY3tb0Bk1P4LRbxvQBf3J3MwlG9APGwqDTk7b0A826sR\\u002fr5uQLNXI\\u002fwNS25A6YiEcXQSbkBRZ\\u002fb7AtdtQGSojpaFg21Azr3McwMvbUArx2xLIdlsQCpOeMgSbWxADbAZn0f8a0C2zy4gNnFrQND\\u002f9KMi6GpAn1turl1NakBYWPaiOZ1pQBShGUZ+0mhAM5WGnPskaECK5dt+uH1nQJY1dHIE0GZA7JEOkdcoZkDyVbVjaIRlQPJsVn2u0mRAElV+lxUxZECDqEApGd5jQMD1KFyPZmNA3qdtgu37YkAaZcAYD7JiQABiU2nIuWJAVvaiOXHjYkA6AGQlJzFjQFYB\\u002fxahcWNA7AF59IKCY0D44aaEI9djQC\\u002fbUki0SWRA83bJ+\\u002feiZEA=\"},\"yaxis\":\"y\",\"type\":\"scatter\"},{\"hovertemplate\":\"variable=smooth\\u003cbr\\u003eindex=%{x}\\u003cbr\\u003evalue=%{y}\\u003cextra\\u003e\\u003c\\u002fextra\\u003e\",\"legendgroup\":\"smooth\",\"line\":{\"color\":\"#EF553B\",\"dash\":\"solid\"},\"marker\":{\"symbol\":\"circle\"},\"mode\":\"lines\",\"name\":\"smooth\",\"orientation\":\"v\",\"showlegend\":true,\"x\":{\"dtype\":\"i2\",\"bdata\":\"LAEtAS4BLwEwATEBMgEzATQBNQE2ATcBOAE5AToBOwE8AT0BPgE\\u002fAUABQQFCAUMBRAFFAUYBRwFIAUkBSgFLAUwBTQFOAU8BUAFRAVIBUwFUAVUBVgFXAVgBWQFaAVsBXAFdAV4BXwFgAWEBYgFjAWQBZQFmAWcBaAFpAWoBawFsAW0BbgFvAXABcQFyAXMBdAF1AXYBdwF4AXkBegF7AXwBfQF+AX8BgAGBAYIBgwGEAYUBhgGHAYgBiQGKAYsBjAGNAY4BjwE=\"},\"xaxis\":\"x\",\"y\":{\"dtype\":\"f8\",\"bdata\":\"AAAAAADgaUAAAAAAACBqQAAAAAAAYGpAAAAAAABgakAAAAAAAMBqQAAAAAAAQGtAAAAAAACAa0AAAAAAAMBrQAAAAAAAIGxAAAAAAABgbEAAAAAAAIBsQAAAAAAAgGxAAAAAAACgbEAAAAAAAKBsQAAAAAAAgGxAAAAAAABgbEAAAAAAAGBsQAAAAAAAYGxAAAAAAABAbEAAAAAAACBsQAAAAAAAAGxAAAAAAADga0AAAAAAAOBrQAAAAAAA4GtAAAAAAADga0AAAAAAAOBrQAAAAAAAwGtAAAAAAACga0AAAAAAAKBrQAAAAAAAoGtAAAAAAADAa0AAAAAAAOBrQAAAAAAAIGxAAAAAAAAgbEAAAAAAACBsQAAAAAAAQGxAAAAAAABgbEAAAAAAAMBsQAAAAAAAIG1AAAAAAACAbUAAAAAAAMBtQAAAAAAAAG5AAAAAAABgbkAAAAAAAIBuQAAAAAAAgG5AAAAAAADAbkAAAAAAAEBvQAAAAAAAgG9AAAAAAACgb0AAAAAAAMBvQAAAAAAA4G9AAAAAAAAQcEAAAAAAAFBwQAAAAAAAgHBAAAAAAACgcEAAAAAAALBwQAAAAAAAsHBAAAAAAACgcEAAAAAAAHBwQAAAAAAAQHBAAAAAAAAwcEAAAAAAACBwQAAAAAAAAHBAAAAAAADgb0AAAAAAAKBvQAAAAAAAgG9AAAAAAAAgb0AAAAAAAKBuQAAAAAAAQG5AAAAAAAAAbkAAAAAAAMBtQAAAAAAAgG1AAAAAAAAgbUAAAAAAAMBsQAAAAAAAYGxAAAAAAADga0AAAAAAAGBrQAAAAAAA4GpAAAAAAABAakAAAAAAAIBpQAAAAAAAwGhAAAAAAAAgaEAAAAAAAGBnQAAAAAAAwGZAAAAAAAAgZkAAAAAAAIBlQAAAAAAAwGRAAAAAAAAgZEAAAAAAAMBjQAAAAAAAYGNAAAAAAADgYkAAAAAAAKBiQAAAAAAAoGJAAAAAAADgYkAAAAAAACBjQAAAAAAAYGNAAAAAAACAY0AAAAAAAMBjQAAAAAAAQGRAAAAAAACgZEA=\"},\"yaxis\":\"y\",\"type\":\"scatter\"}],                        {\"template\":{\"data\":{\"histogram2dcontour\":[{\"type\":\"histogram2dcontour\",\"colorbar\":{\"outlinewidth\":0,\"ticks\":\"\"},\"colorscale\":[[0.0,\"#0d0887\"],[0.1111111111111111,\"#46039f\"],[0.2222222222222222,\"#7201a8\"],[0.3333333333333333,\"#9c179e\"],[0.4444444444444444,\"#bd3786\"],[0.5555555555555556,\"#d8576b\"],[0.6666666666666666,\"#ed7953\"],[0.7777777777777778,\"#fb9f3a\"],[0.8888888888888888,\"#fdca26\"],[1.0,\"#f0f921\"]]}],\"choropleth\":[{\"type\":\"choropleth\",\"colorbar\":{\"outlinewidth\":0,\"ticks\":\"\"}}],\"histogram2d\":[{\"type\":\"histogram2d\",\"colorbar\":{\"outlinewidth\":0,\"ticks\":\"\"},\"colorscale\":[[0.0,\"#0d0887\"],[0.1111111111111111,\"#46039f\"],[0.2222222222222222,\"#7201a8\"],[0.3333333333333333,\"#9c179e\"],[0.4444444444444444,\"#bd3786\"],[0.5555555555555556,\"#d8576b\"],[0.6666666666666666,\"#ed7953\"],[0.7777777777777778,\"#fb9f3a\"],[0.8888888888888888,\"#fdca26\"],[1.0,\"#f0f921\"]]}],\"heatmap\":[{\"type\":\"heatmap\",\"colorbar\":{\"outlinewidth\":0,\"ticks\":\"\"},\"colorscale\":[[0.0,\"#0d0887\"],[0.1111111111111111,\"#46039f\"],[0.2222222222222222,\"#7201a8\"],[0.3333333333333333,\"#9c179e\"],[0.4444444444444444,\"#bd3786\"],[0.5555555555555556,\"#d8576b\"],[0.6666666666666666,\"#ed7953\"],[0.7777777777777778,\"#fb9f3a\"],[0.8888888888888888,\"#fdca26\"],[1.0,\"#f0f921\"]]}],\"contourcarpet\":[{\"type\":\"contourcarpet\",\"colorbar\":{\"outlinewidth\":0,\"ticks\":\"\"}}],\"contour\":[{\"type\":\"contour\",\"colorbar\":{\"outlinewidth\":0,\"ticks\":\"\"},\"colorscale\":[[0.0,\"#0d0887\"],[0.1111111111111111,\"#46039f\"],[0.2222222222222222,\"#7201a8\"],[0.3333333333333333,\"#9c179e\"],[0.4444444444444444,\"#bd3786\"],[0.5555555555555556,\"#d8576b\"],[0.6666666666666666,\"#ed7953\"],[0.7777777777777778,\"#fb9f3a\"],[0.8888888888888888,\"#fdca26\"],[1.0,\"#f0f921\"]]}],\"surface\":[{\"type\":\"surface\",\"colorbar\":{\"outlinewidth\":0,\"ticks\":\"\"},\"colorscale\":[[0.0,\"#0d0887\"],[0.1111111111111111,\"#46039f\"],[0.2222222222222222,\"#7201a8\"],[0.3333333333333333,\"#9c179e\"],[0.4444444444444444,\"#bd3786\"],[0.5555555555555556,\"#d8576b\"],[0.6666666666666666,\"#ed7953\"],[0.7777777777777778,\"#fb9f3a\"],[0.8888888888888888,\"#fdca26\"],[1.0,\"#f0f921\"]]}],\"mesh3d\":[{\"type\":\"mesh3d\",\"colorbar\":{\"outlinewidth\":0,\"ticks\":\"\"}}],\"scatter\":[{\"fillpattern\":{\"fillmode\":\"overlay\",\"size\":10,\"solidity\":0.2},\"type\":\"scatter\"}],\"parcoords\":[{\"type\":\"parcoords\",\"line\":{\"colorbar\":{\"outlinewidth\":0,\"ticks\":\"\"}}}],\"scatterpolargl\":[{\"type\":\"scatterpolargl\",\"marker\":{\"colorbar\":{\"outlinewidth\":0,\"ticks\":\"\"}}}],\"bar\":[{\"error_x\":{\"color\":\"#2a3f5f\"},\"error_y\":{\"color\":\"#2a3f5f\"},\"marker\":{\"line\":{\"color\":\"#E5ECF6\",\"width\":0.5},\"pattern\":{\"fillmode\":\"overlay\",\"size\":10,\"solidity\":0.2}},\"type\":\"bar\"}],\"scattergeo\":[{\"type\":\"scattergeo\",\"marker\":{\"colorbar\":{\"outlinewidth\":0,\"ticks\":\"\"}}}],\"scatterpolar\":[{\"type\":\"scatterpolar\",\"marker\":{\"colorbar\":{\"outlinewidth\":0,\"ticks\":\"\"}}}],\"histogram\":[{\"marker\":{\"pattern\":{\"fillmode\":\"overlay\",\"size\":10,\"solidity\":0.2}},\"type\":\"histogram\"}],\"scattergl\":[{\"type\":\"scattergl\",\"marker\":{\"colorbar\":{\"outlinewidth\":0,\"ticks\":\"\"}}}],\"scatter3d\":[{\"type\":\"scatter3d\",\"line\":{\"colorbar\":{\"outlinewidth\":0,\"ticks\":\"\"}},\"marker\":{\"colorbar\":{\"outlinewidth\":0,\"ticks\":\"\"}}}],\"scattermap\":[{\"type\":\"scattermap\",\"marker\":{\"colorbar\":{\"outlinewidth\":0,\"ticks\":\"\"}}}],\"scattermapbox\":[{\"type\":\"scattermapbox\",\"marker\":{\"colorbar\":{\"outlinewidth\":0,\"ticks\":\"\"}}}],\"scatterternary\":[{\"type\":\"scatterternary\",\"marker\":{\"colorbar\":{\"outlinewidth\":0,\"ticks\":\"\"}}}],\"scattercarpet\":[{\"type\":\"scattercarpet\",\"marker\":{\"colorbar\":{\"outlinewidth\":0,\"ticks\":\"\"}}}],\"carpet\":[{\"aaxis\":{\"endlinecolor\":\"#2a3f5f\",\"gridcolor\":\"white\",\"linecolor\":\"white\",\"minorgridcolor\":\"white\",\"startlinecolor\":\"#2a3f5f\"},\"baxis\":{\"endlinecolor\":\"#2a3f5f\",\"gridcolor\":\"white\",\"linecolor\":\"white\",\"minorgridcolor\":\"white\",\"startlinecolor\":\"#2a3f5f\"},\"type\":\"carpet\"}],\"table\":[{\"cells\":{\"fill\":{\"color\":\"#EBF0F8\"},\"line\":{\"color\":\"white\"}},\"header\":{\"fill\":{\"color\":\"#C8D4E3\"},\"line\":{\"color\":\"white\"}},\"type\":\"table\"}],\"barpolar\":[{\"marker\":{\"line\":{\"color\":\"#E5ECF6\",\"width\":0.5},\"pattern\":{\"fillmode\":\"overlay\",\"size\":10,\"solidity\":0.2}},\"type\":\"barpolar\"}],\"pie\":[{\"automargin\":true,\"type\":\"pie\"}]},\"layout\":{\"autotypenumbers\":\"strict\",\"colorway\":[\"#636efa\",\"#EF553B\",\"#00cc96\",\"#ab63fa\",\"#FFA15A\",\"#19d3f3\",\"#FF6692\",\"#B6E880\",\"#FF97FF\",\"#FECB52\"],\"font\":{\"color\":\"#2a3f5f\"},\"hovermode\":\"closest\",\"hoverlabel\":{\"align\":\"left\"},\"paper_bgcolor\":\"white\",\"plot_bgcolor\":\"#E5ECF6\",\"polar\":{\"bgcolor\":\"#E5ECF6\",\"angularaxis\":{\"gridcolor\":\"white\",\"linecolor\":\"white\",\"ticks\":\"\"},\"radialaxis\":{\"gridcolor\":\"white\",\"linecolor\":\"white\",\"ticks\":\"\"}},\"ternary\":{\"bgcolor\":\"#E5ECF6\",\"aaxis\":{\"gridcolor\":\"white\",\"linecolor\":\"white\",\"ticks\":\"\"},\"baxis\":{\"gridcolor\":\"white\",\"linecolor\":\"white\",\"ticks\":\"\"},\"caxis\":{\"gridcolor\":\"white\",\"linecolor\":\"white\",\"ticks\":\"\"}},\"coloraxis\":{\"colorbar\":{\"outlinewidth\":0,\"ticks\":\"\"}},\"colorscale\":{\"sequential\":[[0.0,\"#0d0887\"],[0.1111111111111111,\"#46039f\"],[0.2222222222222222,\"#7201a8\"],[0.3333333333333333,\"#9c179e\"],[0.4444444444444444,\"#bd3786\"],[0.5555555555555556,\"#d8576b\"],[0.6666666666666666,\"#ed7953\"],[0.7777777777777778,\"#fb9f3a\"],[0.8888888888888888,\"#fdca26\"],[1.0,\"#f0f921\"]],\"sequentialminus\":[[0.0,\"#0d0887\"],[0.1111111111111111,\"#46039f\"],[0.2222222222222222,\"#7201a8\"],[0.3333333333333333,\"#9c179e\"],[0.4444444444444444,\"#bd3786\"],[0.5555555555555556,\"#d8576b\"],[0.6666666666666666,\"#ed7953\"],[0.7777777777777778,\"#fb9f3a\"],[0.8888888888888888,\"#fdca26\"],[1.0,\"#f0f921\"]],\"diverging\":[[0,\"#8e0152\"],[0.1,\"#c51b7d\"],[0.2,\"#de77ae\"],[0.3,\"#f1b6da\"],[0.4,\"#fde0ef\"],[0.5,\"#f7f7f7\"],[0.6,\"#e6f5d0\"],[0.7,\"#b8e186\"],[0.8,\"#7fbc41\"],[0.9,\"#4d9221\"],[1,\"#276419\"]]},\"xaxis\":{\"gridcolor\":\"white\",\"linecolor\":\"white\",\"ticks\":\"\",\"title\":{\"standoff\":15},\"zerolinecolor\":\"white\",\"automargin\":true,\"zerolinewidth\":2},\"yaxis\":{\"gridcolor\":\"white\",\"linecolor\":\"white\",\"ticks\":\"\",\"title\":{\"standoff\":15},\"zerolinecolor\":\"white\",\"automargin\":true,\"zerolinewidth\":2},\"scene\":{\"xaxis\":{\"backgroundcolor\":\"#E5ECF6\",\"gridcolor\":\"white\",\"linecolor\":\"white\",\"showbackground\":true,\"ticks\":\"\",\"zerolinecolor\":\"white\",\"gridwidth\":2},\"yaxis\":{\"backgroundcolor\":\"#E5ECF6\",\"gridcolor\":\"white\",\"linecolor\":\"white\",\"showbackground\":true,\"ticks\":\"\",\"zerolinecolor\":\"white\",\"gridwidth\":2},\"zaxis\":{\"backgroundcolor\":\"#E5ECF6\",\"gridcolor\":\"white\",\"linecolor\":\"white\",\"showbackground\":true,\"ticks\":\"\",\"zerolinecolor\":\"white\",\"gridwidth\":2}},\"shapedefaults\":{\"line\":{\"color\":\"#2a3f5f\"}},\"annotationdefaults\":{\"arrowcolor\":\"#2a3f5f\",\"arrowhead\":0,\"arrowwidth\":1},\"geo\":{\"bgcolor\":\"white\",\"landcolor\":\"#E5ECF6\",\"subunitcolor\":\"white\",\"showland\":true,\"showlakes\":true,\"lakecolor\":\"white\"},\"title\":{\"x\":0.05},\"mapbox\":{\"style\":\"light\"}}},\"xaxis\":{\"anchor\":\"y\",\"domain\":[0.0,1.0],\"title\":{\"text\":\"index\"}},\"yaxis\":{\"anchor\":\"x\",\"domain\":[0.0,1.0],\"title\":{\"text\":\"value\"}},\"legend\":{\"title\":{\"text\":\"variable\"},\"tracegroupgap\":0},\"margin\":{\"t\":60},\"width\":800},                        {\"responsive\": true}                    )                };            </script>        </div>"
      ],
      "text/plain": [
       "Figure({\n",
       "    'data': [{'hovertemplate': 'variable=raw<br>index=%{x}<br>value=%{y}<extra></extra>',\n",
       "              'legendgroup': 'raw',\n",
       "              'line': {'color': '#636efa', 'dash': 'solid'},\n",
       "              'marker': {'symbol': 'circle'},\n",
       "              'mode': 'lines',\n",
       "              'name': 'raw',\n",
       "              'orientation': 'v',\n",
       "              'showlegend': True,\n",
       "              'type': 'scatter',\n",
       "              'x': {'bdata': ('LAEtAS4BLwEwATEBMgEzATQBNQE2AT' ... 'UBhgGHAYgBiQGKAYsBjAGNAY4BjwE='),\n",
       "                    'dtype': 'i2'},\n",
       "              'xaxis': 'x',\n",
       "              'y': {'bdata': ('obNOmdzqaUBoYsLqzDZqQK/rXBT8ZG' ... 'aEI9djQC/bUki0SWRA83bJ+/eiZEA='),\n",
       "                    'dtype': 'f8'},\n",
       "              'yaxis': 'y'},\n",
       "             {'hovertemplate': 'variable=smooth<br>index=%{x}<br>value=%{y}<extra></extra>',\n",
       "              'legendgroup': 'smooth',\n",
       "              'line': {'color': '#EF553B', 'dash': 'solid'},\n",
       "              'marker': {'symbol': 'circle'},\n",
       "              'mode': 'lines',\n",
       "              'name': 'smooth',\n",
       "              'orientation': 'v',\n",
       "              'showlegend': True,\n",
       "              'type': 'scatter',\n",
       "              'x': {'bdata': ('LAEtAS4BLwEwATEBMgEzATQBNQE2AT' ... 'UBhgGHAYgBiQGKAYsBjAGNAY4BjwE='),\n",
       "                    'dtype': 'i2'},\n",
       "              'xaxis': 'x',\n",
       "              'y': {'bdata': ('AAAAAADgaUAAAAAAACBqQAAAAAAAYG' ... 'AAAMBjQAAAAAAAQGRAAAAAAACgZEA='),\n",
       "                    'dtype': 'f8'},\n",
       "              'yaxis': 'y'}],\n",
       "    'layout': {'legend': {'title': {'text': 'variable'}, 'tracegroupgap': 0},\n",
       "               'margin': {'t': 60},\n",
       "               'template': '...',\n",
       "               'width': 800,\n",
       "               'xaxis': {'anchor': 'y', 'domain': [0.0, 1.0], 'title': {'text': 'index'}},\n",
       "               'yaxis': {'anchor': 'x', 'domain': [0.0, 1.0], 'title': {'text': 'value'}}}\n",
       "})"
      ]
     },
     "execution_count": 7,
     "metadata": {},
     "output_type": "execute_result"
    }
   ],
   "source": [
    "# Comparison of point trace\n",
    "px.line(plot_comp, width=800)"
   ]
  },
  {
   "cell_type": "markdown",
   "id": "eba002f1",
   "metadata": {},
   "source": [
    "### ROI analysis"
   ]
  },
  {
   "cell_type": "code",
   "execution_count": 9,
   "id": "20fa7037",
   "metadata": {},
   "outputs": [],
   "source": [
    "df_centroid = (\n",
    "    df\n",
    "    .loc[:, (individuals, bodyparts, [\"x\", \"y\"])]\n",
    "    .T # because of pandas structure\n",
    "    .groupby(level=[\"individuals\", \"coords\"])\n",
    "    .mean()\n",
    "    .T   \n",
    ")"
   ]
  },
  {
   "cell_type": "code",
   "execution_count": 10,
   "id": "83d7c1aa",
   "metadata": {},
   "outputs": [],
   "source": [
    "# Building ROI conditions\n",
    "in_center = pd.DataFrame(index=df_centroid.index, columns=individuals, dtype=bool)\n",
    "\n",
    "for ind in individuals:\n",
    "    condition = (\n",
    "        (df_centroid.loc[:, (ind, \"x\")].between(400, 600)) & \n",
    "        (df_centroid.loc[:, (ind, \"y\")].between(250, 400))\n",
    "    )\n",
    "    in_center.loc[:, ind] = condition.values"
   ]
  },
  {
   "cell_type": "code",
   "execution_count": 11,
   "id": "19fd53ed",
   "metadata": {},
   "outputs": [
    {
     "name": "stdout",
     "output_type": "stream",
     "text": [
      "(array([1568, 2166, 3478]), array([1578, 2172, 3491]), array([11,  7, 14]))\n",
      "(array([ 458, 2060, 2374, 2568, 3766, 4278, 4299, 4706, 5976]), array([ 469, 2076, 2386, 2580, 3793, 4284, 4331, 4723, 6001]), array([12, 17, 13, 13, 28,  7, 33, 18, 26]))\n",
      "(array([], dtype=int64), array([], dtype=int64), array([], dtype=int64))\n"
     ]
    }
   ],
   "source": [
    "print(find_binary_sequence_borders(in_center[\"black_tail\"]))\n",
    "print(find_binary_sequence_borders(in_center[\"non-marked\"]))\n",
    "print(find_binary_sequence_borders(in_center.all(axis=1)))"
   ]
  },
  {
   "cell_type": "markdown",
   "id": "d64618d2",
   "metadata": {},
   "source": [
    "### Kinematics"
   ]
  },
  {
   "cell_type": "code",
   "execution_count": 13,
   "id": "4bda0989",
   "metadata": {},
   "outputs": [],
   "source": [
    "# Calculate velocity and acceleration\n",
    "df_velocity = df_centroid.diff().fillna(0)\n",
    "df_acceleration = df_velocity.diff()\n",
    "df_dist_traveled = pd.DataFrame(index=df_centroid.index, columns=individuals, dtype=float)\n",
    "\n",
    "for ind in individuals:\n",
    "    df_dist_traveled.loc[1:, ind] = np.linalg.norm(df_centroid.loc[:len(df_centroid)-2, (ind)].values - \n",
    "                                                   df_centroid.loc[1:, (ind)].values, axis=1) \n",
    "df_dist_traveled = df_dist_traveled.fillna(0)"
   ]
  },
  {
   "cell_type": "code",
   "execution_count": 14,
   "id": "c4b208c3",
   "metadata": {},
   "outputs": [
    {
     "data": {
      "text/plain": [
       "individuals\n",
       "black_tail    18688.956409\n",
       "non-marked    15436.785934\n",
       "dtype: float64"
      ]
     },
     "execution_count": 14,
     "metadata": {},
     "output_type": "execute_result"
    }
   ],
   "source": [
    "real_size_proportion = 266/450 # mm per pixel\n",
    "framerate = 50\n",
    "\n",
    "distance_traveled = df_dist_traveled * real_size_proportion\n",
    "distance_traveled.sum()"
   ]
  },
  {
   "cell_type": "code",
   "execution_count": 17,
   "id": "f7c74407",
   "metadata": {},
   "outputs": [
    {
     "name": "stdout",
     "output_type": "stream",
     "text": [
      "individuals\n",
      "black_tail    154.454185\n",
      "non-marked    127.576743\n",
      "dtype: float64\n"
     ]
    }
   ],
   "source": [
    "average_speed = distance_traveled.groupby(distance_traveled.index//framerate).sum().mean()\n",
    "print(average_speed)"
   ]
  },
  {
   "cell_type": "markdown",
   "id": "64db3cde",
   "metadata": {},
   "source": [
    "For rulebased heuristics, look into the videos, look at example behaviors and try to find metrics in this specific data, then build a rule based on that (eg rearing, head outside of cage edges, acceleration...)"
   ]
  },
  {
   "cell_type": "code",
   "execution_count": 18,
   "id": "d9027743",
   "metadata": {},
   "outputs": [],
   "source": [
    "# Calculate nose to nose distances\n",
    "df_nose = df.loc[:, (individuals, \"nose\", [\"x\", \"y\"])].droplevel(\"bodyparts\", axis=1)\n",
    "nose_distance = np.linalg.norm(df_nose.iloc[:, :2].values - df_nose.iloc[:, 2:].values, axis=1)"
   ]
  },
  {
   "cell_type": "code",
   "execution_count": 19,
   "id": "8422024e",
   "metadata": {},
   "outputs": [
    {
     "data": {
      "text/plain": [
       "(array([ 332,  662, 1461, 1882, 2236, 3110, 3524, 4663, 5114, 5481, 5702,\n",
       "        5707]),\n",
       " array([ 334,  679, 1482, 1898, 2256, 3146, 3539, 4676, 5126, 5492, 5705,\n",
       "        5710]),\n",
       " array([ 3, 18, 22, 17, 21, 37, 16, 14, 13, 12,  4,  4]))"
      ]
     },
     "execution_count": 19,
     "metadata": {},
     "output_type": "execute_result"
    }
   ],
   "source": [
    "find_binary_sequence_borders(nose_distance < 50)"
   ]
  },
  {
   "cell_type": "code",
   "execution_count": 28,
   "id": "32cf0c7d",
   "metadata": {},
   "outputs": [],
   "source": [
    "plot_df = (\n",
    "    df.loc[4663:4673]\n",
    "    .stack(level=[\"individuals\", \"bodyparts\"], future_stack=True)\n",
    "    .reset_index()\n",
    ")"
   ]
  },
  {
   "cell_type": "code",
   "execution_count": 29,
   "id": "50ed99b0",
   "metadata": {},
   "outputs": [
    {
     "ename": "ValueError",
     "evalue": "Mime type rendering requires nbformat>=4.2.0 but it is not installed",
     "output_type": "error",
     "traceback": [
      "\u001b[31m---------------------------------------------------------------------------\u001b[39m",
      "\u001b[31mValueError\u001b[39m                                Traceback (most recent call last)",
      "\u001b[36mFile \u001b[39m\u001b[32mc:\\Code\\Ambros_analysis\\.conda\\Lib\\site-packages\\IPython\\core\\formatters.py:984\u001b[39m, in \u001b[36mIPythonDisplayFormatter.__call__\u001b[39m\u001b[34m(self, obj)\u001b[39m\n\u001b[32m    982\u001b[39m method = get_real_method(obj, \u001b[38;5;28mself\u001b[39m.print_method)\n\u001b[32m    983\u001b[39m \u001b[38;5;28;01mif\u001b[39;00m method \u001b[38;5;129;01mis\u001b[39;00m \u001b[38;5;129;01mnot\u001b[39;00m \u001b[38;5;28;01mNone\u001b[39;00m:\n\u001b[32m--> \u001b[39m\u001b[32m984\u001b[39m     \u001b[43mmethod\u001b[49m\u001b[43m(\u001b[49m\u001b[43m)\u001b[49m\n\u001b[32m    985\u001b[39m     \u001b[38;5;28;01mreturn\u001b[39;00m \u001b[38;5;28;01mTrue\u001b[39;00m\n",
      "\u001b[36mFile \u001b[39m\u001b[32mc:\\Code\\Ambros_analysis\\.conda\\Lib\\site-packages\\plotly\\basedatatypes.py:850\u001b[39m, in \u001b[36mBaseFigure._ipython_display_\u001b[39m\u001b[34m(self)\u001b[39m\n\u001b[32m    847\u001b[39m \u001b[38;5;28;01mimport\u001b[39;00m\u001b[38;5;250m \u001b[39m\u001b[34;01mplotly\u001b[39;00m\u001b[34;01m.\u001b[39;00m\u001b[34;01mio\u001b[39;00m\u001b[38;5;250m \u001b[39m\u001b[38;5;28;01mas\u001b[39;00m\u001b[38;5;250m \u001b[39m\u001b[34;01mpio\u001b[39;00m\n\u001b[32m    849\u001b[39m \u001b[38;5;28;01mif\u001b[39;00m pio.renderers.render_on_display \u001b[38;5;129;01mand\u001b[39;00m pio.renderers.default:\n\u001b[32m--> \u001b[39m\u001b[32m850\u001b[39m     \u001b[43mpio\u001b[49m\u001b[43m.\u001b[49m\u001b[43mshow\u001b[49m\u001b[43m(\u001b[49m\u001b[38;5;28;43mself\u001b[39;49m\u001b[43m)\u001b[49m\n\u001b[32m    851\u001b[39m \u001b[38;5;28;01melse\u001b[39;00m:\n\u001b[32m    852\u001b[39m     \u001b[38;5;28mprint\u001b[39m(\u001b[38;5;28mrepr\u001b[39m(\u001b[38;5;28mself\u001b[39m))\n",
      "\u001b[36mFile \u001b[39m\u001b[32mc:\\Code\\Ambros_analysis\\.conda\\Lib\\site-packages\\plotly\\io\\_renderers.py:415\u001b[39m, in \u001b[36mshow\u001b[39m\u001b[34m(fig, renderer, validate, **kwargs)\u001b[39m\n\u001b[32m    410\u001b[39m     \u001b[38;5;28;01mraise\u001b[39;00m \u001b[38;5;167;01mValueError\u001b[39;00m(\n\u001b[32m    411\u001b[39m         \u001b[33m\"\u001b[39m\u001b[33mMime type rendering requires ipython but it is not installed\u001b[39m\u001b[33m\"\u001b[39m\n\u001b[32m    412\u001b[39m     )\n\u001b[32m    414\u001b[39m \u001b[38;5;28;01mif\u001b[39;00m \u001b[38;5;129;01mnot\u001b[39;00m nbformat \u001b[38;5;129;01mor\u001b[39;00m Version(nbformat.__version__) < Version(\u001b[33m\"\u001b[39m\u001b[33m4.2.0\u001b[39m\u001b[33m\"\u001b[39m):\n\u001b[32m--> \u001b[39m\u001b[32m415\u001b[39m     \u001b[38;5;28;01mraise\u001b[39;00m \u001b[38;5;167;01mValueError\u001b[39;00m(\n\u001b[32m    416\u001b[39m         \u001b[33m\"\u001b[39m\u001b[33mMime type rendering requires nbformat>=4.2.0 but it is not installed\u001b[39m\u001b[33m\"\u001b[39m\n\u001b[32m    417\u001b[39m     )\n\u001b[32m    419\u001b[39m display_jupyter_version_warnings()\n\u001b[32m    421\u001b[39m ipython_display.display(bundle, raw=\u001b[38;5;28;01mTrue\u001b[39;00m)\n",
      "\u001b[31mValueError\u001b[39m: Mime type rendering requires nbformat>=4.2.0 but it is not installed"
     ]
    },
    {
     "data": {
      "application/vnd.plotly.v1+json": {
       "config": {
        "plotlyServerURL": "https://plot.ly"
       },
       "data": [
        {
         "hovertemplate": "individuals=black_tail<br>level_0=4663<br>x=%{x}<br>y=%{y}<extra></extra>",
         "legendgroup": "black_tail",
         "marker": {
          "color": "#636efa",
          "size": 5,
          "symbol": "circle"
         },
         "mode": "markers",
         "name": "black_tail",
         "orientation": "v",
         "showlegend": true,
         "type": "scatter",
         "x": {
          "bdata": "FwEtAUgBYQHsAP4ABgE1AWYBFQFHAfwA6wAOAf8ANAF6AQ==",
          "dtype": "i2"
         },
         "xaxis": "x",
         "y": {
          "bdata": "YwF4AYwBngFEATUBUAGuAWYBkgFdAVsBLwFHAXUBTAGwAQ==",
          "dtype": "i2"
         },
         "yaxis": "y"
        },
        {
         "hovertemplate": "individuals=non-marked<br>level_0=4663<br>x=%{x}<br>y=%{y}<extra></extra>",
         "legendgroup": "non-marked",
         "marker": {
          "color": "#EF553B",
          "size": 5,
          "symbol": "circle"
         },
         "mode": "markers",
         "name": "non-marked",
         "orientation": "v",
         "showlegend": true,
         "type": "scatter",
         "x": {
          "bdata": "sACyALkAwQDLALIAtADoAJQA2wCSAMIAxACqANoAlADNAA==",
          "dtype": "i2"
         },
         "xaxis": "x",
         "y": {
          "bdata": "5QDJAKkAjQAUARsB/gC9AKIA0QDEAPsAJgH/AOsA7AB1AA==",
          "dtype": "i2"
         },
         "yaxis": "y"
        }
       ],
       "frames": [
        {
         "data": [
          {
           "hovertemplate": "individuals=black_tail<br>level_0=4663<br>x=%{x}<br>y=%{y}<extra></extra>",
           "legendgroup": "black_tail",
           "marker": {
            "color": "#636efa",
            "symbol": "circle"
           },
           "mode": "markers",
           "name": "black_tail",
           "orientation": "v",
           "showlegend": true,
           "type": "scatter",
           "x": {
            "bdata": "FwEtAUgBYQHsAP4ABgE1AWYBFQFHAfwA6wAOAf8ANAF6AQ==",
            "dtype": "i2"
           },
           "xaxis": "x",
           "y": {
            "bdata": "YwF4AYwBngFEATUBUAGuAWYBkgFdAVsBLwFHAXUBTAGwAQ==",
            "dtype": "i2"
           },
           "yaxis": "y"
          },
          {
           "hovertemplate": "individuals=non-marked<br>level_0=4663<br>x=%{x}<br>y=%{y}<extra></extra>",
           "legendgroup": "non-marked",
           "marker": {
            "color": "#EF553B",
            "symbol": "circle"
           },
           "mode": "markers",
           "name": "non-marked",
           "orientation": "v",
           "showlegend": true,
           "type": "scatter",
           "x": {
            "bdata": "sACyALkAwQDLALIAtADoAJQA2wCSAMIAxACqANoAlADNAA==",
            "dtype": "i2"
           },
           "xaxis": "x",
           "y": {
            "bdata": "5QDJAKkAjQAUARsB/gC9AKIA0QDEAPsAJgH/AOsA7AB1AA==",
            "dtype": "i2"
           },
           "yaxis": "y"
          }
         ],
         "name": "4663"
        },
        {
         "data": [
          {
           "hovertemplate": "individuals=black_tail<br>level_0=4664<br>x=%{x}<br>y=%{y}<extra></extra>",
           "legendgroup": "black_tail",
           "marker": {
            "color": "#636efa",
            "symbol": "circle"
           },
           "mode": "markers",
           "name": "black_tail",
           "orientation": "v",
           "showlegend": true,
           "type": "scatter",
           "x": {
            "bdata": "EgEpAUQBYAHnAPgAAQEyAVwBEwFCAfYA5gAJAfwALgF4AQ==",
            "dtype": "i2"
           },
           "xaxis": "x",
           "y": {
            "bdata": "YgF2AYsBmwFCATMBUAGuAWABkQFaAVoBKwFHAXUBSwGrAQ==",
            "dtype": "i2"
           },
           "yaxis": "y"
          },
          {
           "hovertemplate": "individuals=non-marked<br>level_0=4664<br>x=%{x}<br>y=%{y}<extra></extra>",
           "legendgroup": "non-marked",
           "marker": {
            "color": "#EF553B",
            "symbol": "circle"
           },
           "mode": "markers",
           "name": "non-marked",
           "orientation": "v",
           "showlegend": true,
           "type": "scatter",
           "x": {
            "bdata": "sACyALcAwQDMALQAtQDnAJMA2gCSAMEAygCqANoAlQDNAA==",
            "dtype": "i2"
           },
           "xaxis": "x",
           "y": {
            "bdata": "5ADGAKcAjQARARsB/QC7AKIAzwDEAPoAJwH+AOcA7QB1AA==",
            "dtype": "i2"
           },
           "yaxis": "y"
          }
         ],
         "name": "4664"
        },
        {
         "data": [
          {
           "hovertemplate": "individuals=black_tail<br>level_0=4665<br>x=%{x}<br>y=%{y}<extra></extra>",
           "legendgroup": "black_tail",
           "marker": {
            "color": "#636efa",
            "symbol": "circle"
           },
           "mode": "markers",
           "name": "black_tail",
           "orientation": "v",
           "showlegend": true,
           "type": "scatter",
           "x": {
            "bdata": "DwEnAUIBXgHjAPQA/QAyAVYBEgE9AfMA4gAFAfsALAF3AQ==",
            "dtype": "i2"
           },
           "xaxis": "x",
           "y": {
            "bdata": "YgF0AYgBmQFCATIBUAGtAV0BkQFYAVoBJwFGAXQBSQGmAQ==",
            "dtype": "i2"
           },
           "yaxis": "y"
          },
          {
           "hovertemplate": "individuals=non-marked<br>level_0=4665<br>x=%{x}<br>y=%{y}<extra></extra>",
           "legendgroup": "non-marked",
           "marker": {
            "color": "#EF553B",
            "symbol": "circle"
           },
           "mode": "markers",
           "name": "non-marked",
           "orientation": "v",
           "showlegend": true,
           "type": "scatter",
           "x": {
            "bdata": "sQCyALUAwADOALgAtgDnAJMA2gCTAMIA0QCqANoAlwDNAA==",
            "dtype": "i2"
           },
           "xaxis": "x",
           "y": {
            "bdata": "4wDFAKUAjAAPARoB/AC7AKIAzgDGAPkAKAH9AOUA7gB0AA==",
            "dtype": "i2"
           },
           "yaxis": "y"
          }
         ],
         "name": "4665"
        },
        {
         "data": [
          {
           "hovertemplate": "individuals=black_tail<br>level_0=4666<br>x=%{x}<br>y=%{y}<extra></extra>",
           "legendgroup": "black_tail",
           "marker": {
            "color": "#636efa",
            "symbol": "circle"
           },
           "mode": "markers",
           "name": "black_tail",
           "orientation": "v",
           "showlegend": true,
           "type": "scatter",
           "x": {
            "bdata": "DgElAUEBXQHhAPEA+wAxAVMBEgE7AfEA3wADAfoAKwF1AQ==",
            "dtype": "i2"
           },
           "xaxis": "x",
           "y": {
            "bdata": "YQFzAYYBlwFCATIBUAGsAVsBkAFXAVoBJgFGAXMBRwGjAQ==",
            "dtype": "i2"
           },
           "yaxis": "y"
          },
          {
           "hovertemplate": "individuals=non-marked<br>level_0=4666<br>x=%{x}<br>y=%{y}<extra></extra>",
           "legendgroup": "non-marked",
           "marker": {
            "color": "#EF553B",
            "symbol": "circle"
           },
           "mode": "markers",
           "name": "non-marked",
           "orientation": "v",
           "showlegend": true,
           "type": "scatter",
           "x": {
            "bdata": "sgCzALYAwADQALoAuADnAJMA2wCTAMMA1ACsANsAmQDMAA==",
            "dtype": "i2"
           },
           "xaxis": "x",
           "y": {
            "bdata": "4gDFAKYAjAAOARoB+wC7AKMAzwDKAPYAKAH9AOQA8AB0AA==",
            "dtype": "i2"
           },
           "yaxis": "y"
          }
         ],
         "name": "4666"
        },
        {
         "data": [
          {
           "hovertemplate": "individuals=black_tail<br>level_0=4667<br>x=%{x}<br>y=%{y}<extra></extra>",
           "legendgroup": "black_tail",
           "marker": {
            "color": "#636efa",
            "symbol": "circle"
           },
           "mode": "markers",
           "name": "black_tail",
           "orientation": "v",
           "showlegend": true,
           "type": "scatter",
           "x": {
            "bdata": "DQElAUEBXQHfAO4A+gAxAVMBEAE7AfAA2wABAfkAKwF0AQ==",
            "dtype": "i2"
           },
           "xaxis": "x",
           "y": {
            "bdata": "XwFyAYUBlQFCATIBUAGqAVsBjgFWAVoBJwFFAXMBRQGiAQ==",
            "dtype": "i2"
           },
           "yaxis": "y"
          },
          {
           "hovertemplate": "individuals=non-marked<br>level_0=4667<br>x=%{x}<br>y=%{y}<extra></extra>",
           "legendgroup": "non-marked",
           "marker": {
            "color": "#EF553B",
            "symbol": "circle"
           },
           "mode": "markers",
           "name": "non-marked",
           "orientation": "v",
           "showlegend": true,
           "type": "scatter",
           "x": {
            "bdata": "swCzALYAwQDRALwAugDnAJMA2wCUAMQA1ACtANsAmwDMAA==",
            "dtype": "i2"
           },
           "xaxis": "x",
           "y": {
            "bdata": "4ADEAKYAjAANARgB+QC5AKMAzwDMAPQAKQH9AOMA8QB0AA==",
            "dtype": "i2"
           },
           "yaxis": "y"
          }
         ],
         "name": "4667"
        },
        {
         "data": [
          {
           "hovertemplate": "individuals=black_tail<br>level_0=4668<br>x=%{x}<br>y=%{y}<extra></extra>",
           "legendgroup": "black_tail",
           "marker": {
            "color": "#636efa",
            "symbol": "circle"
           },
           "mode": "markers",
           "name": "black_tail",
           "orientation": "v",
           "showlegend": true,
           "type": "scatter",
           "x": {
            "bdata": "DQEkAUABXAHeAO0A+AAxAVIBDgE7Ae8A2QD/APcAKQFzAQ==",
            "dtype": "i2"
           },
           "xaxis": "x",
           "y": {
            "bdata": "XwFxAYMBkwFCATIBUAGqAVsBjAFUAVoBKAFFAXMBQwGhAQ==",
            "dtype": "i2"
           },
           "yaxis": "y"
          },
          {
           "hovertemplate": "individuals=non-marked<br>level_0=4668<br>x=%{x}<br>y=%{y}<extra></extra>",
           "legendgroup": "non-marked",
           "marker": {
            "color": "#EF553B",
            "symbol": "circle"
           },
           "mode": "markers",
           "name": "non-marked",
           "orientation": "v",
           "showlegend": true,
           "type": "scatter",
           "x": {
            "bdata": "tACzALYAvwDSAL4AugDoAJMA3ACUAMUA1ACuANwAmwDLAA==",
            "dtype": "i2"
           },
           "xaxis": "x",
           "y": {
            "bdata": "3wDDAKYAjAAMARYB9wC2AKMAzgDMAPMAKQH8AOIA8QBzAA==",
            "dtype": "i2"
           },
           "yaxis": "y"
          }
         ],
         "name": "4668"
        },
        {
         "data": [
          {
           "hovertemplate": "individuals=black_tail<br>level_0=4669<br>x=%{x}<br>y=%{y}<extra></extra>",
           "legendgroup": "black_tail",
           "marker": {
            "color": "#636efa",
            "symbol": "circle"
           },
           "mode": "markers",
           "name": "black_tail",
           "orientation": "v",
           "showlegend": true,
           "type": "scatter",
           "x": {
            "bdata": "DAEjAUABWwHdAOsA9wAwAVIBDAE6Ae4A1gD8APYAJwFzAQ==",
            "dtype": "i2"
           },
           "xaxis": "x",
           "y": {
            "bdata": "XwFwAYIBkgFDATIBUAGpAVsBjAFSAVoBKgFFAXMBQgGgAQ==",
            "dtype": "i2"
           },
           "yaxis": "y"
          },
          {
           "hovertemplate": "individuals=non-marked<br>level_0=4669<br>x=%{x}<br>y=%{y}<extra></extra>",
           "legendgroup": "non-marked",
           "marker": {
            "color": "#EF553B",
            "symbol": "circle"
           },
           "mode": "markers",
           "name": "non-marked",
           "orientation": "v",
           "showlegend": true,
           "type": "scatter",
           "x": {
            "bdata": "tQCzALYAvQDTAL8AuwDoAJIA3ACUAMUA1ACvANwAnADJAA==",
            "dtype": "i2"
           },
           "xaxis": "x",
           "y": {
            "bdata": "3wDCAKUAiwAMARUB9gC0AKMAzQDMAPIAKQH8AOEA8QBzAA==",
            "dtype": "i2"
           },
           "yaxis": "y"
          }
         ],
         "name": "4669"
        },
        {
         "data": [
          {
           "hovertemplate": "individuals=black_tail<br>level_0=4670<br>x=%{x}<br>y=%{y}<extra></extra>",
           "legendgroup": "black_tail",
           "marker": {
            "color": "#636efa",
            "symbol": "circle"
           },
           "mode": "markers",
           "name": "black_tail",
           "orientation": "v",
           "showlegend": true,
           "type": "scatter",
           "x": {
            "bdata": "CgEjAUABWwHcAOoA9gAvAVEBCwE5AewA1QD8APUAJAFyAQ==",
            "dtype": "i2"
           },
           "xaxis": "x",
           "y": {
            "bdata": "XwFwAYABkAFDATIBUAGpAVoBjAFPAVoBKwFFAXMBQAGfAQ==",
            "dtype": "i2"
           },
           "yaxis": "y"
          },
          {
           "hovertemplate": "individuals=non-marked<br>level_0=4670<br>x=%{x}<br>y=%{y}<extra></extra>",
           "legendgroup": "non-marked",
           "marker": {
            "color": "#EF553B",
            "symbol": "circle"
           },
           "mode": "markers",
           "name": "non-marked",
           "orientation": "v",
           "showlegend": true,
           "type": "scatter",
           "x": {
            "bdata": "tQCzALYAvADTAL8AuwDoAJIA3ACUAMYA1ACvAN0AnADHAA==",
            "dtype": "i2"
           },
           "xaxis": "x",
           "y": {
            "bdata": "3gDCAKQAigAKARUB9QC0AKMAzADMAPEAKgH8AN8A8QByAA==",
            "dtype": "i2"
           },
           "yaxis": "y"
          }
         ],
         "name": "4670"
        },
        {
         "data": [
          {
           "hovertemplate": "individuals=black_tail<br>level_0=4671<br>x=%{x}<br>y=%{y}<extra></extra>",
           "legendgroup": "black_tail",
           "marker": {
            "color": "#636efa",
            "symbol": "circle"
           },
           "mode": "markers",
           "name": "black_tail",
           "orientation": "v",
           "showlegend": true,
           "type": "scatter",
           "x": {
            "bdata": "BwEhAT4BWgHaAOkA8gAvAVEBCwE3AekA1AD5APQAIQFxAQ==",
            "dtype": "i2"
           },
           "xaxis": "x",
           "y": {
            "bdata": "XwFvAX8BjwFDATIBUAGoAVoBiwFOAVoBKwFFAXMBQAGeAQ==",
            "dtype": "i2"
           },
           "yaxis": "y"
          },
          {
           "hovertemplate": "individuals=non-marked<br>level_0=4671<br>x=%{x}<br>y=%{y}<extra></extra>",
           "legendgroup": "non-marked",
           "marker": {
            "color": "#EF553B",
            "symbol": "circle"
           },
           "mode": "markers",
           "name": "non-marked",
           "orientation": "v",
           "showlegend": true,
           "type": "scatter",
           "x": {
            "bdata": "tgCzALYAuwDXAMEAvgDnAJIA3ACUAMkA1QCxAN8AnQDFAA==",
            "dtype": "i2"
           },
           "xaxis": "x",
           "y": {
            "bdata": "3QDBAKQAigAFARMB8wCyAKMAygDMAO4AKAH6AN4A8QByAA==",
            "dtype": "i2"
           },
           "yaxis": "y"
          }
         ],
         "name": "4671"
        },
        {
         "data": [
          {
           "hovertemplate": "individuals=black_tail<br>level_0=4672<br>x=%{x}<br>y=%{y}<extra></extra>",
           "legendgroup": "black_tail",
           "marker": {
            "color": "#636efa",
            "symbol": "circle"
           },
           "mode": "markers",
           "name": "black_tail",
           "orientation": "v",
           "showlegend": true,
           "type": "scatter",
           "x": {
            "bdata": "AgEfATwBWAHXAOcA7QAwAVABCgE0AeUA1AD2APEAHgFvAQ==",
            "dtype": "i2"
           },
           "xaxis": "x",
           "y": {
            "bdata": "XwFuAX0BjQFDATIBUAGoAVoBigFOAVoBKwFFAXMBPwGcAQ==",
            "dtype": "i2"
           },
           "yaxis": "y"
          },
          {
           "hovertemplate": "individuals=non-marked<br>level_0=4672<br>x=%{x}<br>y=%{y}<extra></extra>",
           "legendgroup": "non-marked",
           "marker": {
            "color": "#EF553B",
            "symbol": "circle"
           },
           "mode": "markers",
           "name": "non-marked",
           "orientation": "v",
           "showlegend": true,
           "type": "scatter",
           "x": {
            "bdata": "uACzALYAuwDbAMYAwQDnAJIA3ACUAM0A2QC1AOEAoADFAA==",
            "dtype": "i2"
           },
           "xaxis": "x",
           "y": {
            "bdata": "3ADAAKMAiAAAAREB8QCwAKMAxwDMAOwAIgH3ANoA8ABxAA==",
            "dtype": "i2"
           },
           "yaxis": "y"
          }
         ],
         "name": "4672"
        },
        {
         "data": [
          {
           "hovertemplate": "individuals=black_tail<br>level_0=4673<br>x=%{x}<br>y=%{y}<extra></extra>",
           "legendgroup": "black_tail",
           "marker": {
            "color": "#636efa",
            "symbol": "circle"
           },
           "mode": "markers",
           "name": "black_tail",
           "orientation": "v",
           "showlegend": true,
           "type": "scatter",
           "x": {
            "bdata": "/wAbATkBVQHUAOMA6gArAU8BCQEwAeIA0gDxAO4AGgFuAQ==",
            "dtype": "i2"
           },
           "xaxis": "x",
           "y": {
            "bdata": "XgFtAX0BjQFDATMBUAGmAVoBigFNAVoBKgFFAXMBPwGcAQ==",
            "dtype": "i2"
           },
           "yaxis": "y"
          },
          {
           "hovertemplate": "individuals=non-marked<br>level_0=4673<br>x=%{x}<br>y=%{y}<extra></extra>",
           "legendgroup": "non-marked",
           "marker": {
            "color": "#EF553B",
            "symbol": "circle"
           },
           "mode": "markers",
           "name": "non-marked",
           "orientation": "v",
           "showlegend": true,
           "type": "scatter",
           "x": {
            "bdata": "vAC2ALYAugDgAM0AxgDnAJIA3gCWANEA3wC7AOQAogDEAA==",
            "dtype": "i2"
           },
           "xaxis": "x",
           "y": {
            "bdata": "2gDAAKIAhgD/AA4B7wCuAKYAxADNAOsAHQH0ANgA8ABvAA==",
            "dtype": "i2"
           },
           "yaxis": "y"
          }
         ],
         "name": "4673"
        }
       ],
       "layout": {
        "height": 500,
        "legend": {
         "title": {
          "text": "individuals"
         },
         "tracegroupgap": 0
        },
        "margin": {
         "t": 60
        },
        "sliders": [
         {
          "active": 0,
          "currentvalue": {
           "prefix": "level_0="
          },
          "len": 0.9,
          "pad": {
           "b": 10,
           "t": 60
          },
          "steps": [
           {
            "args": [
             [
              "4663"
             ],
             {
              "frame": {
               "duration": 0,
               "redraw": false
              },
              "fromcurrent": true,
              "mode": "immediate",
              "transition": {
               "duration": 0,
               "easing": "linear"
              }
             }
            ],
            "label": "4663",
            "method": "animate"
           },
           {
            "args": [
             [
              "4664"
             ],
             {
              "frame": {
               "duration": 0,
               "redraw": false
              },
              "fromcurrent": true,
              "mode": "immediate",
              "transition": {
               "duration": 0,
               "easing": "linear"
              }
             }
            ],
            "label": "4664",
            "method": "animate"
           },
           {
            "args": [
             [
              "4665"
             ],
             {
              "frame": {
               "duration": 0,
               "redraw": false
              },
              "fromcurrent": true,
              "mode": "immediate",
              "transition": {
               "duration": 0,
               "easing": "linear"
              }
             }
            ],
            "label": "4665",
            "method": "animate"
           },
           {
            "args": [
             [
              "4666"
             ],
             {
              "frame": {
               "duration": 0,
               "redraw": false
              },
              "fromcurrent": true,
              "mode": "immediate",
              "transition": {
               "duration": 0,
               "easing": "linear"
              }
             }
            ],
            "label": "4666",
            "method": "animate"
           },
           {
            "args": [
             [
              "4667"
             ],
             {
              "frame": {
               "duration": 0,
               "redraw": false
              },
              "fromcurrent": true,
              "mode": "immediate",
              "transition": {
               "duration": 0,
               "easing": "linear"
              }
             }
            ],
            "label": "4667",
            "method": "animate"
           },
           {
            "args": [
             [
              "4668"
             ],
             {
              "frame": {
               "duration": 0,
               "redraw": false
              },
              "fromcurrent": true,
              "mode": "immediate",
              "transition": {
               "duration": 0,
               "easing": "linear"
              }
             }
            ],
            "label": "4668",
            "method": "animate"
           },
           {
            "args": [
             [
              "4669"
             ],
             {
              "frame": {
               "duration": 0,
               "redraw": false
              },
              "fromcurrent": true,
              "mode": "immediate",
              "transition": {
               "duration": 0,
               "easing": "linear"
              }
             }
            ],
            "label": "4669",
            "method": "animate"
           },
           {
            "args": [
             [
              "4670"
             ],
             {
              "frame": {
               "duration": 0,
               "redraw": false
              },
              "fromcurrent": true,
              "mode": "immediate",
              "transition": {
               "duration": 0,
               "easing": "linear"
              }
             }
            ],
            "label": "4670",
            "method": "animate"
           },
           {
            "args": [
             [
              "4671"
             ],
             {
              "frame": {
               "duration": 0,
               "redraw": false
              },
              "fromcurrent": true,
              "mode": "immediate",
              "transition": {
               "duration": 0,
               "easing": "linear"
              }
             }
            ],
            "label": "4671",
            "method": "animate"
           },
           {
            "args": [
             [
              "4672"
             ],
             {
              "frame": {
               "duration": 0,
               "redraw": false
              },
              "fromcurrent": true,
              "mode": "immediate",
              "transition": {
               "duration": 0,
               "easing": "linear"
              }
             }
            ],
            "label": "4672",
            "method": "animate"
           },
           {
            "args": [
             [
              "4673"
             ],
             {
              "frame": {
               "duration": 0,
               "redraw": false
              },
              "fromcurrent": true,
              "mode": "immediate",
              "transition": {
               "duration": 0,
               "easing": "linear"
              }
             }
            ],
            "label": "4673",
            "method": "animate"
           }
          ],
          "x": 0.1,
          "xanchor": "left",
          "y": 0,
          "yanchor": "top"
         }
        ],
        "template": {
         "data": {
          "bar": [
           {
            "error_x": {
             "color": "#2a3f5f"
            },
            "error_y": {
             "color": "#2a3f5f"
            },
            "marker": {
             "line": {
              "color": "#E5ECF6",
              "width": 0.5
             },
             "pattern": {
              "fillmode": "overlay",
              "size": 10,
              "solidity": 0.2
             }
            },
            "type": "bar"
           }
          ],
          "barpolar": [
           {
            "marker": {
             "line": {
              "color": "#E5ECF6",
              "width": 0.5
             },
             "pattern": {
              "fillmode": "overlay",
              "size": 10,
              "solidity": 0.2
             }
            },
            "type": "barpolar"
           }
          ],
          "carpet": [
           {
            "aaxis": {
             "endlinecolor": "#2a3f5f",
             "gridcolor": "white",
             "linecolor": "white",
             "minorgridcolor": "white",
             "startlinecolor": "#2a3f5f"
            },
            "baxis": {
             "endlinecolor": "#2a3f5f",
             "gridcolor": "white",
             "linecolor": "white",
             "minorgridcolor": "white",
             "startlinecolor": "#2a3f5f"
            },
            "type": "carpet"
           }
          ],
          "choropleth": [
           {
            "colorbar": {
             "outlinewidth": 0,
             "ticks": ""
            },
            "type": "choropleth"
           }
          ],
          "contour": [
           {
            "colorbar": {
             "outlinewidth": 0,
             "ticks": ""
            },
            "colorscale": [
             [
              0,
              "#0d0887"
             ],
             [
              0.1111111111111111,
              "#46039f"
             ],
             [
              0.2222222222222222,
              "#7201a8"
             ],
             [
              0.3333333333333333,
              "#9c179e"
             ],
             [
              0.4444444444444444,
              "#bd3786"
             ],
             [
              0.5555555555555556,
              "#d8576b"
             ],
             [
              0.6666666666666666,
              "#ed7953"
             ],
             [
              0.7777777777777778,
              "#fb9f3a"
             ],
             [
              0.8888888888888888,
              "#fdca26"
             ],
             [
              1,
              "#f0f921"
             ]
            ],
            "type": "contour"
           }
          ],
          "contourcarpet": [
           {
            "colorbar": {
             "outlinewidth": 0,
             "ticks": ""
            },
            "type": "contourcarpet"
           }
          ],
          "heatmap": [
           {
            "colorbar": {
             "outlinewidth": 0,
             "ticks": ""
            },
            "colorscale": [
             [
              0,
              "#0d0887"
             ],
             [
              0.1111111111111111,
              "#46039f"
             ],
             [
              0.2222222222222222,
              "#7201a8"
             ],
             [
              0.3333333333333333,
              "#9c179e"
             ],
             [
              0.4444444444444444,
              "#bd3786"
             ],
             [
              0.5555555555555556,
              "#d8576b"
             ],
             [
              0.6666666666666666,
              "#ed7953"
             ],
             [
              0.7777777777777778,
              "#fb9f3a"
             ],
             [
              0.8888888888888888,
              "#fdca26"
             ],
             [
              1,
              "#f0f921"
             ]
            ],
            "type": "heatmap"
           }
          ],
          "histogram": [
           {
            "marker": {
             "pattern": {
              "fillmode": "overlay",
              "size": 10,
              "solidity": 0.2
             }
            },
            "type": "histogram"
           }
          ],
          "histogram2d": [
           {
            "colorbar": {
             "outlinewidth": 0,
             "ticks": ""
            },
            "colorscale": [
             [
              0,
              "#0d0887"
             ],
             [
              0.1111111111111111,
              "#46039f"
             ],
             [
              0.2222222222222222,
              "#7201a8"
             ],
             [
              0.3333333333333333,
              "#9c179e"
             ],
             [
              0.4444444444444444,
              "#bd3786"
             ],
             [
              0.5555555555555556,
              "#d8576b"
             ],
             [
              0.6666666666666666,
              "#ed7953"
             ],
             [
              0.7777777777777778,
              "#fb9f3a"
             ],
             [
              0.8888888888888888,
              "#fdca26"
             ],
             [
              1,
              "#f0f921"
             ]
            ],
            "type": "histogram2d"
           }
          ],
          "histogram2dcontour": [
           {
            "colorbar": {
             "outlinewidth": 0,
             "ticks": ""
            },
            "colorscale": [
             [
              0,
              "#0d0887"
             ],
             [
              0.1111111111111111,
              "#46039f"
             ],
             [
              0.2222222222222222,
              "#7201a8"
             ],
             [
              0.3333333333333333,
              "#9c179e"
             ],
             [
              0.4444444444444444,
              "#bd3786"
             ],
             [
              0.5555555555555556,
              "#d8576b"
             ],
             [
              0.6666666666666666,
              "#ed7953"
             ],
             [
              0.7777777777777778,
              "#fb9f3a"
             ],
             [
              0.8888888888888888,
              "#fdca26"
             ],
             [
              1,
              "#f0f921"
             ]
            ],
            "type": "histogram2dcontour"
           }
          ],
          "mesh3d": [
           {
            "colorbar": {
             "outlinewidth": 0,
             "ticks": ""
            },
            "type": "mesh3d"
           }
          ],
          "parcoords": [
           {
            "line": {
             "colorbar": {
              "outlinewidth": 0,
              "ticks": ""
             }
            },
            "type": "parcoords"
           }
          ],
          "pie": [
           {
            "automargin": true,
            "type": "pie"
           }
          ],
          "scatter": [
           {
            "fillpattern": {
             "fillmode": "overlay",
             "size": 10,
             "solidity": 0.2
            },
            "type": "scatter"
           }
          ],
          "scatter3d": [
           {
            "line": {
             "colorbar": {
              "outlinewidth": 0,
              "ticks": ""
             }
            },
            "marker": {
             "colorbar": {
              "outlinewidth": 0,
              "ticks": ""
             }
            },
            "type": "scatter3d"
           }
          ],
          "scattercarpet": [
           {
            "marker": {
             "colorbar": {
              "outlinewidth": 0,
              "ticks": ""
             }
            },
            "type": "scattercarpet"
           }
          ],
          "scattergeo": [
           {
            "marker": {
             "colorbar": {
              "outlinewidth": 0,
              "ticks": ""
             }
            },
            "type": "scattergeo"
           }
          ],
          "scattergl": [
           {
            "marker": {
             "colorbar": {
              "outlinewidth": 0,
              "ticks": ""
             }
            },
            "type": "scattergl"
           }
          ],
          "scattermap": [
           {
            "marker": {
             "colorbar": {
              "outlinewidth": 0,
              "ticks": ""
             }
            },
            "type": "scattermap"
           }
          ],
          "scattermapbox": [
           {
            "marker": {
             "colorbar": {
              "outlinewidth": 0,
              "ticks": ""
             }
            },
            "type": "scattermapbox"
           }
          ],
          "scatterpolar": [
           {
            "marker": {
             "colorbar": {
              "outlinewidth": 0,
              "ticks": ""
             }
            },
            "type": "scatterpolar"
           }
          ],
          "scatterpolargl": [
           {
            "marker": {
             "colorbar": {
              "outlinewidth": 0,
              "ticks": ""
             }
            },
            "type": "scatterpolargl"
           }
          ],
          "scatterternary": [
           {
            "marker": {
             "colorbar": {
              "outlinewidth": 0,
              "ticks": ""
             }
            },
            "type": "scatterternary"
           }
          ],
          "surface": [
           {
            "colorbar": {
             "outlinewidth": 0,
             "ticks": ""
            },
            "colorscale": [
             [
              0,
              "#0d0887"
             ],
             [
              0.1111111111111111,
              "#46039f"
             ],
             [
              0.2222222222222222,
              "#7201a8"
             ],
             [
              0.3333333333333333,
              "#9c179e"
             ],
             [
              0.4444444444444444,
              "#bd3786"
             ],
             [
              0.5555555555555556,
              "#d8576b"
             ],
             [
              0.6666666666666666,
              "#ed7953"
             ],
             [
              0.7777777777777778,
              "#fb9f3a"
             ],
             [
              0.8888888888888888,
              "#fdca26"
             ],
             [
              1,
              "#f0f921"
             ]
            ],
            "type": "surface"
           }
          ],
          "table": [
           {
            "cells": {
             "fill": {
              "color": "#EBF0F8"
             },
             "line": {
              "color": "white"
             }
            },
            "header": {
             "fill": {
              "color": "#C8D4E3"
             },
             "line": {
              "color": "white"
             }
            },
            "type": "table"
           }
          ]
         },
         "layout": {
          "annotationdefaults": {
           "arrowcolor": "#2a3f5f",
           "arrowhead": 0,
           "arrowwidth": 1
          },
          "autotypenumbers": "strict",
          "coloraxis": {
           "colorbar": {
            "outlinewidth": 0,
            "ticks": ""
           }
          },
          "colorscale": {
           "diverging": [
            [
             0,
             "#8e0152"
            ],
            [
             0.1,
             "#c51b7d"
            ],
            [
             0.2,
             "#de77ae"
            ],
            [
             0.3,
             "#f1b6da"
            ],
            [
             0.4,
             "#fde0ef"
            ],
            [
             0.5,
             "#f7f7f7"
            ],
            [
             0.6,
             "#e6f5d0"
            ],
            [
             0.7,
             "#b8e186"
            ],
            [
             0.8,
             "#7fbc41"
            ],
            [
             0.9,
             "#4d9221"
            ],
            [
             1,
             "#276419"
            ]
           ],
           "sequential": [
            [
             0,
             "#0d0887"
            ],
            [
             0.1111111111111111,
             "#46039f"
            ],
            [
             0.2222222222222222,
             "#7201a8"
            ],
            [
             0.3333333333333333,
             "#9c179e"
            ],
            [
             0.4444444444444444,
             "#bd3786"
            ],
            [
             0.5555555555555556,
             "#d8576b"
            ],
            [
             0.6666666666666666,
             "#ed7953"
            ],
            [
             0.7777777777777778,
             "#fb9f3a"
            ],
            [
             0.8888888888888888,
             "#fdca26"
            ],
            [
             1,
             "#f0f921"
            ]
           ],
           "sequentialminus": [
            [
             0,
             "#0d0887"
            ],
            [
             0.1111111111111111,
             "#46039f"
            ],
            [
             0.2222222222222222,
             "#7201a8"
            ],
            [
             0.3333333333333333,
             "#9c179e"
            ],
            [
             0.4444444444444444,
             "#bd3786"
            ],
            [
             0.5555555555555556,
             "#d8576b"
            ],
            [
             0.6666666666666666,
             "#ed7953"
            ],
            [
             0.7777777777777778,
             "#fb9f3a"
            ],
            [
             0.8888888888888888,
             "#fdca26"
            ],
            [
             1,
             "#f0f921"
            ]
           ]
          },
          "colorway": [
           "#636efa",
           "#EF553B",
           "#00cc96",
           "#ab63fa",
           "#FFA15A",
           "#19d3f3",
           "#FF6692",
           "#B6E880",
           "#FF97FF",
           "#FECB52"
          ],
          "font": {
           "color": "#2a3f5f"
          },
          "geo": {
           "bgcolor": "white",
           "lakecolor": "white",
           "landcolor": "#E5ECF6",
           "showlakes": true,
           "showland": true,
           "subunitcolor": "white"
          },
          "hoverlabel": {
           "align": "left"
          },
          "hovermode": "closest",
          "mapbox": {
           "style": "light"
          },
          "paper_bgcolor": "white",
          "plot_bgcolor": "#E5ECF6",
          "polar": {
           "angularaxis": {
            "gridcolor": "white",
            "linecolor": "white",
            "ticks": ""
           },
           "bgcolor": "#E5ECF6",
           "radialaxis": {
            "gridcolor": "white",
            "linecolor": "white",
            "ticks": ""
           }
          },
          "scene": {
           "xaxis": {
            "backgroundcolor": "#E5ECF6",
            "gridcolor": "white",
            "gridwidth": 2,
            "linecolor": "white",
            "showbackground": true,
            "ticks": "",
            "zerolinecolor": "white"
           },
           "yaxis": {
            "backgroundcolor": "#E5ECF6",
            "gridcolor": "white",
            "gridwidth": 2,
            "linecolor": "white",
            "showbackground": true,
            "ticks": "",
            "zerolinecolor": "white"
           },
           "zaxis": {
            "backgroundcolor": "#E5ECF6",
            "gridcolor": "white",
            "gridwidth": 2,
            "linecolor": "white",
            "showbackground": true,
            "ticks": "",
            "zerolinecolor": "white"
           }
          },
          "shapedefaults": {
           "line": {
            "color": "#2a3f5f"
           }
          },
          "ternary": {
           "aaxis": {
            "gridcolor": "white",
            "linecolor": "white",
            "ticks": ""
           },
           "baxis": {
            "gridcolor": "white",
            "linecolor": "white",
            "ticks": ""
           },
           "bgcolor": "#E5ECF6",
           "caxis": {
            "gridcolor": "white",
            "linecolor": "white",
            "ticks": ""
           }
          },
          "title": {
           "x": 0.05
          },
          "xaxis": {
           "automargin": true,
           "gridcolor": "white",
           "linecolor": "white",
           "ticks": "",
           "title": {
            "standoff": 15
           },
           "zerolinecolor": "white",
           "zerolinewidth": 2
          },
          "yaxis": {
           "automargin": true,
           "gridcolor": "white",
           "linecolor": "white",
           "ticks": "",
           "title": {
            "standoff": 15
           },
           "zerolinecolor": "white",
           "zerolinewidth": 2
          }
         }
        },
        "updatemenus": [
         {
          "buttons": [
           {
            "args": [
             null,
             {
              "frame": {
               "duration": 500,
               "redraw": false
              },
              "fromcurrent": true,
              "mode": "immediate",
              "transition": {
               "duration": 500,
               "easing": "linear"
              }
             }
            ],
            "label": "&#9654;",
            "method": "animate"
           },
           {
            "args": [
             [
              null
             ],
             {
              "frame": {
               "duration": 0,
               "redraw": false
              },
              "fromcurrent": true,
              "mode": "immediate",
              "transition": {
               "duration": 0,
               "easing": "linear"
              }
             }
            ],
            "label": "&#9724;",
            "method": "animate"
           }
          ],
          "direction": "left",
          "pad": {
           "r": 10,
           "t": 70
          },
          "showactive": false,
          "type": "buttons",
          "x": 0.1,
          "xanchor": "right",
          "y": 0,
          "yanchor": "top"
         }
        ],
        "width": 700,
        "xaxis": {
         "anchor": "y",
         "domain": [
          0,
          1
         ],
         "title": {
          "text": "x"
         }
        },
        "yaxis": {
         "anchor": "x",
         "domain": [
          0,
          1
         ],
         "title": {
          "text": "y"
         }
        }
       }
      },
      "text/html": [
       "<div>                        <script type=\"text/javascript\">window.PlotlyConfig = {MathJaxConfig: 'local'};</script>\n",
       "        <script charset=\"utf-8\" src=\"https://cdn.plot.ly/plotly-3.0.1.min.js\" integrity=\"sha256-oy6Be7Eh6eiQFs5M7oXuPxxm9qbJXEtTpfSI93dW16Q=\" crossorigin=\"anonymous\"></script>                <div id=\"c0dc178e-e17e-41b2-b436-86f294ee0471\" class=\"plotly-graph-div\" style=\"height:500px; width:700px;\"></div>            <script type=\"text/javascript\">                window.PLOTLYENV=window.PLOTLYENV || {};                                if (document.getElementById(\"c0dc178e-e17e-41b2-b436-86f294ee0471\")) {                    Plotly.newPlot(                        \"c0dc178e-e17e-41b2-b436-86f294ee0471\",                        [{\"hovertemplate\":\"individuals=black_tail\\u003cbr\\u003elevel_0=4663\\u003cbr\\u003ex=%{x}\\u003cbr\\u003ey=%{y}\\u003cextra\\u003e\\u003c\\u002fextra\\u003e\",\"legendgroup\":\"black_tail\",\"marker\":{\"color\":\"#636efa\",\"symbol\":\"circle\",\"size\":5},\"mode\":\"markers\",\"name\":\"black_tail\",\"orientation\":\"v\",\"showlegend\":true,\"x\":{\"dtype\":\"i2\",\"bdata\":\"FwEtAUgBYQHsAP4ABgE1AWYBFQFHAfwA6wAOAf8ANAF6AQ==\"},\"xaxis\":\"x\",\"y\":{\"dtype\":\"i2\",\"bdata\":\"YwF4AYwBngFEATUBUAGuAWYBkgFdAVsBLwFHAXUBTAGwAQ==\"},\"yaxis\":\"y\",\"type\":\"scatter\"},{\"hovertemplate\":\"individuals=non-marked\\u003cbr\\u003elevel_0=4663\\u003cbr\\u003ex=%{x}\\u003cbr\\u003ey=%{y}\\u003cextra\\u003e\\u003c\\u002fextra\\u003e\",\"legendgroup\":\"non-marked\",\"marker\":{\"color\":\"#EF553B\",\"symbol\":\"circle\",\"size\":5},\"mode\":\"markers\",\"name\":\"non-marked\",\"orientation\":\"v\",\"showlegend\":true,\"x\":{\"dtype\":\"i2\",\"bdata\":\"sACyALkAwQDLALIAtADoAJQA2wCSAMIAxACqANoAlADNAA==\"},\"xaxis\":\"x\",\"y\":{\"dtype\":\"i2\",\"bdata\":\"5QDJAKkAjQAUARsB\\u002fgC9AKIA0QDEAPsAJgH\\u002fAOsA7AB1AA==\"},\"yaxis\":\"y\",\"type\":\"scatter\"}],                        {\"template\":{\"data\":{\"histogram2dcontour\":[{\"type\":\"histogram2dcontour\",\"colorbar\":{\"outlinewidth\":0,\"ticks\":\"\"},\"colorscale\":[[0.0,\"#0d0887\"],[0.1111111111111111,\"#46039f\"],[0.2222222222222222,\"#7201a8\"],[0.3333333333333333,\"#9c179e\"],[0.4444444444444444,\"#bd3786\"],[0.5555555555555556,\"#d8576b\"],[0.6666666666666666,\"#ed7953\"],[0.7777777777777778,\"#fb9f3a\"],[0.8888888888888888,\"#fdca26\"],[1.0,\"#f0f921\"]]}],\"choropleth\":[{\"type\":\"choropleth\",\"colorbar\":{\"outlinewidth\":0,\"ticks\":\"\"}}],\"histogram2d\":[{\"type\":\"histogram2d\",\"colorbar\":{\"outlinewidth\":0,\"ticks\":\"\"},\"colorscale\":[[0.0,\"#0d0887\"],[0.1111111111111111,\"#46039f\"],[0.2222222222222222,\"#7201a8\"],[0.3333333333333333,\"#9c179e\"],[0.4444444444444444,\"#bd3786\"],[0.5555555555555556,\"#d8576b\"],[0.6666666666666666,\"#ed7953\"],[0.7777777777777778,\"#fb9f3a\"],[0.8888888888888888,\"#fdca26\"],[1.0,\"#f0f921\"]]}],\"heatmap\":[{\"type\":\"heatmap\",\"colorbar\":{\"outlinewidth\":0,\"ticks\":\"\"},\"colorscale\":[[0.0,\"#0d0887\"],[0.1111111111111111,\"#46039f\"],[0.2222222222222222,\"#7201a8\"],[0.3333333333333333,\"#9c179e\"],[0.4444444444444444,\"#bd3786\"],[0.5555555555555556,\"#d8576b\"],[0.6666666666666666,\"#ed7953\"],[0.7777777777777778,\"#fb9f3a\"],[0.8888888888888888,\"#fdca26\"],[1.0,\"#f0f921\"]]}],\"contourcarpet\":[{\"type\":\"contourcarpet\",\"colorbar\":{\"outlinewidth\":0,\"ticks\":\"\"}}],\"contour\":[{\"type\":\"contour\",\"colorbar\":{\"outlinewidth\":0,\"ticks\":\"\"},\"colorscale\":[[0.0,\"#0d0887\"],[0.1111111111111111,\"#46039f\"],[0.2222222222222222,\"#7201a8\"],[0.3333333333333333,\"#9c179e\"],[0.4444444444444444,\"#bd3786\"],[0.5555555555555556,\"#d8576b\"],[0.6666666666666666,\"#ed7953\"],[0.7777777777777778,\"#fb9f3a\"],[0.8888888888888888,\"#fdca26\"],[1.0,\"#f0f921\"]]}],\"surface\":[{\"type\":\"surface\",\"colorbar\":{\"outlinewidth\":0,\"ticks\":\"\"},\"colorscale\":[[0.0,\"#0d0887\"],[0.1111111111111111,\"#46039f\"],[0.2222222222222222,\"#7201a8\"],[0.3333333333333333,\"#9c179e\"],[0.4444444444444444,\"#bd3786\"],[0.5555555555555556,\"#d8576b\"],[0.6666666666666666,\"#ed7953\"],[0.7777777777777778,\"#fb9f3a\"],[0.8888888888888888,\"#fdca26\"],[1.0,\"#f0f921\"]]}],\"mesh3d\":[{\"type\":\"mesh3d\",\"colorbar\":{\"outlinewidth\":0,\"ticks\":\"\"}}],\"scatter\":[{\"fillpattern\":{\"fillmode\":\"overlay\",\"size\":10,\"solidity\":0.2},\"type\":\"scatter\"}],\"parcoords\":[{\"type\":\"parcoords\",\"line\":{\"colorbar\":{\"outlinewidth\":0,\"ticks\":\"\"}}}],\"scatterpolargl\":[{\"type\":\"scatterpolargl\",\"marker\":{\"colorbar\":{\"outlinewidth\":0,\"ticks\":\"\"}}}],\"bar\":[{\"error_x\":{\"color\":\"#2a3f5f\"},\"error_y\":{\"color\":\"#2a3f5f\"},\"marker\":{\"line\":{\"color\":\"#E5ECF6\",\"width\":0.5},\"pattern\":{\"fillmode\":\"overlay\",\"size\":10,\"solidity\":0.2}},\"type\":\"bar\"}],\"scattergeo\":[{\"type\":\"scattergeo\",\"marker\":{\"colorbar\":{\"outlinewidth\":0,\"ticks\":\"\"}}}],\"scatterpolar\":[{\"type\":\"scatterpolar\",\"marker\":{\"colorbar\":{\"outlinewidth\":0,\"ticks\":\"\"}}}],\"histogram\":[{\"marker\":{\"pattern\":{\"fillmode\":\"overlay\",\"size\":10,\"solidity\":0.2}},\"type\":\"histogram\"}],\"scattergl\":[{\"type\":\"scattergl\",\"marker\":{\"colorbar\":{\"outlinewidth\":0,\"ticks\":\"\"}}}],\"scatter3d\":[{\"type\":\"scatter3d\",\"line\":{\"colorbar\":{\"outlinewidth\":0,\"ticks\":\"\"}},\"marker\":{\"colorbar\":{\"outlinewidth\":0,\"ticks\":\"\"}}}],\"scattermap\":[{\"type\":\"scattermap\",\"marker\":{\"colorbar\":{\"outlinewidth\":0,\"ticks\":\"\"}}}],\"scattermapbox\":[{\"type\":\"scattermapbox\",\"marker\":{\"colorbar\":{\"outlinewidth\":0,\"ticks\":\"\"}}}],\"scatterternary\":[{\"type\":\"scatterternary\",\"marker\":{\"colorbar\":{\"outlinewidth\":0,\"ticks\":\"\"}}}],\"scattercarpet\":[{\"type\":\"scattercarpet\",\"marker\":{\"colorbar\":{\"outlinewidth\":0,\"ticks\":\"\"}}}],\"carpet\":[{\"aaxis\":{\"endlinecolor\":\"#2a3f5f\",\"gridcolor\":\"white\",\"linecolor\":\"white\",\"minorgridcolor\":\"white\",\"startlinecolor\":\"#2a3f5f\"},\"baxis\":{\"endlinecolor\":\"#2a3f5f\",\"gridcolor\":\"white\",\"linecolor\":\"white\",\"minorgridcolor\":\"white\",\"startlinecolor\":\"#2a3f5f\"},\"type\":\"carpet\"}],\"table\":[{\"cells\":{\"fill\":{\"color\":\"#EBF0F8\"},\"line\":{\"color\":\"white\"}},\"header\":{\"fill\":{\"color\":\"#C8D4E3\"},\"line\":{\"color\":\"white\"}},\"type\":\"table\"}],\"barpolar\":[{\"marker\":{\"line\":{\"color\":\"#E5ECF6\",\"width\":0.5},\"pattern\":{\"fillmode\":\"overlay\",\"size\":10,\"solidity\":0.2}},\"type\":\"barpolar\"}],\"pie\":[{\"automargin\":true,\"type\":\"pie\"}]},\"layout\":{\"autotypenumbers\":\"strict\",\"colorway\":[\"#636efa\",\"#EF553B\",\"#00cc96\",\"#ab63fa\",\"#FFA15A\",\"#19d3f3\",\"#FF6692\",\"#B6E880\",\"#FF97FF\",\"#FECB52\"],\"font\":{\"color\":\"#2a3f5f\"},\"hovermode\":\"closest\",\"hoverlabel\":{\"align\":\"left\"},\"paper_bgcolor\":\"white\",\"plot_bgcolor\":\"#E5ECF6\",\"polar\":{\"bgcolor\":\"#E5ECF6\",\"angularaxis\":{\"gridcolor\":\"white\",\"linecolor\":\"white\",\"ticks\":\"\"},\"radialaxis\":{\"gridcolor\":\"white\",\"linecolor\":\"white\",\"ticks\":\"\"}},\"ternary\":{\"bgcolor\":\"#E5ECF6\",\"aaxis\":{\"gridcolor\":\"white\",\"linecolor\":\"white\",\"ticks\":\"\"},\"baxis\":{\"gridcolor\":\"white\",\"linecolor\":\"white\",\"ticks\":\"\"},\"caxis\":{\"gridcolor\":\"white\",\"linecolor\":\"white\",\"ticks\":\"\"}},\"coloraxis\":{\"colorbar\":{\"outlinewidth\":0,\"ticks\":\"\"}},\"colorscale\":{\"sequential\":[[0.0,\"#0d0887\"],[0.1111111111111111,\"#46039f\"],[0.2222222222222222,\"#7201a8\"],[0.3333333333333333,\"#9c179e\"],[0.4444444444444444,\"#bd3786\"],[0.5555555555555556,\"#d8576b\"],[0.6666666666666666,\"#ed7953\"],[0.7777777777777778,\"#fb9f3a\"],[0.8888888888888888,\"#fdca26\"],[1.0,\"#f0f921\"]],\"sequentialminus\":[[0.0,\"#0d0887\"],[0.1111111111111111,\"#46039f\"],[0.2222222222222222,\"#7201a8\"],[0.3333333333333333,\"#9c179e\"],[0.4444444444444444,\"#bd3786\"],[0.5555555555555556,\"#d8576b\"],[0.6666666666666666,\"#ed7953\"],[0.7777777777777778,\"#fb9f3a\"],[0.8888888888888888,\"#fdca26\"],[1.0,\"#f0f921\"]],\"diverging\":[[0,\"#8e0152\"],[0.1,\"#c51b7d\"],[0.2,\"#de77ae\"],[0.3,\"#f1b6da\"],[0.4,\"#fde0ef\"],[0.5,\"#f7f7f7\"],[0.6,\"#e6f5d0\"],[0.7,\"#b8e186\"],[0.8,\"#7fbc41\"],[0.9,\"#4d9221\"],[1,\"#276419\"]]},\"xaxis\":{\"gridcolor\":\"white\",\"linecolor\":\"white\",\"ticks\":\"\",\"title\":{\"standoff\":15},\"zerolinecolor\":\"white\",\"automargin\":true,\"zerolinewidth\":2},\"yaxis\":{\"gridcolor\":\"white\",\"linecolor\":\"white\",\"ticks\":\"\",\"title\":{\"standoff\":15},\"zerolinecolor\":\"white\",\"automargin\":true,\"zerolinewidth\":2},\"scene\":{\"xaxis\":{\"backgroundcolor\":\"#E5ECF6\",\"gridcolor\":\"white\",\"linecolor\":\"white\",\"showbackground\":true,\"ticks\":\"\",\"zerolinecolor\":\"white\",\"gridwidth\":2},\"yaxis\":{\"backgroundcolor\":\"#E5ECF6\",\"gridcolor\":\"white\",\"linecolor\":\"white\",\"showbackground\":true,\"ticks\":\"\",\"zerolinecolor\":\"white\",\"gridwidth\":2},\"zaxis\":{\"backgroundcolor\":\"#E5ECF6\",\"gridcolor\":\"white\",\"linecolor\":\"white\",\"showbackground\":true,\"ticks\":\"\",\"zerolinecolor\":\"white\",\"gridwidth\":2}},\"shapedefaults\":{\"line\":{\"color\":\"#2a3f5f\"}},\"annotationdefaults\":{\"arrowcolor\":\"#2a3f5f\",\"arrowhead\":0,\"arrowwidth\":1},\"geo\":{\"bgcolor\":\"white\",\"landcolor\":\"#E5ECF6\",\"subunitcolor\":\"white\",\"showland\":true,\"showlakes\":true,\"lakecolor\":\"white\"},\"title\":{\"x\":0.05},\"mapbox\":{\"style\":\"light\"}}},\"xaxis\":{\"anchor\":\"y\",\"domain\":[0.0,1.0],\"title\":{\"text\":\"x\"}},\"yaxis\":{\"anchor\":\"x\",\"domain\":[0.0,1.0],\"title\":{\"text\":\"y\"}},\"legend\":{\"title\":{\"text\":\"individuals\"},\"tracegroupgap\":0},\"margin\":{\"t\":60},\"height\":500,\"width\":700,\"updatemenus\":[{\"buttons\":[{\"args\":[null,{\"frame\":{\"duration\":500,\"redraw\":false},\"mode\":\"immediate\",\"fromcurrent\":true,\"transition\":{\"duration\":500,\"easing\":\"linear\"}}],\"label\":\"&#9654;\",\"method\":\"animate\"},{\"args\":[[null],{\"frame\":{\"duration\":0,\"redraw\":false},\"mode\":\"immediate\",\"fromcurrent\":true,\"transition\":{\"duration\":0,\"easing\":\"linear\"}}],\"label\":\"&#9724;\",\"method\":\"animate\"}],\"direction\":\"left\",\"pad\":{\"r\":10,\"t\":70},\"showactive\":false,\"type\":\"buttons\",\"x\":0.1,\"xanchor\":\"right\",\"y\":0,\"yanchor\":\"top\"}],\"sliders\":[{\"active\":0,\"currentvalue\":{\"prefix\":\"level_0=\"},\"len\":0.9,\"pad\":{\"b\":10,\"t\":60},\"steps\":[{\"args\":[[\"4663\"],{\"frame\":{\"duration\":0,\"redraw\":false},\"mode\":\"immediate\",\"fromcurrent\":true,\"transition\":{\"duration\":0,\"easing\":\"linear\"}}],\"label\":\"4663\",\"method\":\"animate\"},{\"args\":[[\"4664\"],{\"frame\":{\"duration\":0,\"redraw\":false},\"mode\":\"immediate\",\"fromcurrent\":true,\"transition\":{\"duration\":0,\"easing\":\"linear\"}}],\"label\":\"4664\",\"method\":\"animate\"},{\"args\":[[\"4665\"],{\"frame\":{\"duration\":0,\"redraw\":false},\"mode\":\"immediate\",\"fromcurrent\":true,\"transition\":{\"duration\":0,\"easing\":\"linear\"}}],\"label\":\"4665\",\"method\":\"animate\"},{\"args\":[[\"4666\"],{\"frame\":{\"duration\":0,\"redraw\":false},\"mode\":\"immediate\",\"fromcurrent\":true,\"transition\":{\"duration\":0,\"easing\":\"linear\"}}],\"label\":\"4666\",\"method\":\"animate\"},{\"args\":[[\"4667\"],{\"frame\":{\"duration\":0,\"redraw\":false},\"mode\":\"immediate\",\"fromcurrent\":true,\"transition\":{\"duration\":0,\"easing\":\"linear\"}}],\"label\":\"4667\",\"method\":\"animate\"},{\"args\":[[\"4668\"],{\"frame\":{\"duration\":0,\"redraw\":false},\"mode\":\"immediate\",\"fromcurrent\":true,\"transition\":{\"duration\":0,\"easing\":\"linear\"}}],\"label\":\"4668\",\"method\":\"animate\"},{\"args\":[[\"4669\"],{\"frame\":{\"duration\":0,\"redraw\":false},\"mode\":\"immediate\",\"fromcurrent\":true,\"transition\":{\"duration\":0,\"easing\":\"linear\"}}],\"label\":\"4669\",\"method\":\"animate\"},{\"args\":[[\"4670\"],{\"frame\":{\"duration\":0,\"redraw\":false},\"mode\":\"immediate\",\"fromcurrent\":true,\"transition\":{\"duration\":0,\"easing\":\"linear\"}}],\"label\":\"4670\",\"method\":\"animate\"},{\"args\":[[\"4671\"],{\"frame\":{\"duration\":0,\"redraw\":false},\"mode\":\"immediate\",\"fromcurrent\":true,\"transition\":{\"duration\":0,\"easing\":\"linear\"}}],\"label\":\"4671\",\"method\":\"animate\"},{\"args\":[[\"4672\"],{\"frame\":{\"duration\":0,\"redraw\":false},\"mode\":\"immediate\",\"fromcurrent\":true,\"transition\":{\"duration\":0,\"easing\":\"linear\"}}],\"label\":\"4672\",\"method\":\"animate\"},{\"args\":[[\"4673\"],{\"frame\":{\"duration\":0,\"redraw\":false},\"mode\":\"immediate\",\"fromcurrent\":true,\"transition\":{\"duration\":0,\"easing\":\"linear\"}}],\"label\":\"4673\",\"method\":\"animate\"}],\"x\":0.1,\"xanchor\":\"left\",\"y\":0,\"yanchor\":\"top\"}]},                        {\"responsive\": true}                    ).then(function(){\n",
       "                            Plotly.addFrames('c0dc178e-e17e-41b2-b436-86f294ee0471', [{\"data\":[{\"hovertemplate\":\"individuals=black_tail\\u003cbr\\u003elevel_0=4663\\u003cbr\\u003ex=%{x}\\u003cbr\\u003ey=%{y}\\u003cextra\\u003e\\u003c\\u002fextra\\u003e\",\"legendgroup\":\"black_tail\",\"marker\":{\"color\":\"#636efa\",\"symbol\":\"circle\"},\"mode\":\"markers\",\"name\":\"black_tail\",\"orientation\":\"v\",\"showlegend\":true,\"x\":{\"dtype\":\"i2\",\"bdata\":\"FwEtAUgBYQHsAP4ABgE1AWYBFQFHAfwA6wAOAf8ANAF6AQ==\"},\"xaxis\":\"x\",\"y\":{\"dtype\":\"i2\",\"bdata\":\"YwF4AYwBngFEATUBUAGuAWYBkgFdAVsBLwFHAXUBTAGwAQ==\"},\"yaxis\":\"y\",\"type\":\"scatter\"},{\"hovertemplate\":\"individuals=non-marked\\u003cbr\\u003elevel_0=4663\\u003cbr\\u003ex=%{x}\\u003cbr\\u003ey=%{y}\\u003cextra\\u003e\\u003c\\u002fextra\\u003e\",\"legendgroup\":\"non-marked\",\"marker\":{\"color\":\"#EF553B\",\"symbol\":\"circle\"},\"mode\":\"markers\",\"name\":\"non-marked\",\"orientation\":\"v\",\"showlegend\":true,\"x\":{\"dtype\":\"i2\",\"bdata\":\"sACyALkAwQDLALIAtADoAJQA2wCSAMIAxACqANoAlADNAA==\"},\"xaxis\":\"x\",\"y\":{\"dtype\":\"i2\",\"bdata\":\"5QDJAKkAjQAUARsB\\u002fgC9AKIA0QDEAPsAJgH\\u002fAOsA7AB1AA==\"},\"yaxis\":\"y\",\"type\":\"scatter\"}],\"name\":\"4663\"},{\"data\":[{\"hovertemplate\":\"individuals=black_tail\\u003cbr\\u003elevel_0=4664\\u003cbr\\u003ex=%{x}\\u003cbr\\u003ey=%{y}\\u003cextra\\u003e\\u003c\\u002fextra\\u003e\",\"legendgroup\":\"black_tail\",\"marker\":{\"color\":\"#636efa\",\"symbol\":\"circle\"},\"mode\":\"markers\",\"name\":\"black_tail\",\"orientation\":\"v\",\"showlegend\":true,\"x\":{\"dtype\":\"i2\",\"bdata\":\"EgEpAUQBYAHnAPgAAQEyAVwBEwFCAfYA5gAJAfwALgF4AQ==\"},\"xaxis\":\"x\",\"y\":{\"dtype\":\"i2\",\"bdata\":\"YgF2AYsBmwFCATMBUAGuAWABkQFaAVoBKwFHAXUBSwGrAQ==\"},\"yaxis\":\"y\",\"type\":\"scatter\"},{\"hovertemplate\":\"individuals=non-marked\\u003cbr\\u003elevel_0=4664\\u003cbr\\u003ex=%{x}\\u003cbr\\u003ey=%{y}\\u003cextra\\u003e\\u003c\\u002fextra\\u003e\",\"legendgroup\":\"non-marked\",\"marker\":{\"color\":\"#EF553B\",\"symbol\":\"circle\"},\"mode\":\"markers\",\"name\":\"non-marked\",\"orientation\":\"v\",\"showlegend\":true,\"x\":{\"dtype\":\"i2\",\"bdata\":\"sACyALcAwQDMALQAtQDnAJMA2gCSAMEAygCqANoAlQDNAA==\"},\"xaxis\":\"x\",\"y\":{\"dtype\":\"i2\",\"bdata\":\"5ADGAKcAjQARARsB\\u002fQC7AKIAzwDEAPoAJwH+AOcA7QB1AA==\"},\"yaxis\":\"y\",\"type\":\"scatter\"}],\"name\":\"4664\"},{\"data\":[{\"hovertemplate\":\"individuals=black_tail\\u003cbr\\u003elevel_0=4665\\u003cbr\\u003ex=%{x}\\u003cbr\\u003ey=%{y}\\u003cextra\\u003e\\u003c\\u002fextra\\u003e\",\"legendgroup\":\"black_tail\",\"marker\":{\"color\":\"#636efa\",\"symbol\":\"circle\"},\"mode\":\"markers\",\"name\":\"black_tail\",\"orientation\":\"v\",\"showlegend\":true,\"x\":{\"dtype\":\"i2\",\"bdata\":\"DwEnAUIBXgHjAPQA\\u002fQAyAVYBEgE9AfMA4gAFAfsALAF3AQ==\"},\"xaxis\":\"x\",\"y\":{\"dtype\":\"i2\",\"bdata\":\"YgF0AYgBmQFCATIBUAGtAV0BkQFYAVoBJwFGAXQBSQGmAQ==\"},\"yaxis\":\"y\",\"type\":\"scatter\"},{\"hovertemplate\":\"individuals=non-marked\\u003cbr\\u003elevel_0=4665\\u003cbr\\u003ex=%{x}\\u003cbr\\u003ey=%{y}\\u003cextra\\u003e\\u003c\\u002fextra\\u003e\",\"legendgroup\":\"non-marked\",\"marker\":{\"color\":\"#EF553B\",\"symbol\":\"circle\"},\"mode\":\"markers\",\"name\":\"non-marked\",\"orientation\":\"v\",\"showlegend\":true,\"x\":{\"dtype\":\"i2\",\"bdata\":\"sQCyALUAwADOALgAtgDnAJMA2gCTAMIA0QCqANoAlwDNAA==\"},\"xaxis\":\"x\",\"y\":{\"dtype\":\"i2\",\"bdata\":\"4wDFAKUAjAAPARoB\\u002fAC7AKIAzgDGAPkAKAH9AOUA7gB0AA==\"},\"yaxis\":\"y\",\"type\":\"scatter\"}],\"name\":\"4665\"},{\"data\":[{\"hovertemplate\":\"individuals=black_tail\\u003cbr\\u003elevel_0=4666\\u003cbr\\u003ex=%{x}\\u003cbr\\u003ey=%{y}\\u003cextra\\u003e\\u003c\\u002fextra\\u003e\",\"legendgroup\":\"black_tail\",\"marker\":{\"color\":\"#636efa\",\"symbol\":\"circle\"},\"mode\":\"markers\",\"name\":\"black_tail\",\"orientation\":\"v\",\"showlegend\":true,\"x\":{\"dtype\":\"i2\",\"bdata\":\"DgElAUEBXQHhAPEA+wAxAVMBEgE7AfEA3wADAfoAKwF1AQ==\"},\"xaxis\":\"x\",\"y\":{\"dtype\":\"i2\",\"bdata\":\"YQFzAYYBlwFCATIBUAGsAVsBkAFXAVoBJgFGAXMBRwGjAQ==\"},\"yaxis\":\"y\",\"type\":\"scatter\"},{\"hovertemplate\":\"individuals=non-marked\\u003cbr\\u003elevel_0=4666\\u003cbr\\u003ex=%{x}\\u003cbr\\u003ey=%{y}\\u003cextra\\u003e\\u003c\\u002fextra\\u003e\",\"legendgroup\":\"non-marked\",\"marker\":{\"color\":\"#EF553B\",\"symbol\":\"circle\"},\"mode\":\"markers\",\"name\":\"non-marked\",\"orientation\":\"v\",\"showlegend\":true,\"x\":{\"dtype\":\"i2\",\"bdata\":\"sgCzALYAwADQALoAuADnAJMA2wCTAMMA1ACsANsAmQDMAA==\"},\"xaxis\":\"x\",\"y\":{\"dtype\":\"i2\",\"bdata\":\"4gDFAKYAjAAOARoB+wC7AKMAzwDKAPYAKAH9AOQA8AB0AA==\"},\"yaxis\":\"y\",\"type\":\"scatter\"}],\"name\":\"4666\"},{\"data\":[{\"hovertemplate\":\"individuals=black_tail\\u003cbr\\u003elevel_0=4667\\u003cbr\\u003ex=%{x}\\u003cbr\\u003ey=%{y}\\u003cextra\\u003e\\u003c\\u002fextra\\u003e\",\"legendgroup\":\"black_tail\",\"marker\":{\"color\":\"#636efa\",\"symbol\":\"circle\"},\"mode\":\"markers\",\"name\":\"black_tail\",\"orientation\":\"v\",\"showlegend\":true,\"x\":{\"dtype\":\"i2\",\"bdata\":\"DQElAUEBXQHfAO4A+gAxAVMBEAE7AfAA2wABAfkAKwF0AQ==\"},\"xaxis\":\"x\",\"y\":{\"dtype\":\"i2\",\"bdata\":\"XwFyAYUBlQFCATIBUAGqAVsBjgFWAVoBJwFFAXMBRQGiAQ==\"},\"yaxis\":\"y\",\"type\":\"scatter\"},{\"hovertemplate\":\"individuals=non-marked\\u003cbr\\u003elevel_0=4667\\u003cbr\\u003ex=%{x}\\u003cbr\\u003ey=%{y}\\u003cextra\\u003e\\u003c\\u002fextra\\u003e\",\"legendgroup\":\"non-marked\",\"marker\":{\"color\":\"#EF553B\",\"symbol\":\"circle\"},\"mode\":\"markers\",\"name\":\"non-marked\",\"orientation\":\"v\",\"showlegend\":true,\"x\":{\"dtype\":\"i2\",\"bdata\":\"swCzALYAwQDRALwAugDnAJMA2wCUAMQA1ACtANsAmwDMAA==\"},\"xaxis\":\"x\",\"y\":{\"dtype\":\"i2\",\"bdata\":\"4ADEAKYAjAANARgB+QC5AKMAzwDMAPQAKQH9AOMA8QB0AA==\"},\"yaxis\":\"y\",\"type\":\"scatter\"}],\"name\":\"4667\"},{\"data\":[{\"hovertemplate\":\"individuals=black_tail\\u003cbr\\u003elevel_0=4668\\u003cbr\\u003ex=%{x}\\u003cbr\\u003ey=%{y}\\u003cextra\\u003e\\u003c\\u002fextra\\u003e\",\"legendgroup\":\"black_tail\",\"marker\":{\"color\":\"#636efa\",\"symbol\":\"circle\"},\"mode\":\"markers\",\"name\":\"black_tail\",\"orientation\":\"v\",\"showlegend\":true,\"x\":{\"dtype\":\"i2\",\"bdata\":\"DQEkAUABXAHeAO0A+AAxAVIBDgE7Ae8A2QD\\u002fAPcAKQFzAQ==\"},\"xaxis\":\"x\",\"y\":{\"dtype\":\"i2\",\"bdata\":\"XwFxAYMBkwFCATIBUAGqAVsBjAFUAVoBKAFFAXMBQwGhAQ==\"},\"yaxis\":\"y\",\"type\":\"scatter\"},{\"hovertemplate\":\"individuals=non-marked\\u003cbr\\u003elevel_0=4668\\u003cbr\\u003ex=%{x}\\u003cbr\\u003ey=%{y}\\u003cextra\\u003e\\u003c\\u002fextra\\u003e\",\"legendgroup\":\"non-marked\",\"marker\":{\"color\":\"#EF553B\",\"symbol\":\"circle\"},\"mode\":\"markers\",\"name\":\"non-marked\",\"orientation\":\"v\",\"showlegend\":true,\"x\":{\"dtype\":\"i2\",\"bdata\":\"tACzALYAvwDSAL4AugDoAJMA3ACUAMUA1ACuANwAmwDLAA==\"},\"xaxis\":\"x\",\"y\":{\"dtype\":\"i2\",\"bdata\":\"3wDDAKYAjAAMARYB9wC2AKMAzgDMAPMAKQH8AOIA8QBzAA==\"},\"yaxis\":\"y\",\"type\":\"scatter\"}],\"name\":\"4668\"},{\"data\":[{\"hovertemplate\":\"individuals=black_tail\\u003cbr\\u003elevel_0=4669\\u003cbr\\u003ex=%{x}\\u003cbr\\u003ey=%{y}\\u003cextra\\u003e\\u003c\\u002fextra\\u003e\",\"legendgroup\":\"black_tail\",\"marker\":{\"color\":\"#636efa\",\"symbol\":\"circle\"},\"mode\":\"markers\",\"name\":\"black_tail\",\"orientation\":\"v\",\"showlegend\":true,\"x\":{\"dtype\":\"i2\",\"bdata\":\"DAEjAUABWwHdAOsA9wAwAVIBDAE6Ae4A1gD8APYAJwFzAQ==\"},\"xaxis\":\"x\",\"y\":{\"dtype\":\"i2\",\"bdata\":\"XwFwAYIBkgFDATIBUAGpAVsBjAFSAVoBKgFFAXMBQgGgAQ==\"},\"yaxis\":\"y\",\"type\":\"scatter\"},{\"hovertemplate\":\"individuals=non-marked\\u003cbr\\u003elevel_0=4669\\u003cbr\\u003ex=%{x}\\u003cbr\\u003ey=%{y}\\u003cextra\\u003e\\u003c\\u002fextra\\u003e\",\"legendgroup\":\"non-marked\",\"marker\":{\"color\":\"#EF553B\",\"symbol\":\"circle\"},\"mode\":\"markers\",\"name\":\"non-marked\",\"orientation\":\"v\",\"showlegend\":true,\"x\":{\"dtype\":\"i2\",\"bdata\":\"tQCzALYAvQDTAL8AuwDoAJIA3ACUAMUA1ACvANwAnADJAA==\"},\"xaxis\":\"x\",\"y\":{\"dtype\":\"i2\",\"bdata\":\"3wDCAKUAiwAMARUB9gC0AKMAzQDMAPIAKQH8AOEA8QBzAA==\"},\"yaxis\":\"y\",\"type\":\"scatter\"}],\"name\":\"4669\"},{\"data\":[{\"hovertemplate\":\"individuals=black_tail\\u003cbr\\u003elevel_0=4670\\u003cbr\\u003ex=%{x}\\u003cbr\\u003ey=%{y}\\u003cextra\\u003e\\u003c\\u002fextra\\u003e\",\"legendgroup\":\"black_tail\",\"marker\":{\"color\":\"#636efa\",\"symbol\":\"circle\"},\"mode\":\"markers\",\"name\":\"black_tail\",\"orientation\":\"v\",\"showlegend\":true,\"x\":{\"dtype\":\"i2\",\"bdata\":\"CgEjAUABWwHcAOoA9gAvAVEBCwE5AewA1QD8APUAJAFyAQ==\"},\"xaxis\":\"x\",\"y\":{\"dtype\":\"i2\",\"bdata\":\"XwFwAYABkAFDATIBUAGpAVoBjAFPAVoBKwFFAXMBQAGfAQ==\"},\"yaxis\":\"y\",\"type\":\"scatter\"},{\"hovertemplate\":\"individuals=non-marked\\u003cbr\\u003elevel_0=4670\\u003cbr\\u003ex=%{x}\\u003cbr\\u003ey=%{y}\\u003cextra\\u003e\\u003c\\u002fextra\\u003e\",\"legendgroup\":\"non-marked\",\"marker\":{\"color\":\"#EF553B\",\"symbol\":\"circle\"},\"mode\":\"markers\",\"name\":\"non-marked\",\"orientation\":\"v\",\"showlegend\":true,\"x\":{\"dtype\":\"i2\",\"bdata\":\"tQCzALYAvADTAL8AuwDoAJIA3ACUAMYA1ACvAN0AnADHAA==\"},\"xaxis\":\"x\",\"y\":{\"dtype\":\"i2\",\"bdata\":\"3gDCAKQAigAKARUB9QC0AKMAzADMAPEAKgH8AN8A8QByAA==\"},\"yaxis\":\"y\",\"type\":\"scatter\"}],\"name\":\"4670\"},{\"data\":[{\"hovertemplate\":\"individuals=black_tail\\u003cbr\\u003elevel_0=4671\\u003cbr\\u003ex=%{x}\\u003cbr\\u003ey=%{y}\\u003cextra\\u003e\\u003c\\u002fextra\\u003e\",\"legendgroup\":\"black_tail\",\"marker\":{\"color\":\"#636efa\",\"symbol\":\"circle\"},\"mode\":\"markers\",\"name\":\"black_tail\",\"orientation\":\"v\",\"showlegend\":true,\"x\":{\"dtype\":\"i2\",\"bdata\":\"BwEhAT4BWgHaAOkA8gAvAVEBCwE3AekA1AD5APQAIQFxAQ==\"},\"xaxis\":\"x\",\"y\":{\"dtype\":\"i2\",\"bdata\":\"XwFvAX8BjwFDATIBUAGoAVoBiwFOAVoBKwFFAXMBQAGeAQ==\"},\"yaxis\":\"y\",\"type\":\"scatter\"},{\"hovertemplate\":\"individuals=non-marked\\u003cbr\\u003elevel_0=4671\\u003cbr\\u003ex=%{x}\\u003cbr\\u003ey=%{y}\\u003cextra\\u003e\\u003c\\u002fextra\\u003e\",\"legendgroup\":\"non-marked\",\"marker\":{\"color\":\"#EF553B\",\"symbol\":\"circle\"},\"mode\":\"markers\",\"name\":\"non-marked\",\"orientation\":\"v\",\"showlegend\":true,\"x\":{\"dtype\":\"i2\",\"bdata\":\"tgCzALYAuwDXAMEAvgDnAJIA3ACUAMkA1QCxAN8AnQDFAA==\"},\"xaxis\":\"x\",\"y\":{\"dtype\":\"i2\",\"bdata\":\"3QDBAKQAigAFARMB8wCyAKMAygDMAO4AKAH6AN4A8QByAA==\"},\"yaxis\":\"y\",\"type\":\"scatter\"}],\"name\":\"4671\"},{\"data\":[{\"hovertemplate\":\"individuals=black_tail\\u003cbr\\u003elevel_0=4672\\u003cbr\\u003ex=%{x}\\u003cbr\\u003ey=%{y}\\u003cextra\\u003e\\u003c\\u002fextra\\u003e\",\"legendgroup\":\"black_tail\",\"marker\":{\"color\":\"#636efa\",\"symbol\":\"circle\"},\"mode\":\"markers\",\"name\":\"black_tail\",\"orientation\":\"v\",\"showlegend\":true,\"x\":{\"dtype\":\"i2\",\"bdata\":\"AgEfATwBWAHXAOcA7QAwAVABCgE0AeUA1AD2APEAHgFvAQ==\"},\"xaxis\":\"x\",\"y\":{\"dtype\":\"i2\",\"bdata\":\"XwFuAX0BjQFDATIBUAGoAVoBigFOAVoBKwFFAXMBPwGcAQ==\"},\"yaxis\":\"y\",\"type\":\"scatter\"},{\"hovertemplate\":\"individuals=non-marked\\u003cbr\\u003elevel_0=4672\\u003cbr\\u003ex=%{x}\\u003cbr\\u003ey=%{y}\\u003cextra\\u003e\\u003c\\u002fextra\\u003e\",\"legendgroup\":\"non-marked\",\"marker\":{\"color\":\"#EF553B\",\"symbol\":\"circle\"},\"mode\":\"markers\",\"name\":\"non-marked\",\"orientation\":\"v\",\"showlegend\":true,\"x\":{\"dtype\":\"i2\",\"bdata\":\"uACzALYAuwDbAMYAwQDnAJIA3ACUAM0A2QC1AOEAoADFAA==\"},\"xaxis\":\"x\",\"y\":{\"dtype\":\"i2\",\"bdata\":\"3ADAAKMAiAAAAREB8QCwAKMAxwDMAOwAIgH3ANoA8ABxAA==\"},\"yaxis\":\"y\",\"type\":\"scatter\"}],\"name\":\"4672\"},{\"data\":[{\"hovertemplate\":\"individuals=black_tail\\u003cbr\\u003elevel_0=4673\\u003cbr\\u003ex=%{x}\\u003cbr\\u003ey=%{y}\\u003cextra\\u003e\\u003c\\u002fextra\\u003e\",\"legendgroup\":\"black_tail\",\"marker\":{\"color\":\"#636efa\",\"symbol\":\"circle\"},\"mode\":\"markers\",\"name\":\"black_tail\",\"orientation\":\"v\",\"showlegend\":true,\"x\":{\"dtype\":\"i2\",\"bdata\":\"\\u002fwAbATkBVQHUAOMA6gArAU8BCQEwAeIA0gDxAO4AGgFuAQ==\"},\"xaxis\":\"x\",\"y\":{\"dtype\":\"i2\",\"bdata\":\"XgFtAX0BjQFDATMBUAGmAVoBigFNAVoBKgFFAXMBPwGcAQ==\"},\"yaxis\":\"y\",\"type\":\"scatter\"},{\"hovertemplate\":\"individuals=non-marked\\u003cbr\\u003elevel_0=4673\\u003cbr\\u003ex=%{x}\\u003cbr\\u003ey=%{y}\\u003cextra\\u003e\\u003c\\u002fextra\\u003e\",\"legendgroup\":\"non-marked\",\"marker\":{\"color\":\"#EF553B\",\"symbol\":\"circle\"},\"mode\":\"markers\",\"name\":\"non-marked\",\"orientation\":\"v\",\"showlegend\":true,\"x\":{\"dtype\":\"i2\",\"bdata\":\"vAC2ALYAugDgAM0AxgDnAJIA3gCWANEA3wC7AOQAogDEAA==\"},\"xaxis\":\"x\",\"y\":{\"dtype\":\"i2\",\"bdata\":\"2gDAAKIAhgD\\u002fAA4B7wCuAKYAxADNAOsAHQH0ANgA8ABvAA==\"},\"yaxis\":\"y\",\"type\":\"scatter\"}],\"name\":\"4673\"}]);\n",
       "                        }).then(function(){\n",
       "                            Plotly.animate('c0dc178e-e17e-41b2-b436-86f294ee0471', null);\n",
       "                        })                };            </script>        </div>"
      ],
      "text/plain": [
       "Figure({\n",
       "    'data': [{'hovertemplate': 'individuals=black_tail<br>level_0=4663<br>x=%{x}<br>y=%{y}<extra></extra>',\n",
       "              'legendgroup': 'black_tail',\n",
       "              'marker': {'color': '#636efa', 'size': 5, 'symbol': 'circle'},\n",
       "              'mode': 'markers',\n",
       "              'name': 'black_tail',\n",
       "              'orientation': 'v',\n",
       "              'showlegend': True,\n",
       "              'type': 'scatter',\n",
       "              'x': {'bdata': 'FwEtAUgBYQHsAP4ABgE1AWYBFQFHAfwA6wAOAf8ANAF6AQ==', 'dtype': 'i2'},\n",
       "              'xaxis': 'x',\n",
       "              'y': {'bdata': 'YwF4AYwBngFEATUBUAGuAWYBkgFdAVsBLwFHAXUBTAGwAQ==', 'dtype': 'i2'},\n",
       "              'yaxis': 'y'},\n",
       "             {'hovertemplate': 'individuals=non-marked<br>level_0=4663<br>x=%{x}<br>y=%{y}<extra></extra>',\n",
       "              'legendgroup': 'non-marked',\n",
       "              'marker': {'color': '#EF553B', 'size': 5, 'symbol': 'circle'},\n",
       "              'mode': 'markers',\n",
       "              'name': 'non-marked',\n",
       "              'orientation': 'v',\n",
       "              'showlegend': True,\n",
       "              'type': 'scatter',\n",
       "              'x': {'bdata': 'sACyALkAwQDLALIAtADoAJQA2wCSAMIAxACqANoAlADNAA==', 'dtype': 'i2'},\n",
       "              'xaxis': 'x',\n",
       "              'y': {'bdata': '5QDJAKkAjQAUARsB/gC9AKIA0QDEAPsAJgH/AOsA7AB1AA==', 'dtype': 'i2'},\n",
       "              'yaxis': 'y'}],\n",
       "    'frames': [{'data': [{'hovertemplate': 'individuals=black_tail<br>level_0=4663<br>x=%{x}<br>y=%{y}<extra></extra>',\n",
       "                          'legendgroup': 'black_tail',\n",
       "                          'marker': {'color': '#636efa', 'symbol': 'circle'},\n",
       "                          'mode': 'markers',\n",
       "                          'name': 'black_tail',\n",
       "                          'orientation': 'v',\n",
       "                          'showlegend': True,\n",
       "                          'type': 'scatter',\n",
       "                          'x': {'bdata': 'FwEtAUgBYQHsAP4ABgE1AWYBFQFHAfwA6wAOAf8ANAF6AQ==', 'dtype': 'i2'},\n",
       "                          'xaxis': 'x',\n",
       "                          'y': {'bdata': 'YwF4AYwBngFEATUBUAGuAWYBkgFdAVsBLwFHAXUBTAGwAQ==', 'dtype': 'i2'},\n",
       "                          'yaxis': 'y'},\n",
       "                         {'hovertemplate': 'individuals=non-marked<br>level_0=4663<br>x=%{x}<br>y=%{y}<extra></extra>',\n",
       "                          'legendgroup': 'non-marked',\n",
       "                          'marker': {'color': '#EF553B', 'symbol': 'circle'},\n",
       "                          'mode': 'markers',\n",
       "                          'name': 'non-marked',\n",
       "                          'orientation': 'v',\n",
       "                          'showlegend': True,\n",
       "                          'type': 'scatter',\n",
       "                          'x': {'bdata': 'sACyALkAwQDLALIAtADoAJQA2wCSAMIAxACqANoAlADNAA==', 'dtype': 'i2'},\n",
       "                          'xaxis': 'x',\n",
       "                          'y': {'bdata': '5QDJAKkAjQAUARsB/gC9AKIA0QDEAPsAJgH/AOsA7AB1AA==', 'dtype': 'i2'},\n",
       "                          'yaxis': 'y'}],\n",
       "                'name': '4663'},\n",
       "               {'data': [{'hovertemplate': 'individuals=black_tail<br>level_0=4664<br>x=%{x}<br>y=%{y}<extra></extra>',\n",
       "                          'legendgroup': 'black_tail',\n",
       "                          'marker': {'color': '#636efa', 'symbol': 'circle'},\n",
       "                          'mode': 'markers',\n",
       "                          'name': 'black_tail',\n",
       "                          'orientation': 'v',\n",
       "                          'showlegend': True,\n",
       "                          'type': 'scatter',\n",
       "                          'x': {'bdata': 'EgEpAUQBYAHnAPgAAQEyAVwBEwFCAfYA5gAJAfwALgF4AQ==', 'dtype': 'i2'},\n",
       "                          'xaxis': 'x',\n",
       "                          'y': {'bdata': 'YgF2AYsBmwFCATMBUAGuAWABkQFaAVoBKwFHAXUBSwGrAQ==', 'dtype': 'i2'},\n",
       "                          'yaxis': 'y'},\n",
       "                         {'hovertemplate': 'individuals=non-marked<br>level_0=4664<br>x=%{x}<br>y=%{y}<extra></extra>',\n",
       "                          'legendgroup': 'non-marked',\n",
       "                          'marker': {'color': '#EF553B', 'symbol': 'circle'},\n",
       "                          'mode': 'markers',\n",
       "                          'name': 'non-marked',\n",
       "                          'orientation': 'v',\n",
       "                          'showlegend': True,\n",
       "                          'type': 'scatter',\n",
       "                          'x': {'bdata': 'sACyALcAwQDMALQAtQDnAJMA2gCSAMEAygCqANoAlQDNAA==', 'dtype': 'i2'},\n",
       "                          'xaxis': 'x',\n",
       "                          'y': {'bdata': '5ADGAKcAjQARARsB/QC7AKIAzwDEAPoAJwH+AOcA7QB1AA==', 'dtype': 'i2'},\n",
       "                          'yaxis': 'y'}],\n",
       "                'name': '4664'},\n",
       "               {'data': [{'hovertemplate': 'individuals=black_tail<br>level_0=4665<br>x=%{x}<br>y=%{y}<extra></extra>',\n",
       "                          'legendgroup': 'black_tail',\n",
       "                          'marker': {'color': '#636efa', 'symbol': 'circle'},\n",
       "                          'mode': 'markers',\n",
       "                          'name': 'black_tail',\n",
       "                          'orientation': 'v',\n",
       "                          'showlegend': True,\n",
       "                          'type': 'scatter',\n",
       "                          'x': {'bdata': 'DwEnAUIBXgHjAPQA/QAyAVYBEgE9AfMA4gAFAfsALAF3AQ==', 'dtype': 'i2'},\n",
       "                          'xaxis': 'x',\n",
       "                          'y': {'bdata': 'YgF0AYgBmQFCATIBUAGtAV0BkQFYAVoBJwFGAXQBSQGmAQ==', 'dtype': 'i2'},\n",
       "                          'yaxis': 'y'},\n",
       "                         {'hovertemplate': 'individuals=non-marked<br>level_0=4665<br>x=%{x}<br>y=%{y}<extra></extra>',\n",
       "                          'legendgroup': 'non-marked',\n",
       "                          'marker': {'color': '#EF553B', 'symbol': 'circle'},\n",
       "                          'mode': 'markers',\n",
       "                          'name': 'non-marked',\n",
       "                          'orientation': 'v',\n",
       "                          'showlegend': True,\n",
       "                          'type': 'scatter',\n",
       "                          'x': {'bdata': 'sQCyALUAwADOALgAtgDnAJMA2gCTAMIA0QCqANoAlwDNAA==', 'dtype': 'i2'},\n",
       "                          'xaxis': 'x',\n",
       "                          'y': {'bdata': '4wDFAKUAjAAPARoB/AC7AKIAzgDGAPkAKAH9AOUA7gB0AA==', 'dtype': 'i2'},\n",
       "                          'yaxis': 'y'}],\n",
       "                'name': '4665'},\n",
       "               {'data': [{'hovertemplate': 'individuals=black_tail<br>level_0=4666<br>x=%{x}<br>y=%{y}<extra></extra>',\n",
       "                          'legendgroup': 'black_tail',\n",
       "                          'marker': {'color': '#636efa', 'symbol': 'circle'},\n",
       "                          'mode': 'markers',\n",
       "                          'name': 'black_tail',\n",
       "                          'orientation': 'v',\n",
       "                          'showlegend': True,\n",
       "                          'type': 'scatter',\n",
       "                          'x': {'bdata': 'DgElAUEBXQHhAPEA+wAxAVMBEgE7AfEA3wADAfoAKwF1AQ==', 'dtype': 'i2'},\n",
       "                          'xaxis': 'x',\n",
       "                          'y': {'bdata': 'YQFzAYYBlwFCATIBUAGsAVsBkAFXAVoBJgFGAXMBRwGjAQ==', 'dtype': 'i2'},\n",
       "                          'yaxis': 'y'},\n",
       "                         {'hovertemplate': 'individuals=non-marked<br>level_0=4666<br>x=%{x}<br>y=%{y}<extra></extra>',\n",
       "                          'legendgroup': 'non-marked',\n",
       "                          'marker': {'color': '#EF553B', 'symbol': 'circle'},\n",
       "                          'mode': 'markers',\n",
       "                          'name': 'non-marked',\n",
       "                          'orientation': 'v',\n",
       "                          'showlegend': True,\n",
       "                          'type': 'scatter',\n",
       "                          'x': {'bdata': 'sgCzALYAwADQALoAuADnAJMA2wCTAMMA1ACsANsAmQDMAA==', 'dtype': 'i2'},\n",
       "                          'xaxis': 'x',\n",
       "                          'y': {'bdata': '4gDFAKYAjAAOARoB+wC7AKMAzwDKAPYAKAH9AOQA8AB0AA==', 'dtype': 'i2'},\n",
       "                          'yaxis': 'y'}],\n",
       "                'name': '4666'},\n",
       "               {'data': [{'hovertemplate': 'individuals=black_tail<br>level_0=4667<br>x=%{x}<br>y=%{y}<extra></extra>',\n",
       "                          'legendgroup': 'black_tail',\n",
       "                          'marker': {'color': '#636efa', 'symbol': 'circle'},\n",
       "                          'mode': 'markers',\n",
       "                          'name': 'black_tail',\n",
       "                          'orientation': 'v',\n",
       "                          'showlegend': True,\n",
       "                          'type': 'scatter',\n",
       "                          'x': {'bdata': 'DQElAUEBXQHfAO4A+gAxAVMBEAE7AfAA2wABAfkAKwF0AQ==', 'dtype': 'i2'},\n",
       "                          'xaxis': 'x',\n",
       "                          'y': {'bdata': 'XwFyAYUBlQFCATIBUAGqAVsBjgFWAVoBJwFFAXMBRQGiAQ==', 'dtype': 'i2'},\n",
       "                          'yaxis': 'y'},\n",
       "                         {'hovertemplate': 'individuals=non-marked<br>level_0=4667<br>x=%{x}<br>y=%{y}<extra></extra>',\n",
       "                          'legendgroup': 'non-marked',\n",
       "                          'marker': {'color': '#EF553B', 'symbol': 'circle'},\n",
       "                          'mode': 'markers',\n",
       "                          'name': 'non-marked',\n",
       "                          'orientation': 'v',\n",
       "                          'showlegend': True,\n",
       "                          'type': 'scatter',\n",
       "                          'x': {'bdata': 'swCzALYAwQDRALwAugDnAJMA2wCUAMQA1ACtANsAmwDMAA==', 'dtype': 'i2'},\n",
       "                          'xaxis': 'x',\n",
       "                          'y': {'bdata': '4ADEAKYAjAANARgB+QC5AKMAzwDMAPQAKQH9AOMA8QB0AA==', 'dtype': 'i2'},\n",
       "                          'yaxis': 'y'}],\n",
       "                'name': '4667'},\n",
       "               {'data': [{'hovertemplate': 'individuals=black_tail<br>level_0=4668<br>x=%{x}<br>y=%{y}<extra></extra>',\n",
       "                          'legendgroup': 'black_tail',\n",
       "                          'marker': {'color': '#636efa', 'symbol': 'circle'},\n",
       "                          'mode': 'markers',\n",
       "                          'name': 'black_tail',\n",
       "                          'orientation': 'v',\n",
       "                          'showlegend': True,\n",
       "                          'type': 'scatter',\n",
       "                          'x': {'bdata': 'DQEkAUABXAHeAO0A+AAxAVIBDgE7Ae8A2QD/APcAKQFzAQ==', 'dtype': 'i2'},\n",
       "                          'xaxis': 'x',\n",
       "                          'y': {'bdata': 'XwFxAYMBkwFCATIBUAGqAVsBjAFUAVoBKAFFAXMBQwGhAQ==', 'dtype': 'i2'},\n",
       "                          'yaxis': 'y'},\n",
       "                         {'hovertemplate': 'individuals=non-marked<br>level_0=4668<br>x=%{x}<br>y=%{y}<extra></extra>',\n",
       "                          'legendgroup': 'non-marked',\n",
       "                          'marker': {'color': '#EF553B', 'symbol': 'circle'},\n",
       "                          'mode': 'markers',\n",
       "                          'name': 'non-marked',\n",
       "                          'orientation': 'v',\n",
       "                          'showlegend': True,\n",
       "                          'type': 'scatter',\n",
       "                          'x': {'bdata': 'tACzALYAvwDSAL4AugDoAJMA3ACUAMUA1ACuANwAmwDLAA==', 'dtype': 'i2'},\n",
       "                          'xaxis': 'x',\n",
       "                          'y': {'bdata': '3wDDAKYAjAAMARYB9wC2AKMAzgDMAPMAKQH8AOIA8QBzAA==', 'dtype': 'i2'},\n",
       "                          'yaxis': 'y'}],\n",
       "                'name': '4668'},\n",
       "               {'data': [{'hovertemplate': 'individuals=black_tail<br>level_0=4669<br>x=%{x}<br>y=%{y}<extra></extra>',\n",
       "                          'legendgroup': 'black_tail',\n",
       "                          'marker': {'color': '#636efa', 'symbol': 'circle'},\n",
       "                          'mode': 'markers',\n",
       "                          'name': 'black_tail',\n",
       "                          'orientation': 'v',\n",
       "                          'showlegend': True,\n",
       "                          'type': 'scatter',\n",
       "                          'x': {'bdata': 'DAEjAUABWwHdAOsA9wAwAVIBDAE6Ae4A1gD8APYAJwFzAQ==', 'dtype': 'i2'},\n",
       "                          'xaxis': 'x',\n",
       "                          'y': {'bdata': 'XwFwAYIBkgFDATIBUAGpAVsBjAFSAVoBKgFFAXMBQgGgAQ==', 'dtype': 'i2'},\n",
       "                          'yaxis': 'y'},\n",
       "                         {'hovertemplate': 'individuals=non-marked<br>level_0=4669<br>x=%{x}<br>y=%{y}<extra></extra>',\n",
       "                          'legendgroup': 'non-marked',\n",
       "                          'marker': {'color': '#EF553B', 'symbol': 'circle'},\n",
       "                          'mode': 'markers',\n",
       "                          'name': 'non-marked',\n",
       "                          'orientation': 'v',\n",
       "                          'showlegend': True,\n",
       "                          'type': 'scatter',\n",
       "                          'x': {'bdata': 'tQCzALYAvQDTAL8AuwDoAJIA3ACUAMUA1ACvANwAnADJAA==', 'dtype': 'i2'},\n",
       "                          'xaxis': 'x',\n",
       "                          'y': {'bdata': '3wDCAKUAiwAMARUB9gC0AKMAzQDMAPIAKQH8AOEA8QBzAA==', 'dtype': 'i2'},\n",
       "                          'yaxis': 'y'}],\n",
       "                'name': '4669'},\n",
       "               {'data': [{'hovertemplate': 'individuals=black_tail<br>level_0=4670<br>x=%{x}<br>y=%{y}<extra></extra>',\n",
       "                          'legendgroup': 'black_tail',\n",
       "                          'marker': {'color': '#636efa', 'symbol': 'circle'},\n",
       "                          'mode': 'markers',\n",
       "                          'name': 'black_tail',\n",
       "                          'orientation': 'v',\n",
       "                          'showlegend': True,\n",
       "                          'type': 'scatter',\n",
       "                          'x': {'bdata': 'CgEjAUABWwHcAOoA9gAvAVEBCwE5AewA1QD8APUAJAFyAQ==', 'dtype': 'i2'},\n",
       "                          'xaxis': 'x',\n",
       "                          'y': {'bdata': 'XwFwAYABkAFDATIBUAGpAVoBjAFPAVoBKwFFAXMBQAGfAQ==', 'dtype': 'i2'},\n",
       "                          'yaxis': 'y'},\n",
       "                         {'hovertemplate': 'individuals=non-marked<br>level_0=4670<br>x=%{x}<br>y=%{y}<extra></extra>',\n",
       "                          'legendgroup': 'non-marked',\n",
       "                          'marker': {'color': '#EF553B', 'symbol': 'circle'},\n",
       "                          'mode': 'markers',\n",
       "                          'name': 'non-marked',\n",
       "                          'orientation': 'v',\n",
       "                          'showlegend': True,\n",
       "                          'type': 'scatter',\n",
       "                          'x': {'bdata': 'tQCzALYAvADTAL8AuwDoAJIA3ACUAMYA1ACvAN0AnADHAA==', 'dtype': 'i2'},\n",
       "                          'xaxis': 'x',\n",
       "                          'y': {'bdata': '3gDCAKQAigAKARUB9QC0AKMAzADMAPEAKgH8AN8A8QByAA==', 'dtype': 'i2'},\n",
       "                          'yaxis': 'y'}],\n",
       "                'name': '4670'},\n",
       "               {'data': [{'hovertemplate': 'individuals=black_tail<br>level_0=4671<br>x=%{x}<br>y=%{y}<extra></extra>',\n",
       "                          'legendgroup': 'black_tail',\n",
       "                          'marker': {'color': '#636efa', 'symbol': 'circle'},\n",
       "                          'mode': 'markers',\n",
       "                          'name': 'black_tail',\n",
       "                          'orientation': 'v',\n",
       "                          'showlegend': True,\n",
       "                          'type': 'scatter',\n",
       "                          'x': {'bdata': 'BwEhAT4BWgHaAOkA8gAvAVEBCwE3AekA1AD5APQAIQFxAQ==', 'dtype': 'i2'},\n",
       "                          'xaxis': 'x',\n",
       "                          'y': {'bdata': 'XwFvAX8BjwFDATIBUAGoAVoBiwFOAVoBKwFFAXMBQAGeAQ==', 'dtype': 'i2'},\n",
       "                          'yaxis': 'y'},\n",
       "                         {'hovertemplate': 'individuals=non-marked<br>level_0=4671<br>x=%{x}<br>y=%{y}<extra></extra>',\n",
       "                          'legendgroup': 'non-marked',\n",
       "                          'marker': {'color': '#EF553B', 'symbol': 'circle'},\n",
       "                          'mode': 'markers',\n",
       "                          'name': 'non-marked',\n",
       "                          'orientation': 'v',\n",
       "                          'showlegend': True,\n",
       "                          'type': 'scatter',\n",
       "                          'x': {'bdata': 'tgCzALYAuwDXAMEAvgDnAJIA3ACUAMkA1QCxAN8AnQDFAA==', 'dtype': 'i2'},\n",
       "                          'xaxis': 'x',\n",
       "                          'y': {'bdata': '3QDBAKQAigAFARMB8wCyAKMAygDMAO4AKAH6AN4A8QByAA==', 'dtype': 'i2'},\n",
       "                          'yaxis': 'y'}],\n",
       "                'name': '4671'},\n",
       "               {'data': [{'hovertemplate': 'individuals=black_tail<br>level_0=4672<br>x=%{x}<br>y=%{y}<extra></extra>',\n",
       "                          'legendgroup': 'black_tail',\n",
       "                          'marker': {'color': '#636efa', 'symbol': 'circle'},\n",
       "                          'mode': 'markers',\n",
       "                          'name': 'black_tail',\n",
       "                          'orientation': 'v',\n",
       "                          'showlegend': True,\n",
       "                          'type': 'scatter',\n",
       "                          'x': {'bdata': 'AgEfATwBWAHXAOcA7QAwAVABCgE0AeUA1AD2APEAHgFvAQ==', 'dtype': 'i2'},\n",
       "                          'xaxis': 'x',\n",
       "                          'y': {'bdata': 'XwFuAX0BjQFDATIBUAGoAVoBigFOAVoBKwFFAXMBPwGcAQ==', 'dtype': 'i2'},\n",
       "                          'yaxis': 'y'},\n",
       "                         {'hovertemplate': 'individuals=non-marked<br>level_0=4672<br>x=%{x}<br>y=%{y}<extra></extra>',\n",
       "                          'legendgroup': 'non-marked',\n",
       "                          'marker': {'color': '#EF553B', 'symbol': 'circle'},\n",
       "                          'mode': 'markers',\n",
       "                          'name': 'non-marked',\n",
       "                          'orientation': 'v',\n",
       "                          'showlegend': True,\n",
       "                          'type': 'scatter',\n",
       "                          'x': {'bdata': 'uACzALYAuwDbAMYAwQDnAJIA3ACUAM0A2QC1AOEAoADFAA==', 'dtype': 'i2'},\n",
       "                          'xaxis': 'x',\n",
       "                          'y': {'bdata': '3ADAAKMAiAAAAREB8QCwAKMAxwDMAOwAIgH3ANoA8ABxAA==', 'dtype': 'i2'},\n",
       "                          'yaxis': 'y'}],\n",
       "                'name': '4672'},\n",
       "               {'data': [{'hovertemplate': 'individuals=black_tail<br>level_0=4673<br>x=%{x}<br>y=%{y}<extra></extra>',\n",
       "                          'legendgroup': 'black_tail',\n",
       "                          'marker': {'color': '#636efa', 'symbol': 'circle'},\n",
       "                          'mode': 'markers',\n",
       "                          'name': 'black_tail',\n",
       "                          'orientation': 'v',\n",
       "                          'showlegend': True,\n",
       "                          'type': 'scatter',\n",
       "                          'x': {'bdata': '/wAbATkBVQHUAOMA6gArAU8BCQEwAeIA0gDxAO4AGgFuAQ==', 'dtype': 'i2'},\n",
       "                          'xaxis': 'x',\n",
       "                          'y': {'bdata': 'XgFtAX0BjQFDATMBUAGmAVoBigFNAVoBKgFFAXMBPwGcAQ==', 'dtype': 'i2'},\n",
       "                          'yaxis': 'y'},\n",
       "                         {'hovertemplate': 'individuals=non-marked<br>level_0=4673<br>x=%{x}<br>y=%{y}<extra></extra>',\n",
       "                          'legendgroup': 'non-marked',\n",
       "                          'marker': {'color': '#EF553B', 'symbol': 'circle'},\n",
       "                          'mode': 'markers',\n",
       "                          'name': 'non-marked',\n",
       "                          'orientation': 'v',\n",
       "                          'showlegend': True,\n",
       "                          'type': 'scatter',\n",
       "                          'x': {'bdata': 'vAC2ALYAugDgAM0AxgDnAJIA3gCWANEA3wC7AOQAogDEAA==', 'dtype': 'i2'},\n",
       "                          'xaxis': 'x',\n",
       "                          'y': {'bdata': '2gDAAKIAhgD/AA4B7wCuAKYAxADNAOsAHQH0ANgA8ABvAA==', 'dtype': 'i2'},\n",
       "                          'yaxis': 'y'}],\n",
       "                'name': '4673'}],\n",
       "    'layout': {'height': 500,\n",
       "               'legend': {'title': {'text': 'individuals'}, 'tracegroupgap': 0},\n",
       "               'margin': {'t': 60},\n",
       "               'sliders': [{'active': 0,\n",
       "                            'currentvalue': {'prefix': 'level_0='},\n",
       "                            'len': 0.9,\n",
       "                            'pad': {'b': 10, 't': 60},\n",
       "                            'steps': [{'args': [['4663'], {'frame': {'duration':\n",
       "                                                0, 'redraw': False}, 'mode':\n",
       "                                                'immediate', 'fromcurrent': True,\n",
       "                                                'transition': {'duration': 0,\n",
       "                                                'easing': 'linear'}}],\n",
       "                                       'label': '4663',\n",
       "                                       'method': 'animate'},\n",
       "                                      {'args': [['4664'], {'frame': {'duration':\n",
       "                                                0, 'redraw': False}, 'mode':\n",
       "                                                'immediate', 'fromcurrent': True,\n",
       "                                                'transition': {'duration': 0,\n",
       "                                                'easing': 'linear'}}],\n",
       "                                       'label': '4664',\n",
       "                                       'method': 'animate'},\n",
       "                                      {'args': [['4665'], {'frame': {'duration':\n",
       "                                                0, 'redraw': False}, 'mode':\n",
       "                                                'immediate', 'fromcurrent': True,\n",
       "                                                'transition': {'duration': 0,\n",
       "                                                'easing': 'linear'}}],\n",
       "                                       'label': '4665',\n",
       "                                       'method': 'animate'},\n",
       "                                      {'args': [['4666'], {'frame': {'duration':\n",
       "                                                0, 'redraw': False}, 'mode':\n",
       "                                                'immediate', 'fromcurrent': True,\n",
       "                                                'transition': {'duration': 0,\n",
       "                                                'easing': 'linear'}}],\n",
       "                                       'label': '4666',\n",
       "                                       'method': 'animate'},\n",
       "                                      {'args': [['4667'], {'frame': {'duration':\n",
       "                                                0, 'redraw': False}, 'mode':\n",
       "                                                'immediate', 'fromcurrent': True,\n",
       "                                                'transition': {'duration': 0,\n",
       "                                                'easing': 'linear'}}],\n",
       "                                       'label': '4667',\n",
       "                                       'method': 'animate'},\n",
       "                                      {'args': [['4668'], {'frame': {'duration':\n",
       "                                                0, 'redraw': False}, 'mode':\n",
       "                                                'immediate', 'fromcurrent': True,\n",
       "                                                'transition': {'duration': 0,\n",
       "                                                'easing': 'linear'}}],\n",
       "                                       'label': '4668',\n",
       "                                       'method': 'animate'},\n",
       "                                      {'args': [['4669'], {'frame': {'duration':\n",
       "                                                0, 'redraw': False}, 'mode':\n",
       "                                                'immediate', 'fromcurrent': True,\n",
       "                                                'transition': {'duration': 0,\n",
       "                                                'easing': 'linear'}}],\n",
       "                                       'label': '4669',\n",
       "                                       'method': 'animate'},\n",
       "                                      {'args': [['4670'], {'frame': {'duration':\n",
       "                                                0, 'redraw': False}, 'mode':\n",
       "                                                'immediate', 'fromcurrent': True,\n",
       "                                                'transition': {'duration': 0,\n",
       "                                                'easing': 'linear'}}],\n",
       "                                       'label': '4670',\n",
       "                                       'method': 'animate'},\n",
       "                                      {'args': [['4671'], {'frame': {'duration':\n",
       "                                                0, 'redraw': False}, 'mode':\n",
       "                                                'immediate', 'fromcurrent': True,\n",
       "                                                'transition': {'duration': 0,\n",
       "                                                'easing': 'linear'}}],\n",
       "                                       'label': '4671',\n",
       "                                       'method': 'animate'},\n",
       "                                      {'args': [['4672'], {'frame': {'duration':\n",
       "                                                0, 'redraw': False}, 'mode':\n",
       "                                                'immediate', 'fromcurrent': True,\n",
       "                                                'transition': {'duration': 0,\n",
       "                                                'easing': 'linear'}}],\n",
       "                                       'label': '4672',\n",
       "                                       'method': 'animate'},\n",
       "                                      {'args': [['4673'], {'frame': {'duration':\n",
       "                                                0, 'redraw': False}, 'mode':\n",
       "                                                'immediate', 'fromcurrent': True,\n",
       "                                                'transition': {'duration': 0,\n",
       "                                                'easing': 'linear'}}],\n",
       "                                       'label': '4673',\n",
       "                                       'method': 'animate'}],\n",
       "                            'x': 0.1,\n",
       "                            'xanchor': 'left',\n",
       "                            'y': 0,\n",
       "                            'yanchor': 'top'}],\n",
       "               'template': '...',\n",
       "               'updatemenus': [{'buttons': [{'args': [None, {'frame': {'duration':\n",
       "                                                      500, 'redraw': False},\n",
       "                                                      'mode': 'immediate',\n",
       "                                                      'fromcurrent': True,\n",
       "                                                      'transition': {'duration':\n",
       "                                                      500, 'easing': 'linear'}}],\n",
       "                                             'label': '&#9654;',\n",
       "                                             'method': 'animate'},\n",
       "                                            {'args': [[None], {'frame':\n",
       "                                                      {'duration': 0, 'redraw':\n",
       "                                                      False}, 'mode': 'immediate',\n",
       "                                                      'fromcurrent': True,\n",
       "                                                      'transition': {'duration': 0,\n",
       "                                                      'easing': 'linear'}}],\n",
       "                                             'label': '&#9724;',\n",
       "                                             'method': 'animate'}],\n",
       "                                'direction': 'left',\n",
       "                                'pad': {'r': 10, 't': 70},\n",
       "                                'showactive': False,\n",
       "                                'type': 'buttons',\n",
       "                                'x': 0.1,\n",
       "                                'xanchor': 'right',\n",
       "                                'y': 0,\n",
       "                                'yanchor': 'top'}],\n",
       "               'width': 700,\n",
       "               'xaxis': {'anchor': 'y', 'domain': [0.0, 1.0], 'title': {'text': 'x'}},\n",
       "               'yaxis': {'anchor': 'x', 'domain': [0.0, 1.0], 'title': {'text': 'y'}}}\n",
       "})"
      ]
     },
     "execution_count": 29,
     "metadata": {},
     "output_type": "execute_result"
    }
   ],
   "source": [
    "fig = px.scatter(plot_df, x='x', y='y', color=\"individuals\", animation_frame=\"level_0\", width=700, height=500)\n",
    "fig.update_traces(marker=dict(size=5))"
   ]
  },
  {
   "cell_type": "code",
   "execution_count": 26,
   "id": "9d327da0",
   "metadata": {},
   "outputs": [],
   "source": [
    "# calculate angles of noses\n",
    "ind1_vector = (df.loc[:, (\"black_tail\", \"head_centre\")] - df.loc[:, (\"black_tail\", \"nose\")]).values\n",
    "ind2_vector = (df.loc[:, (\"non-marked\", \"head_centre\")] - df.loc[:, (\"non-marked\", \"nose\")]).values\n",
    "\n",
    "dot_products = np.einsum('ij,ij->i', ind1_vector, ind2_vector)\n",
    "mag1 = np.linalg.norm(ind1_vector, axis=1)\n",
    "mag2 = np.linalg.norm(ind2_vector, axis=1)\n",
    "\n",
    "cos_sim = dot_products / (mag1 * mag2 + 1e-8)\n",
    "cos_ancos_simgles = np.clip(cos_sim, -1.0, 1.0)\n",
    "nose_angles = np.degrees(np.arccos(cos_sim))\n"
   ]
  },
  {
   "cell_type": "code",
   "execution_count": 27,
   "id": "1df50f98",
   "metadata": {},
   "outputs": [
    {
     "data": {
      "text/plain": [
       "(array([ 662, 3111, 3144, 4663, 5481]),\n",
       " array([ 679, 3115, 3146, 4676, 5492]),\n",
       " array([18,  5,  3, 14, 12]))"
      ]
     },
     "execution_count": 27,
     "metadata": {},
     "output_type": "execute_result"
    }
   ],
   "source": [
    "find_binary_sequence_borders((nose_angles < 180) & (nose_angles > 140) & (nose_distance < 50))"
   ]
  },
  {
   "cell_type": "code",
   "execution_count": 30,
   "id": "27394111",
   "metadata": {},
   "outputs": [],
   "source": [
    "# calculate angles of bodies\n",
    "ind1_vector = (df.loc[:, (\"black_tail\", \"dorsal_2\")] - df.loc[:, (\"black_tail\", \"nose\")]).values\n",
    "ind2_vector = (df.loc[:, (\"non-marked\", \"dorsal_2\")] - df.loc[:, (\"non-marked\", \"nose\")]).values\n",
    "\n",
    "dot_products = np.einsum('ij,ij->i', ind1_vector, ind2_vector)\n",
    "mag1 = np.linalg.norm(ind1_vector, axis=1)\n",
    "mag2 = np.linalg.norm(ind2_vector, axis=1)\n",
    "\n",
    "cos_angles = dot_products / (mag1 * mag2 + 1e-8)\n",
    "cos_angles = np.clip(cos_angles, -1.0, 1.0)\n",
    "angles = np.degrees(np.arccos(cos_angles))"
   ]
  },
  {
   "cell_type": "code",
   "execution_count": 31,
   "id": "e91fc3af",
   "metadata": {},
   "outputs": [],
   "source": [
    "v1 = df_velocity['black_tail'][['x', 'y']].values\n",
    "v2 = df_velocity['non-marked'][['x', 'y']].values\n",
    "\n",
    "dot_products = np.einsum('ij,ij->i', v1, v2)\n",
    "norms_v1 = np.linalg.norm(v1, axis=1)\n",
    "norms_v2 = np.linalg.norm(v2, axis=1)\n",
    "\n",
    "cos_sim = dot_products / (norms_v1 * norms_v2 + 1e-8)\n",
    "cos_sim = np.clip(cos_sim, -1.0, 1.0)\n",
    "\n",
    "same_direction = cos_sim > 0.8"
   ]
  },
  {
   "cell_type": "code",
   "execution_count": null,
   "id": "ca4c04d5",
   "metadata": {},
   "outputs": [],
   "source": [
    "# Calculate nose to tail_base distances\n",
    "df_nose_tb = df.loc[:, (individuals, [\"nose\", \"tail_base\"], [\"x\", \"y\"])]\n",
    "nose_tb_distance = np.linalg.norm(df_nose_tb.loc[:, (\"black_tail\", \"nose\")].values - \n",
    "                               df_nose_tb.loc[:, (\"non-marked\", \"tail_base\")].values, axis=1)"
   ]
  },
  {
   "cell_type": "code",
   "execution_count": null,
   "id": "b61a9eaa",
   "metadata": {},
   "outputs": [],
   "source": [
    "find_binary_sequence_borders((nose_tb_distance < 50) & (df_dist_traveled['non-marked'] > 1))"
   ]
  }
 ],
 "metadata": {
  "kernelspec": {
   "display_name": "deepecohab",
   "language": "python",
   "name": "python3"
  },
  "language_info": {
   "codemirror_mode": {
    "name": "ipython",
    "version": 3
   },
   "file_extension": ".py",
   "mimetype": "text/x-python",
   "name": "python",
   "nbconvert_exporter": "python",
   "pygments_lexer": "ipython3",
   "version": "3.11.10"
  }
 },
 "nbformat": 4,
 "nbformat_minor": 5
}
