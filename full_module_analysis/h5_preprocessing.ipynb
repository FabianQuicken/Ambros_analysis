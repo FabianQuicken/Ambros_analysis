{
 "cells": [
  {
   "cell_type": "markdown",
   "id": "db2fbb9f",
   "metadata": {},
   "source": [
    "Erstmal alle Imports klären:"
   ]
  },
  {
   "cell_type": "code",
   "execution_count": null,
   "id": "6af599cc",
   "metadata": {},
   "outputs": [],
   "source": [
    "import pandas as pd\n",
    "import numpy as np\n",
    "from shapely.geometry import Point, Polygon\n",
    "import glob\n",
    "import os \n",
    "\n",
    "from utils import euklidean_distance"
   ]
  },
  {
   "cell_type": "markdown",
   "id": "7819f7f0",
   "metadata": {},
   "source": [
    "Alle Funktionen die nicht im Maincode gebraucht werden:"
   ]
  },
  {
   "cell_type": "code",
   "execution_count": null,
   "id": "2eab67cd",
   "metadata": {},
   "outputs": [],
   "source": [
    "\n",
    "def create_polygon(polygon_coords=list):\n",
    "    return Polygon(polygon_coords)\n",
    "\n",
    "def create_point(x, y):\n",
    "    return Point(x, y)\n",
    "\n",
    "def is_point_in_polygon(polygon, point):\n",
    "    return polygon.contains(point)"
   ]
  },
  {
   "cell_type": "markdown",
   "id": "4ef100fd",
   "metadata": {},
   "source": [
    "Feste Variablen:"
   ]
  },
  {
   "cell_type": "code",
   "execution_count": 55,
   "id": "13e27313",
   "metadata": {},
   "outputs": [],
   "source": [
    "arena_coords = [(110,20), (1870,25), (1860,1070), (110,1070)]\n",
    "enter_zone_coords = [(1700,430),(1900,430),(1900,670),(1700,670)]"
   ]
  },
  {
   "cell_type": "markdown",
   "id": "5784d87a",
   "metadata": {},
   "source": [
    "Ordner mit H5 Dateien wird eingelesen:"
   ]
  },
  {
   "cell_type": "code",
   "execution_count": 56,
   "id": "f93568a3",
   "metadata": {},
   "outputs": [],
   "source": [
    "path = r\"C:\\Users\\quicken\\Code\\Ambros_analysis\\code_test\"\n",
    "file_list = glob.glob(os.path.join(path, '*.h5'))\n",
    "\n",
    "df_list = [pd.read_hdf(f) for f in file_list]\n",
    "\n",
    "scorer_list = [df.columns.levels[0][0] for df in df_list]\n",
    "individuals_list = [df.columns.levels[1].to_list() for df in df_list]\n",
    "bodyparts_list = [df.columns.levels[2].to_list() for df in df_list]\n"
   ]
  },
  {
   "cell_type": "code",
   "execution_count": 57,
   "id": "c49f2cae",
   "metadata": {},
   "outputs": [
    {
     "name": "stderr",
     "output_type": "stream",
     "text": [
      "C:\\Users\\quicken\\AppData\\Local\\Temp\\ipykernel_25412\\908338825.py:12: RuntimeWarning: Mean of empty slice\n",
      "  mean_x = np.nanmean(arr_x, axis=1)\n",
      "C:\\Users\\quicken\\AppData\\Local\\Temp\\ipykernel_25412\\908338825.py:13: RuntimeWarning: Mean of empty slice\n",
      "  mean_y = np.nanmean(arr_y, axis=1)\n"
     ]
    }
   ],
   "source": [
    "test_df = df_list[-1]\n",
    "test_df = test_df.interpolate(\"linear\", limit=30)\n",
    "scorer = scorer_list[-1]\n",
    "bodyparts = bodyparts_list[-1]\n",
    "individuals = individuals_list[-1]\n",
    "\n",
    "#for ind 1\n",
    "\n",
    "arr_x = test_df.loc[:, (scorer, individuals[0], bodyparts, [\"x\", \"y\"])].values[:,::2]\n",
    "arr_y = test_df.loc[:, (scorer, individuals[0], bodyparts, [\"x\", \"y\"])].values[:,1::2]\n",
    "\n",
    "mean_x = np.nanmean(arr_x, axis=1)\n",
    "mean_y = np.nanmean(arr_y, axis=1)\n",
    "\n",
    "mouse_center = []\n",
    "\n",
    "for i in range(len(mean_x)):\n",
    "    point = (mean_x[i], mean_y[i])\n",
    "    mouse_center.append(point)\n",
    "\n"
   ]
  },
  {
   "cell_type": "code",
   "execution_count": 58,
   "id": "1c573343",
   "metadata": {},
   "outputs": [],
   "source": [
    "enter_zone_polygon = create_polygon(enter_zone_coords)\n",
    "arena_polygon = create_polygon(arena_coords)\n",
    "mouse_in_enter_zone = np.zeros(len(mouse_center))\n",
    "mouse_in_arena = np.zeros(len(mouse_center))\n",
    "\n",
    "# iterates over all frames\n",
    "for i in range(len(mouse_center)):\n",
    "\n",
    "    # creats a point out of the mouse center coordinates\n",
    "    center_point = create_point(mouse_center[i][0], mouse_center[i][1])\n",
    "\n",
    "    # checks, if mouse center is in enter zone and in arena\n",
    "    if is_point_in_polygon(polygon=enter_zone_polygon, point=center_point):\n",
    "        mouse_in_enter_zone[i] = 1\n",
    "    if is_point_in_polygon(polygon=arena_polygon, point=center_point):\n",
    "        mouse_in_arena[i] = 1\n",
    "\n",
    "\n"
   ]
  },
  {
   "cell_type": "code",
   "execution_count": 59,
   "id": "a2cd55c7",
   "metadata": {},
   "outputs": [
    {
     "name": "stdout",
     "output_type": "stream",
     "text": [
      "True\n",
      "POLYGON ((110 20, 1870 25, 1860 1070, 110 1070, 110 20))\n"
     ]
    }
   ],
   "source": [
    "testpoint = Point(654,744)\n",
    "print(is_point_in_polygon(polygon=arena_polygon, point=testpoint))\n",
    "print(arena_polygon)"
   ]
  },
  {
   "cell_type": "code",
   "execution_count": 60,
   "id": "ef6476d9",
   "metadata": {},
   "outputs": [
    {
     "name": "stdout",
     "output_type": "stream",
     "text": [
      "arena_entry @ [  36  136 1096 9269]\n",
      "arena_exit  @ []\n",
      "id_switch (appear) @ []\n",
      "id_switch (leave)  @ []\n"
     ]
    }
   ],
   "source": [
    "\n",
    "# Arrays in bool umwandeln (0/1 -> False/True)\n",
    "ez = mouse_in_enter_zone.astype(bool)\n",
    "ar = mouse_in_arena.astype(bool)\n",
    "\n",
    "n = len(ez)\n",
    "\n",
    "# Hilfsfunktionen/Arrays\n",
    "prev_ez = np.pad(ez[:-1], (1, 0), constant_values=False)  # enter_zone im Frame i-1\n",
    "prev_ar = np.pad(ar[:-1], (1, 0), constant_values=False)  # arena im Frame i-1\n",
    "\n",
    "# Übergänge (mit Padding, damit Länge n bleibt)\n",
    "ez_enter = np.pad(ez[1:] & ~ez[:-1], (1, 0), constant_values=False)  # 0->1\n",
    "ez_exit  = np.pad(~ez[1:] & ez[:-1], (1, 0), constant_values=False)  # 1->0\n",
    "ar_enter = np.pad(ar[1:] & ~ar[:-1], (1, 0), constant_values=False)  # 0->1\n",
    "ar_exit  = np.pad(~ar[1:] & ar[:-1], (1, 0), constant_values=False)  # 1->0\n",
    "\n",
    "# Optional: robuster Lookback auf enter_zone (letzte k Frames vor i)\n",
    "k = 10  # kannst du anpassen oder auf 1 setzen, wenn nur i-1 zählen soll\n",
    "was_in_ez_recent = np.zeros(n, dtype=bool)\n",
    "if k > 0:\n",
    "    # rolling \"any\" über letzte k Frames vor i (exklusiv i)\n",
    "    for shift in range(1, k+1):\n",
    "        was_in_ez_recent |= np.pad(ez[:-shift], (shift, 0), constant_values=False)\n",
    "\n",
    "# 1) arena_entry: Maus betritt enter_zone, war davor nicht in arena\n",
    "arena_entry = ez_enter & (~prev_ar)\n",
    "\n",
    "# 2) arena_exit: Maus verlässt enter_zone, war davor in arena und ist jetzt nicht mehr in arena\n",
    "#    -> enter_zone 1->0, ar von True -> False\n",
    "arena_exit = ez_exit & prev_ar & (~ar)\n",
    "\n",
    "# 3) id_switch (erscheint in arena ohne zuvor in enter_zone gewesen zu sein)\n",
    "#    -> arena 0->1, und in den letzten k Frames nicht in enter_zone\n",
    "id_switch_appear = ar_enter & (~was_in_ez_recent)\n",
    "\n",
    "# 4) id_switch (verlässt arena, ohne dabei enter_zone zu betreten)\n",
    "#    -> arena 1->0, und aktuell nicht in enter_zone (optional: auch zuletzt nicht)\n",
    "id_switch_leave = ar_exit & (~ez) & (~was_in_ez_recent)\n",
    "\n",
    "# Indizes der Events\n",
    "idx_arena_entry       = np.where(arena_entry)[0]\n",
    "idx_arena_exit        = np.where(arena_exit)[0]\n",
    "idx_id_switch_appear  = np.where(id_switch_appear)[0]\n",
    "idx_id_switch_leave   = np.where(id_switch_leave)[0]\n",
    "\n",
    "print(\"arena_entry @\", idx_arena_entry)\n",
    "print(\"arena_exit  @\", idx_arena_exit)\n",
    "print(\"id_switch (appear) @\", idx_id_switch_appear)\n",
    "print(\"id_switch (leave)  @\", idx_id_switch_leave)"
   ]
  },
  {
   "cell_type": "code",
   "execution_count": 64,
   "id": "b5b2c6c0",
   "metadata": {},
   "outputs": [
    {
     "data": {
      "text/plain": [
       "[<matplotlib.lines.Line2D at 0x1c5ee583390>]"
      ]
     },
     "execution_count": 64,
     "metadata": {},
     "output_type": "execute_result"
    },
    {
     "data": {
      "image/png": "[encoded data removed]",
      "text/plain": [
       "<Figure size 640x480 with 1 Axes>"
      ]
     },
     "metadata": {},
     "output_type": "display_data"
    }
   ],
   "source": [
    "import matplotlib.pyplot as plt\n",
    "\n",
    "plt.plot(mouse_in_enter_zone[0:200], color='red')\n",
    "plt.plot(mouse_in_arena[0:200], color = 'green')"
   ]
  }
 ],
 "metadata": {
  "kernelspec": {
   "display_name": ".conda",
   "language": "python",
   "name": "python3"
  },
  "language_info": {
   "codemirror_mode": {
    "name": "ipython",
    "version": 3
   },
   "file_extension": ".py",
   "mimetype": "text/x-python",
   "name": "python",
   "nbconvert_exporter": "python",
   "pygments_lexer": "ipython3",
   "version": "3.11.8"
  }
 },
 "nbformat": 4,
 "nbformat_minor": 5
}
