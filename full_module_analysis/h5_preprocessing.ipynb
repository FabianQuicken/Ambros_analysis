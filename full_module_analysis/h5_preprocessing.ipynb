{
 "cells": [
  {
   "cell_type": "markdown",
   "id": "db2fbb9f",
   "metadata": {},
   "source": [
    "Erstmal alle Imports klären:"
   ]
  },
  {
   "cell_type": "code",
   "execution_count": null,
   "id": "2b86b39c",
   "metadata": {},
   "outputs": [],
   "source": [
    "pip install shapely"
   ]
  },
  {
   "cell_type": "code",
   "execution_count": 1,
   "id": "6af599cc",
   "metadata": {},
   "outputs": [],
   "source": [
    "import pandas as pd\n",
    "import numpy as np\n",
    "from shapely.geometry import Point, Polygon\n",
    "import matplotlib.pyplot as plt\n",
    "import glob\n",
    "import os \n",
    "\n",
    "# lokale imports\n",
    "from utils import euklidean_distance\n",
    "from config import FPS"
   ]
  },
  {
   "cell_type": "markdown",
   "id": "7819f7f0",
   "metadata": {},
   "source": [
    "Alle Funktionen die nicht im Maincode gebraucht werden:"
   ]
  },
  {
   "cell_type": "code",
   "execution_count": 2,
   "id": "2eab67cd",
   "metadata": {},
   "outputs": [],
   "source": [
    "\n",
    "def create_polygon(polygon_coords=list):\n",
    "    return Polygon(polygon_coords)\n",
    "\n",
    "def create_point(x, y):\n",
    "    return Point(x, y)\n",
    "\n",
    "def is_point_in_polygon(polygon, point):\n",
    "    return polygon.contains(point)"
   ]
  },
  {
   "cell_type": "markdown",
   "id": "4ef100fd",
   "metadata": {},
   "source": [
    "Feste Variablen:"
   ]
  },
  {
   "cell_type": "code",
   "execution_count": 12,
   "id": "13e27313",
   "metadata": {},
   "outputs": [],
   "source": [
    "arena_coords = [(110,20), (1870,25), (1860,1070), (110,1070)]\n",
    "enter_zone_coords = [(1700,430),(1900,430),(1900,670),(1700,670)]"
   ]
  },
  {
   "cell_type": "markdown",
   "id": "5784d87a",
   "metadata": {},
   "source": [
    "Ordner mit H5 Dateien wird eingelesen:"
   ]
  },
  {
   "cell_type": "code",
   "execution_count": 13,
   "id": "f93568a3",
   "metadata": {},
   "outputs": [
    {
     "name": "stdout",
     "output_type": "stream",
     "text": [
      "['/tracks']\n",
      "['C:\\\\Users\\\\quicken\\\\Code\\\\Ambros_analysis\\\\code_test\\\\2025_07_09_14_29_58_3_mice_bedding_control_top2_40405188DLC_DekrW18_3_mice_mergedJul25shuffle1_snapshot_best-280_el.h5']\n"
     ]
    }
   ],
   "source": [
    "path = r\"C:\\Users\\quicken\\Code\\Ambros_analysis\\code_test\"\n",
    "#path = r\"C:\\Users\\Fabian\\Code\\Ambros_analysis\\code_test\"\n",
    "file_list = glob.glob(os.path.join(path, '*.h5'))\n",
    "\n",
    "df_list = [pd.read_hdf(f) for f in file_list]\n",
    "\n",
    "for file in file_list:\n",
    "    with pd.HDFStore(file, mode='r') as store:\n",
    "        print(store.keys())\n",
    "\n",
    "\n",
    "scorer_list = [df.columns.levels[0][0] for df in df_list]\n",
    "individuals_list = [df.columns.levels[1].to_list() for df in df_list]\n",
    "bodyparts_list = [df.columns.levels[2].to_list() for df in df_list]\n",
    "\n",
    "print(file_list)\n"
   ]
  },
  {
   "cell_type": "code",
   "execution_count": 14,
   "id": "ba7080a2",
   "metadata": {},
   "outputs": [],
   "source": [
    "# da die h5 verändert werden, wird einmal die ursprüngliche Version gespeichert\n",
    "for idx, df in enumerate(df_list):\n",
    "    filename = os.path.basename(file_list[idx])\n",
    "    filename = filename.rsplit('.')\n",
    "\n",
    "    # build savepath\n",
    "    save_as = os.path.join(path, filename[0] + '_old.h5')\n",
    "    df.to_hdf(save_as, key='tracks')\n",
    "    \n"
   ]
  },
  {
   "cell_type": "code",
   "execution_count": 47,
   "id": "c49f2cae",
   "metadata": {},
   "outputs": [
    {
     "name": "stderr",
     "output_type": "stream",
     "text": [
      "C:\\Users\\quicken\\AppData\\Local\\Temp\\ipykernel_23004\\3598144337.py:13: RuntimeWarning: Mean of empty slice\n",
      "  mean_x = np.nanmean(arr_x, axis=1)\n",
      "C:\\Users\\quicken\\AppData\\Local\\Temp\\ipykernel_23004\\3598144337.py:14: RuntimeWarning: Mean of empty slice\n",
      "  mean_y = np.nanmean(arr_y, axis=1)\n"
     ]
    }
   ],
   "source": [
    "test_df = df_list[-1]\n",
    "scorer = scorer_list[-1]\n",
    "bodyparts = bodyparts_list[-1]\n",
    "individuals = individuals_list[-1]\n",
    "\n",
    "\n",
    "\n",
    "#for ind 1\n",
    "\n",
    "arr_x = test_df.loc[:, (scorer, individuals[2], bodyparts, [\"x\", \"y\"])].values[:,::2]\n",
    "arr_y = test_df.loc[:, (scorer, individuals[2], bodyparts, [\"x\", \"y\"])].values[:,1::2]\n",
    "\n",
    "mean_x = np.nanmean(arr_x, axis=1)\n",
    "mean_y = np.nanmean(arr_y, axis=1)\n",
    "\n",
    "mouse_center = []\n",
    "\n",
    "for i in range(len(mean_x)):\n",
    "    point = (mean_x[i], mean_y[i])\n",
    "    mouse_center.append(point)\n",
    "\n"
   ]
  },
  {
   "cell_type": "code",
   "execution_count": null,
   "id": "c3e84a2a",
   "metadata": {},
   "outputs": [],
   "source": [
    "test_df"
   ]
  },
  {
   "cell_type": "markdown",
   "id": "6ffcefa5",
   "metadata": {},
   "source": [
    "interpolation sollte ggf erst nach der restlichen curation der prediction stattfinden?"
   ]
  },
  {
   "cell_type": "code",
   "execution_count": 16,
   "id": "c7f46ee4",
   "metadata": {},
   "outputs": [
    {
     "name": "stdout",
     "output_type": "stream",
     "text": [
      "MultiIndex([('DLC_DekrW18_3_mice_mergedJul25shuffle1_snapshot_best-280', ...),\n",
      "            ('DLC_DekrW18_3_mice_mergedJul25shuffle1_snapshot_best-280', ...),\n",
      "            ('DLC_DekrW18_3_mice_mergedJul25shuffle1_snapshot_best-280', ...),\n",
      "            ('DLC_DekrW18_3_mice_mergedJul25shuffle1_snapshot_best-280', ...),\n",
      "            ('DLC_DekrW18_3_mice_mergedJul25shuffle1_snapshot_best-280', ...),\n",
      "            ('DLC_DekrW18_3_mice_mergedJul25shuffle1_snapshot_best-280', ...),\n",
      "            ('DLC_DekrW18_3_mice_mergedJul25shuffle1_snapshot_best-280', ...),\n",
      "            ('DLC_DekrW18_3_mice_mergedJul25shuffle1_snapshot_best-280', ...),\n",
      "            ('DLC_DekrW18_3_mice_mergedJul25shuffle1_snapshot_best-280', ...),\n",
      "            ('DLC_DekrW18_3_mice_mergedJul25shuffle1_snapshot_best-280', ...),\n",
      "            ...\n",
      "            ('DLC_DekrW18_3_mice_mergedJul25shuffle1_snapshot_best-280', ...),\n",
      "            ('DLC_DekrW18_3_mice_mergedJul25shuffle1_snapshot_best-280', ...),\n",
      "            ('DLC_DekrW18_3_mice_mergedJul25shuffle1_snapshot_best-280', ...),\n",
      "            ('DLC_DekrW18_3_mice_mergedJul25shuffle1_snapshot_best-280', ...),\n",
      "            ('DLC_DekrW18_3_mice_mergedJul25shuffle1_snapshot_best-280', ...),\n",
      "            ('DLC_DekrW18_3_mice_mergedJul25shuffle1_snapshot_best-280', ...),\n",
      "            ('DLC_DekrW18_3_mice_mergedJul25shuffle1_snapshot_best-280', ...),\n",
      "            ('DLC_DekrW18_3_mice_mergedJul25shuffle1_snapshot_best-280', ...),\n",
      "            ('DLC_DekrW18_3_mice_mergedJul25shuffle1_snapshot_best-280', ...),\n",
      "            ('DLC_DekrW18_3_mice_mergedJul25shuffle1_snapshot_best-280', ...)],\n",
      "           names=['scorer', 'individuals', 'bodyparts', 'coords'], length=153)\n"
     ]
    }
   ],
   "source": [
    "def interpolate_with_max_gap(df, max_gap=30, method=\"linear\"):\n",
    "    out = df.copy()\n",
    "    num_cols = out.select_dtypes(include=[np.number]).columns\n",
    "    print(num_cols)\n",
    "\n",
    "    # 1) Nur „echte“ Interpolation zwischen gültigen Punkten\n",
    "    out[num_cols] = out[num_cols].interpolate(method=method,\n",
    "                                              limit_direction=\"both\",\n",
    "                                              limit_area=\"inside\")\n",
    "    \n",
    "    # 2) NaN-Runs > max_gap identifizieren und wieder auf NaN setzen\n",
    "    for col in num_cols:\n",
    "        s = df[col]  # Original mit NaNs\n",
    "        # Gruppen-IDs zwischen Nicht-NaNs erstellen\n",
    "        grp = s.notna().cumsum()\n",
    "        # Länge jedes NaN-Runs\n",
    "        run_len = s.isna().groupby(grp).transform(\"sum\")\n",
    "        # Maske: Positionen in zu langen NaN-Runs\n",
    "        too_long = s.isna() & (run_len > max_gap)\n",
    "        # Zurücksetzen\n",
    "        out.loc[too_long, col] = np.nan\n",
    "    \n",
    "    return out\n",
    "    \n",
    "test_df = interpolate_with_max_gap(test_df, max_gap=30)"
   ]
  },
  {
   "cell_type": "code",
   "execution_count": null,
   "id": "529b91ee",
   "metadata": {},
   "outputs": [],
   "source": [
    "# basic interpolation (führt zu anhängungsfehlern)\n",
    "test_df = test_df.interpolate(\n",
    "    method=\"linear\",\n",
    "    limit=30,\n",
    "    limit_direction=\"both\",     # füllt in beide Richtungen\n",
    "    limit_area=\"inside\"         # nur zwischen zwei gültigen Punkten\n",
    ")"
   ]
  },
  {
   "cell_type": "code",
   "execution_count": 17,
   "id": "2a7ff562",
   "metadata": {},
   "outputs": [],
   "source": [
    "\n",
    "\n",
    "filename = os.path.basename(file_list[-1])\n",
    "filename = filename.rsplit('.')\n",
    "save_as = os.path.join(path, filename[0] + '_interpolated_ownfunc.h5')\n",
    "test_df.to_hdf(save_as, key='tracks')\n"
   ]
  },
  {
   "cell_type": "code",
   "execution_count": null,
   "id": "223f02ec",
   "metadata": {},
   "outputs": [],
   "source": [
    "test_df"
   ]
  },
  {
   "cell_type": "code",
   "execution_count": 11,
   "id": "063c21fc",
   "metadata": {},
   "outputs": [],
   "source": [
    "# read in a df as test\n",
    "\n",
    "interpolated_Df = pd.read_hdf(r\"C:\\Users\\Fabian\\Code\\Ambros_analysis\\code_test\\andere h5\\2025_07_09_14_29_58_3_mice_bedding_control_top2_40405188DLC_DekrW18_3_mice_mergedJul25shuffle1_snapshot_best-280_el_interpolated.h5\")"
   ]
  },
  {
   "cell_type": "markdown",
   "id": "16bb08aa",
   "metadata": {},
   "source": [
    "Manchmal labelled DLC dieselbe Maus doppelt, mit den exakt gleichen Koordinaten von zwei Individuen"
   ]
  },
  {
   "cell_type": "code",
   "execution_count": 26,
   "id": "0ebf6ea2",
   "metadata": {},
   "outputs": [
    {
     "name": "stdout",
     "output_type": "stream",
     "text": [
      "Mäuse (0, 2) haben 1 Überlappungs-Sequenzen:\n",
      "  Start: 7867, Ende: 8552, Dauer: 686 Frames\n",
      "Mäuse (1, 2) haben 2 Überlappungs-Sequenzen:\n",
      "  Start: 3315, Ende: 3944, Dauer: 630 Frames\n",
      "  Start: 7367, Ende: 7817, Dauer: 451 Frames\n"
     ]
    },
    {
     "name": "stderr",
     "output_type": "stream",
     "text": [
      "C:\\Users\\quicken\\AppData\\Local\\Temp\\ipykernel_23004\\3895856918.py:11: RuntimeWarning: Mean of empty slice\n",
      "  mouse_center_x_data.append(np.nanmean(arr_x, axis=1))\n",
      "C:\\Users\\quicken\\AppData\\Local\\Temp\\ipykernel_23004\\3895856918.py:12: RuntimeWarning: Mean of empty slice\n",
      "  mouse_center_y_data.append(np.nanmean(arr_y, axis=1))\n",
      "C:\\Users\\quicken\\AppData\\Local\\Temp\\ipykernel_23004\\3895856918.py:11: RuntimeWarning: Mean of empty slice\n",
      "  mouse_center_x_data.append(np.nanmean(arr_x, axis=1))\n",
      "C:\\Users\\quicken\\AppData\\Local\\Temp\\ipykernel_23004\\3895856918.py:12: RuntimeWarning: Mean of empty slice\n",
      "  mouse_center_y_data.append(np.nanmean(arr_y, axis=1))\n",
      "C:\\Users\\quicken\\AppData\\Local\\Temp\\ipykernel_23004\\3895856918.py:11: RuntimeWarning: Mean of empty slice\n",
      "  mouse_center_x_data.append(np.nanmean(arr_x, axis=1))\n",
      "C:\\Users\\quicken\\AppData\\Local\\Temp\\ipykernel_23004\\3895856918.py:12: RuntimeWarning: Mean of empty slice\n",
      "  mouse_center_y_data.append(np.nanmean(arr_y, axis=1))\n"
     ]
    }
   ],
   "source": [
    "from itertools import combinations\n",
    "# Manchmal labelled DLC dieselbe Maus doppelt, mit den exakt gleichen Koordinaten von zwei Individuen\n",
    "# daher möchte ich hier die mittelpunkte der mäuse vergleichen, ob es überschneidungen gibt\n",
    "mouse_center_x_data = []\n",
    "mouse_center_y_data = []\n",
    "for ind in individuals:\n",
    "    \n",
    "    arr_x = test_df.loc[:, (scorer, ind, bodyparts, [\"x\", \"y\"])].values[:,::2]\n",
    "    arr_y = test_df.loc[:, (scorer, ind, bodyparts, [\"x\", \"y\"])].values[:,1::2]\n",
    "\n",
    "    mouse_center_x_data.append(np.nanmean(arr_x, axis=1))\n",
    "    mouse_center_y_data.append(np.nanmean(arr_y, axis=1))\n",
    "\n",
    "# In ein [Frames × N_mice] Array umwandeln\n",
    "X = np.column_stack(mouse_center_x_data)  # shape: (n_frames, n_mice)\n",
    "Y = np.column_stack(mouse_center_y_data)\n",
    "\n",
    "# Optional: NaNs mit np.nan_to_num oder maske behandeln\n",
    "# Hier: keine NaN-Füllung, stattdessen NaN-Distanz = inf\n",
    "nan_mask = np.isnan(X) | np.isnan(Y)\n",
    "\n",
    "# Alle möglichen Maus-Paare\n",
    "pairs = list(combinations(range(X.shape[1]), 2))\n",
    "\n",
    "# Ergebnisse speichern\n",
    "overlap_frames = {pair: [] for pair in pairs}\n",
    "\n",
    "# Toleranz in Pixel (0 = exakt gleich)\n",
    "tol = 0\n",
    "\n",
    "for frame in range(X.shape[0]):\n",
    "    for m1, m2 in pairs:\n",
    "        # Nur prüfen, wenn beide Koordinaten vorhanden sind\n",
    "        if nan_mask[frame, m1] or nan_mask[frame, m2]:\n",
    "            continue\n",
    "        dx = X[frame, m1] - X[frame, m2]\n",
    "        dy = Y[frame, m1] - Y[frame, m2]\n",
    "        dist = np.sqrt(dx*dx + dy*dy)\n",
    "        if dist <= tol:\n",
    "            overlap_frames[(m1, m2)].append(frame)\n",
    "\n",
    "# Start- und End-Frames für jede Überlappungssequenz berechnen\n",
    "overlap_sequences = {}\n",
    "for pair, frames in overlap_frames.items():\n",
    "    if not frames:\n",
    "        continue\n",
    "\n",
    "    sequences = []\n",
    "    start = frames[0]\n",
    "    prev = frames[0]\n",
    "\n",
    "    for f in frames[1:]:\n",
    "        if f == prev + 1:  # direkt aufeinanderfolgende Frames\n",
    "            prev = f\n",
    "        else:\n",
    "            sequences.append((start, prev))\n",
    "            start = f\n",
    "            prev = f\n",
    "    sequences.append((start, prev))  # letzte Sequenz hinzufügen\n",
    "\n",
    "    overlap_sequences[pair] = sequences\n",
    "\n",
    "# Ausgabe\n",
    "for pair, seqs in overlap_sequences.items():\n",
    "    print(f\"Mäuse {pair} haben {len(seqs)} Überlappungs-Sequenzen:\")\n",
    "    for s, e in seqs:  \n",
    "        print(f\"  Start: {s}, Ende: {e}, Dauer: {e - s + 1} Frames\")"
   ]
  },
  {
   "cell_type": "code",
   "execution_count": 18,
   "id": "1c573343",
   "metadata": {},
   "outputs": [],
   "source": [
    "enter_zone_polygon = create_polygon(enter_zone_coords)\n",
    "arena_polygon = create_polygon(arena_coords)\n",
    "mouse_in_enter_zone = np.zeros(len(mouse_center))\n",
    "mouse_in_arena = np.zeros(len(mouse_center))\n",
    "\n",
    "# iterates over all frames\n",
    "for i in range(len(mouse_center)):\n",
    "\n",
    "    # creats a point out of the mouse center coordinates\n",
    "    center_point = create_point(mouse_center[i][0], mouse_center[i][1])\n",
    "\n",
    "    # checks, if mouse center is in enter zone and in arena\n",
    "    if is_point_in_polygon(polygon=enter_zone_polygon, point=center_point):\n",
    "        mouse_in_enter_zone[i] = 1\n",
    "    if is_point_in_polygon(polygon=arena_polygon, point=center_point):\n",
    "        mouse_in_arena[i] = 1\n",
    "\n",
    "\n"
   ]
  },
  {
   "cell_type": "code",
   "execution_count": 19,
   "id": "a00e6be9",
   "metadata": {},
   "outputs": [
    {
     "name": "stdout",
     "output_type": "stream",
     "text": [
      "[156, 1973, 1978, 1983, 3311, 3313, 3861, 8419, 11686, 11689]\n",
      "[161, 1977, 1982, 1984, 3312, 3346, 3941, 8549, 11688, 11707]\n",
      "[(156, 161), (3313, 3346)]\n",
      "[(1978, 1982), (3861, 3941), (8419, 8549)]\n",
      "[(1973, 1977), (1983, 1984)]\n",
      "[(3311, 3312), (11686, 11688), (11689, 11707)]\n"
     ]
    }
   ],
   "source": [
    "# erstmal alle entries in die enter zone finden\n",
    "enter_zone_entries = []\n",
    "for i in range(len(mouse_in_enter_zone)-1):\n",
    "    if mouse_in_enter_zone[i] == 0 and mouse_in_enter_zone[i+1] == 1:\n",
    "        enter_zone_entries.append(i) \n",
    "\n",
    "# und alle exits aus der enter zone\n",
    "enter_zone_exits = []\n",
    "for i in range(len(mouse_in_enter_zone)-1):\n",
    "    if mouse_in_enter_zone[i] == 1 and mouse_in_enter_zone[i+1] == 0:\n",
    "        enter_zone_exits.append(i) \n",
    "\n",
    "print(enter_zone_entries)\n",
    "print(enter_zone_exits)\n",
    "\n",
    "# hier wird versucht alle tatsächlichen modul entries und exits zu finden\n",
    "modul_entries = []\n",
    "modul_exits = []\n",
    "modul_stays = []\n",
    "modul_entry_exit = []\n",
    "for idx, frame in enumerate(enter_zone_entries):\n",
    "    # falls die maus vor dem enter zone entry nicht in der arena war, könnte es sich um einen modul entry handeln\n",
    "    # ein bereich von einer sekunde wird abgesucht, falls die Maus ggf nicht direkt vor dem eintritt getrackt wurde\n",
    "    if np.nansum(mouse_in_arena[frame-FPS:frame]) == 0:\n",
    "        # es handelt sich natürlich nur um einen entry, wenn die maus zum Zeitpunkt des enter zone exits auch in der arena ist, sonst ist sie wieder raus gegangen\n",
    "        exit_frame = enter_zone_exits[idx]\n",
    "        # da es in diesem frame auf jeden fall tracking daten gibt (die maus wurde ja in der exit zone getrackt), reicht es hier nur einen frame zu verwenden\n",
    "        if mouse_in_arena[exit_frame] == 1:\n",
    "            # es wird erstmal der entry zone entry + entry zone exit als tuple gespeichert, wenn das event zu einem arena entry geführt hat\n",
    "            modul_entries.append((frame, exit_frame))\n",
    "        # abspeichern, falls die maus wieder raus gegangen ist\n",
    "        elif mouse_in_arena[exit_frame] == 0:\n",
    "            modul_entry_exit.append((frame, exit_frame))\n",
    "\n",
    "    # falls die maus vorher in der arena war, könnte es sich um einen modul exit handeln        \n",
    "    elif np.nansum(mouse_in_arena[max(0,frame-FPS):frame]) > 0:\n",
    "        # das arena polygon und enter zone polygon überlappen teilweise, daher kann es zu mehreren arena entries während dem aufenthalt in der enter zone kommen\n",
    "        # bei einem exit müsste das letzte arena event ein arena exit sein\n",
    "        exit_frame = enter_zone_exits[idx]\n",
    "        was_last_event_exit = False\n",
    "        mouse_in_arena_during_enter_zone_activity = mouse_in_arena[frame:exit_frame+1]\n",
    "    \n",
    "        for i in range(len(mouse_in_arena_during_enter_zone_activity)-1):\n",
    "            # die arena wird verlassen, in diesem moment ist die letzte arena interaktion ein exit - die flag geht also auf true\n",
    "            if mouse_in_arena_during_enter_zone_activity[i] == 1 and mouse_in_arena_during_enter_zone_activity[i+1] == 0:\n",
    "                was_last_event_exit = True\n",
    "            # die arena wird betreten, also wird die flag wieder auf False gesetzt\n",
    "            elif mouse_in_arena_during_enter_zone_activity[i] == 0 and mouse_in_arena_during_enter_zone_activity[i+1] == 1:\n",
    "                was_last_event_exit = False\n",
    "\n",
    "        if was_last_event_exit:\n",
    "            modul_exits.append((frame, exit_frame))\n",
    "\n",
    "        # wenn das letzte event vor dem entry zone exit ein reenrty in die arena war, verbleibt die maus in der arena\n",
    "        if not was_last_event_exit:\n",
    "            modul_stays.append((frame, exit_frame))\n",
    "\n",
    "print(modul_entries)\n",
    "print(modul_exits)\n",
    "print(modul_stays)\n",
    "print(modul_entry_exit)\n",
    "# "
   ]
  },
  {
   "cell_type": "markdown",
   "id": "30c01cd8",
   "metadata": {},
   "source": []
  },
  {
   "cell_type": "code",
   "execution_count": 20,
   "id": "7ff95c10",
   "metadata": {},
   "outputs": [
    {
     "name": "stdout",
     "output_type": "stream",
     "text": [
      "[156, 207, 221, 407, 869, 1173, 1310, 1341, 1410, 1725, 1745, 1799, 1849, 1926, 1946, 1964, 1978, 3322, 7360, 7866]\n",
      "[201, 220, 406, 868, 1172, 1309, 1340, 1409, 1724, 1744, 1798, 1848, 1925, 1939, 1960, 1977, 1981, 3939, 7817, 8547]\n",
      "entry 156 is True\n",
      "entry 207 is False\n",
      "entry 221 is False\n",
      "entry 407 is False\n",
      "entry 869 is False\n",
      "entry 1173 is False\n",
      "entry 1310 is False\n",
      "entry 1341 is False\n",
      "entry 1410 is False\n",
      "entry 1725 is False\n",
      "entry 1745 is False\n",
      "entry 1799 is False\n",
      "entry 1849 is False\n",
      "entry 1926 is False\n",
      "entry 1946 is False\n",
      "entry 1964 is False\n",
      "entry 1978 is True\n",
      "entry 3322 is True\n",
      "entry 7360 is False\n",
      "entry 7866 is False\n"
     ]
    }
   ],
   "source": [
    "# nun können die arena entries und exits mit den vorher bestimmten exits und entries abgeglichen werden, um plötzliches misstracking aufzudecken\n",
    "\n",
    "# erstmal alle arena entries und exits sammeln\n",
    "arena_entries = []\n",
    "arena_exits = []\n",
    "for i in range(len(mouse_in_arena)-1):\n",
    "    if mouse_in_arena[i] == 0 and mouse_in_arena[i+1] == 1:\n",
    "        arena_entries.append(i) \n",
    "for i in range(len(mouse_in_arena)-1):\n",
    "    if mouse_in_arena[i] == 1 and mouse_in_arena[i+1] == 0:\n",
    "        arena_exits.append(i) \n",
    "\n",
    "print(arena_entries)\n",
    "print(arena_exits)\n",
    "\n",
    "# schauen ob der arena entry valid ist\n",
    "# um valid zu sein, darf die arena nur während einem enter zone entry, stay, exit oder entry-exit betreten werden\n",
    "for entry in arena_entries:\n",
    "    entry_is_valid = False\n",
    "    # erst wird mit enter zone entries abgeglichen (sollte die meisten echten rausfiltern)\n",
    "    for pair in modul_entries:\n",
    "        if pair[0] <= entry <= pair[1]:\n",
    "            entry_is_valid = True\n",
    "    # als nächstes wird mit stays abgeglichen, da hier die maus kurz aus der arena raus und wieder rein dippen kann\n",
    "    if not entry_is_valid:\n",
    "        for pair in modul_stays:\n",
    "            if pair[0] <= entry <= pair[1]:\n",
    "                entry_is_valid = True\n",
    "        # dann mit den entry-exit events, falls die maus bis in die arena gedippt ist\n",
    "        if not entry_is_valid:\n",
    "            for pair in modul_entry_exit:\n",
    "                if pair[0] <= entry <= pair[1]:\n",
    "                    entry_is_valid = True\n",
    "            # zu guter letzt mit den exit events, falls die maus da nochmal kurz zurück in die arena gedippt ist\n",
    "            if not entry_is_valid:\n",
    "                for pair in modul_exits:\n",
    "                    if pair[0] <= entry <= pair[1]:\n",
    "                        entry_is_valid = True\n",
    "    \n",
    "    print(f\"entry {entry} is {entry_is_valid}\")\n"
   ]
  },
  {
   "cell_type": "code",
   "execution_count": 21,
   "id": "ef6476d9",
   "metadata": {},
   "outputs": [
    {
     "name": "stdout",
     "output_type": "stream",
     "text": [
      "arena_entry @ [  157  1979  1984  3312  3314 11687 11690]\n",
      "arena_exit  @ [1978]\n",
      "id_switch (appear) @ [ 157  208  222  408  870 1174 1311 1342 1411 1726 1746 1800 1850 1927\n",
      " 1947 1965 7361 7867]\n",
      "id_switch (leave)  @ [ 202  221  407  869 1173 1310 1341 1410 1725 1745 1799 1849 1926 1940\n",
      " 1961 7818]\n"
     ]
    }
   ],
   "source": [
    "\n",
    "# Arrays in bool umwandeln (0/1 -> False/True)\n",
    "ez = mouse_in_enter_zone.astype(bool)\n",
    "ar = mouse_in_arena.astype(bool)\n",
    "\n",
    "n = len(ez)\n",
    "\n",
    "# Hilfsfunktionen/Arrays\n",
    "prev_ez = np.pad(ez[:-1], (1, 0), constant_values=False)  # enter_zone im Frame i-1\n",
    "prev_ar = np.pad(ar[:-1], (1, 0), constant_values=False)  # arena im Frame i-1\n",
    "\n",
    "# Übergänge (mit Padding, damit Länge n bleibt)\n",
    "ez_enter = np.pad(ez[1:] & ~ez[:-1], (1, 0), constant_values=False)  # 0->1\n",
    "ez_exit  = np.pad(~ez[1:] & ez[:-1], (1, 0), constant_values=False)  # 1->0\n",
    "ar_enter = np.pad(ar[1:] & ~ar[:-1], (1, 0), constant_values=False)  # 0->1\n",
    "ar_exit  = np.pad(~ar[1:] & ar[:-1], (1, 0), constant_values=False)  # 1->0\n",
    "\n",
    "# Optional: robuster Lookback auf enter_zone (letzte k Frames vor i)\n",
    "k = 10  # kannst du anpassen oder auf 1 setzen, wenn nur i-1 zählen soll\n",
    "was_in_ez_recent = np.zeros(n, dtype=bool)\n",
    "if k > 0:\n",
    "    # rolling \"any\" über letzte k Frames vor i (exklusiv i)\n",
    "    for shift in range(1, k+1):\n",
    "        was_in_ez_recent |= np.pad(ez[:-shift], (shift, 0), constant_values=False)\n",
    "\n",
    "# 1) arena_entry: Maus betritt enter_zone, war davor nicht in arena\n",
    "arena_entry = ez_enter & (~prev_ar)\n",
    "\n",
    "# 2) arena_exit: Maus verlässt enter_zone, war davor in arena und ist jetzt nicht mehr in arena\n",
    "#    -> enter_zone 1->0, ar von True -> False\n",
    "arena_exit = ez_exit & prev_ar & (~ar)\n",
    "\n",
    "# 3) id_switch (erscheint in arena ohne zuvor in enter_zone gewesen zu sein)\n",
    "#    -> arena 0->1, und in den letzten k Frames nicht in enter_zone\n",
    "id_switch_appear = ar_enter & (~was_in_ez_recent)\n",
    "\n",
    "# 4) id_switch (verlässt arena, ohne dabei enter_zone zu betreten)\n",
    "#    -> arena 1->0, und aktuell nicht in enter_zone (optional: auch zuletzt nicht)\n",
    "id_switch_leave = ar_exit & (~ez) & (~was_in_ez_recent)\n",
    "\n",
    "# Indizes der Events\n",
    "idx_arena_entry       = np.where(arena_entry)[0]\n",
    "idx_arena_exit        = np.where(arena_exit)[0]\n",
    "idx_id_switch_appear  = np.where(id_switch_appear)[0]\n",
    "idx_id_switch_leave   = np.where(id_switch_leave)[0]\n",
    "\n",
    "print(\"arena_entry @\", idx_arena_entry)\n",
    "print(\"arena_exit  @\", idx_arena_exit)\n",
    "print(\"id_switch (appear) @\", idx_id_switch_appear)\n",
    "print(\"id_switch (leave)  @\", idx_id_switch_leave)"
   ]
  },
  {
   "cell_type": "code",
   "execution_count": null,
   "id": "d4638a08",
   "metadata": {},
   "outputs": [],
   "source": [
    "print(enter_zone_entries)\n",
    "print(enter_zone_exits)\n",
    "print(f\"entries: {modul_entries}\")\n",
    "print(f\"exits: {modul_exits}\")\n",
    "print(f\"stays: {modul_stays}\")\n",
    "print(f\"entry & immediate exit: {modul_entry_exit}\")"
   ]
  },
  {
   "cell_type": "code",
   "execution_count": 22,
   "id": "76928bd9",
   "metadata": {},
   "outputs": [
    {
     "data": {
      "image/png": "[encoded data removed]",
      "text/plain": [
       "<Figure size 1200x300 with 1 Axes>"
      ]
     },
     "metadata": {},
     "output_type": "display_data"
    }
   ],
   "source": [
    "# Arrays in bool umwandeln (falls sie 0/1 sind)\n",
    "#ez = mouse_in_enter_zone.astype(bool)\n",
    "#ar = mouse_in_arena.astype(bool)\n",
    "\n",
    "frames = np.arange(len(ez))\n",
    "\n",
    "fig, ax = plt.subplots(figsize=(12, 3))\n",
    "\n",
    "# Arena (grün, oben)\n",
    "ax.fill_between(frames, 1.5, 2.0, where=ar, color='green', alpha=0.6, label='Arena')\n",
    "\n",
    "# Enter Zone (rot, unten)\n",
    "ax.fill_between(frames, 0.5, 1.0, where=ez, color='red', alpha=0.6, label='Enter Zone')\n",
    "\n",
    "# Achsen formatieren\n",
    "ax.set_ylim(0, 2.5)\n",
    "ax.set_xlim(0, len(frames))\n",
    "#alternative xlim\n",
    "#ax.set_xlim(6400, 6900)\n",
    "ax.set_yticks([0.75, 1.75])\n",
    "ax.set_yticklabels(['Enter Zone', 'Arena'])\n",
    "ax.set_xlabel(\"Frame Index\")\n",
    "ax.set_title(\"Zeitleiste: Aufenthaltsstatus in Arena und Enter Zone\")\n",
    "ax.legend(loc='upper right')\n",
    "\n",
    "plt.tight_layout()\n",
    "plt.show()"
   ]
  },
  {
   "cell_type": "code",
   "execution_count": 53,
   "id": "c8c04111",
   "metadata": {},
   "outputs": [
    {
     "name": "stderr",
     "output_type": "stream",
     "text": [
      "C:\\Users\\quicken\\AppData\\Local\\Temp\\ipykernel_23004\\2021529148.py:11: RuntimeWarning: Mean of empty slice\n",
      "  mean_x = np.nanmean(arr_x, axis=1)\n",
      "C:\\Users\\quicken\\AppData\\Local\\Temp\\ipykernel_23004\\2021529148.py:12: RuntimeWarning: Mean of empty slice\n",
      "  mean_y = np.nanmean(arr_y, axis=1)\n"
     ]
    },
    {
     "data": {
      "image/png": "[encoded data removed]",
      "text/plain": [
       "<Figure size 800x600 with 2 Axes>"
      ]
     },
     "metadata": {},
     "output_type": "display_data"
    }
   ],
   "source": [
    "# trajectory plotten\n",
    "# Plotten mit Colormap\n",
    "\n",
    "import matplotlib.pyplot as plt\n",
    "import matplotlib.collections as mc\n",
    "\n",
    "\n",
    "arr_x = test_df.loc[:, (scorer, individuals[2], bodyparts, [\"x\", \"y\"])].values[:,::2]\n",
    "arr_y = test_df.loc[:, (scorer, individuals[2], bodyparts, [\"x\", \"y\"])].values[:,1::2]\n",
    "\n",
    "mean_x = np.nanmean(arr_x, axis=1)\n",
    "mean_y = np.nanmean(arr_y, axis=1)\n",
    "\n",
    "# Beispiel: Ihre Daten (bitte x_coords und y_coords entsprechend setzen)\n",
    "x_coords = mean_x\n",
    "y_coords = mean_y *-1\n",
    "\n",
    "# ggf schneiden\n",
    "x_coords = x_coords[2500:4500]\n",
    "y_coords = y_coords[2500:4500]\n",
    "\n",
    "\n",
    "\n",
    "# X- und Y-Koordinaten in Segmente aufteilen\n",
    "points = np.array([x_coords, y_coords]).T.reshape(-1, 1, 2)\n",
    "segments = np.concatenate([points[:-1], points[1:]], axis=1)\n",
    "\n",
    "# Colormap definieren\n",
    "norm = plt.Normalize(0, len(x_coords))\n",
    "lc = mc.LineCollection(segments, cmap='viridis', norm=norm)\n",
    "lc.set_array(np.arange(len(x_coords)))\n",
    "lc.set_linewidth(2)\n",
    "\n",
    "# Plot erstellen\n",
    "fig, ax = plt.subplots(figsize=(8, 6))\n",
    "ax.add_collection(lc)\n",
    "ax.set_xlim(0, 2000.0)\n",
    "ax.set_ylim(-1200.0, 0)\n",
    "ax.set_title(\"Mouse Trajectory Plot with Colormap\")\n",
    "ax.set_xlabel(\"X coordinate\")\n",
    "ax.set_ylabel(\"Y coordinate\")\n",
    "ax.grid(True)\n",
    "ax.set_aspect('equal')\n",
    "\n",
    "# Colorbar (optional)\n",
    "cbar = plt.colorbar(lc, ax=ax)\n",
    "cbar.set_label('Time (frame number)')\n",
    "\n",
    "plt.savefig(r\"C:\\Users\\quicken\\Code\\Ambros_analysis\\code_test\\mouse_3_trajectory_2500-4500.svg\")\n",
    "plt.show()"
   ]
  }
 ],
 "metadata": {
  "kernelspec": {
   "display_name": ".conda",
   "language": "python",
   "name": "python3"
  },
  "language_info": {
   "codemirror_mode": {
    "name": "ipython",
    "version": 3
   },
   "file_extension": ".py",
   "mimetype": "text/x-python",
   "name": "python",
   "nbconvert_exporter": "python",
   "pygments_lexer": "ipython3",
   "version": "3.11.8"
  }
 },
 "nbformat": 4,
 "nbformat_minor": 5
}
